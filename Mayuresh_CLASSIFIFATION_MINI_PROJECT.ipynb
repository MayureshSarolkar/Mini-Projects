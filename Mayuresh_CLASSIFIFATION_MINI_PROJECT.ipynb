{
  "nbformat": 4,
  "nbformat_minor": 0,
  "metadata": {
    "colab": {
      "name": "Mayuresh_CLASSIFIFATION_MINI_PROJECT.ipynb",
      "provenance": [],
      "collapsed_sections": []
    },
    "kernelspec": {
      "name": "python3",
      "display_name": "Python 3"
    },
    "language_info": {
      "name": "python"
    }
  },
  "cells": [
    {
      "cell_type": "markdown",
      "source": [
        "# **Project name = HOUSE GRADE CLASSIFICATION**"
      ],
      "metadata": {
        "id": "zCBM1UrYL8dX"
      }
    },
    {
      "cell_type": "markdown",
      "source": [
        "# **Why are we doing it ?**\n",
        "\n",
        "# **Property buyers have different requirements. o facilitate this, real estate companies prefer ctegorizing variouse houses into different grade based on various parameters.**"
      ],
      "metadata": {
        "id": "x7hyS4-TMK8G"
      }
    },
    {
      "cell_type": "markdown",
      "source": [
        "# **How it will help ?**\n",
        "\n",
        "# **This would help agents in identifying the type of house a customers is looking for.**\n",
        "\n",
        "# **Also search for the haouse can be narrowed down by focusing only on the \"condition of house\".**"
      ],
      "metadata": {
        "id": "yhKF1e7sL8Sw"
      }
    },
    {
      "cell_type": "markdown",
      "source": [
        "# **Buisness Objective :**\n",
        "\n",
        "# **BUILD A PREDECTIVE MODEL TO DETERMINE THE GRADE OF HOUSE**\n",
        "\n",
        "# **GADES ARE (A,B,C,D,E)**"
      ],
      "metadata": {
        "id": "gbgD7z9RRCJC"
      }
    },
    {
      "cell_type": "code",
      "execution_count": 1,
      "metadata": {
        "colab": {
          "base_uri": "https://localhost:8080/"
        },
        "id": "QtuUNVcCg9RD",
        "outputId": "d2df9b63-8a95-44a7-f813-e5b8acab0f20"
      },
      "outputs": [
        {
          "output_type": "stream",
          "name": "stdout",
          "text": [
            "Drive already mounted at /content/drive; to attempt to forcibly remount, call drive.mount(\"/content/drive\", force_remount=True).\n"
          ]
        }
      ],
      "source": [
        "from google.colab import drive                     # to connect the drive\n",
        "drive.mount('/content/drive')"
      ]
    },
    {
      "cell_type": "code",
      "source": [
        "#first we have to import all relevant python packages \n",
        "\n",
        "import numpy as np                                                    # to  for scientific computing \n",
        "import pandas as pd                                                   # for data frame \n",
        "\n",
        "from sklearn import preprocessing                                     # to change raw data to clean data \n",
        "from sklearn.preprocessing import StandardScaler, MinMaxScaler        # to get all values in same range  \n",
        "import matplotlib.pyplot as plt                                       # for visualization\n",
        "from matplotlib import pyplot\n",
        "plt.rc(\"font\", size=14)\n",
        "import seaborn as sns                                                 # for visualization\n",
        "sns.set(style=\"white\")                                                # white background style for seaborn plots\n",
        "sns.set(style=\"whitegrid\", color_codes=True)\n",
        "from sklearn.model_selection import train_test_split                  # for training data and for testing data.\n",
        "from sklearn.linear_model import LogisticRegression                   # to performing machine learning with Logistic models.\n",
        "\n",
        "import warnings\n",
        "warnings.simplefilter(action='ignore')"
      ],
      "metadata": {
        "id": "SndgPzoWhID2"
      },
      "execution_count": 2,
      "outputs": []
    },
    {
      "cell_type": "markdown",
      "source": [
        "# **Import data from data source**"
      ],
      "metadata": {
        "id": "X2Ga2QiJsike"
      }
    },
    {
      "cell_type": "code",
      "source": [
        "HouseGrade_data = pd.read_csv('/content/drive/MyDrive/MINI PROJECT/DS3_C6_S2_Classification_HouseGrade_Data_Project.csv')\n",
        "HouseGrade_data"
      ],
      "metadata": {
        "colab": {
          "base_uri": "https://localhost:8080/",
          "height": 424
        },
        "id": "mEUmofkjsdOI",
        "outputId": "4d862eb6-179d-44bb-fcb6-1bcd42777c10"
      },
      "execution_count": 3,
      "outputs": [
        {
          "output_type": "execute_result",
          "data": {
            "text/plain": [
              "        Id  Area(total)  Trooms  Nbedrooms  Nbwashrooms  Twashrooms roof  \\\n",
              "0        1          339       6          5            4           6   NO   \n",
              "1        2          358       5          4            3           4  YES   \n",
              "2        3          324       7          5            4           5  YES   \n",
              "3        4          330       6          4            3           5  YES   \n",
              "4        5          320       7          4            4           5   NO   \n",
              "...    ...          ...     ...        ...          ...         ...  ...   \n",
              "2995  2996          341       9          6            5           7  YES   \n",
              "2996  2997          292       9          8            7           8  YES   \n",
              "2997  2998          328       7          4            3           5   NO   \n",
              "2998  2999          293       9          7            7           8   NO   \n",
              "2999  3000          343       7          6            6           8   NO   \n",
              "\n",
              "      Roof(Area)  Lawn(Area)  Nfloors  API  ANB  Expected price Grade  \n",
              "0              0          76        2   79    6            3481     D  \n",
              "1             71          96        3   72    4            3510     D  \n",
              "2            101         117        5   64    3            3748     C  \n",
              "3            101          82        2   59    2            3134     D  \n",
              "4              0          75        3   40    1            3843     D  \n",
              "...          ...         ...      ...  ...  ...             ...   ...  \n",
              "2995          95         115        5   90    2            4246     B  \n",
              "2996         116          87        7   97    4            3753     A  \n",
              "2997           0          78        5   95    6            3607     D  \n",
              "2998           0          78        7   51    3            4198     B  \n",
              "2999           0         108        5   95    3            4105     C  \n",
              "\n",
              "[3000 rows x 14 columns]"
            ],
            "text/html": [
              "\n",
              "  <div id=\"df-9307b3e1-173c-4e99-b70a-e8275b273291\">\n",
              "    <div class=\"colab-df-container\">\n",
              "      <div>\n",
              "<style scoped>\n",
              "    .dataframe tbody tr th:only-of-type {\n",
              "        vertical-align: middle;\n",
              "    }\n",
              "\n",
              "    .dataframe tbody tr th {\n",
              "        vertical-align: top;\n",
              "    }\n",
              "\n",
              "    .dataframe thead th {\n",
              "        text-align: right;\n",
              "    }\n",
              "</style>\n",
              "<table border=\"1\" class=\"dataframe\">\n",
              "  <thead>\n",
              "    <tr style=\"text-align: right;\">\n",
              "      <th></th>\n",
              "      <th>Id</th>\n",
              "      <th>Area(total)</th>\n",
              "      <th>Trooms</th>\n",
              "      <th>Nbedrooms</th>\n",
              "      <th>Nbwashrooms</th>\n",
              "      <th>Twashrooms</th>\n",
              "      <th>roof</th>\n",
              "      <th>Roof(Area)</th>\n",
              "      <th>Lawn(Area)</th>\n",
              "      <th>Nfloors</th>\n",
              "      <th>API</th>\n",
              "      <th>ANB</th>\n",
              "      <th>Expected price</th>\n",
              "      <th>Grade</th>\n",
              "    </tr>\n",
              "  </thead>\n",
              "  <tbody>\n",
              "    <tr>\n",
              "      <th>0</th>\n",
              "      <td>1</td>\n",
              "      <td>339</td>\n",
              "      <td>6</td>\n",
              "      <td>5</td>\n",
              "      <td>4</td>\n",
              "      <td>6</td>\n",
              "      <td>NO</td>\n",
              "      <td>0</td>\n",
              "      <td>76</td>\n",
              "      <td>2</td>\n",
              "      <td>79</td>\n",
              "      <td>6</td>\n",
              "      <td>3481</td>\n",
              "      <td>D</td>\n",
              "    </tr>\n",
              "    <tr>\n",
              "      <th>1</th>\n",
              "      <td>2</td>\n",
              "      <td>358</td>\n",
              "      <td>5</td>\n",
              "      <td>4</td>\n",
              "      <td>3</td>\n",
              "      <td>4</td>\n",
              "      <td>YES</td>\n",
              "      <td>71</td>\n",
              "      <td>96</td>\n",
              "      <td>3</td>\n",
              "      <td>72</td>\n",
              "      <td>4</td>\n",
              "      <td>3510</td>\n",
              "      <td>D</td>\n",
              "    </tr>\n",
              "    <tr>\n",
              "      <th>2</th>\n",
              "      <td>3</td>\n",
              "      <td>324</td>\n",
              "      <td>7</td>\n",
              "      <td>5</td>\n",
              "      <td>4</td>\n",
              "      <td>5</td>\n",
              "      <td>YES</td>\n",
              "      <td>101</td>\n",
              "      <td>117</td>\n",
              "      <td>5</td>\n",
              "      <td>64</td>\n",
              "      <td>3</td>\n",
              "      <td>3748</td>\n",
              "      <td>C</td>\n",
              "    </tr>\n",
              "    <tr>\n",
              "      <th>3</th>\n",
              "      <td>4</td>\n",
              "      <td>330</td>\n",
              "      <td>6</td>\n",
              "      <td>4</td>\n",
              "      <td>3</td>\n",
              "      <td>5</td>\n",
              "      <td>YES</td>\n",
              "      <td>101</td>\n",
              "      <td>82</td>\n",
              "      <td>2</td>\n",
              "      <td>59</td>\n",
              "      <td>2</td>\n",
              "      <td>3134</td>\n",
              "      <td>D</td>\n",
              "    </tr>\n",
              "    <tr>\n",
              "      <th>4</th>\n",
              "      <td>5</td>\n",
              "      <td>320</td>\n",
              "      <td>7</td>\n",
              "      <td>4</td>\n",
              "      <td>4</td>\n",
              "      <td>5</td>\n",
              "      <td>NO</td>\n",
              "      <td>0</td>\n",
              "      <td>75</td>\n",
              "      <td>3</td>\n",
              "      <td>40</td>\n",
              "      <td>1</td>\n",
              "      <td>3843</td>\n",
              "      <td>D</td>\n",
              "    </tr>\n",
              "    <tr>\n",
              "      <th>...</th>\n",
              "      <td>...</td>\n",
              "      <td>...</td>\n",
              "      <td>...</td>\n",
              "      <td>...</td>\n",
              "      <td>...</td>\n",
              "      <td>...</td>\n",
              "      <td>...</td>\n",
              "      <td>...</td>\n",
              "      <td>...</td>\n",
              "      <td>...</td>\n",
              "      <td>...</td>\n",
              "      <td>...</td>\n",
              "      <td>...</td>\n",
              "      <td>...</td>\n",
              "    </tr>\n",
              "    <tr>\n",
              "      <th>2995</th>\n",
              "      <td>2996</td>\n",
              "      <td>341</td>\n",
              "      <td>9</td>\n",
              "      <td>6</td>\n",
              "      <td>5</td>\n",
              "      <td>7</td>\n",
              "      <td>YES</td>\n",
              "      <td>95</td>\n",
              "      <td>115</td>\n",
              "      <td>5</td>\n",
              "      <td>90</td>\n",
              "      <td>2</td>\n",
              "      <td>4246</td>\n",
              "      <td>B</td>\n",
              "    </tr>\n",
              "    <tr>\n",
              "      <th>2996</th>\n",
              "      <td>2997</td>\n",
              "      <td>292</td>\n",
              "      <td>9</td>\n",
              "      <td>8</td>\n",
              "      <td>7</td>\n",
              "      <td>8</td>\n",
              "      <td>YES</td>\n",
              "      <td>116</td>\n",
              "      <td>87</td>\n",
              "      <td>7</td>\n",
              "      <td>97</td>\n",
              "      <td>4</td>\n",
              "      <td>3753</td>\n",
              "      <td>A</td>\n",
              "    </tr>\n",
              "    <tr>\n",
              "      <th>2997</th>\n",
              "      <td>2998</td>\n",
              "      <td>328</td>\n",
              "      <td>7</td>\n",
              "      <td>4</td>\n",
              "      <td>3</td>\n",
              "      <td>5</td>\n",
              "      <td>NO</td>\n",
              "      <td>0</td>\n",
              "      <td>78</td>\n",
              "      <td>5</td>\n",
              "      <td>95</td>\n",
              "      <td>6</td>\n",
              "      <td>3607</td>\n",
              "      <td>D</td>\n",
              "    </tr>\n",
              "    <tr>\n",
              "      <th>2998</th>\n",
              "      <td>2999</td>\n",
              "      <td>293</td>\n",
              "      <td>9</td>\n",
              "      <td>7</td>\n",
              "      <td>7</td>\n",
              "      <td>8</td>\n",
              "      <td>NO</td>\n",
              "      <td>0</td>\n",
              "      <td>78</td>\n",
              "      <td>7</td>\n",
              "      <td>51</td>\n",
              "      <td>3</td>\n",
              "      <td>4198</td>\n",
              "      <td>B</td>\n",
              "    </tr>\n",
              "    <tr>\n",
              "      <th>2999</th>\n",
              "      <td>3000</td>\n",
              "      <td>343</td>\n",
              "      <td>7</td>\n",
              "      <td>6</td>\n",
              "      <td>6</td>\n",
              "      <td>8</td>\n",
              "      <td>NO</td>\n",
              "      <td>0</td>\n",
              "      <td>108</td>\n",
              "      <td>5</td>\n",
              "      <td>95</td>\n",
              "      <td>3</td>\n",
              "      <td>4105</td>\n",
              "      <td>C</td>\n",
              "    </tr>\n",
              "  </tbody>\n",
              "</table>\n",
              "<p>3000 rows × 14 columns</p>\n",
              "</div>\n",
              "      <button class=\"colab-df-convert\" onclick=\"convertToInteractive('df-9307b3e1-173c-4e99-b70a-e8275b273291')\"\n",
              "              title=\"Convert this dataframe to an interactive table.\"\n",
              "              style=\"display:none;\">\n",
              "        \n",
              "  <svg xmlns=\"http://www.w3.org/2000/svg\" height=\"24px\"viewBox=\"0 0 24 24\"\n",
              "       width=\"24px\">\n",
              "    <path d=\"M0 0h24v24H0V0z\" fill=\"none\"/>\n",
              "    <path d=\"M18.56 5.44l.94 2.06.94-2.06 2.06-.94-2.06-.94-.94-2.06-.94 2.06-2.06.94zm-11 1L8.5 8.5l.94-2.06 2.06-.94-2.06-.94L8.5 2.5l-.94 2.06-2.06.94zm10 10l.94 2.06.94-2.06 2.06-.94-2.06-.94-.94-2.06-.94 2.06-2.06.94z\"/><path d=\"M17.41 7.96l-1.37-1.37c-.4-.4-.92-.59-1.43-.59-.52 0-1.04.2-1.43.59L10.3 9.45l-7.72 7.72c-.78.78-.78 2.05 0 2.83L4 21.41c.39.39.9.59 1.41.59.51 0 1.02-.2 1.41-.59l7.78-7.78 2.81-2.81c.8-.78.8-2.07 0-2.86zM5.41 20L4 18.59l7.72-7.72 1.47 1.35L5.41 20z\"/>\n",
              "  </svg>\n",
              "      </button>\n",
              "      \n",
              "  <style>\n",
              "    .colab-df-container {\n",
              "      display:flex;\n",
              "      flex-wrap:wrap;\n",
              "      gap: 12px;\n",
              "    }\n",
              "\n",
              "    .colab-df-convert {\n",
              "      background-color: #E8F0FE;\n",
              "      border: none;\n",
              "      border-radius: 50%;\n",
              "      cursor: pointer;\n",
              "      display: none;\n",
              "      fill: #1967D2;\n",
              "      height: 32px;\n",
              "      padding: 0 0 0 0;\n",
              "      width: 32px;\n",
              "    }\n",
              "\n",
              "    .colab-df-convert:hover {\n",
              "      background-color: #E2EBFA;\n",
              "      box-shadow: 0px 1px 2px rgba(60, 64, 67, 0.3), 0px 1px 3px 1px rgba(60, 64, 67, 0.15);\n",
              "      fill: #174EA6;\n",
              "    }\n",
              "\n",
              "    [theme=dark] .colab-df-convert {\n",
              "      background-color: #3B4455;\n",
              "      fill: #D2E3FC;\n",
              "    }\n",
              "\n",
              "    [theme=dark] .colab-df-convert:hover {\n",
              "      background-color: #434B5C;\n",
              "      box-shadow: 0px 1px 3px 1px rgba(0, 0, 0, 0.15);\n",
              "      filter: drop-shadow(0px 1px 2px rgba(0, 0, 0, 0.3));\n",
              "      fill: #FFFFFF;\n",
              "    }\n",
              "  </style>\n",
              "\n",
              "      <script>\n",
              "        const buttonEl =\n",
              "          document.querySelector('#df-9307b3e1-173c-4e99-b70a-e8275b273291 button.colab-df-convert');\n",
              "        buttonEl.style.display =\n",
              "          google.colab.kernel.accessAllowed ? 'block' : 'none';\n",
              "\n",
              "        async function convertToInteractive(key) {\n",
              "          const element = document.querySelector('#df-9307b3e1-173c-4e99-b70a-e8275b273291');\n",
              "          const dataTable =\n",
              "            await google.colab.kernel.invokeFunction('convertToInteractive',\n",
              "                                                     [key], {});\n",
              "          if (!dataTable) return;\n",
              "\n",
              "          const docLinkHtml = 'Like what you see? Visit the ' +\n",
              "            '<a target=\"_blank\" href=https://colab.research.google.com/notebooks/data_table.ipynb>data table notebook</a>'\n",
              "            + ' to learn more about interactive tables.';\n",
              "          element.innerHTML = '';\n",
              "          dataTable['output_type'] = 'display_data';\n",
              "          await google.colab.output.renderOutput(dataTable, element);\n",
              "          const docLink = document.createElement('div');\n",
              "          docLink.innerHTML = docLinkHtml;\n",
              "          element.appendChild(docLink);\n",
              "        }\n",
              "      </script>\n",
              "    </div>\n",
              "  </div>\n",
              "  "
            ]
          },
          "metadata": {},
          "execution_count": 3
        }
      ]
    },
    {
      "cell_type": "markdown",
      "source": [
        "# **summarise the data**"
      ],
      "metadata": {
        "id": "5IsDqvb6tCfr"
      }
    },
    {
      "cell_type": "code",
      "source": [
        "HouseGrade_data.describe()       # to get Summary of dataset"
      ],
      "metadata": {
        "colab": {
          "base_uri": "https://localhost:8080/",
          "height": 300
        },
        "id": "6wNYBblGs4-i",
        "outputId": "e6019050-538a-4f16-acf9-e9390aa637fd"
      },
      "execution_count": 4,
      "outputs": [
        {
          "output_type": "execute_result",
          "data": {
            "text/plain": [
              "                Id  Area(total)       Trooms    Nbedrooms  Nbwashrooms  \\\n",
              "count  3000.000000  3000.000000  3000.000000  3000.000000  3000.000000   \n",
              "mean   1500.500000   325.117000     7.021667     5.023000     4.513667   \n",
              "std     866.169729    20.507742     1.421221     1.634838     1.715263   \n",
              "min       1.000000   290.000000     5.000000     2.000000     1.000000   \n",
              "25%     750.750000   308.000000     6.000000     4.000000     3.000000   \n",
              "50%    1500.500000   325.000000     7.000000     5.000000     4.000000   \n",
              "75%    2250.250000   343.000000     8.000000     6.000000     6.000000   \n",
              "max    3000.000000   360.000000     9.000000     8.000000     8.000000   \n",
              "\n",
              "        Twashrooms   Roof(Area)   Lawn(Area)      Nfloors          API  \\\n",
              "count  3000.000000  3000.000000  3000.000000  3000.000000  3000.000000   \n",
              "mean      6.010667    48.980667    95.609333     4.013333    70.190667   \n",
              "std       1.786136    48.746641    14.837388     1.621532    17.563460   \n",
              "min       2.000000     0.000000    70.000000     1.000000    40.000000   \n",
              "25%       5.000000     0.000000    83.000000     3.000000    55.000000   \n",
              "50%       6.000000    71.000000    96.000000     4.000000    70.000000   \n",
              "75%       7.000000    96.000000   109.000000     5.000000    85.000000   \n",
              "max      10.000000   120.000000   120.000000     7.000000   100.000000   \n",
              "\n",
              "              ANB  Expected price  \n",
              "count  3000.00000     3000.000000  \n",
              "mean      3.47900     3782.938333  \n",
              "std       1.69426      567.189995  \n",
              "min       1.00000     2504.000000  \n",
              "25%       2.00000     3354.000000  \n",
              "50%       4.00000     3771.000000  \n",
              "75%       5.00000     4208.000000  \n",
              "max       6.00000     5216.000000  "
            ],
            "text/html": [
              "\n",
              "  <div id=\"df-870974c9-a071-48d5-9d9d-8f0b66bd0419\">\n",
              "    <div class=\"colab-df-container\">\n",
              "      <div>\n",
              "<style scoped>\n",
              "    .dataframe tbody tr th:only-of-type {\n",
              "        vertical-align: middle;\n",
              "    }\n",
              "\n",
              "    .dataframe tbody tr th {\n",
              "        vertical-align: top;\n",
              "    }\n",
              "\n",
              "    .dataframe thead th {\n",
              "        text-align: right;\n",
              "    }\n",
              "</style>\n",
              "<table border=\"1\" class=\"dataframe\">\n",
              "  <thead>\n",
              "    <tr style=\"text-align: right;\">\n",
              "      <th></th>\n",
              "      <th>Id</th>\n",
              "      <th>Area(total)</th>\n",
              "      <th>Trooms</th>\n",
              "      <th>Nbedrooms</th>\n",
              "      <th>Nbwashrooms</th>\n",
              "      <th>Twashrooms</th>\n",
              "      <th>Roof(Area)</th>\n",
              "      <th>Lawn(Area)</th>\n",
              "      <th>Nfloors</th>\n",
              "      <th>API</th>\n",
              "      <th>ANB</th>\n",
              "      <th>Expected price</th>\n",
              "    </tr>\n",
              "  </thead>\n",
              "  <tbody>\n",
              "    <tr>\n",
              "      <th>count</th>\n",
              "      <td>3000.000000</td>\n",
              "      <td>3000.000000</td>\n",
              "      <td>3000.000000</td>\n",
              "      <td>3000.000000</td>\n",
              "      <td>3000.000000</td>\n",
              "      <td>3000.000000</td>\n",
              "      <td>3000.000000</td>\n",
              "      <td>3000.000000</td>\n",
              "      <td>3000.000000</td>\n",
              "      <td>3000.000000</td>\n",
              "      <td>3000.00000</td>\n",
              "      <td>3000.000000</td>\n",
              "    </tr>\n",
              "    <tr>\n",
              "      <th>mean</th>\n",
              "      <td>1500.500000</td>\n",
              "      <td>325.117000</td>\n",
              "      <td>7.021667</td>\n",
              "      <td>5.023000</td>\n",
              "      <td>4.513667</td>\n",
              "      <td>6.010667</td>\n",
              "      <td>48.980667</td>\n",
              "      <td>95.609333</td>\n",
              "      <td>4.013333</td>\n",
              "      <td>70.190667</td>\n",
              "      <td>3.47900</td>\n",
              "      <td>3782.938333</td>\n",
              "    </tr>\n",
              "    <tr>\n",
              "      <th>std</th>\n",
              "      <td>866.169729</td>\n",
              "      <td>20.507742</td>\n",
              "      <td>1.421221</td>\n",
              "      <td>1.634838</td>\n",
              "      <td>1.715263</td>\n",
              "      <td>1.786136</td>\n",
              "      <td>48.746641</td>\n",
              "      <td>14.837388</td>\n",
              "      <td>1.621532</td>\n",
              "      <td>17.563460</td>\n",
              "      <td>1.69426</td>\n",
              "      <td>567.189995</td>\n",
              "    </tr>\n",
              "    <tr>\n",
              "      <th>min</th>\n",
              "      <td>1.000000</td>\n",
              "      <td>290.000000</td>\n",
              "      <td>5.000000</td>\n",
              "      <td>2.000000</td>\n",
              "      <td>1.000000</td>\n",
              "      <td>2.000000</td>\n",
              "      <td>0.000000</td>\n",
              "      <td>70.000000</td>\n",
              "      <td>1.000000</td>\n",
              "      <td>40.000000</td>\n",
              "      <td>1.00000</td>\n",
              "      <td>2504.000000</td>\n",
              "    </tr>\n",
              "    <tr>\n",
              "      <th>25%</th>\n",
              "      <td>750.750000</td>\n",
              "      <td>308.000000</td>\n",
              "      <td>6.000000</td>\n",
              "      <td>4.000000</td>\n",
              "      <td>3.000000</td>\n",
              "      <td>5.000000</td>\n",
              "      <td>0.000000</td>\n",
              "      <td>83.000000</td>\n",
              "      <td>3.000000</td>\n",
              "      <td>55.000000</td>\n",
              "      <td>2.00000</td>\n",
              "      <td>3354.000000</td>\n",
              "    </tr>\n",
              "    <tr>\n",
              "      <th>50%</th>\n",
              "      <td>1500.500000</td>\n",
              "      <td>325.000000</td>\n",
              "      <td>7.000000</td>\n",
              "      <td>5.000000</td>\n",
              "      <td>4.000000</td>\n",
              "      <td>6.000000</td>\n",
              "      <td>71.000000</td>\n",
              "      <td>96.000000</td>\n",
              "      <td>4.000000</td>\n",
              "      <td>70.000000</td>\n",
              "      <td>4.00000</td>\n",
              "      <td>3771.000000</td>\n",
              "    </tr>\n",
              "    <tr>\n",
              "      <th>75%</th>\n",
              "      <td>2250.250000</td>\n",
              "      <td>343.000000</td>\n",
              "      <td>8.000000</td>\n",
              "      <td>6.000000</td>\n",
              "      <td>6.000000</td>\n",
              "      <td>7.000000</td>\n",
              "      <td>96.000000</td>\n",
              "      <td>109.000000</td>\n",
              "      <td>5.000000</td>\n",
              "      <td>85.000000</td>\n",
              "      <td>5.00000</td>\n",
              "      <td>4208.000000</td>\n",
              "    </tr>\n",
              "    <tr>\n",
              "      <th>max</th>\n",
              "      <td>3000.000000</td>\n",
              "      <td>360.000000</td>\n",
              "      <td>9.000000</td>\n",
              "      <td>8.000000</td>\n",
              "      <td>8.000000</td>\n",
              "      <td>10.000000</td>\n",
              "      <td>120.000000</td>\n",
              "      <td>120.000000</td>\n",
              "      <td>7.000000</td>\n",
              "      <td>100.000000</td>\n",
              "      <td>6.00000</td>\n",
              "      <td>5216.000000</td>\n",
              "    </tr>\n",
              "  </tbody>\n",
              "</table>\n",
              "</div>\n",
              "      <button class=\"colab-df-convert\" onclick=\"convertToInteractive('df-870974c9-a071-48d5-9d9d-8f0b66bd0419')\"\n",
              "              title=\"Convert this dataframe to an interactive table.\"\n",
              "              style=\"display:none;\">\n",
              "        \n",
              "  <svg xmlns=\"http://www.w3.org/2000/svg\" height=\"24px\"viewBox=\"0 0 24 24\"\n",
              "       width=\"24px\">\n",
              "    <path d=\"M0 0h24v24H0V0z\" fill=\"none\"/>\n",
              "    <path d=\"M18.56 5.44l.94 2.06.94-2.06 2.06-.94-2.06-.94-.94-2.06-.94 2.06-2.06.94zm-11 1L8.5 8.5l.94-2.06 2.06-.94-2.06-.94L8.5 2.5l-.94 2.06-2.06.94zm10 10l.94 2.06.94-2.06 2.06-.94-2.06-.94-.94-2.06-.94 2.06-2.06.94z\"/><path d=\"M17.41 7.96l-1.37-1.37c-.4-.4-.92-.59-1.43-.59-.52 0-1.04.2-1.43.59L10.3 9.45l-7.72 7.72c-.78.78-.78 2.05 0 2.83L4 21.41c.39.39.9.59 1.41.59.51 0 1.02-.2 1.41-.59l7.78-7.78 2.81-2.81c.8-.78.8-2.07 0-2.86zM5.41 20L4 18.59l7.72-7.72 1.47 1.35L5.41 20z\"/>\n",
              "  </svg>\n",
              "      </button>\n",
              "      \n",
              "  <style>\n",
              "    .colab-df-container {\n",
              "      display:flex;\n",
              "      flex-wrap:wrap;\n",
              "      gap: 12px;\n",
              "    }\n",
              "\n",
              "    .colab-df-convert {\n",
              "      background-color: #E8F0FE;\n",
              "      border: none;\n",
              "      border-radius: 50%;\n",
              "      cursor: pointer;\n",
              "      display: none;\n",
              "      fill: #1967D2;\n",
              "      height: 32px;\n",
              "      padding: 0 0 0 0;\n",
              "      width: 32px;\n",
              "    }\n",
              "\n",
              "    .colab-df-convert:hover {\n",
              "      background-color: #E2EBFA;\n",
              "      box-shadow: 0px 1px 2px rgba(60, 64, 67, 0.3), 0px 1px 3px 1px rgba(60, 64, 67, 0.15);\n",
              "      fill: #174EA6;\n",
              "    }\n",
              "\n",
              "    [theme=dark] .colab-df-convert {\n",
              "      background-color: #3B4455;\n",
              "      fill: #D2E3FC;\n",
              "    }\n",
              "\n",
              "    [theme=dark] .colab-df-convert:hover {\n",
              "      background-color: #434B5C;\n",
              "      box-shadow: 0px 1px 3px 1px rgba(0, 0, 0, 0.15);\n",
              "      filter: drop-shadow(0px 1px 2px rgba(0, 0, 0, 0.3));\n",
              "      fill: #FFFFFF;\n",
              "    }\n",
              "  </style>\n",
              "\n",
              "      <script>\n",
              "        const buttonEl =\n",
              "          document.querySelector('#df-870974c9-a071-48d5-9d9d-8f0b66bd0419 button.colab-df-convert');\n",
              "        buttonEl.style.display =\n",
              "          google.colab.kernel.accessAllowed ? 'block' : 'none';\n",
              "\n",
              "        async function convertToInteractive(key) {\n",
              "          const element = document.querySelector('#df-870974c9-a071-48d5-9d9d-8f0b66bd0419');\n",
              "          const dataTable =\n",
              "            await google.colab.kernel.invokeFunction('convertToInteractive',\n",
              "                                                     [key], {});\n",
              "          if (!dataTable) return;\n",
              "\n",
              "          const docLinkHtml = 'Like what you see? Visit the ' +\n",
              "            '<a target=\"_blank\" href=https://colab.research.google.com/notebooks/data_table.ipynb>data table notebook</a>'\n",
              "            + ' to learn more about interactive tables.';\n",
              "          element.innerHTML = '';\n",
              "          dataTable['output_type'] = 'display_data';\n",
              "          await google.colab.output.renderOutput(dataTable, element);\n",
              "          const docLink = document.createElement('div');\n",
              "          docLink.innerHTML = docLinkHtml;\n",
              "          element.appendChild(docLink);\n",
              "        }\n",
              "      </script>\n",
              "    </div>\n",
              "  </div>\n",
              "  "
            ]
          },
          "metadata": {},
          "execution_count": 4
        }
      ]
    },
    {
      "cell_type": "code",
      "source": [
        "print(HouseGrade_data.isnull().sum())        # Checking for null value in each column"
      ],
      "metadata": {
        "colab": {
          "base_uri": "https://localhost:8080/"
        },
        "id": "_4eT3uVutGI_",
        "outputId": "fc38b973-78d3-4395-8983-4f434d403fb1"
      },
      "execution_count": 5,
      "outputs": [
        {
          "output_type": "stream",
          "name": "stdout",
          "text": [
            "Id                0\n",
            "Area(total)       0\n",
            "Trooms            0\n",
            "Nbedrooms         0\n",
            "Nbwashrooms       0\n",
            "Twashrooms        0\n",
            "roof              0\n",
            "Roof(Area)        0\n",
            "Lawn(Area)        0\n",
            "Nfloors           0\n",
            "API               0\n",
            "ANB               0\n",
            "Expected price    0\n",
            "Grade             0\n",
            "dtype: int64\n"
          ]
        }
      ]
    },
    {
      "cell_type": "code",
      "source": [
        "HouseGrade_data = HouseGrade_data.replace(to_replace = \"@_!#$%^&*()<>?/\\|}{~:?\", value = np.nan)        ## check special character in dataset "
      ],
      "metadata": {
        "id": "raiLgtFQtKi4"
      },
      "execution_count": 6,
      "outputs": []
    },
    {
      "cell_type": "code",
      "source": [
        "print(HouseGrade_data.isnull().sum())        # Checking for null value in each column"
      ],
      "metadata": {
        "colab": {
          "base_uri": "https://localhost:8080/"
        },
        "id": "aCOzJFy-tUxW",
        "outputId": "2927e825-d7a4-4d25-e9ae-49ba1daee4a5"
      },
      "execution_count": 7,
      "outputs": [
        {
          "output_type": "stream",
          "name": "stdout",
          "text": [
            "Id                0\n",
            "Area(total)       0\n",
            "Trooms            0\n",
            "Nbedrooms         0\n",
            "Nbwashrooms       0\n",
            "Twashrooms        0\n",
            "roof              0\n",
            "Roof(Area)        0\n",
            "Lawn(Area)        0\n",
            "Nfloors           0\n",
            "API               0\n",
            "ANB               0\n",
            "Expected price    0\n",
            "Grade             0\n",
            "dtype: int64\n"
          ]
        }
      ]
    },
    {
      "cell_type": "code",
      "source": [
        "HouseGrade_data.dtypes     # Checking the data types"
      ],
      "metadata": {
        "colab": {
          "base_uri": "https://localhost:8080/"
        },
        "id": "UIS48-yotW3b",
        "outputId": "bad4e96c-e83b-41d5-e775-eae2ca3dcdac"
      },
      "execution_count": 8,
      "outputs": [
        {
          "output_type": "execute_result",
          "data": {
            "text/plain": [
              "Id                 int64\n",
              "Area(total)        int64\n",
              "Trooms             int64\n",
              "Nbedrooms          int64\n",
              "Nbwashrooms        int64\n",
              "Twashrooms         int64\n",
              "roof              object\n",
              "Roof(Area)         int64\n",
              "Lawn(Area)         int64\n",
              "Nfloors            int64\n",
              "API                int64\n",
              "ANB                int64\n",
              "Expected price     int64\n",
              "Grade             object\n",
              "dtype: object"
            ]
          },
          "metadata": {},
          "execution_count": 8
        }
      ]
    },
    {
      "cell_type": "code",
      "source": [
        "#histogram for numerical columns\n",
        "\n",
        "fig=plt.figure(figsize=(20,20))\n",
        "for i, feature in enumerate(HouseGrade_data.columns):\n",
        "    ax=fig.add_subplot(4,4,i+1)\n",
        "    HouseGrade_data[feature].hist(bins=20,ax=ax,facecolor='yellow')\n",
        "    ax.set_title(feature+\" Distribution\",color='Black')\n",
        "\n",
        "fig.tight_layout()\n",
        "plt.show()"
      ],
      "metadata": {
        "colab": {
          "base_uri": "https://localhost:8080/",
          "height": 1000
        },
        "id": "4MpZX9fbl17i",
        "outputId": "b38c01cd-1003-4a6d-a649-a8e8a716d941"
      },
      "execution_count": 9,
      "outputs": [
        {
          "output_type": "display_data",
          "data": {
            "text/plain": [
              "<Figure size 1440x1440 with 14 Axes>"
            ],
            "image/png": "[encoded data removed]"
          },
          "metadata": {}
        }
      ]
    },
    {
      "cell_type": "markdown",
      "source": [
        "# **We can see almost all data is uniformly distributed only grade distribution is right skwed.** \n",
        "\n",
        "#**so here we dont need to find outlisers or give outliers treatment to datasset**"
      ],
      "metadata": {
        "id": "MPtFc2AMRsDr"
      }
    },
    {
      "cell_type": "code",
      "source": [
        "import plotly.express as px\n",
        "df = px.data.tips()\n",
        "# Here we use a column with categorical data\n",
        "fig = px.histogram(HouseGrade_data, x=\"Grade\")\n",
        "fig.show()"
      ],
      "metadata": {
        "colab": {
          "base_uri": "https://localhost:8080/",
          "height": 542
        },
        "id": "QlQ-wSG2GsF2",
        "outputId": "6651e378-2c69-411a-fea2-a62a976c2004"
      },
      "execution_count": 10,
      "outputs": [
        {
          "output_type": "display_data",
          "data": {
            "text/html": [
              "<html>\n",
              "<head><meta charset=\"utf-8\" /></head>\n",
              "<body>\n",
              "    <div>            <script src=\"https://cdnjs.cloudflare.com/ajax/libs/mathjax/2.7.5/MathJax.js?config=TeX-AMS-MML_SVG\"></script><script type=\"text/javascript\">if (window.MathJax) {MathJax.Hub.Config({SVG: {font: \"STIX-Web\"}});}</script>                <script type=\"text/javascript\">window.PlotlyConfig = {MathJaxConfig: 'local'};</script>\n",
              "        <script src=\"https://cdn.plot.ly/plotly-2.8.3.min.js\"></script>                <div id=\"1260f1b1-c0a5-40bb-9fe6-396d75d1658e\" class=\"plotly-graph-div\" style=\"height:525px; width:100%;\"></div>            <script type=\"text/javascript\">                                    window.PLOTLYENV=window.PLOTLYENV || {};                                    if (document.getElementById(\"1260f1b1-c0a5-40bb-9fe6-396d75d1658e\")) {                    Plotly.newPlot(                        \"1260f1b1-c0a5-40bb-9fe6-396d75d1658e\",                        [{\"alignmentgroup\":\"True\",\"bingroup\":\"x\",\"hovertemplate\":\"Grade=%{x}<br>count=%{y}<extra></extra>\",\"legendgroup\":\"\",\"marker\":{\"color\":\"#636efa\",\"pattern\":{\"shape\":\"\"}},\"name\":\"\",\"offsetgroup\":\"\",\"orientation\":\"v\",\"showlegend\":false,\"x\":[\"D\",\"D\",\"C\",\"D\",\"D\",\"B\",\"A\",\"A\",\"B\",\"D\",\"D\",\"D\",\"D\",\"E\",\"B\",\"A\",\"D\",\"C\",\"D\",\"A\",\"A\",\"C\",\"D\",\"D\",\"D\",\"D\",\"D\",\"B\",\"B\",\"D\",\"A\",\"B\",\"B\",\"B\",\"B\",\"D\",\"E\",\"D\",\"C\",\"D\",\"A\",\"B\",\"D\",\"D\",\"D\",\"A\",\"C\",\"B\",\"D\",\"E\",\"B\",\"C\",\"D\",\"A\",\"D\",\"C\",\"A\",\"C\",\"D\",\"D\",\"D\",\"D\",\"D\",\"C\",\"D\",\"D\",\"D\",\"D\",\"D\",\"D\",\"D\",\"B\",\"B\",\"D\",\"A\",\"B\",\"C\",\"D\",\"A\",\"D\",\"A\",\"C\",\"C\",\"C\",\"B\",\"E\",\"C\",\"D\",\"D\",\"D\",\"C\",\"C\",\"D\",\"D\",\"E\",\"C\",\"A\",\"B\",\"D\",\"B\",\"B\",\"D\",\"A\",\"D\",\"D\",\"B\",\"D\",\"D\",\"D\",\"B\",\"D\",\"D\",\"D\",\"C\",\"B\",\"E\",\"C\",\"C\",\"C\",\"D\",\"D\",\"C\",\"C\",\"D\",\"D\",\"D\",\"A\",\"B\",\"D\",\"B\",\"E\",\"D\",\"C\",\"D\",\"D\",\"A\",\"C\",\"C\",\"C\",\"D\",\"C\",\"D\",\"E\",\"A\",\"D\",\"C\",\"A\",\"D\",\"D\",\"B\",\"D\",\"D\",\"B\",\"C\",\"C\",\"C\",\"A\",\"E\",\"D\",\"D\",\"C\",\"B\",\"D\",\"D\",\"A\",\"A\",\"D\",\"B\",\"D\",\"D\",\"D\",\"D\",\"C\",\"D\",\"A\",\"D\",\"C\",\"B\",\"D\",\"A\",\"D\",\"B\",\"D\",\"B\",\"B\",\"D\",\"E\",\"D\",\"B\",\"B\",\"D\",\"B\",\"A\",\"D\",\"D\",\"D\",\"E\",\"B\",\"D\",\"B\",\"D\",\"C\",\"D\",\"D\",\"C\",\"C\",\"D\",\"A\",\"B\",\"B\",\"C\",\"B\",\"C\",\"D\",\"B\",\"A\",\"D\",\"D\",\"D\",\"D\",\"D\",\"B\",\"C\",\"D\",\"D\",\"D\",\"B\",\"D\",\"D\",\"C\",\"C\",\"C\",\"B\",\"A\",\"C\",\"C\",\"B\",\"A\",\"C\",\"B\",\"C\",\"D\",\"A\",\"C\",\"C\",\"A\",\"C\",\"C\",\"D\",\"D\",\"B\",\"C\",\"B\",\"A\",\"D\",\"B\",\"B\",\"D\",\"A\",\"D\",\"B\",\"C\",\"D\",\"C\",\"C\",\"D\",\"C\",\"D\",\"D\",\"D\",\"C\",\"D\",\"A\",\"D\",\"A\",\"C\",\"D\",\"D\",\"D\",\"A\",\"D\",\"C\",\"D\",\"D\",\"D\",\"B\",\"B\",\"D\",\"C\",\"D\",\"D\",\"D\",\"D\",\"C\",\"C\",\"D\",\"C\",\"A\",\"D\",\"B\",\"A\",\"A\",\"C\",\"A\",\"B\",\"D\",\"C\",\"B\",\"C\",\"D\",\"C\",\"B\",\"D\",\"C\",\"C\",\"D\",\"D\",\"C\",\"A\",\"D\",\"C\",\"B\",\"B\",\"C\",\"B\",\"C\",\"C\",\"D\",\"B\",\"B\",\"D\",\"D\",\"A\",\"D\",\"C\",\"D\",\"D\",\"D\",\"A\",\"D\",\"D\",\"D\",\"C\",\"A\",\"D\",\"C\",\"D\",\"B\",\"D\",\"D\",\"C\",\"A\",\"D\",\"D\",\"C\",\"D\",\"C\",\"A\",\"D\",\"D\",\"C\",\"D\",\"D\",\"D\",\"B\",\"D\",\"C\",\"C\",\"D\",\"C\",\"D\",\"B\",\"B\",\"A\",\"D\",\"D\",\"D\",\"C\",\"B\",\"D\",\"D\",\"D\",\"B\",\"D\",\"C\",\"D\",\"D\",\"C\",\"B\",\"D\",\"D\",\"C\",\"C\",\"B\",\"C\",\"C\",\"D\",\"D\",\"D\",\"B\",\"D\",\"B\",\"D\",\"B\",\"D\",\"B\",\"C\",\"C\",\"B\",\"D\",\"A\",\"B\",\"B\",\"C\",\"D\",\"D\",\"D\",\"D\",\"A\",\"A\",\"A\",\"D\",\"D\",\"E\",\"E\",\"B\",\"A\",\"C\",\"B\",\"D\",\"C\",\"D\",\"A\",\"A\",\"D\",\"D\",\"C\",\"D\",\"C\",\"B\",\"D\",\"D\",\"B\",\"B\",\"D\",\"C\",\"D\",\"D\",\"C\",\"C\",\"B\",\"C\",\"C\",\"D\",\"C\",\"D\",\"D\",\"D\",\"D\",\"D\",\"B\",\"C\",\"D\",\"D\",\"A\",\"A\",\"B\",\"B\",\"B\",\"D\",\"B\",\"C\",\"C\",\"A\",\"C\",\"C\",\"A\",\"D\",\"A\",\"A\",\"D\",\"B\",\"C\",\"B\",\"B\",\"D\",\"C\",\"C\",\"D\",\"D\",\"B\",\"D\",\"B\",\"D\",\"A\",\"C\",\"A\",\"D\",\"B\",\"C\",\"D\",\"B\",\"B\",\"B\",\"C\",\"B\",\"C\",\"D\",\"A\",\"B\",\"D\",\"D\",\"D\",\"B\",\"B\",\"C\",\"A\",\"C\",\"D\",\"D\",\"C\",\"D\",\"D\",\"D\",\"D\",\"C\",\"D\",\"D\",\"D\",\"D\",\"D\",\"A\",\"D\",\"A\",\"D\",\"C\",\"A\",\"C\",\"B\",\"B\",\"D\",\"D\",\"D\",\"D\",\"D\",\"D\",\"D\",\"A\",\"A\",\"D\",\"A\",\"D\",\"B\",\"B\",\"A\",\"B\",\"C\",\"C\",\"A\",\"B\",\"D\",\"C\",\"D\",\"D\",\"C\",\"D\",\"C\",\"C\",\"E\",\"B\",\"B\",\"D\",\"C\",\"C\",\"B\",\"C\",\"C\",\"B\",\"D\",\"E\",\"D\",\"D\",\"B\",\"C\",\"C\",\"A\",\"D\",\"D\",\"C\",\"B\",\"C\",\"C\",\"D\",\"C\",\"C\",\"C\",\"A\",\"C\",\"D\",\"B\",\"B\",\"C\",\"D\",\"D\",\"B\",\"B\",\"D\",\"C\",\"D\",\"D\",\"B\",\"A\",\"A\",\"D\",\"C\",\"C\",\"D\",\"B\",\"B\",\"A\",\"D\",\"C\",\"B\",\"D\",\"D\",\"D\",\"C\",\"B\",\"A\",\"B\",\"C\",\"C\",\"D\",\"C\",\"B\",\"B\",\"D\",\"D\",\"B\",\"C\",\"D\",\"A\",\"B\",\"C\",\"D\",\"C\",\"D\",\"D\",\"B\",\"D\",\"B\",\"D\",\"D\",\"B\",\"C\",\"C\",\"D\",\"A\",\"C\",\"C\",\"C\",\"B\",\"D\",\"D\",\"B\",\"B\",\"D\",\"D\",\"D\",\"B\",\"C\",\"B\",\"B\",\"C\",\"C\",\"D\",\"D\",\"C\",\"D\",\"B\",\"B\",\"D\",\"C\",\"A\",\"C\",\"B\",\"D\",\"B\",\"B\",\"D\",\"D\",\"D\",\"D\",\"C\",\"B\",\"D\",\"B\",\"B\",\"D\",\"D\",\"B\",\"C\",\"D\",\"A\",\"C\",\"C\",\"D\",\"C\",\"D\",\"B\",\"C\",\"D\",\"D\",\"C\",\"A\",\"D\",\"D\",\"B\",\"D\",\"D\",\"D\",\"C\",\"B\",\"A\",\"D\",\"D\",\"D\",\"D\",\"A\",\"D\",\"B\",\"C\",\"C\",\"D\",\"B\",\"C\",\"B\",\"C\",\"B\",\"D\",\"D\",\"D\",\"D\",\"D\",\"C\",\"B\",\"A\",\"C\",\"B\",\"A\",\"D\",\"D\",\"D\",\"A\",\"E\",\"D\",\"C\",\"D\",\"B\",\"B\",\"C\",\"D\",\"D\",\"D\",\"D\",\"C\",\"D\",\"C\",\"D\",\"B\",\"B\",\"A\",\"B\",\"B\",\"C\",\"D\",\"B\",\"D\",\"C\",\"B\",\"A\",\"D\",\"C\",\"B\",\"C\",\"A\",\"D\",\"D\",\"D\",\"A\",\"D\",\"D\",\"A\",\"C\",\"D\",\"D\",\"C\",\"D\",\"D\",\"B\",\"B\",\"C\",\"C\",\"D\",\"D\",\"C\",\"D\",\"D\",\"C\",\"D\",\"C\",\"B\",\"E\",\"C\",\"B\",\"B\",\"D\",\"D\",\"D\",\"A\",\"C\",\"A\",\"B\",\"C\",\"A\",\"A\",\"D\",\"E\",\"A\",\"C\",\"D\",\"A\",\"B\",\"A\",\"D\",\"D\",\"A\",\"B\",\"C\",\"A\",\"A\",\"A\",\"C\",\"A\",\"E\",\"B\",\"C\",\"B\",\"D\",\"D\",\"B\",\"C\",\"D\",\"D\",\"B\",\"D\",\"D\",\"C\",\"D\",\"D\",\"D\",\"D\",\"D\",\"D\",\"D\",\"A\",\"A\",\"D\",\"C\",\"D\",\"D\",\"D\",\"B\",\"B\",\"B\",\"D\",\"B\",\"B\",\"D\",\"D\",\"B\",\"C\",\"A\",\"D\",\"A\",\"D\",\"C\",\"A\",\"D\",\"D\",\"B\",\"D\",\"C\",\"D\",\"D\",\"C\",\"D\",\"B\",\"C\",\"C\",\"A\",\"D\",\"D\",\"D\",\"D\",\"C\",\"D\",\"C\",\"D\",\"A\",\"B\",\"B\",\"C\",\"D\",\"B\",\"C\",\"B\",\"C\",\"D\",\"C\",\"C\",\"C\",\"C\",\"A\",\"D\",\"A\",\"D\",\"D\",\"A\",\"B\",\"C\",\"C\",\"D\",\"E\",\"D\",\"B\",\"A\",\"B\",\"B\",\"B\",\"E\",\"C\",\"D\",\"A\",\"D\",\"D\",\"C\",\"C\",\"D\",\"D\",\"C\",\"D\",\"D\",\"C\",\"C\",\"D\",\"B\",\"C\",\"C\",\"B\",\"C\",\"D\",\"D\",\"D\",\"D\",\"C\",\"D\",\"D\",\"D\",\"E\",\"C\",\"B\",\"C\",\"C\",\"A\",\"D\",\"C\",\"D\",\"C\",\"D\",\"C\",\"B\",\"D\",\"D\",\"D\",\"C\",\"C\",\"A\",\"B\",\"D\",\"A\",\"B\",\"C\",\"B\",\"A\",\"C\",\"B\",\"C\",\"C\",\"D\",\"A\",\"C\",\"B\",\"D\",\"D\",\"D\",\"C\",\"D\",\"B\",\"C\",\"A\",\"C\",\"D\",\"A\",\"A\",\"B\",\"C\",\"A\",\"C\",\"C\",\"D\",\"B\",\"D\",\"D\",\"B\",\"B\",\"D\",\"D\",\"D\",\"D\",\"B\",\"C\",\"C\",\"D\",\"D\",\"D\",\"A\",\"D\",\"A\",\"D\",\"D\",\"A\",\"C\",\"C\",\"D\",\"D\",\"C\",\"D\",\"C\",\"C\",\"D\",\"C\",\"D\",\"A\",\"D\",\"C\",\"B\",\"B\",\"D\",\"D\",\"D\",\"B\",\"D\",\"D\",\"E\",\"E\",\"B\",\"B\",\"D\",\"C\",\"E\",\"B\",\"C\",\"D\",\"B\",\"B\",\"D\",\"A\",\"C\",\"E\",\"D\",\"D\",\"B\",\"D\",\"D\",\"D\",\"A\",\"D\",\"B\",\"D\",\"A\",\"D\",\"A\",\"C\",\"D\",\"D\",\"D\",\"C\",\"C\",\"C\",\"D\",\"A\",\"D\",\"D\",\"D\",\"B\",\"D\",\"D\",\"D\",\"B\",\"D\",\"B\",\"E\",\"A\",\"D\",\"C\",\"A\",\"B\",\"A\",\"D\",\"C\",\"B\",\"A\",\"D\",\"A\",\"D\",\"D\",\"C\",\"C\",\"A\",\"A\",\"D\",\"C\",\"E\",\"A\",\"A\",\"A\",\"B\",\"D\",\"B\",\"D\",\"B\",\"C\",\"E\",\"A\",\"A\",\"D\",\"D\",\"D\",\"C\",\"C\",\"D\",\"C\",\"D\",\"B\",\"C\",\"B\",\"D\",\"D\",\"D\",\"D\",\"D\",\"D\",\"B\",\"D\",\"B\",\"C\",\"D\",\"D\",\"B\",\"D\",\"E\",\"D\",\"D\",\"D\",\"D\",\"C\",\"C\",\"A\",\"D\",\"B\",\"C\",\"D\",\"D\",\"C\",\"A\",\"B\",\"C\",\"E\",\"B\",\"C\",\"D\",\"C\",\"D\",\"D\",\"C\",\"C\",\"C\",\"D\",\"D\",\"D\",\"A\",\"D\",\"D\",\"B\",\"D\",\"C\",\"D\",\"D\",\"A\",\"D\",\"A\",\"B\",\"C\",\"D\",\"E\",\"C\",\"A\",\"A\",\"D\",\"D\",\"C\",\"C\",\"D\",\"B\",\"D\",\"D\",\"C\",\"A\",\"D\",\"D\",\"D\",\"D\",\"D\",\"C\",\"D\",\"A\",\"D\",\"D\",\"A\",\"C\",\"B\",\"B\",\"C\",\"B\",\"C\",\"E\",\"D\",\"D\",\"C\",\"D\",\"B\",\"A\",\"D\",\"D\",\"C\",\"A\",\"B\",\"D\",\"C\",\"A\",\"D\",\"C\",\"C\",\"B\",\"D\",\"C\",\"C\",\"A\",\"D\",\"B\",\"C\",\"B\",\"D\",\"A\",\"D\",\"C\",\"D\",\"D\",\"B\",\"C\",\"D\",\"D\",\"C\",\"B\",\"B\",\"D\",\"A\",\"A\",\"B\",\"B\",\"D\",\"D\",\"C\",\"C\",\"B\",\"D\",\"C\",\"C\",\"A\",\"B\",\"C\",\"D\",\"B\",\"B\",\"D\",\"C\",\"D\",\"B\",\"D\",\"B\",\"D\",\"D\",\"C\",\"B\",\"D\",\"D\",\"C\",\"D\",\"E\",\"C\",\"D\",\"D\",\"D\",\"D\",\"B\",\"B\",\"B\",\"C\",\"D\",\"D\",\"D\",\"A\",\"B\",\"C\",\"D\",\"A\",\"D\",\"A\",\"C\",\"D\",\"A\",\"D\",\"D\",\"D\",\"C\",\"D\",\"E\",\"B\",\"D\",\"D\",\"D\",\"B\",\"A\",\"D\",\"D\",\"A\",\"D\",\"C\",\"D\",\"D\",\"C\",\"C\",\"D\",\"A\",\"C\",\"C\",\"B\",\"D\",\"C\",\"D\",\"D\",\"A\",\"D\",\"D\",\"B\",\"D\",\"C\",\"A\",\"D\",\"D\",\"D\",\"A\",\"A\",\"D\",\"C\",\"D\",\"C\",\"B\",\"D\",\"D\",\"D\",\"D\",\"D\",\"C\",\"D\",\"D\",\"B\",\"C\",\"C\",\"C\",\"D\",\"C\",\"A\",\"C\",\"C\",\"B\",\"D\",\"D\",\"C\",\"C\",\"B\",\"D\",\"B\",\"B\",\"D\",\"B\",\"D\",\"D\",\"D\",\"D\",\"B\",\"C\",\"D\",\"C\",\"D\",\"B\",\"D\",\"B\",\"D\",\"C\",\"A\",\"A\",\"D\",\"B\",\"B\",\"A\",\"C\",\"C\",\"D\",\"C\",\"D\",\"D\",\"B\",\"D\",\"D\",\"D\",\"D\",\"C\",\"D\",\"B\",\"D\",\"D\",\"B\",\"B\",\"D\",\"A\",\"D\",\"D\",\"D\",\"B\",\"D\",\"C\",\"C\",\"A\",\"D\",\"D\",\"B\",\"D\",\"D\",\"D\",\"B\",\"C\",\"D\",\"D\",\"D\",\"C\",\"A\",\"D\",\"D\",\"B\",\"D\",\"C\",\"C\",\"D\",\"C\",\"D\",\"D\",\"D\",\"D\",\"B\",\"D\",\"B\",\"A\",\"B\",\"B\",\"B\",\"D\",\"C\",\"C\",\"D\",\"D\",\"B\",\"E\",\"D\",\"A\",\"E\",\"B\",\"D\",\"D\",\"C\",\"D\",\"E\",\"C\",\"B\",\"D\",\"B\",\"A\",\"C\",\"B\",\"B\",\"C\",\"A\",\"D\",\"C\",\"D\",\"C\",\"A\",\"D\",\"B\",\"D\",\"B\",\"D\",\"D\",\"B\",\"D\",\"D\",\"C\",\"D\",\"D\",\"C\",\"B\",\"C\",\"D\",\"D\",\"C\",\"C\",\"B\",\"D\",\"B\",\"B\",\"D\",\"D\",\"B\",\"D\",\"C\",\"A\",\"D\",\"A\",\"D\",\"D\",\"B\",\"C\",\"D\",\"A\",\"B\",\"C\",\"D\",\"A\",\"A\",\"D\",\"C\",\"A\",\"A\",\"D\",\"B\",\"C\",\"D\",\"D\",\"D\",\"D\",\"B\",\"B\",\"D\",\"D\",\"C\",\"D\",\"D\",\"D\",\"A\",\"C\",\"D\",\"D\",\"C\",\"D\",\"C\",\"E\",\"D\",\"D\",\"D\",\"B\",\"D\",\"A\",\"A\",\"A\",\"C\",\"A\",\"B\",\"C\",\"B\",\"D\",\"A\",\"D\",\"D\",\"D\",\"B\",\"D\",\"D\",\"D\",\"D\",\"D\",\"E\",\"D\",\"B\",\"C\",\"D\",\"E\",\"A\",\"D\",\"D\",\"D\",\"D\",\"A\",\"C\",\"D\",\"C\",\"A\",\"B\",\"B\",\"B\",\"D\",\"D\",\"A\",\"B\",\"C\",\"B\",\"D\",\"C\",\"D\",\"D\",\"D\",\"D\",\"B\",\"A\",\"D\",\"C\",\"C\",\"C\",\"D\",\"C\",\"C\",\"C\",\"D\",\"D\",\"D\",\"A\",\"D\",\"D\",\"D\",\"A\",\"D\",\"C\",\"D\",\"A\",\"D\",\"D\",\"C\",\"A\",\"B\",\"B\",\"C\",\"D\",\"D\",\"C\",\"C\",\"D\",\"C\",\"A\",\"B\",\"D\",\"D\",\"D\",\"C\",\"A\",\"D\",\"C\",\"B\",\"D\",\"C\",\"B\",\"D\",\"E\",\"B\",\"C\",\"D\",\"C\",\"D\",\"C\",\"B\",\"C\",\"B\",\"D\",\"D\",\"D\",\"A\",\"A\",\"C\",\"C\",\"B\",\"C\",\"D\",\"B\",\"D\",\"D\",\"A\",\"A\",\"B\",\"C\",\"B\",\"D\",\"B\",\"D\",\"D\",\"B\",\"C\",\"D\",\"D\",\"C\",\"B\",\"A\",\"D\",\"C\",\"B\",\"A\",\"C\",\"D\",\"D\",\"E\",\"E\",\"D\",\"D\",\"E\",\"D\",\"B\",\"A\",\"D\",\"D\",\"B\",\"A\",\"A\",\"C\",\"D\",\"C\",\"A\",\"B\",\"D\",\"D\",\"C\",\"D\",\"D\",\"D\",\"C\",\"D\",\"D\",\"D\",\"A\",\"C\",\"B\",\"D\",\"D\",\"C\",\"D\",\"C\",\"D\",\"B\",\"D\",\"B\",\"D\",\"D\",\"C\",\"C\",\"B\",\"D\",\"B\",\"D\",\"D\",\"C\",\"D\",\"C\",\"C\",\"D\",\"C\",\"C\",\"D\",\"B\",\"D\",\"D\",\"B\",\"D\",\"C\",\"D\",\"D\",\"C\",\"D\",\"C\",\"E\",\"B\",\"D\",\"D\",\"B\",\"D\",\"D\",\"C\",\"D\",\"A\",\"D\",\"B\",\"D\",\"D\",\"A\",\"D\",\"C\",\"C\",\"D\",\"D\",\"D\",\"C\",\"D\",\"B\",\"D\",\"B\",\"D\",\"A\",\"C\",\"B\",\"D\",\"D\",\"C\",\"C\",\"C\",\"B\",\"E\",\"C\",\"D\",\"C\",\"D\",\"D\",\"B\",\"B\",\"D\",\"D\",\"C\",\"A\",\"D\",\"C\",\"D\",\"D\",\"C\",\"C\",\"D\",\"A\",\"C\",\"D\",\"C\",\"E\",\"C\",\"A\",\"C\",\"C\",\"D\",\"C\",\"C\",\"A\",\"C\",\"D\",\"D\",\"B\",\"A\",\"D\",\"D\",\"D\",\"D\",\"A\",\"D\",\"C\",\"E\",\"D\",\"D\",\"A\",\"E\",\"C\",\"D\",\"A\",\"A\",\"D\",\"D\",\"C\",\"A\",\"A\",\"D\",\"D\",\"D\",\"B\",\"C\",\"C\",\"D\",\"B\",\"D\",\"C\",\"B\",\"D\",\"D\",\"B\",\"D\",\"D\",\"B\",\"A\",\"D\",\"C\",\"D\",\"C\",\"B\",\"B\",\"D\",\"A\",\"D\",\"C\",\"D\",\"D\",\"A\",\"B\",\"B\",\"E\",\"D\",\"A\",\"D\",\"D\",\"A\",\"C\",\"D\",\"D\",\"C\",\"C\",\"D\",\"D\",\"C\",\"D\",\"C\",\"B\",\"D\",\"D\",\"D\",\"D\",\"C\",\"C\",\"D\",\"B\",\"C\",\"D\",\"D\",\"D\",\"B\",\"C\",\"C\",\"E\",\"D\",\"C\",\"C\",\"C\",\"D\",\"D\",\"D\",\"C\",\"C\",\"C\",\"D\",\"C\",\"B\",\"A\",\"D\",\"A\",\"D\",\"A\",\"D\",\"D\",\"D\",\"E\",\"B\",\"D\",\"B\",\"A\",\"D\",\"D\",\"C\",\"A\",\"A\",\"D\",\"D\",\"C\",\"C\",\"D\",\"D\",\"B\",\"B\",\"C\",\"D\",\"C\",\"D\",\"D\",\"A\",\"D\",\"D\",\"B\",\"D\",\"C\",\"A\",\"D\",\"D\",\"A\",\"A\",\"C\",\"B\",\"D\",\"C\",\"C\",\"B\",\"D\",\"D\",\"E\",\"A\",\"C\",\"A\",\"A\",\"C\",\"B\",\"B\",\"B\",\"A\",\"D\",\"D\",\"D\",\"A\",\"D\",\"C\",\"E\",\"D\",\"D\",\"A\",\"D\",\"D\",\"D\",\"D\",\"C\",\"A\",\"D\",\"A\",\"B\",\"D\",\"B\",\"D\",\"C\",\"E\",\"C\",\"D\",\"C\",\"C\",\"D\",\"A\",\"C\",\"D\",\"C\",\"D\",\"B\",\"A\",\"D\",\"A\",\"C\",\"D\",\"B\",\"D\",\"B\",\"C\",\"D\",\"D\",\"B\",\"C\",\"B\",\"A\",\"D\",\"B\",\"D\",\"D\",\"A\",\"B\",\"D\",\"D\",\"D\",\"D\",\"D\",\"B\",\"D\",\"D\",\"D\",\"A\",\"C\",\"B\",\"D\",\"D\",\"C\",\"C\",\"C\",\"B\",\"C\",\"D\",\"A\",\"C\",\"D\",\"C\",\"B\",\"A\",\"B\",\"B\",\"B\",\"B\",\"D\",\"D\",\"B\",\"C\",\"D\",\"C\",\"C\",\"D\",\"A\",\"C\",\"C\",\"C\",\"D\",\"C\",\"C\",\"D\",\"D\",\"D\",\"D\",\"A\",\"D\",\"D\",\"C\",\"D\",\"E\",\"C\",\"B\",\"D\",\"A\",\"B\",\"C\",\"C\",\"C\",\"A\",\"D\",\"A\",\"D\",\"B\",\"E\",\"D\",\"A\",\"D\",\"C\",\"B\",\"A\",\"B\",\"A\",\"A\",\"C\",\"C\",\"B\",\"B\",\"D\",\"D\",\"D\",\"C\",\"D\",\"B\",\"C\",\"B\",\"B\",\"D\",\"D\",\"D\",\"C\",\"C\",\"A\",\"C\",\"B\",\"C\",\"A\",\"C\",\"D\",\"D\",\"A\",\"C\",\"C\",\"A\",\"B\",\"B\",\"C\",\"C\",\"D\",\"C\",\"D\",\"B\",\"C\",\"A\",\"B\",\"C\",\"D\",\"C\",\"C\",\"B\",\"A\",\"C\",\"C\",\"E\",\"B\",\"D\",\"D\",\"D\",\"A\",\"B\",\"C\",\"A\",\"D\",\"B\",\"C\",\"A\",\"A\",\"D\",\"D\",\"A\",\"D\",\"D\",\"C\",\"A\",\"B\",\"D\",\"D\",\"C\",\"D\",\"C\",\"A\",\"A\",\"B\",\"A\",\"A\",\"A\",\"A\",\"D\",\"A\",\"D\",\"C\",\"A\",\"D\",\"C\",\"B\",\"C\",\"C\",\"D\",\"D\",\"B\",\"A\",\"D\",\"C\",\"C\",\"D\",\"C\",\"D\",\"A\",\"C\",\"D\",\"A\",\"C\",\"D\",\"D\",\"D\",\"D\",\"D\",\"D\",\"A\",\"D\",\"B\",\"D\",\"D\",\"D\",\"C\",\"B\",\"D\",\"A\",\"B\",\"D\",\"C\",\"D\",\"C\",\"E\",\"A\",\"D\",\"C\",\"D\",\"B\",\"E\",\"B\",\"C\",\"D\",\"B\",\"A\",\"D\",\"D\",\"B\",\"C\",\"A\",\"B\",\"B\",\"D\",\"D\",\"D\",\"D\",\"D\",\"D\",\"E\",\"A\",\"D\",\"D\",\"A\",\"D\",\"A\",\"D\",\"C\",\"D\",\"D\",\"D\",\"C\",\"D\",\"D\",\"D\",\"D\",\"A\",\"D\",\"B\",\"A\",\"D\",\"A\",\"A\",\"D\",\"B\",\"D\",\"C\",\"D\",\"D\",\"D\",\"A\",\"C\",\"C\",\"B\",\"B\",\"D\",\"C\",\"B\",\"B\",\"E\",\"C\",\"B\",\"B\",\"C\",\"D\",\"D\",\"A\",\"C\",\"C\",\"D\",\"C\",\"B\",\"B\",\"A\",\"B\",\"B\",\"B\",\"D\",\"D\",\"D\",\"C\",\"D\",\"D\",\"A\",\"D\",\"D\",\"C\",\"C\",\"D\",\"B\",\"C\",\"D\",\"D\",\"C\",\"C\",\"D\",\"C\",\"B\",\"B\",\"D\",\"C\",\"B\",\"A\",\"C\",\"B\",\"A\",\"D\",\"A\",\"C\",\"A\",\"D\",\"A\",\"C\",\"D\",\"B\",\"D\",\"D\",\"D\",\"A\",\"C\",\"D\",\"D\",\"D\",\"D\",\"B\",\"D\",\"C\",\"B\",\"A\",\"D\",\"D\",\"D\",\"C\",\"C\",\"D\",\"B\",\"D\",\"D\",\"B\",\"D\",\"C\",\"B\",\"B\",\"A\",\"D\",\"D\",\"D\",\"D\",\"A\",\"A\",\"C\",\"C\",\"D\",\"B\",\"D\",\"C\",\"C\",\"D\",\"C\",\"C\",\"D\",\"B\",\"D\",\"D\",\"A\",\"D\",\"D\",\"C\",\"C\",\"A\",\"B\",\"A\",\"B\",\"D\",\"A\",\"B\",\"D\",\"A\",\"E\",\"D\",\"D\",\"C\",\"D\",\"D\",\"C\",\"C\",\"B\",\"D\",\"A\",\"E\",\"D\",\"C\",\"B\",\"B\",\"C\",\"C\",\"D\",\"D\",\"A\",\"E\",\"B\",\"C\",\"D\",\"A\",\"A\",\"C\",\"B\",\"D\",\"A\",\"B\",\"D\",\"A\",\"A\",\"A\",\"A\",\"D\",\"B\",\"C\",\"A\",\"D\",\"D\",\"D\",\"C\",\"B\",\"C\",\"D\",\"C\",\"C\",\"A\",\"D\",\"C\",\"D\",\"A\",\"A\",\"C\",\"B\",\"C\",\"C\",\"C\",\"D\",\"C\",\"B\",\"C\",\"D\",\"D\",\"E\",\"C\",\"C\",\"C\",\"D\",\"B\",\"D\",\"D\",\"B\",\"D\",\"D\",\"D\",\"C\",\"D\",\"C\",\"C\",\"C\",\"D\",\"A\",\"A\",\"C\",\"D\",\"D\",\"D\",\"D\",\"B\",\"D\",\"B\",\"D\",\"D\",\"D\",\"D\",\"B\",\"A\",\"D\",\"C\",\"D\",\"D\",\"D\",\"D\",\"D\",\"C\",\"D\",\"B\",\"B\",\"C\",\"D\",\"B\",\"C\",\"D\",\"D\",\"B\",\"D\",\"C\",\"D\",\"D\",\"C\",\"C\",\"B\",\"C\",\"C\",\"B\",\"C\",\"A\",\"D\",\"B\",\"D\",\"D\",\"D\",\"E\",\"C\",\"D\",\"D\",\"C\",\"C\",\"D\",\"D\",\"D\",\"C\",\"B\",\"D\",\"D\",\"B\",\"B\",\"D\",\"C\",\"D\",\"D\",\"B\",\"D\",\"D\",\"C\",\"C\",\"D\",\"B\",\"D\",\"C\",\"B\",\"B\",\"D\",\"B\",\"C\",\"B\",\"A\",\"D\",\"C\",\"B\",\"D\",\"B\",\"C\",\"D\",\"C\",\"D\",\"C\",\"A\",\"C\",\"D\",\"C\",\"D\",\"D\",\"A\",\"B\",\"D\",\"D\",\"C\",\"C\",\"D\",\"D\",\"D\",\"D\",\"B\",\"D\",\"A\",\"A\",\"D\",\"A\",\"A\",\"D\",\"C\",\"D\",\"C\",\"D\",\"C\",\"D\",\"A\",\"D\",\"A\",\"D\",\"D\",\"B\",\"D\",\"D\",\"D\",\"D\",\"C\",\"C\",\"A\",\"A\",\"C\",\"C\",\"D\",\"D\",\"D\",\"C\",\"D\",\"D\",\"B\",\"C\",\"D\",\"D\",\"A\",\"C\",\"D\",\"B\",\"B\",\"D\",\"D\",\"A\",\"D\",\"D\",\"A\",\"D\",\"D\",\"A\",\"D\",\"D\",\"B\",\"D\",\"D\",\"D\",\"A\",\"C\",\"B\",\"D\",\"B\",\"B\",\"C\",\"B\",\"D\",\"B\",\"D\",\"C\",\"D\",\"C\",\"C\",\"D\",\"D\",\"D\",\"D\",\"D\",\"A\",\"D\",\"E\",\"D\",\"A\",\"A\",\"D\",\"D\",\"D\",\"A\",\"A\",\"A\",\"C\",\"A\",\"C\",\"B\",\"D\",\"C\",\"B\",\"D\",\"D\",\"B\",\"C\",\"D\",\"D\",\"C\",\"E\",\"C\",\"C\",\"B\",\"C\",\"D\",\"A\",\"E\",\"C\",\"D\",\"D\",\"C\",\"D\",\"B\",\"B\",\"B\",\"D\",\"C\",\"C\",\"A\",\"A\",\"B\",\"D\",\"A\",\"D\",\"C\",\"C\",\"B\",\"D\",\"B\",\"D\",\"B\",\"A\",\"D\",\"C\",\"D\",\"D\",\"B\",\"D\",\"D\",\"D\",\"C\",\"D\",\"D\",\"D\",\"A\",\"C\",\"B\",\"D\",\"B\",\"B\",\"C\",\"D\",\"A\",\"A\",\"C\",\"A\",\"A\",\"C\",\"D\",\"B\",\"C\",\"D\",\"D\",\"D\",\"D\",\"B\",\"A\",\"D\",\"D\",\"C\",\"D\",\"C\",\"B\",\"D\",\"D\",\"E\",\"D\",\"B\",\"C\",\"C\",\"C\",\"B\",\"D\",\"B\",\"D\",\"C\",\"B\",\"D\",\"A\",\"D\",\"E\",\"A\",\"C\",\"A\",\"C\",\"D\",\"A\",\"B\",\"D\",\"B\",\"D\",\"D\",\"C\",\"D\",\"A\",\"A\",\"D\",\"A\",\"D\",\"D\",\"D\",\"D\",\"C\",\"D\",\"D\",\"C\",\"D\",\"D\",\"B\",\"D\",\"A\",\"B\",\"C\",\"D\",\"D\",\"C\",\"C\",\"D\",\"D\",\"A\",\"D\",\"C\",\"E\",\"C\",\"E\",\"B\",\"D\",\"D\",\"A\",\"D\",\"D\",\"D\",\"A\",\"D\",\"B\",\"C\",\"B\",\"B\",\"C\",\"D\",\"D\",\"D\",\"D\",\"D\",\"A\",\"D\",\"C\",\"B\",\"D\",\"B\",\"C\",\"C\",\"D\",\"E\",\"A\",\"C\",\"D\",\"C\",\"D\",\"D\",\"C\",\"A\",\"C\",\"C\",\"C\",\"D\",\"D\",\"C\",\"C\",\"A\",\"C\",\"D\",\"B\",\"D\",\"C\",\"C\",\"D\",\"B\",\"A\",\"D\",\"D\",\"D\",\"D\",\"D\",\"D\",\"D\",\"B\",\"A\",\"D\",\"B\",\"C\"],\"xaxis\":\"x\",\"yaxis\":\"y\",\"type\":\"histogram\"}],                        {\"template\":{\"data\":{\"bar\":[{\"error_x\":{\"color\":\"#2a3f5f\"},\"error_y\":{\"color\":\"#2a3f5f\"},\"marker\":{\"line\":{\"color\":\"#E5ECF6\",\"width\":0.5},\"pattern\":{\"fillmode\":\"overlay\",\"size\":10,\"solidity\":0.2}},\"type\":\"bar\"}],\"barpolar\":[{\"marker\":{\"line\":{\"color\":\"#E5ECF6\",\"width\":0.5},\"pattern\":{\"fillmode\":\"overlay\",\"size\":10,\"solidity\":0.2}},\"type\":\"barpolar\"}],\"carpet\":[{\"aaxis\":{\"endlinecolor\":\"#2a3f5f\",\"gridcolor\":\"white\",\"linecolor\":\"white\",\"minorgridcolor\":\"white\",\"startlinecolor\":\"#2a3f5f\"},\"baxis\":{\"endlinecolor\":\"#2a3f5f\",\"gridcolor\":\"white\",\"linecolor\":\"white\",\"minorgridcolor\":\"white\",\"startlinecolor\":\"#2a3f5f\"},\"type\":\"carpet\"}],\"choropleth\":[{\"colorbar\":{\"outlinewidth\":0,\"ticks\":\"\"},\"type\":\"choropleth\"}],\"contour\":[{\"colorbar\":{\"outlinewidth\":0,\"ticks\":\"\"},\"colorscale\":[[0.0,\"#0d0887\"],[0.1111111111111111,\"#46039f\"],[0.2222222222222222,\"#7201a8\"],[0.3333333333333333,\"#9c179e\"],[0.4444444444444444,\"#bd3786\"],[0.5555555555555556,\"#d8576b\"],[0.6666666666666666,\"#ed7953\"],[0.7777777777777778,\"#fb9f3a\"],[0.8888888888888888,\"#fdca26\"],[1.0,\"#f0f921\"]],\"type\":\"contour\"}],\"contourcarpet\":[{\"colorbar\":{\"outlinewidth\":0,\"ticks\":\"\"},\"type\":\"contourcarpet\"}],\"heatmap\":[{\"colorbar\":{\"outlinewidth\":0,\"ticks\":\"\"},\"colorscale\":[[0.0,\"#0d0887\"],[0.1111111111111111,\"#46039f\"],[0.2222222222222222,\"#7201a8\"],[0.3333333333333333,\"#9c179e\"],[0.4444444444444444,\"#bd3786\"],[0.5555555555555556,\"#d8576b\"],[0.6666666666666666,\"#ed7953\"],[0.7777777777777778,\"#fb9f3a\"],[0.8888888888888888,\"#fdca26\"],[1.0,\"#f0f921\"]],\"type\":\"heatmap\"}],\"heatmapgl\":[{\"colorbar\":{\"outlinewidth\":0,\"ticks\":\"\"},\"colorscale\":[[0.0,\"#0d0887\"],[0.1111111111111111,\"#46039f\"],[0.2222222222222222,\"#7201a8\"],[0.3333333333333333,\"#9c179e\"],[0.4444444444444444,\"#bd3786\"],[0.5555555555555556,\"#d8576b\"],[0.6666666666666666,\"#ed7953\"],[0.7777777777777778,\"#fb9f3a\"],[0.8888888888888888,\"#fdca26\"],[1.0,\"#f0f921\"]],\"type\":\"heatmapgl\"}],\"histogram\":[{\"marker\":{\"pattern\":{\"fillmode\":\"overlay\",\"size\":10,\"solidity\":0.2}},\"type\":\"histogram\"}],\"histogram2d\":[{\"colorbar\":{\"outlinewidth\":0,\"ticks\":\"\"},\"colorscale\":[[0.0,\"#0d0887\"],[0.1111111111111111,\"#46039f\"],[0.2222222222222222,\"#7201a8\"],[0.3333333333333333,\"#9c179e\"],[0.4444444444444444,\"#bd3786\"],[0.5555555555555556,\"#d8576b\"],[0.6666666666666666,\"#ed7953\"],[0.7777777777777778,\"#fb9f3a\"],[0.8888888888888888,\"#fdca26\"],[1.0,\"#f0f921\"]],\"type\":\"histogram2d\"}],\"histogram2dcontour\":[{\"colorbar\":{\"outlinewidth\":0,\"ticks\":\"\"},\"colorscale\":[[0.0,\"#0d0887\"],[0.1111111111111111,\"#46039f\"],[0.2222222222222222,\"#7201a8\"],[0.3333333333333333,\"#9c179e\"],[0.4444444444444444,\"#bd3786\"],[0.5555555555555556,\"#d8576b\"],[0.6666666666666666,\"#ed7953\"],[0.7777777777777778,\"#fb9f3a\"],[0.8888888888888888,\"#fdca26\"],[1.0,\"#f0f921\"]],\"type\":\"histogram2dcontour\"}],\"mesh3d\":[{\"colorbar\":{\"outlinewidth\":0,\"ticks\":\"\"},\"type\":\"mesh3d\"}],\"parcoords\":[{\"line\":{\"colorbar\":{\"outlinewidth\":0,\"ticks\":\"\"}},\"type\":\"parcoords\"}],\"pie\":[{\"automargin\":true,\"type\":\"pie\"}],\"scatter\":[{\"marker\":{\"colorbar\":{\"outlinewidth\":0,\"ticks\":\"\"}},\"type\":\"scatter\"}],\"scatter3d\":[{\"line\":{\"colorbar\":{\"outlinewidth\":0,\"ticks\":\"\"}},\"marker\":{\"colorbar\":{\"outlinewidth\":0,\"ticks\":\"\"}},\"type\":\"scatter3d\"}],\"scattercarpet\":[{\"marker\":{\"colorbar\":{\"outlinewidth\":0,\"ticks\":\"\"}},\"type\":\"scattercarpet\"}],\"scattergeo\":[{\"marker\":{\"colorbar\":{\"outlinewidth\":0,\"ticks\":\"\"}},\"type\":\"scattergeo\"}],\"scattergl\":[{\"marker\":{\"colorbar\":{\"outlinewidth\":0,\"ticks\":\"\"}},\"type\":\"scattergl\"}],\"scattermapbox\":[{\"marker\":{\"colorbar\":{\"outlinewidth\":0,\"ticks\":\"\"}},\"type\":\"scattermapbox\"}],\"scatterpolar\":[{\"marker\":{\"colorbar\":{\"outlinewidth\":0,\"ticks\":\"\"}},\"type\":\"scatterpolar\"}],\"scatterpolargl\":[{\"marker\":{\"colorbar\":{\"outlinewidth\":0,\"ticks\":\"\"}},\"type\":\"scatterpolargl\"}],\"scatterternary\":[{\"marker\":{\"colorbar\":{\"outlinewidth\":0,\"ticks\":\"\"}},\"type\":\"scatterternary\"}],\"surface\":[{\"colorbar\":{\"outlinewidth\":0,\"ticks\":\"\"},\"colorscale\":[[0.0,\"#0d0887\"],[0.1111111111111111,\"#46039f\"],[0.2222222222222222,\"#7201a8\"],[0.3333333333333333,\"#9c179e\"],[0.4444444444444444,\"#bd3786\"],[0.5555555555555556,\"#d8576b\"],[0.6666666666666666,\"#ed7953\"],[0.7777777777777778,\"#fb9f3a\"],[0.8888888888888888,\"#fdca26\"],[1.0,\"#f0f921\"]],\"type\":\"surface\"}],\"table\":[{\"cells\":{\"fill\":{\"color\":\"#EBF0F8\"},\"line\":{\"color\":\"white\"}},\"header\":{\"fill\":{\"color\":\"#C8D4E3\"},\"line\":{\"color\":\"white\"}},\"type\":\"table\"}]},\"layout\":{\"annotationdefaults\":{\"arrowcolor\":\"#2a3f5f\",\"arrowhead\":0,\"arrowwidth\":1},\"autotypenumbers\":\"strict\",\"coloraxis\":{\"colorbar\":{\"outlinewidth\":0,\"ticks\":\"\"}},\"colorscale\":{\"diverging\":[[0,\"#8e0152\"],[0.1,\"#c51b7d\"],[0.2,\"#de77ae\"],[0.3,\"#f1b6da\"],[0.4,\"#fde0ef\"],[0.5,\"#f7f7f7\"],[0.6,\"#e6f5d0\"],[0.7,\"#b8e186\"],[0.8,\"#7fbc41\"],[0.9,\"#4d9221\"],[1,\"#276419\"]],\"sequential\":[[0.0,\"#0d0887\"],[0.1111111111111111,\"#46039f\"],[0.2222222222222222,\"#7201a8\"],[0.3333333333333333,\"#9c179e\"],[0.4444444444444444,\"#bd3786\"],[0.5555555555555556,\"#d8576b\"],[0.6666666666666666,\"#ed7953\"],[0.7777777777777778,\"#fb9f3a\"],[0.8888888888888888,\"#fdca26\"],[1.0,\"#f0f921\"]],\"sequentialminus\":[[0.0,\"#0d0887\"],[0.1111111111111111,\"#46039f\"],[0.2222222222222222,\"#7201a8\"],[0.3333333333333333,\"#9c179e\"],[0.4444444444444444,\"#bd3786\"],[0.5555555555555556,\"#d8576b\"],[0.6666666666666666,\"#ed7953\"],[0.7777777777777778,\"#fb9f3a\"],[0.8888888888888888,\"#fdca26\"],[1.0,\"#f0f921\"]]},\"colorway\":[\"#636efa\",\"#EF553B\",\"#00cc96\",\"#ab63fa\",\"#FFA15A\",\"#19d3f3\",\"#FF6692\",\"#B6E880\",\"#FF97FF\",\"#FECB52\"],\"font\":{\"color\":\"#2a3f5f\"},\"geo\":{\"bgcolor\":\"white\",\"lakecolor\":\"white\",\"landcolor\":\"#E5ECF6\",\"showlakes\":true,\"showland\":true,\"subunitcolor\":\"white\"},\"hoverlabel\":{\"align\":\"left\"},\"hovermode\":\"closest\",\"mapbox\":{\"style\":\"light\"},\"paper_bgcolor\":\"white\",\"plot_bgcolor\":\"#E5ECF6\",\"polar\":{\"angularaxis\":{\"gridcolor\":\"white\",\"linecolor\":\"white\",\"ticks\":\"\"},\"bgcolor\":\"#E5ECF6\",\"radialaxis\":{\"gridcolor\":\"white\",\"linecolor\":\"white\",\"ticks\":\"\"}},\"scene\":{\"xaxis\":{\"backgroundcolor\":\"#E5ECF6\",\"gridcolor\":\"white\",\"gridwidth\":2,\"linecolor\":\"white\",\"showbackground\":true,\"ticks\":\"\",\"zerolinecolor\":\"white\"},\"yaxis\":{\"backgroundcolor\":\"#E5ECF6\",\"gridcolor\":\"white\",\"gridwidth\":2,\"linecolor\":\"white\",\"showbackground\":true,\"ticks\":\"\",\"zerolinecolor\":\"white\"},\"zaxis\":{\"backgroundcolor\":\"#E5ECF6\",\"gridcolor\":\"white\",\"gridwidth\":2,\"linecolor\":\"white\",\"showbackground\":true,\"ticks\":\"\",\"zerolinecolor\":\"white\"}},\"shapedefaults\":{\"line\":{\"color\":\"#2a3f5f\"}},\"ternary\":{\"aaxis\":{\"gridcolor\":\"white\",\"linecolor\":\"white\",\"ticks\":\"\"},\"baxis\":{\"gridcolor\":\"white\",\"linecolor\":\"white\",\"ticks\":\"\"},\"bgcolor\":\"#E5ECF6\",\"caxis\":{\"gridcolor\":\"white\",\"linecolor\":\"white\",\"ticks\":\"\"}},\"title\":{\"x\":0.05},\"xaxis\":{\"automargin\":true,\"gridcolor\":\"white\",\"linecolor\":\"white\",\"ticks\":\"\",\"title\":{\"standoff\":15},\"zerolinecolor\":\"white\",\"zerolinewidth\":2},\"yaxis\":{\"automargin\":true,\"gridcolor\":\"white\",\"linecolor\":\"white\",\"ticks\":\"\",\"title\":{\"standoff\":15},\"zerolinecolor\":\"white\",\"zerolinewidth\":2}}},\"xaxis\":{\"anchor\":\"y\",\"domain\":[0.0,1.0],\"title\":{\"text\":\"Grade\"}},\"yaxis\":{\"anchor\":\"x\",\"domain\":[0.0,1.0],\"title\":{\"text\":\"count\"}},\"legend\":{\"tracegroupgap\":0},\"margin\":{\"t\":60},\"barmode\":\"relative\"},                        {\"responsive\": true}                    ).then(function(){\n",
              "                            \n",
              "var gd = document.getElementById('1260f1b1-c0a5-40bb-9fe6-396d75d1658e');\n",
              "var x = new MutationObserver(function (mutations, observer) {{\n",
              "        var display = window.getComputedStyle(gd).display;\n",
              "        if (!display || display === 'none') {{\n",
              "            console.log([gd, 'removed!']);\n",
              "            Plotly.purge(gd);\n",
              "            observer.disconnect();\n",
              "        }}\n",
              "}});\n",
              "\n",
              "// Listen for the removal of the full notebook cells\n",
              "var notebookContainer = gd.closest('#notebook-container');\n",
              "if (notebookContainer) {{\n",
              "    x.observe(notebookContainer, {childList: true});\n",
              "}}\n",
              "\n",
              "// Listen for the clearing of the current output cell\n",
              "var outputEl = gd.closest('.output');\n",
              "if (outputEl) {{\n",
              "    x.observe(outputEl, {childList: true});\n",
              "}}\n",
              "\n",
              "                        })                };                            </script>        </div>\n",
              "</body>\n",
              "</html>"
            ]
          },
          "metadata": {}
        }
      ]
    },
    {
      "cell_type": "markdown",
      "source": [
        "# **Count of grade type \"D\" houses are more present in data.**"
      ],
      "metadata": {
        "id": "jaSkVVczSP4F"
      }
    },
    {
      "cell_type": "code",
      "source": [
        "import plotly.express as px\n",
        "df = px.data.tips()\n",
        "fig = px.histogram(HouseGrade_data, x=\"Expected price\", nbins=2500)\n",
        "fig.show()"
      ],
      "metadata": {
        "colab": {
          "base_uri": "https://localhost:8080/",
          "height": 542
        },
        "id": "sZb1J7GqICsH",
        "outputId": "706d214f-ef40-44dd-9458-4501a51dda94"
      },
      "execution_count": 11,
      "outputs": [
        {
          "output_type": "display_data",
          "data": {
            "text/html": [
              "<html>\n",
              "<head><meta charset=\"utf-8\" /></head>\n",
              "<body>\n",
              "    <div>            <script src=\"https://cdnjs.cloudflare.com/ajax/libs/mathjax/2.7.5/MathJax.js?config=TeX-AMS-MML_SVG\"></script><script type=\"text/javascript\">if (window.MathJax) {MathJax.Hub.Config({SVG: {font: \"STIX-Web\"}});}</script>                <script type=\"text/javascript\">window.PlotlyConfig = {MathJaxConfig: 'local'};</script>\n",
              "        <script src=\"https://cdn.plot.ly/plotly-2.8.3.min.js\"></script>                <div id=\"71494f59-45ed-49b5-9d17-5ab1cb1972de\" class=\"plotly-graph-div\" style=\"height:525px; width:100%;\"></div>            <script type=\"text/javascript\">                                    window.PLOTLYENV=window.PLOTLYENV || {};                                    if (document.getElementById(\"71494f59-45ed-49b5-9d17-5ab1cb1972de\")) {                    Plotly.newPlot(                        \"71494f59-45ed-49b5-9d17-5ab1cb1972de\",                        [{\"alignmentgroup\":\"True\",\"bingroup\":\"x\",\"hovertemplate\":\"Expected price=%{x}<br>count=%{y}<extra></extra>\",\"legendgroup\":\"\",\"marker\":{\"color\":\"#636efa\",\"pattern\":{\"shape\":\"\"}},\"name\":\"\",\"nbinsx\":2500,\"offsetgroup\":\"\",\"orientation\":\"v\",\"showlegend\":false,\"x\":[3481,3510,3748,3134,3843,4012,4503,4603,4599,3489,2660,2996,3082,2515,4440,4379,3409,3830,3762,4544,4310,3524,2693,3256,3684,4241,3617,4019,3925,3478,4915,4374,3766,3941,3937,2694,2846,3005,4528,3420,4229,4478,2786,3120,3866,4190,3894,3925,2980,3052,4499,3680,3901,4165,3663,4201,4870,3239,3538,2792,3802,2733,3721,4161,3058,3600,3209,3670,3234,3078,3460,4219,3895,3350,4463,5126,3771,2804,4489,3070,4420,3831,3889,3661,3957,3200,4111,4435,3794,3415,3296,3587,3567,3223,2886,3612,4442,3910,2579,4532,4814,3225,4892,3121,3753,4548,3715,4096,3715,3996,3199,3086,3985,3312,4537,3142,4433,3821,4307,3193,4330,3842,3341,2944,3547,2721,4975,3630,2889,3980,2531,2933,4501,3696,3197,4692,3184,4107,3979,3278,3633,3177,3469,4551,3141,3777,3792,2908,3457,3854,3122,3271,3924,3319,3836,3675,4650,2504,2885,3564,4653,4314,3389,3493,5012,4416,3252,4482,3652,3289,3219,3426,3614,3363,4541,3119,4106,3556,3825,4473,4117,4027,2767,4420,3919,3379,2796,3910,4183,3679,3285,3758,4856,3958,3574,4026,3052,4278,3297,4023,3991,3650,3765,2924,4315,3502,3174,4852,3932,3887,3800,4710,3915,3457,3536,4070,4036,3182,3091,3108,4000,4464,3526,3247,3748,2982,4369,3588,3006,2775,3740,3239,4160,3822,3427,3908,3960,4527,3503,4015,3771,2939,4805,3958,4019,4177,4180,3303,3063,3448,5054,4316,5024,4471,3179,4825,4478,2919,4354,3864,4013,3795,2959,3442,3562,2540,3575,3525,3636,4020,4052,3622,4316,2687,4077,4328,3356,2674,3796,4648,3842,4180,2885,3549,3540,4767,4198,3208,4129,4203,3903,4000,3371,3941,3849,2618,4057,4226,3595,4953,4739,4588,4007,4884,4204,2702,3315,4404,3532,3097,4210,3485,3585,3929,4056,3254,3390,3625,4589,3490,3987,4404,4890,4121,4174,3947,3303,3898,4497,4072,2663,3003,4344,3474,4673,4328,3105,2969,4809,3229,3389,3970,3380,4697,2946,4032,3145,4169,3079,3074,4076,4658,2902,3700,3889,3744,3759,4299,3322,3251,4075,3283,3347,3712,4222,3523,4226,3730,4001,4039,2528,4842,4923,4656,3111,2919,3732,3538,4242,3785,3075,3391,3601,3530,4499,3243,3114,3993,3987,3506,3322,3652,3560,3678,3775,3789,2674,2898,3716,4110,3831,4456,3619,4747,3095,4667,3721,3445,4632,3327,4332,3779,4894,3856,3635,3513,3563,3355,4866,4547,4748,3490,3549,3040,3050,5006,4419,3565,4195,3891,3850,3126,4774,4571,3044,3693,3579,3530,3092,4253,2969,2825,3809,4537,3168,4029,3393,3283,4439,4050,4518,3281,3175,2915,3542,3000,3004,3188,3669,2815,4072,4232,3410,3458,4304,4485,4440,4370,3712,3625,3915,3987,4387,4286,4178,3812,4327,3352,3780,4373,2789,4253,3739,4422,4607,3368,4123,3656,3583,3515,4381,3511,4146,3372,4590,3684,4966,3166,4161,3936,3686,3513,4431,4507,4357,3935,3909,3512,4382,4469,2927,2950,3120,4379,4085,3769,3962,3862,2823,3037,4184,3583,3208,3054,3180,3411,3881,3417,4023,3694,3196,4742,2779,4551,4056,3708,4019,4119,4636,4481,3844,3630,4074,3114,3270,3159,3164,4787,4782,3734,4020,3791,4732,4119,4910,4239,4000,3765,4210,4249,3678,3925,2755,3266,3690,3510,3549,4162,2701,4709,4300,2944,4013,4219,4088,4075,3825,4292,3427,3184,2858,3544,4065,4474,3365,5153,3624,3472,3782,4598,4078,3719,3035,4338,3885,4273,4574,4190,3547,4346,4053,4104,3317,3748,4371,3996,3406,4212,3464,3750,3838,4296,4578,2749,3574,4324,3535,4198,4163,4821,3579,3354,4346,3855,3701,3791,3435,4606,4543,4201,4015,4376,3669,4376,4190,4336,3933,3073,3672,3734,3303,4968,3910,4021,2943,3848,3462,3275,4474,3038,4045,3519,3023,4507,3526,4326,3680,4595,3883,4088,3611,4286,3777,3837,4165,4247,3640,3544,3538,4197,3931,4019,3793,4003,4404,3587,2867,4339,3747,4084,3864,3407,4217,4003,3648,3829,2918,4610,4299,3385,2583,2639,3562,4151,4776,3096,4153,4098,3420,3388,4410,3175,3352,4679,4210,4864,2983,3764,3039,4358,3442,3088,4337,3433,4466,3359,3079,4024,3328,3318,2946,4122,3874,4219,3212,3468,3401,4034,4087,3730,4298,4025,3843,3462,4510,4479,3585,3069,4136,3115,3633,3515,3629,3979,4494,4309,4205,4328,4333,4661,2662,3588,2877,4413,2603,3354,4135,3136,4520,4215,3692,3351,3044,2971,2658,3176,2844,4128,2675,4047,3738,4047,4587,4411,4213,3724,3998,3610,3570,3893,4198,3716,4232,4222,3903,4598,3046,3178,3140,4380,3522,3523,4467,3917,2913,3471,4269,3418,3514,3661,4568,3659,3473,3387,3074,4354,3679,2927,3561,2999,3237,4417,3074,3502,3521,4398,3191,3598,3111,4306,3310,4484,3926,3787,4927,4281,3194,2947,4834,3597,3094,4446,4755,4584,3503,3306,4472,4314,3324,4096,3842,5200,4246,4453,3162,3797,3821,4046,3648,3006,3816,3822,3402,3780,4418,3488,2880,4396,2535,3025,3172,3682,2953,2959,2835,4563,4681,3251,3966,3211,3183,3519,4322,4701,4803,2583,4679,3767,3758,4019,3689,4223,4335,3540,4628,3706,4659,5041,3254,3568,4554,3195,3546,3362,3330,4403,2619,4244,3596,4053,4400,3361,2702,3403,3179,4039,3625,4432,3455,4230,3890,4210,3459,3330,4284,4078,4413,4059,3244,3663,4325,4381,4299,4924,2871,4254,3641,2566,4694,4216,3689,3327,3098,2850,3223,4059,4361,4571,4245,3626,2912,3072,2970,5216,2966,3108,3968,3803,3533,3513,3572,3156,4021,4314,3901,3902,4755,4276,4148,4656,4131,2793,3371,3306,3248,3580,3508,3519,3724,2960,4085,4109,3488,3672,4118,2810,3917,3713,3998,3586,3914,4248,3883,3174,3132,4103,3486,4563,4142,3279,4847,4234,4008,4320,4904,4141,4048,3774,4329,2967,4351,3183,4632,2797,3293,3057,3559,3656,4518,3453,4247,4060,3294,4921,5099,4417,3286,4397,4050,4354,3248,3590,3285,2954,3961,4813,4142,2908,3335,3642,4507,3881,4340,2911,3766,3157,4392,3223,4130,3053,2666,4771,3092,3485,2694,3693,3539,3265,3137,3879,3818,3541,3808,3798,3738,3944,4218,4107,3681,2922,3165,4686,3422,3227,3364,3121,3938,4899,2941,4445,2633,4492,4001,3493,4846,4471,3336,4576,4698,3385,3039,3355,4054,3588,3536,3864,4414,2964,4408,3405,4213,3172,4453,3936,3446,3668,3375,4005,3556,4441,3233,4400,2797,3652,3194,3962,3418,2868,2920,4402,3894,4297,3247,4755,2940,3586,4407,4597,4748,3530,3931,4489,4792,3506,4758,2823,3350,4222,4267,4256,3829,3998,3663,2694,4097,4474,3853,3931,3441,4468,3569,4324,4215,3075,4886,4243,3271,3436,3893,3878,3538,3275,4528,3885,4300,3709,4299,3914,3540,3282,3979,3764,3167,3535,3616,4324,3659,3045,3811,4451,3015,2698,3533,3458,3118,3541,4139,4458,3789,2614,4051,4214,3715,3403,4179,4189,4586,3811,2541,3753,3542,3285,4187,3547,3786,3732,4076,4208,3918,3607,3345,4300,2982,3476,4286,3188,3537,4056,2999,4615,3710,4553,3439,4014,3503,3278,3903,4341,3850,2935,3656,4397,4256,3394,4028,3181,2843,3290,4859,3087,3114,3390,3443,4024,3708,3806,3938,2981,3922,4253,3634,4160,4268,3130,4199,3000,3316,3147,3525,3635,2915,3445,4907,3065,3833,4441,3813,4669,3652,4145,4082,3468,3601,3692,4494,3590,3774,4286,4921,2952,4565,4439,4259,3406,3867,3089,3714,3533,3887,3956,4293,2827,3464,4130,4446,3873,2706,4643,5083,3986,4409,3570,3572,3892,3479,4032,3255,4142,3658,4370,4422,4292,3460,3899,4771,3564,4298,4025,3834,4022,4260,3237,3078,4605,4295,3566,2939,3865,2536,2910,4366,3880,2677,3422,3839,4150,4040,4486,3682,3755,3988,3844,4453,4532,4095,2990,4297,3390,4427,4229,3840,4113,4235,3031,3157,3839,3630,2754,4377,2802,3651,3602,4160,4420,3962,3932,3815,3042,3368,3680,3913,3776,3395,2881,4867,3976,3560,4329,4032,3740,3356,3600,5012,3372,3664,4176,2832,3690,4744,3194,3394,3509,4188,4258,3329,4598,3662,3915,4144,3161,3207,3217,3131,3936,3341,3616,2779,4539,4425,3505,3160,3484,3904,4281,3456,3546,4286,3127,3341,3507,4259,4704,3767,4638,4328,3789,4146,2874,4082,3721,3189,3879,3903,3464,4102,3814,3792,3212,5097,4015,3964,4042,3988,4259,3999,4081,4485,3203,3758,2799,3459,3578,2969,3951,3469,2854,3643,3746,4578,3712,3810,2924,3263,4262,4669,3610,4947,3562,3072,3295,4721,2887,4105,4207,4540,3720,3076,4732,3081,3864,3434,4398,4321,3479,3074,3166,4505,3973,3286,3375,4211,2890,3998,3617,2848,3580,3303,3728,3223,3527,3987,2994,4470,4260,4717,4341,4100,3705,4523,3633,2950,3337,4717,3491,2903,4551,2756,4520,3884,3538,4314,2928,3045,3385,3965,4165,4341,4055,4163,4098,4412,3627,4082,3036,3599,3731,3411,5102,3724,3837,3494,4579,3241,3756,4659,3771,2567,3958,3074,3053,3406,3616,3761,3431,3676,3584,3782,4658,3357,4525,4455,3503,3386,3829,3422,3728,4182,3091,4782,2574,3202,4525,4492,3495,4342,3505,3527,3376,4980,4713,3758,3630,4528,4618,3259,3811,3269,3420,3191,3413,3605,4134,4876,3255,3031,4118,3093,2809,3071,4026,3482,3096,3511,4058,3659,3860,2634,2597,3284,3091,4766,3745,4452,4828,4059,3234,4199,4259,4442,4262,3340,3708,3317,3108,3448,3554,3488,3635,3511,3231,2861,2989,3335,3948,3628,3601,3490,4746,3430,3609,2706,3510,4227,3672,3853,4020,3965,3855,4294,3813,3507,3555,5083,3833,3950,4055,3216,4373,3227,3031,3458,3610,4882,4695,3207,4009,4619,4052,3135,4488,3754,3993,3669,3857,3283,4808,3595,3878,3284,4472,3526,3812,4107,4198,2794,3549,3823,4330,4328,3358,3803,3722,3078,3489,4092,3616,4059,3798,4109,3726,3324,3728,3553,4083,3607,4086,4086,2929,4495,3937,3527,2757,3854,3362,3157,3663,2811,4040,3820,4038,4434,3497,2694,3879,5002,4138,3494,4235,4352,4082,3494,4365,3379,3477,4867,4321,4599,4121,4789,3467,3863,3707,3335,4307,3760,3332,3430,3229,4261,4812,2981,4311,4104,4133,3775,3377,2881,2849,2804,3612,3364,3049,3418,4653,4501,3241,3649,3725,3952,3897,3376,3815,3929,4771,3479,3378,3779,4309,3572,3782,3318,3946,3478,3465,3196,4995,3467,4279,3655,3441,3858,3338,3900,4328,4296,4089,4230,3335,3682,4351,4309,4315,3597,4482,3231,3551,3976,2611,3662,3827,3494,4115,4770,3472,4615,3068,3436,4261,4089,4140,3075,3717,4069,3493,4285,3059,4444,3090,3607,3993,3346,3937,3941,3363,4793,3203,4419,3332,3292,4885,3592,3701,4070,3832,3650,3830,3379,2685,4651,2897,4034,3143,3888,4346,4363,2787,3938,3467,3723,3766,4048,2729,4044,3449,4088,3608,2705,3748,4202,4020,3124,3439,4689,2950,3848,3824,2830,3801,3586,3123,3854,3266,3541,3847,3191,3654,4197,3672,3630,3695,3814,4376,4262,3552,3086,2868,4780,4153,3152,3218,3279,3448,4338,2946,3715,2944,3489,3617,4518,3467,4419,2827,4381,4521,2775,4003,3375,4688,4039,3685,3246,3787,3938,3744,4600,3371,4475,3079,3974,4208,2730,3682,4133,3618,3100,3780,4452,3366,3458,3652,4418,4029,3482,3097,4933,3178,3980,3692,3009,4203,4429,4006,3075,3738,4762,3554,3641,4038,3451,2921,3642,4497,4188,3490,3158,3698,3859,4250,4344,3480,3030,3230,3342,3998,4245,3567,4424,4419,2655,3058,3963,3796,3724,3614,2884,4059,3907,3668,4124,3438,3230,2985,4702,4087,3463,3656,4090,3968,4766,2915,4069,2958,4534,3281,3645,3737,3704,3509,3948,4436,5158,3831,4069,4338,4254,4031,3643,4034,4504,4346,2745,3263,3679,4054,3887,3415,4590,3481,3784,4147,3773,3222,4823,3854,3931,3979,2796,3618,4216,4409,3745,4410,3302,4103,3824,4163,3261,3494,3459,4342,3627,5175,4821,3896,4250,4373,4887,4725,3761,3460,2696,4822,2773,3354,2991,3488,3966,3785,3274,3153,3391,3312,3744,3927,3634,4647,4243,2668,4371,3385,4300,3171,4301,3185,3432,3321,3600,4329,3875,2900,3975,3514,4222,4602,3183,4441,4345,2882,4142,2776,3688,3744,3041,3269,4012,3356,4345,3909,3135,4070,3092,3968,4202,3872,3356,3073,2989,3240,3621,4638,3738,3267,3031,4039,3322,4710,3302,3144,4540,3627,4462,4746,4184,2915,4518,4467,3055,4223,4918,5035,4214,4821,4003,4576,3591,3297,5122,4016,3100,3959,4153,3574,4522,3967,3328,4194,2923,3886,4283,3143,3313,3080,3169,4428,3473,4039,3747,2798,3365,3341,4403,2754,4370,4360,4668,4441,3720,4794,2932,4827,3002,3709,3394,3880,4451,2760,3886,4525,4617,4149,4441,4448,3956,3974,4410,3723,2707,3043,3869,3923,3178,4202,3889,4003,4125,3133,3174,3225,3919,4018,4583,4149,4012,3862,3896,4393,3691,3626,4636,3928,3793,3913,3939,5005,3968,3402,2948,3572,3694,4336,4590,4191,4526,4492,3144,3974,3663,3323,4059,2799,4362,3408,3997,3583,4016,2915,4183,3833,3403,4885,3239,4488,4535,4071,4228,3013,3509,4378,2850,2924,3300,4474,4148,3750,3083,4104,3487,4012,4774,3700,4700,4899,4420,4197,4120,3754,4112,3414,3311,4271,3464,3926,4029,4390,3680,3912,3465,4069,4429,3011,3554,4536,3110,3699,3751,5107,4165,3052,4702,4258,3737,3099,3043,3710,3713,3837,3911,3060,3950,3697,3067,3864,3722,4106,3277,4098,4442,3793,3335,3478,4811,2883,4049,4207,3981,3009,4437,2955,4401,3475,2928,3931,4721,3174,2860,4610,4144,3795,3664,4303,3503,2791,3464,3245,3611,3054,3404,4024,3355,2755,4554,2979,4651,3465,4037,2784,2743,3340,3698,3003,3136,3642,3162,4639,3365,4112,4704,3107,4785,4781,3863,3992,2997,4141,3461,3284,3402,4465,3415,3992,4187,4580,3006,3539,4332,4214,2760,3326,4715,4633,3815,3695,3486,3796,3784,4353,2678,3460,4494,4060,5059,3819,4780,4172,3980,2839,3190,4263,3860,2765,4948,3748,3412,4427,3814,3441,4792,4265,2826,3571,3825,3984,2834,4025,4303,3942,3661,3852,3802,4007,4184,4242,5166,3289,4329,3668,4627,3700,4249,4114,3461,4044,3791,3562,3200,4517,3908,3897,3932,3502,3026,4749,3635,3615,4349,4729,3630,4061,2797,4306,3297,3299,4044,3653,3029,3520,3964,3250,3858,3900,4729,2749,3331,3025,4038,4014,5090,3373,4465,3661,4977,3433,4279,3804,3421,4007,3230,3697,4477,3830,3202,4328,3516,3243,3491,3910,4592,4280,3875,4471,3384,4848,3927,3281,4712,3108,4031,2948,4066,2820,3100,4008,3118,4505,3731,4040,3258,3020,3588,4200,3639,3998,4067,3033,3076,3943,3282,4536,4173,2538,4183,4443,3714,4682,3661,4357,4884,3716,4315,4209,4127,4405,2997,4972,3401,4609,2958,3670,2940,3163,4484,3315,3344,4174,3445,4868,3517,3488,3010,4413,3890,4768,4763,3965,4076,3440,3395,4208,3529,4237,3682,3432,2980,3134,3579,4046,2788,3837,3672,3771,3912,3265,3184,3179,3647,3196,3657,3878,3489,3424,4739,4516,3266,3457,2906,3727,2836,3965,2763,4241,2885,3354,3106,3674,4274,5050,3729,4268,3366,3225,2798,3944,3354,3176,3477,4716,4463,3852,3316,4361,4220,3687,3625,3793,3915,3810,2809,3084,3646,3939,4007,4447,3152,3808,3987,4022,3182,4509,3308,3444,3889,3083,3480,3575,3239,3870,3594,3637,3305,3512,3720,4093,4087,3365,3996,4870,3673,3866,3857,3817,4084,3866,3285,3647,3350,2793,4042,3690,3645,4610,4152,2870,3746,3921,4407,4738,3226,4207,4030,2998,4817,3752,2941,4069,3697,3840,4540,4311,2962,3860,2977,3172,4282,3979,3284,3201,4294,3473,3044,3204,2944,3658,3878,3463,4303,4945,3018,4556,4820,3725,3746,3304,3752,2828,4540,2859,3975,3066,4426,3121,3564,4646,3955,3374,3653,3442,3792,4295,4334,4653,3219,3997,2535,3160,3356,4150,4304,3530,3774,3817,3090,3399,4972,4239,3861,5150,3749,3264,3582,4359,3772,3333,4582,3227,3303,4286,3190,3010,4977,3722,3440,3095,4601,2844,3936,3389,4090,3737,3985,3813,3040,4301,3302,4214,3651,3588,4131,2855,3772,2853,3290,3230,4772,3298,3291,3646,4744,4047,2920,3198,3106,5051,4601,4722,3132,4213,3610,4102,3099,3917,4849,3408,3567,3979,3432,2856,2836,4095,3416,4469,4214,3943,3863,2969,4948,2774,3845,3041,3737,3827,3527,4866,5021,4221,3090,4252,4223,4826,3927,4742,3567,4813,3821,3124,4184,4098,3435,4940,3454,4069,4781,2754,2752,4080,3681,3905,3335,3191,3420,4334,4056,3235,3871,4780,3565,3869,3944,4502,4193,4052,3165,3979,4879,3647,4043,5057,3816,3451,3994,3959,3404,3313,2691,3335,3971,4973,3252,3351,3703,2850,4009,4300,3151,3514,3602,3511,4188,4367,4342,4557,4107,3478,4586,3274,3918,3997,3102,4066,3536,2614,4278,4065,4676,3910,4005,4173,4822,3327,4239,3454,3671,3924,3534,4180,4872,2995,5051,3793,3323,3156,3377,4056,3258,3208,4023,3246,3458,4612,3055,4425,3603,4041,3340,3647,3225,3997,3413,3404,4868,3283,3579,3012,4290,2959,5163,3228,3772,4051,3285,3299,3151,4547,3395,4694,4513,4056,4710,4035,3597,3481,4130,2822,3380,4524,3830,4197,4495,3290,4375,3687,3778,3119,2800,4266,4361,3326,3618,3374,3694,3282,4836,3461,4318,3718,3858,3919,4442,4153,4740,3934,3752,4845,2791,4111,3786,3409,4038,3728,2961,3299,2849,3495,3466,3220,3470,4246,3753,3607,4198,4105],\"xaxis\":\"x\",\"yaxis\":\"y\",\"type\":\"histogram\"}],                        {\"template\":{\"data\":{\"bar\":[{\"error_x\":{\"color\":\"#2a3f5f\"},\"error_y\":{\"color\":\"#2a3f5f\"},\"marker\":{\"line\":{\"color\":\"#E5ECF6\",\"width\":0.5},\"pattern\":{\"fillmode\":\"overlay\",\"size\":10,\"solidity\":0.2}},\"type\":\"bar\"}],\"barpolar\":[{\"marker\":{\"line\":{\"color\":\"#E5ECF6\",\"width\":0.5},\"pattern\":{\"fillmode\":\"overlay\",\"size\":10,\"solidity\":0.2}},\"type\":\"barpolar\"}],\"carpet\":[{\"aaxis\":{\"endlinecolor\":\"#2a3f5f\",\"gridcolor\":\"white\",\"linecolor\":\"white\",\"minorgridcolor\":\"white\",\"startlinecolor\":\"#2a3f5f\"},\"baxis\":{\"endlinecolor\":\"#2a3f5f\",\"gridcolor\":\"white\",\"linecolor\":\"white\",\"minorgridcolor\":\"white\",\"startlinecolor\":\"#2a3f5f\"},\"type\":\"carpet\"}],\"choropleth\":[{\"colorbar\":{\"outlinewidth\":0,\"ticks\":\"\"},\"type\":\"choropleth\"}],\"contour\":[{\"colorbar\":{\"outlinewidth\":0,\"ticks\":\"\"},\"colorscale\":[[0.0,\"#0d0887\"],[0.1111111111111111,\"#46039f\"],[0.2222222222222222,\"#7201a8\"],[0.3333333333333333,\"#9c179e\"],[0.4444444444444444,\"#bd3786\"],[0.5555555555555556,\"#d8576b\"],[0.6666666666666666,\"#ed7953\"],[0.7777777777777778,\"#fb9f3a\"],[0.8888888888888888,\"#fdca26\"],[1.0,\"#f0f921\"]],\"type\":\"contour\"}],\"contourcarpet\":[{\"colorbar\":{\"outlinewidth\":0,\"ticks\":\"\"},\"type\":\"contourcarpet\"}],\"heatmap\":[{\"colorbar\":{\"outlinewidth\":0,\"ticks\":\"\"},\"colorscale\":[[0.0,\"#0d0887\"],[0.1111111111111111,\"#46039f\"],[0.2222222222222222,\"#7201a8\"],[0.3333333333333333,\"#9c179e\"],[0.4444444444444444,\"#bd3786\"],[0.5555555555555556,\"#d8576b\"],[0.6666666666666666,\"#ed7953\"],[0.7777777777777778,\"#fb9f3a\"],[0.8888888888888888,\"#fdca26\"],[1.0,\"#f0f921\"]],\"type\":\"heatmap\"}],\"heatmapgl\":[{\"colorbar\":{\"outlinewidth\":0,\"ticks\":\"\"},\"colorscale\":[[0.0,\"#0d0887\"],[0.1111111111111111,\"#46039f\"],[0.2222222222222222,\"#7201a8\"],[0.3333333333333333,\"#9c179e\"],[0.4444444444444444,\"#bd3786\"],[0.5555555555555556,\"#d8576b\"],[0.6666666666666666,\"#ed7953\"],[0.7777777777777778,\"#fb9f3a\"],[0.8888888888888888,\"#fdca26\"],[1.0,\"#f0f921\"]],\"type\":\"heatmapgl\"}],\"histogram\":[{\"marker\":{\"pattern\":{\"fillmode\":\"overlay\",\"size\":10,\"solidity\":0.2}},\"type\":\"histogram\"}],\"histogram2d\":[{\"colorbar\":{\"outlinewidth\":0,\"ticks\":\"\"},\"colorscale\":[[0.0,\"#0d0887\"],[0.1111111111111111,\"#46039f\"],[0.2222222222222222,\"#7201a8\"],[0.3333333333333333,\"#9c179e\"],[0.4444444444444444,\"#bd3786\"],[0.5555555555555556,\"#d8576b\"],[0.6666666666666666,\"#ed7953\"],[0.7777777777777778,\"#fb9f3a\"],[0.8888888888888888,\"#fdca26\"],[1.0,\"#f0f921\"]],\"type\":\"histogram2d\"}],\"histogram2dcontour\":[{\"colorbar\":{\"outlinewidth\":0,\"ticks\":\"\"},\"colorscale\":[[0.0,\"#0d0887\"],[0.1111111111111111,\"#46039f\"],[0.2222222222222222,\"#7201a8\"],[0.3333333333333333,\"#9c179e\"],[0.4444444444444444,\"#bd3786\"],[0.5555555555555556,\"#d8576b\"],[0.6666666666666666,\"#ed7953\"],[0.7777777777777778,\"#fb9f3a\"],[0.8888888888888888,\"#fdca26\"],[1.0,\"#f0f921\"]],\"type\":\"histogram2dcontour\"}],\"mesh3d\":[{\"colorbar\":{\"outlinewidth\":0,\"ticks\":\"\"},\"type\":\"mesh3d\"}],\"parcoords\":[{\"line\":{\"colorbar\":{\"outlinewidth\":0,\"ticks\":\"\"}},\"type\":\"parcoords\"}],\"pie\":[{\"automargin\":true,\"type\":\"pie\"}],\"scatter\":[{\"marker\":{\"colorbar\":{\"outlinewidth\":0,\"ticks\":\"\"}},\"type\":\"scatter\"}],\"scatter3d\":[{\"line\":{\"colorbar\":{\"outlinewidth\":0,\"ticks\":\"\"}},\"marker\":{\"colorbar\":{\"outlinewidth\":0,\"ticks\":\"\"}},\"type\":\"scatter3d\"}],\"scattercarpet\":[{\"marker\":{\"colorbar\":{\"outlinewidth\":0,\"ticks\":\"\"}},\"type\":\"scattercarpet\"}],\"scattergeo\":[{\"marker\":{\"colorbar\":{\"outlinewidth\":0,\"ticks\":\"\"}},\"type\":\"scattergeo\"}],\"scattergl\":[{\"marker\":{\"colorbar\":{\"outlinewidth\":0,\"ticks\":\"\"}},\"type\":\"scattergl\"}],\"scattermapbox\":[{\"marker\":{\"colorbar\":{\"outlinewidth\":0,\"ticks\":\"\"}},\"type\":\"scattermapbox\"}],\"scatterpolar\":[{\"marker\":{\"colorbar\":{\"outlinewidth\":0,\"ticks\":\"\"}},\"type\":\"scatterpolar\"}],\"scatterpolargl\":[{\"marker\":{\"colorbar\":{\"outlinewidth\":0,\"ticks\":\"\"}},\"type\":\"scatterpolargl\"}],\"scatterternary\":[{\"marker\":{\"colorbar\":{\"outlinewidth\":0,\"ticks\":\"\"}},\"type\":\"scatterternary\"}],\"surface\":[{\"colorbar\":{\"outlinewidth\":0,\"ticks\":\"\"},\"colorscale\":[[0.0,\"#0d0887\"],[0.1111111111111111,\"#46039f\"],[0.2222222222222222,\"#7201a8\"],[0.3333333333333333,\"#9c179e\"],[0.4444444444444444,\"#bd3786\"],[0.5555555555555556,\"#d8576b\"],[0.6666666666666666,\"#ed7953\"],[0.7777777777777778,\"#fb9f3a\"],[0.8888888888888888,\"#fdca26\"],[1.0,\"#f0f921\"]],\"type\":\"surface\"}],\"table\":[{\"cells\":{\"fill\":{\"color\":\"#EBF0F8\"},\"line\":{\"color\":\"white\"}},\"header\":{\"fill\":{\"color\":\"#C8D4E3\"},\"line\":{\"color\":\"white\"}},\"type\":\"table\"}]},\"layout\":{\"annotationdefaults\":{\"arrowcolor\":\"#2a3f5f\",\"arrowhead\":0,\"arrowwidth\":1},\"autotypenumbers\":\"strict\",\"coloraxis\":{\"colorbar\":{\"outlinewidth\":0,\"ticks\":\"\"}},\"colorscale\":{\"diverging\":[[0,\"#8e0152\"],[0.1,\"#c51b7d\"],[0.2,\"#de77ae\"],[0.3,\"#f1b6da\"],[0.4,\"#fde0ef\"],[0.5,\"#f7f7f7\"],[0.6,\"#e6f5d0\"],[0.7,\"#b8e186\"],[0.8,\"#7fbc41\"],[0.9,\"#4d9221\"],[1,\"#276419\"]],\"sequential\":[[0.0,\"#0d0887\"],[0.1111111111111111,\"#46039f\"],[0.2222222222222222,\"#7201a8\"],[0.3333333333333333,\"#9c179e\"],[0.4444444444444444,\"#bd3786\"],[0.5555555555555556,\"#d8576b\"],[0.6666666666666666,\"#ed7953\"],[0.7777777777777778,\"#fb9f3a\"],[0.8888888888888888,\"#fdca26\"],[1.0,\"#f0f921\"]],\"sequentialminus\":[[0.0,\"#0d0887\"],[0.1111111111111111,\"#46039f\"],[0.2222222222222222,\"#7201a8\"],[0.3333333333333333,\"#9c179e\"],[0.4444444444444444,\"#bd3786\"],[0.5555555555555556,\"#d8576b\"],[0.6666666666666666,\"#ed7953\"],[0.7777777777777778,\"#fb9f3a\"],[0.8888888888888888,\"#fdca26\"],[1.0,\"#f0f921\"]]},\"colorway\":[\"#636efa\",\"#EF553B\",\"#00cc96\",\"#ab63fa\",\"#FFA15A\",\"#19d3f3\",\"#FF6692\",\"#B6E880\",\"#FF97FF\",\"#FECB52\"],\"font\":{\"color\":\"#2a3f5f\"},\"geo\":{\"bgcolor\":\"white\",\"lakecolor\":\"white\",\"landcolor\":\"#E5ECF6\",\"showlakes\":true,\"showland\":true,\"subunitcolor\":\"white\"},\"hoverlabel\":{\"align\":\"left\"},\"hovermode\":\"closest\",\"mapbox\":{\"style\":\"light\"},\"paper_bgcolor\":\"white\",\"plot_bgcolor\":\"#E5ECF6\",\"polar\":{\"angularaxis\":{\"gridcolor\":\"white\",\"linecolor\":\"white\",\"ticks\":\"\"},\"bgcolor\":\"#E5ECF6\",\"radialaxis\":{\"gridcolor\":\"white\",\"linecolor\":\"white\",\"ticks\":\"\"}},\"scene\":{\"xaxis\":{\"backgroundcolor\":\"#E5ECF6\",\"gridcolor\":\"white\",\"gridwidth\":2,\"linecolor\":\"white\",\"showbackground\":true,\"ticks\":\"\",\"zerolinecolor\":\"white\"},\"yaxis\":{\"backgroundcolor\":\"#E5ECF6\",\"gridcolor\":\"white\",\"gridwidth\":2,\"linecolor\":\"white\",\"showbackground\":true,\"ticks\":\"\",\"zerolinecolor\":\"white\"},\"zaxis\":{\"backgroundcolor\":\"#E5ECF6\",\"gridcolor\":\"white\",\"gridwidth\":2,\"linecolor\":\"white\",\"showbackground\":true,\"ticks\":\"\",\"zerolinecolor\":\"white\"}},\"shapedefaults\":{\"line\":{\"color\":\"#2a3f5f\"}},\"ternary\":{\"aaxis\":{\"gridcolor\":\"white\",\"linecolor\":\"white\",\"ticks\":\"\"},\"baxis\":{\"gridcolor\":\"white\",\"linecolor\":\"white\",\"ticks\":\"\"},\"bgcolor\":\"#E5ECF6\",\"caxis\":{\"gridcolor\":\"white\",\"linecolor\":\"white\",\"ticks\":\"\"}},\"title\":{\"x\":0.05},\"xaxis\":{\"automargin\":true,\"gridcolor\":\"white\",\"linecolor\":\"white\",\"ticks\":\"\",\"title\":{\"standoff\":15},\"zerolinecolor\":\"white\",\"zerolinewidth\":2},\"yaxis\":{\"automargin\":true,\"gridcolor\":\"white\",\"linecolor\":\"white\",\"ticks\":\"\",\"title\":{\"standoff\":15},\"zerolinecolor\":\"white\",\"zerolinewidth\":2}}},\"xaxis\":{\"anchor\":\"y\",\"domain\":[0.0,1.0],\"title\":{\"text\":\"Expected price\"}},\"yaxis\":{\"anchor\":\"x\",\"domain\":[0.0,1.0],\"title\":{\"text\":\"count\"}},\"legend\":{\"tracegroupgap\":0},\"margin\":{\"t\":60},\"barmode\":\"relative\"},                        {\"responsive\": true}                    ).then(function(){\n",
              "                            \n",
              "var gd = document.getElementById('71494f59-45ed-49b5-9d17-5ab1cb1972de');\n",
              "var x = new MutationObserver(function (mutations, observer) {{\n",
              "        var display = window.getComputedStyle(gd).display;\n",
              "        if (!display || display === 'none') {{\n",
              "            console.log([gd, 'removed!']);\n",
              "            Plotly.purge(gd);\n",
              "            observer.disconnect();\n",
              "        }}\n",
              "}});\n",
              "\n",
              "// Listen for the removal of the full notebook cells\n",
              "var notebookContainer = gd.closest('#notebook-container');\n",
              "if (notebookContainer) {{\n",
              "    x.observe(notebookContainer, {childList: true});\n",
              "}}\n",
              "\n",
              "// Listen for the clearing of the current output cell\n",
              "var outputEl = gd.closest('.output');\n",
              "if (outputEl) {{\n",
              "    x.observe(outputEl, {childList: true});\n",
              "}}\n",
              "\n",
              "                        })                };                            </script>        </div>\n",
              "</body>\n",
              "</html>"
            ]
          },
          "metadata": {}
        }
      ]
    },
    {
      "cell_type": "markdown",
      "source": [
        "# **Expected price of houses are high i range of 3000-4500**"
      ],
      "metadata": {
        "id": "iNQW0-x_TAtc"
      }
    },
    {
      "cell_type": "code",
      "source": [
        "import plotly.express as px\n",
        "df = px.data.tips()                        \n",
        "fig = px.box(HouseGrade_data, x=\"Nbedrooms\", y=\"Grade\")\n",
        "fig.show()"
      ],
      "metadata": {
        "colab": {
          "base_uri": "https://localhost:8080/",
          "height": 542
        },
        "id": "Lx3-SDN7EFPE",
        "outputId": "c3936d4b-7b18-453e-bfff-9f2a8022fb7e"
      },
      "execution_count": 12,
      "outputs": [
        {
          "output_type": "display_data",
          "data": {
            "text/html": [
              "<html>\n",
              "<head><meta charset=\"utf-8\" /></head>\n",
              "<body>\n",
              "    <div>            <script src=\"https://cdnjs.cloudflare.com/ajax/libs/mathjax/2.7.5/MathJax.js?config=TeX-AMS-MML_SVG\"></script><script type=\"text/javascript\">if (window.MathJax) {MathJax.Hub.Config({SVG: {font: \"STIX-Web\"}});}</script>                <script type=\"text/javascript\">window.PlotlyConfig = {MathJaxConfig: 'local'};</script>\n",
              "        <script src=\"https://cdn.plot.ly/plotly-2.8.3.min.js\"></script>                <div id=\"552b117e-fb1c-41e8-bec9-f3482b9aab94\" class=\"plotly-graph-div\" style=\"height:525px; width:100%;\"></div>            <script type=\"text/javascript\">                                    window.PLOTLYENV=window.PLOTLYENV || {};                                    if (document.getElementById(\"552b117e-fb1c-41e8-bec9-f3482b9aab94\")) {                    Plotly.newPlot(                        \"552b117e-fb1c-41e8-bec9-f3482b9aab94\",                        [{\"alignmentgroup\":\"True\",\"hovertemplate\":\"Nbedrooms=%{x}<br>Grade=%{y}<extra></extra>\",\"legendgroup\":\"\",\"marker\":{\"color\":\"#636efa\"},\"name\":\"\",\"notched\":false,\"offsetgroup\":\"\",\"orientation\":\"h\",\"showlegend\":false,\"x\":[5,4,5,4,4,7,8,8,6,5,3,4,5,3,6,7,6,3,4,8,7,6,4,3,5,5,4,7,6,2,8,6,6,6,7,3,3,2,5,2,8,6,4,4,3,8,4,5,5,3,7,5,4,7,4,7,7,5,3,3,4,3,5,5,2,4,4,4,4,4,3,6,6,4,8,6,6,3,8,5,8,5,6,6,6,3,5,4,5,5,5,6,4,3,3,4,8,7,4,5,7,2,7,3,4,5,4,4,3,6,3,4,3,4,7,3,5,6,6,3,5,5,5,4,2,4,8,7,4,6,2,2,5,4,5,8,5,6,4,2,5,5,3,8,3,5,8,2,4,6,4,4,6,4,5,6,7,3,3,4,6,6,5,3,8,6,5,7,3,4,4,3,6,4,8,3,5,7,4,8,3,5,4,7,6,4,2,3,7,6,2,7,8,5,4,4,2,7,4,7,3,5,5,3,6,5,5,7,7,6,4,7,4,3,7,7,4,2,2,5,4,5,6,3,4,4,6,4,3,4,4,3,6,7,4,4,7,8,4,7,5,3,8,6,6,7,5,5,4,3,6,6,6,8,4,7,7,4,8,5,6,4,3,6,3,3,5,2,2,4,6,4,8,2,8,6,4,3,5,7,5,5,4,4,4,6,6,4,5,5,4,5,5,6,5,4,6,7,3,6,7,8,4,8,7,3,6,7,5,5,5,7,3,5,5,3,3,6,7,4,4,6,6,6,6,5,4,4,7,6,4,4,8,2,5,5,5,2,7,2,4,3,4,7,5,6,3,6,4,3,4,8,5,4,5,3,5,7,5,3,6,3,3,3,8,3,5,5,4,4,4,6,6,6,4,2,3,4,7,5,3,5,7,3,5,4,3,5,5,3,3,6,6,6,5,6,4,2,5,7,4,7,3,5,4,6,4,6,6,3,7,7,6,3,4,5,5,2,8,6,8,5,4,2,3,6,7,6,6,5,6,4,8,8,4,4,5,6,5,7,4,4,7,5,4,5,5,3,5,5,6,6,4,4,6,4,5,2,4,4,6,6,5,4,8,8,6,7,6,4,6,5,4,8,5,5,7,5,8,8,4,7,5,6,7,4,5,5,3,5,7,4,7,3,7,6,8,6,6,5,4,6,7,7,6,6,6,5,7,8,4,3,5,6,6,6,7,7,2,3,6,2,5,3,2,5,5,3,5,5,4,8,4,6,4,5,8,4,6,6,5,4,3,5,3,3,4,8,8,3,8,5,7,5,8,7,4,6,8,6,6,4,3,4,6,4,6,5,2,5,6,4,5,7,7,4,5,7,4,3,4,4,7,6,5,8,5,5,5,7,5,5,3,5,5,5,8,6,3,6,7,6,2,3,6,7,4,6,4,3,6,7,8,4,6,5,4,7,6,8,2,4,7,4,4,5,6,7,7,6,4,6,2,5,5,7,4,2,6,5,2,7,7,5,3,5,4,2,6,4,7,3,3,7,6,6,3,6,5,5,6,6,5,4,5,7,5,4,3,7,7,6,7,5,4,4,4,6,5,6,6,4,6,6,5,6,3,7,6,4,2,3,3,5,6,5,6,7,4,2,7,3,3,8,6,6,4,5,3,6,5,5,5,4,8,4,3,6,2,5,2,6,6,7,4,4,2,4,8,3,6,6,5,4,7,6,7,6,6,2,5,5,3,5,6,7,8,6,7,8,4,3,5,7,2,5,6,3,7,6,5,4,3,4,3,5,4,6,2,7,6,8,6,6,6,3,6,4,5,6,7,3,6,6,5,7,4,4,2,8,3,4,8,5,4,4,5,4,4,6,7,6,5,5,3,7,4,3,5,3,6,6,3,5,7,7,3,4,2,7,5,7,7,3,8,7,2,2,8,5,3,7,6,8,3,4,8,7,5,8,7,7,6,8,2,7,5,6,3,2,7,5,4,3,7,4,4,4,3,4,3,4,5,2,2,8,8,4,4,2,5,4,6,6,6,3,5,7,5,6,7,6,6,5,8,4,5,8,4,5,6,4,5,5,4,6,2,7,6,7,7,5,4,3,4,5,4,6,3,7,7,7,6,2,6,5,6,5,3,4,6,5,5,8,3,7,4,3,7,7,6,6,2,3,4,6,7,7,6,6,3,5,5,7,4,4,4,4,4,3,6,5,4,6,4,4,7,5,6,6,6,2,3,3,3,6,3,2,4,2,4,7,5,5,7,4,5,3,5,5,6,6,4,3,4,7,6,7,6,3,7,6,5,7,7,6,6,5,6,4,7,6,7,3,4,5,5,4,6,6,7,4,5,8,8,7,4,7,5,7,4,7,4,5,5,6,4,2,3,2,6,6,5,4,4,3,8,4,8,5,3,8,5,5,3,3,5,3,6,6,3,5,4,7,4,4,6,7,5,5,4,5,3,4,4,2,5,6,2,6,2,6,6,3,7,7,5,8,5,3,5,4,7,4,4,4,7,2,7,4,7,4,8,4,2,3,3,5,5,5,3,8,2,5,4,6,3,3,4,7,4,7,2,7,2,6,8,5,7,3,6,6,8,4,7,2,3,6,5,8,7,4,6,3,8,7,7,7,2,6,5,6,5,2,8,8,4,4,4,6,5,2,5,4,6,5,7,4,3,3,5,3,3,7,3,7,5,3,5,7,4,2,4,4,3,4,5,4,8,3,6,5,4,6,5,7,5,6,4,6,6,4,5,5,4,6,5,5,4,3,4,7,4,4,6,3,6,3,2,8,4,6,7,4,4,2,6,8,8,3,5,6,5,4,6,5,4,4,8,5,5,5,4,5,6,5,7,4,3,8,4,7,6,5,7,5,3,4,4,5,3,7,7,3,4,6,8,6,3,4,8,3,6,5,6,3,4,6,8,4,6,4,6,4,8,3,6,4,5,6,6,3,4,6,6,6,3,7,7,5,7,5,5,7,5,6,4,5,6,8,6,5,3,6,6,5,5,5,7,3,6,3,3,5,6,2,3,4,3,2,6,3,4,2,4,6,6,7,6,5,3,5,7,7,5,3,7,3,6,7,5,7,4,4,5,6,5,3,6,2,4,4,7,8,4,4,8,4,5,4,4,5,6,4,8,5,5,7,3,5,4,6,7,3,4,6,4,5,8,2,3,3,7,8,5,5,5,6,5,4,5,4,4,5,4,5,4,8,6,6,6,4,4,8,6,5,6,3,4,6,7,6,3,6,7,5,7,3,5,5,4,6,5,3,6,4,7,4,6,3,5,7,7,4,6,6,8,5,5,4,5,4,2,6,4,4,4,3,5,4,6,4,3,7,5,2,8,6,4,5,6,4,6,6,7,4,4,7,3,4,2,7,6,4,3,3,6,7,5,5,6,3,5,5,4,5,3,5,6,4,6,4,7,8,6,6,6,3,6,5,4,4,6,2,2,7,3,6,5,4,6,2,2,5,7,4,7,7,6,6,7,4,8,2,5,4,4,7,3,6,2,6,4,5,6,4,2,5,5,3,6,6,6,4,4,4,6,7,3,7,6,5,4,7,5,4,8,4,6,4,3,7,4,4,8,7,5,4,7,8,4,5,8,7,4,7,5,4,3,4,4,6,6,4,4,5,3,3,2,8,4,5,4,6,3,5,2,3,5,3,7,4,8,8,8,6,8,6,6,6,3,8,5,4,3,7,3,4,5,2,3,3,3,6,5,5,3,7,2,4,3,5,8,5,5,5,8,5,7,6,3,4,8,6,5,7,4,6,5,5,4,4,6,8,3,5,5,6,4,6,5,6,5,3,4,7,5,5,4,8,4,4,5,7,3,5,6,7,7,7,5,2,3,6,5,5,6,8,7,5,3,4,5,8,4,5,6,3,6,6,3,3,5,4,3,5,4,5,7,5,6,4,2,3,7,6,7,6,6,5,5,6,3,2,7,7,7,5,5,5,6,3,4,7,5,5,5,6,6,6,2,6,7,7,6,2,3,2,4,3,5,2,4,7,8,5,4,7,8,7,4,3,5,8,7,4,4,7,4,4,4,6,3,3,4,6,5,6,4,2,5,4,5,5,7,3,7,4,4,5,6,6,3,7,4,5,6,4,4,6,2,6,5,5,7,3,4,6,4,5,2,5,4,3,4,2,8,3,4,6,3,4,5,3,8,3,7,4,4,7,2,6,5,4,2,4,6,4,6,3,7,5,7,4,7,3,4,4,5,5,7,3,4,5,5,4,4,6,6,5,3,4,7,3,6,3,2,5,6,4,8,4,2,5,3,5,7,5,5,4,5,4,7,6,3,3,6,8,4,4,4,4,8,2,6,3,3,4,8,2,7,4,8,8,3,5,4,8,8,4,3,3,5,5,5,4,5,4,4,6,4,4,7,5,4,7,8,3,5,4,5,7,6,3,7,4,6,4,3,7,6,7,3,3,8,3,5,6,4,5,2,5,6,3,4,4,4,5,6,3,3,2,4,6,5,4,7,5,2,4,4,6,5,5,2,5,4,6,5,5,4,3,5,5,6,4,6,7,7,5,7,4,8,4,4,3,3,7,4,6,6,4,5,5,8,8,5,5,6,5,4,5,7,5,5,5,5,3,4,8,5,4,7,4,6,7,3,5,7,7,5,6,4,6,6,6,5,2,2,6,5,8,6,6,5,6,7,7,4,2,3,7,3,5,2,3,4,7,3,4,2,2,5,7,4,7,6,2,7,5,7,3,4,5,3,5,4,8,5,4,4,4,7,7,3,7,6,3,7,2,7,6,3,5,6,4,6,7,5,7,4,5,7,7,3,2,3,3,4,6,4,2,5,7,5,7,3,3,6,4,5,7,4,4,8,4,5,5,6,8,6,7,7,5,6,5,6,5,5,4,5,4,7,5,5,6,3,5,5,5,6,4,3,8,4,4,6,2,3,5,6,4,8,5,5,6,5,8,5,8,3,7,4,3,6,2,6,7,7,7,6,8,4,5,6,6,4,3,4,6,5,6,6,6,6,3,4,5,5,6,7,5,7,6,7,5,4,4,7,7,6,7,5,6,5,5,4,4,4,6,7,8,6,5,3,5,6,6,7,4,6,2,6,3,5,3,8,5,6,7,5,6,5,8,8,2,5,8,3,4,5,8,6,4,4,6,4,6,8,8,7,8,8,8,7,4,8,5,6,8,3,5,6,6,5,3,3,6,8,2,5,5,4,6,4,6,6,4,8,5,4,3,4,5,4,4,7,4,7,5,5,5,5,6,4,8,6,3,6,4,5,2,8,4,5,4,7,2,6,6,4,7,8,4,4,7,6,8,7,6,3,4,3,4,4,4,2,8,3,3,6,3,6,3,4,2,4,4,5,2,5,4,2,8,3,6,8,4,7,8,5,6,2,5,3,4,3,7,5,4,7,6,4,4,6,7,2,6,6,5,6,3,2,8,5,6,2,5,6,6,8,7,7,7,4,2,5,5,3,3,8,4,2,6,5,5,6,6,3,4,6,6,3,6,6,6,5,5,5,6,6,6,8,3,7,4,6,2,8,5,4,6,5,3,4,7,6,5,4,3,3,6,3,4,6,8,4,4,5,5,5,3,6,4,5,7,5,5,6,6,8,2,3,3,5,8,8,6,5,2,6,4,5,6,3,6,5,3,7,3,2,8,3,4,5,6,8,6,7,7,3,7,6,4,7,3,4,3,6,3,3,5,5,7,5,7,4,3,4,6,7,7,7,5,3,8,2,6,5,4,7,6,6,7,5,8,6,3,7,7,7,8,2,6,5,7,5,5,2,5,6,5,5,5,5,8,4,3,3,6,8,5,6,4,6,5,5,5,7,5,3,4,3,5,6,5,4,7,2,3,7,4,4,4,4,5,6,6,6,3,7,6,5,4,5,5,2,7,4,6,4,4,4,3,6,6,4,5,4,4,2,5,5,5,3,6,7,4,3,7,7,4,6,7,3,5,3,3,6,4,6,7,4,6,6,8,3,6,2,3,4,3,6,5,3,6,5,5,5,2,4,7,3,4,7,6,3,4,4,4,7,5,2,6,6,3,6,3,6,6,7,3,6,5,6,7,5,6,6,3,7,5,3,5,4,6,8,6,3,5,3,4,8,7,5,4,6,4,4,4,4,2,6,5,8,7,4,8,8,3,5,4,5,4,6,4,8,5,8,3,3,8,5,2,3,4,5,5,8,8,5,6,3,4,4,6,4,4,6,5,3,2,8,5,4,6,5,4,4,7,4,2,8,4,5,7,4,3,6,3,4,4,8,4,8,3,7,6,4,6,3,6,4,6,5,5,7,2,3,4,2,3,8,5,2,3,8,7,4,3,5,8,7,8,6,8,6,7,4,6,7,4,4,7,6,4,3,6,3,5,4,7,5,4,6,4,5,3,4,6,4,6,7,6,4,4,5,6,8,6,4,6,4,4,6,6,4,6,3,7,7,4,4,3,4,7,4,4,3,6,5,4,5,7,6,6,5,6,5,6,5,8,8,6,8,8,5,5,7,3,2,3,3,4,7,8,2,3,5,3,4,7,4,3,3,4,6,6,4,5,7,5,7,2,5,7,3,8,3,2,8,5,7,5,3,6,6,5,7,3,5,5,5,8,7,3,8,5,4,4,4,5,2,5,6,2,5,6,3,6,6,6,3,3,5,4,5,3,8,3,6,2,7,4,6,3,5,7,3,2,2,7,5,7,5,7,7,5,3,5,4,4,4,8,5,4,7,3,7,6,5,5,3,7,4,4,6,2,4,6,8,5,4,6,4,5,6,6,7,6,4,6,2,5,6,3,8,8,3,4,4,4,3,2,5,6,8,4,7,6],\"x0\":\" \",\"xaxis\":\"x\",\"y\":[\"D\",\"D\",\"C\",\"D\",\"D\",\"B\",\"A\",\"A\",\"B\",\"D\",\"D\",\"D\",\"D\",\"E\",\"B\",\"A\",\"D\",\"C\",\"D\",\"A\",\"A\",\"C\",\"D\",\"D\",\"D\",\"D\",\"D\",\"B\",\"B\",\"D\",\"A\",\"B\",\"B\",\"B\",\"B\",\"D\",\"E\",\"D\",\"C\",\"D\",\"A\",\"B\",\"D\",\"D\",\"D\",\"A\",\"C\",\"B\",\"D\",\"E\",\"B\",\"C\",\"D\",\"A\",\"D\",\"C\",\"A\",\"C\",\"D\",\"D\",\"D\",\"D\",\"D\",\"C\",\"D\",\"D\",\"D\",\"D\",\"D\",\"D\",\"D\",\"B\",\"B\",\"D\",\"A\",\"B\",\"C\",\"D\",\"A\",\"D\",\"A\",\"C\",\"C\",\"C\",\"B\",\"E\",\"C\",\"D\",\"D\",\"D\",\"C\",\"C\",\"D\",\"D\",\"E\",\"C\",\"A\",\"B\",\"D\",\"B\",\"B\",\"D\",\"A\",\"D\",\"D\",\"B\",\"D\",\"D\",\"D\",\"B\",\"D\",\"D\",\"D\",\"C\",\"B\",\"E\",\"C\",\"C\",\"C\",\"D\",\"D\",\"C\",\"C\",\"D\",\"D\",\"D\",\"A\",\"B\",\"D\",\"B\",\"E\",\"D\",\"C\",\"D\",\"D\",\"A\",\"C\",\"C\",\"C\",\"D\",\"C\",\"D\",\"E\",\"A\",\"D\",\"C\",\"A\",\"D\",\"D\",\"B\",\"D\",\"D\",\"B\",\"C\",\"C\",\"C\",\"A\",\"E\",\"D\",\"D\",\"C\",\"B\",\"D\",\"D\",\"A\",\"A\",\"D\",\"B\",\"D\",\"D\",\"D\",\"D\",\"C\",\"D\",\"A\",\"D\",\"C\",\"B\",\"D\",\"A\",\"D\",\"B\",\"D\",\"B\",\"B\",\"D\",\"E\",\"D\",\"B\",\"B\",\"D\",\"B\",\"A\",\"D\",\"D\",\"D\",\"E\",\"B\",\"D\",\"B\",\"D\",\"C\",\"D\",\"D\",\"C\",\"C\",\"D\",\"A\",\"B\",\"B\",\"C\",\"B\",\"C\",\"D\",\"B\",\"A\",\"D\",\"D\",\"D\",\"D\",\"D\",\"B\",\"C\",\"D\",\"D\",\"D\",\"B\",\"D\",\"D\",\"C\",\"C\",\"C\",\"B\",\"A\",\"C\",\"C\",\"B\",\"A\",\"C\",\"B\",\"C\",\"D\",\"A\",\"C\",\"C\",\"A\",\"C\",\"C\",\"D\",\"D\",\"B\",\"C\",\"B\",\"A\",\"D\",\"B\",\"B\",\"D\",\"A\",\"D\",\"B\",\"C\",\"D\",\"C\",\"C\",\"D\",\"C\",\"D\",\"D\",\"D\",\"C\",\"D\",\"A\",\"D\",\"A\",\"C\",\"D\",\"D\",\"D\",\"A\",\"D\",\"C\",\"D\",\"D\",\"D\",\"B\",\"B\",\"D\",\"C\",\"D\",\"D\",\"D\",\"D\",\"C\",\"C\",\"D\",\"C\",\"A\",\"D\",\"B\",\"A\",\"A\",\"C\",\"A\",\"B\",\"D\",\"C\",\"B\",\"C\",\"D\",\"C\",\"B\",\"D\",\"C\",\"C\",\"D\",\"D\",\"C\",\"A\",\"D\",\"C\",\"B\",\"B\",\"C\",\"B\",\"C\",\"C\",\"D\",\"B\",\"B\",\"D\",\"D\",\"A\",\"D\",\"C\",\"D\",\"D\",\"D\",\"A\",\"D\",\"D\",\"D\",\"C\",\"A\",\"D\",\"C\",\"D\",\"B\",\"D\",\"D\",\"C\",\"A\",\"D\",\"D\",\"C\",\"D\",\"C\",\"A\",\"D\",\"D\",\"C\",\"D\",\"D\",\"D\",\"B\",\"D\",\"C\",\"C\",\"D\",\"C\",\"D\",\"B\",\"B\",\"A\",\"D\",\"D\",\"D\",\"C\",\"B\",\"D\",\"D\",\"D\",\"B\",\"D\",\"C\",\"D\",\"D\",\"C\",\"B\",\"D\",\"D\",\"C\",\"C\",\"B\",\"C\",\"C\",\"D\",\"D\",\"D\",\"B\",\"D\",\"B\",\"D\",\"B\",\"D\",\"B\",\"C\",\"C\",\"B\",\"D\",\"A\",\"B\",\"B\",\"C\",\"D\",\"D\",\"D\",\"D\",\"A\",\"A\",\"A\",\"D\",\"D\",\"E\",\"E\",\"B\",\"A\",\"C\",\"B\",\"D\",\"C\",\"D\",\"A\",\"A\",\"D\",\"D\",\"C\",\"D\",\"C\",\"B\",\"D\",\"D\",\"B\",\"B\",\"D\",\"C\",\"D\",\"D\",\"C\",\"C\",\"B\",\"C\",\"C\",\"D\",\"C\",\"D\",\"D\",\"D\",\"D\",\"D\",\"B\",\"C\",\"D\",\"D\",\"A\",\"A\",\"B\",\"B\",\"B\",\"D\",\"B\",\"C\",\"C\",\"A\",\"C\",\"C\",\"A\",\"D\",\"A\",\"A\",\"D\",\"B\",\"C\",\"B\",\"B\",\"D\",\"C\",\"C\",\"D\",\"D\",\"B\",\"D\",\"B\",\"D\",\"A\",\"C\",\"A\",\"D\",\"B\",\"C\",\"D\",\"B\",\"B\",\"B\",\"C\",\"B\",\"C\",\"D\",\"A\",\"B\",\"D\",\"D\",\"D\",\"B\",\"B\",\"C\",\"A\",\"C\",\"D\",\"D\",\"C\",\"D\",\"D\",\"D\",\"D\",\"C\",\"D\",\"D\",\"D\",\"D\",\"D\",\"A\",\"D\",\"A\",\"D\",\"C\",\"A\",\"C\",\"B\",\"B\",\"D\",\"D\",\"D\",\"D\",\"D\",\"D\",\"D\",\"A\",\"A\",\"D\",\"A\",\"D\",\"B\",\"B\",\"A\",\"B\",\"C\",\"C\",\"A\",\"B\",\"D\",\"C\",\"D\",\"D\",\"C\",\"D\",\"C\",\"C\",\"E\",\"B\",\"B\",\"D\",\"C\",\"C\",\"B\",\"C\",\"C\",\"B\",\"D\",\"E\",\"D\",\"D\",\"B\",\"C\",\"C\",\"A\",\"D\",\"D\",\"C\",\"B\",\"C\",\"C\",\"D\",\"C\",\"C\",\"C\",\"A\",\"C\",\"D\",\"B\",\"B\",\"C\",\"D\",\"D\",\"B\",\"B\",\"D\",\"C\",\"D\",\"D\",\"B\",\"A\",\"A\",\"D\",\"C\",\"C\",\"D\",\"B\",\"B\",\"A\",\"D\",\"C\",\"B\",\"D\",\"D\",\"D\",\"C\",\"B\",\"A\",\"B\",\"C\",\"C\",\"D\",\"C\",\"B\",\"B\",\"D\",\"D\",\"B\",\"C\",\"D\",\"A\",\"B\",\"C\",\"D\",\"C\",\"D\",\"D\",\"B\",\"D\",\"B\",\"D\",\"D\",\"B\",\"C\",\"C\",\"D\",\"A\",\"C\",\"C\",\"C\",\"B\",\"D\",\"D\",\"B\",\"B\",\"D\",\"D\",\"D\",\"B\",\"C\",\"B\",\"B\",\"C\",\"C\",\"D\",\"D\",\"C\",\"D\",\"B\",\"B\",\"D\",\"C\",\"A\",\"C\",\"B\",\"D\",\"B\",\"B\",\"D\",\"D\",\"D\",\"D\",\"C\",\"B\",\"D\",\"B\",\"B\",\"D\",\"D\",\"B\",\"C\",\"D\",\"A\",\"C\",\"C\",\"D\",\"C\",\"D\",\"B\",\"C\",\"D\",\"D\",\"C\",\"A\",\"D\",\"D\",\"B\",\"D\",\"D\",\"D\",\"C\",\"B\",\"A\",\"D\",\"D\",\"D\",\"D\",\"A\",\"D\",\"B\",\"C\",\"C\",\"D\",\"B\",\"C\",\"B\",\"C\",\"B\",\"D\",\"D\",\"D\",\"D\",\"D\",\"C\",\"B\",\"A\",\"C\",\"B\",\"A\",\"D\",\"D\",\"D\",\"A\",\"E\",\"D\",\"C\",\"D\",\"B\",\"B\",\"C\",\"D\",\"D\",\"D\",\"D\",\"C\",\"D\",\"C\",\"D\",\"B\",\"B\",\"A\",\"B\",\"B\",\"C\",\"D\",\"B\",\"D\",\"C\",\"B\",\"A\",\"D\",\"C\",\"B\",\"C\",\"A\",\"D\",\"D\",\"D\",\"A\",\"D\",\"D\",\"A\",\"C\",\"D\",\"D\",\"C\",\"D\",\"D\",\"B\",\"B\",\"C\",\"C\",\"D\",\"D\",\"C\",\"D\",\"D\",\"C\",\"D\",\"C\",\"B\",\"E\",\"C\",\"B\",\"B\",\"D\",\"D\",\"D\",\"A\",\"C\",\"A\",\"B\",\"C\",\"A\",\"A\",\"D\",\"E\",\"A\",\"C\",\"D\",\"A\",\"B\",\"A\",\"D\",\"D\",\"A\",\"B\",\"C\",\"A\",\"A\",\"A\",\"C\",\"A\",\"E\",\"B\",\"C\",\"B\",\"D\",\"D\",\"B\",\"C\",\"D\",\"D\",\"B\",\"D\",\"D\",\"C\",\"D\",\"D\",\"D\",\"D\",\"D\",\"D\",\"D\",\"A\",\"A\",\"D\",\"C\",\"D\",\"D\",\"D\",\"B\",\"B\",\"B\",\"D\",\"B\",\"B\",\"D\",\"D\",\"B\",\"C\",\"A\",\"D\",\"A\",\"D\",\"C\",\"A\",\"D\",\"D\",\"B\",\"D\",\"C\",\"D\",\"D\",\"C\",\"D\",\"B\",\"C\",\"C\",\"A\",\"D\",\"D\",\"D\",\"D\",\"C\",\"D\",\"C\",\"D\",\"A\",\"B\",\"B\",\"C\",\"D\",\"B\",\"C\",\"B\",\"C\",\"D\",\"C\",\"C\",\"C\",\"C\",\"A\",\"D\",\"A\",\"D\",\"D\",\"A\",\"B\",\"C\",\"C\",\"D\",\"E\",\"D\",\"B\",\"A\",\"B\",\"B\",\"B\",\"E\",\"C\",\"D\",\"A\",\"D\",\"D\",\"C\",\"C\",\"D\",\"D\",\"C\",\"D\",\"D\",\"C\",\"C\",\"D\",\"B\",\"C\",\"C\",\"B\",\"C\",\"D\",\"D\",\"D\",\"D\",\"C\",\"D\",\"D\",\"D\",\"E\",\"C\",\"B\",\"C\",\"C\",\"A\",\"D\",\"C\",\"D\",\"C\",\"D\",\"C\",\"B\",\"D\",\"D\",\"D\",\"C\",\"C\",\"A\",\"B\",\"D\",\"A\",\"B\",\"C\",\"B\",\"A\",\"C\",\"B\",\"C\",\"C\",\"D\",\"A\",\"C\",\"B\",\"D\",\"D\",\"D\",\"C\",\"D\",\"B\",\"C\",\"A\",\"C\",\"D\",\"A\",\"A\",\"B\",\"C\",\"A\",\"C\",\"C\",\"D\",\"B\",\"D\",\"D\",\"B\",\"B\",\"D\",\"D\",\"D\",\"D\",\"B\",\"C\",\"C\",\"D\",\"D\",\"D\",\"A\",\"D\",\"A\",\"D\",\"D\",\"A\",\"C\",\"C\",\"D\",\"D\",\"C\",\"D\",\"C\",\"C\",\"D\",\"C\",\"D\",\"A\",\"D\",\"C\",\"B\",\"B\",\"D\",\"D\",\"D\",\"B\",\"D\",\"D\",\"E\",\"E\",\"B\",\"B\",\"D\",\"C\",\"E\",\"B\",\"C\",\"D\",\"B\",\"B\",\"D\",\"A\",\"C\",\"E\",\"D\",\"D\",\"B\",\"D\",\"D\",\"D\",\"A\",\"D\",\"B\",\"D\",\"A\",\"D\",\"A\",\"C\",\"D\",\"D\",\"D\",\"C\",\"C\",\"C\",\"D\",\"A\",\"D\",\"D\",\"D\",\"B\",\"D\",\"D\",\"D\",\"B\",\"D\",\"B\",\"E\",\"A\",\"D\",\"C\",\"A\",\"B\",\"A\",\"D\",\"C\",\"B\",\"A\",\"D\",\"A\",\"D\",\"D\",\"C\",\"C\",\"A\",\"A\",\"D\",\"C\",\"E\",\"A\",\"A\",\"A\",\"B\",\"D\",\"B\",\"D\",\"B\",\"C\",\"E\",\"A\",\"A\",\"D\",\"D\",\"D\",\"C\",\"C\",\"D\",\"C\",\"D\",\"B\",\"C\",\"B\",\"D\",\"D\",\"D\",\"D\",\"D\",\"D\",\"B\",\"D\",\"B\",\"C\",\"D\",\"D\",\"B\",\"D\",\"E\",\"D\",\"D\",\"D\",\"D\",\"C\",\"C\",\"A\",\"D\",\"B\",\"C\",\"D\",\"D\",\"C\",\"A\",\"B\",\"C\",\"E\",\"B\",\"C\",\"D\",\"C\",\"D\",\"D\",\"C\",\"C\",\"C\",\"D\",\"D\",\"D\",\"A\",\"D\",\"D\",\"B\",\"D\",\"C\",\"D\",\"D\",\"A\",\"D\",\"A\",\"B\",\"C\",\"D\",\"E\",\"C\",\"A\",\"A\",\"D\",\"D\",\"C\",\"C\",\"D\",\"B\",\"D\",\"D\",\"C\",\"A\",\"D\",\"D\",\"D\",\"D\",\"D\",\"C\",\"D\",\"A\",\"D\",\"D\",\"A\",\"C\",\"B\",\"B\",\"C\",\"B\",\"C\",\"E\",\"D\",\"D\",\"C\",\"D\",\"B\",\"A\",\"D\",\"D\",\"C\",\"A\",\"B\",\"D\",\"C\",\"A\",\"D\",\"C\",\"C\",\"B\",\"D\",\"C\",\"C\",\"A\",\"D\",\"B\",\"C\",\"B\",\"D\",\"A\",\"D\",\"C\",\"D\",\"D\",\"B\",\"C\",\"D\",\"D\",\"C\",\"B\",\"B\",\"D\",\"A\",\"A\",\"B\",\"B\",\"D\",\"D\",\"C\",\"C\",\"B\",\"D\",\"C\",\"C\",\"A\",\"B\",\"C\",\"D\",\"B\",\"B\",\"D\",\"C\",\"D\",\"B\",\"D\",\"B\",\"D\",\"D\",\"C\",\"B\",\"D\",\"D\",\"C\",\"D\",\"E\",\"C\",\"D\",\"D\",\"D\",\"D\",\"B\",\"B\",\"B\",\"C\",\"D\",\"D\",\"D\",\"A\",\"B\",\"C\",\"D\",\"A\",\"D\",\"A\",\"C\",\"D\",\"A\",\"D\",\"D\",\"D\",\"C\",\"D\",\"E\",\"B\",\"D\",\"D\",\"D\",\"B\",\"A\",\"D\",\"D\",\"A\",\"D\",\"C\",\"D\",\"D\",\"C\",\"C\",\"D\",\"A\",\"C\",\"C\",\"B\",\"D\",\"C\",\"D\",\"D\",\"A\",\"D\",\"D\",\"B\",\"D\",\"C\",\"A\",\"D\",\"D\",\"D\",\"A\",\"A\",\"D\",\"C\",\"D\",\"C\",\"B\",\"D\",\"D\",\"D\",\"D\",\"D\",\"C\",\"D\",\"D\",\"B\",\"C\",\"C\",\"C\",\"D\",\"C\",\"A\",\"C\",\"C\",\"B\",\"D\",\"D\",\"C\",\"C\",\"B\",\"D\",\"B\",\"B\",\"D\",\"B\",\"D\",\"D\",\"D\",\"D\",\"B\",\"C\",\"D\",\"C\",\"D\",\"B\",\"D\",\"B\",\"D\",\"C\",\"A\",\"A\",\"D\",\"B\",\"B\",\"A\",\"C\",\"C\",\"D\",\"C\",\"D\",\"D\",\"B\",\"D\",\"D\",\"D\",\"D\",\"C\",\"D\",\"B\",\"D\",\"D\",\"B\",\"B\",\"D\",\"A\",\"D\",\"D\",\"D\",\"B\",\"D\",\"C\",\"C\",\"A\",\"D\",\"D\",\"B\",\"D\",\"D\",\"D\",\"B\",\"C\",\"D\",\"D\",\"D\",\"C\",\"A\",\"D\",\"D\",\"B\",\"D\",\"C\",\"C\",\"D\",\"C\",\"D\",\"D\",\"D\",\"D\",\"B\",\"D\",\"B\",\"A\",\"B\",\"B\",\"B\",\"D\",\"C\",\"C\",\"D\",\"D\",\"B\",\"E\",\"D\",\"A\",\"E\",\"B\",\"D\",\"D\",\"C\",\"D\",\"E\",\"C\",\"B\",\"D\",\"B\",\"A\",\"C\",\"B\",\"B\",\"C\",\"A\",\"D\",\"C\",\"D\",\"C\",\"A\",\"D\",\"B\",\"D\",\"B\",\"D\",\"D\",\"B\",\"D\",\"D\",\"C\",\"D\",\"D\",\"C\",\"B\",\"C\",\"D\",\"D\",\"C\",\"C\",\"B\",\"D\",\"B\",\"B\",\"D\",\"D\",\"B\",\"D\",\"C\",\"A\",\"D\",\"A\",\"D\",\"D\",\"B\",\"C\",\"D\",\"A\",\"B\",\"C\",\"D\",\"A\",\"A\",\"D\",\"C\",\"A\",\"A\",\"D\",\"B\",\"C\",\"D\",\"D\",\"D\",\"D\",\"B\",\"B\",\"D\",\"D\",\"C\",\"D\",\"D\",\"D\",\"A\",\"C\",\"D\",\"D\",\"C\",\"D\",\"C\",\"E\",\"D\",\"D\",\"D\",\"B\",\"D\",\"A\",\"A\",\"A\",\"C\",\"A\",\"B\",\"C\",\"B\",\"D\",\"A\",\"D\",\"D\",\"D\",\"B\",\"D\",\"D\",\"D\",\"D\",\"D\",\"E\",\"D\",\"B\",\"C\",\"D\",\"E\",\"A\",\"D\",\"D\",\"D\",\"D\",\"A\",\"C\",\"D\",\"C\",\"A\",\"B\",\"B\",\"B\",\"D\",\"D\",\"A\",\"B\",\"C\",\"B\",\"D\",\"C\",\"D\",\"D\",\"D\",\"D\",\"B\",\"A\",\"D\",\"C\",\"C\",\"C\",\"D\",\"C\",\"C\",\"C\",\"D\",\"D\",\"D\",\"A\",\"D\",\"D\",\"D\",\"A\",\"D\",\"C\",\"D\",\"A\",\"D\",\"D\",\"C\",\"A\",\"B\",\"B\",\"C\",\"D\",\"D\",\"C\",\"C\",\"D\",\"C\",\"A\",\"B\",\"D\",\"D\",\"D\",\"C\",\"A\",\"D\",\"C\",\"B\",\"D\",\"C\",\"B\",\"D\",\"E\",\"B\",\"C\",\"D\",\"C\",\"D\",\"C\",\"B\",\"C\",\"B\",\"D\",\"D\",\"D\",\"A\",\"A\",\"C\",\"C\",\"B\",\"C\",\"D\",\"B\",\"D\",\"D\",\"A\",\"A\",\"B\",\"C\",\"B\",\"D\",\"B\",\"D\",\"D\",\"B\",\"C\",\"D\",\"D\",\"C\",\"B\",\"A\",\"D\",\"C\",\"B\",\"A\",\"C\",\"D\",\"D\",\"E\",\"E\",\"D\",\"D\",\"E\",\"D\",\"B\",\"A\",\"D\",\"D\",\"B\",\"A\",\"A\",\"C\",\"D\",\"C\",\"A\",\"B\",\"D\",\"D\",\"C\",\"D\",\"D\",\"D\",\"C\",\"D\",\"D\",\"D\",\"A\",\"C\",\"B\",\"D\",\"D\",\"C\",\"D\",\"C\",\"D\",\"B\",\"D\",\"B\",\"D\",\"D\",\"C\",\"C\",\"B\",\"D\",\"B\",\"D\",\"D\",\"C\",\"D\",\"C\",\"C\",\"D\",\"C\",\"C\",\"D\",\"B\",\"D\",\"D\",\"B\",\"D\",\"C\",\"D\",\"D\",\"C\",\"D\",\"C\",\"E\",\"B\",\"D\",\"D\",\"B\",\"D\",\"D\",\"C\",\"D\",\"A\",\"D\",\"B\",\"D\",\"D\",\"A\",\"D\",\"C\",\"C\",\"D\",\"D\",\"D\",\"C\",\"D\",\"B\",\"D\",\"B\",\"D\",\"A\",\"C\",\"B\",\"D\",\"D\",\"C\",\"C\",\"C\",\"B\",\"E\",\"C\",\"D\",\"C\",\"D\",\"D\",\"B\",\"B\",\"D\",\"D\",\"C\",\"A\",\"D\",\"C\",\"D\",\"D\",\"C\",\"C\",\"D\",\"A\",\"C\",\"D\",\"C\",\"E\",\"C\",\"A\",\"C\",\"C\",\"D\",\"C\",\"C\",\"A\",\"C\",\"D\",\"D\",\"B\",\"A\",\"D\",\"D\",\"D\",\"D\",\"A\",\"D\",\"C\",\"E\",\"D\",\"D\",\"A\",\"E\",\"C\",\"D\",\"A\",\"A\",\"D\",\"D\",\"C\",\"A\",\"A\",\"D\",\"D\",\"D\",\"B\",\"C\",\"C\",\"D\",\"B\",\"D\",\"C\",\"B\",\"D\",\"D\",\"B\",\"D\",\"D\",\"B\",\"A\",\"D\",\"C\",\"D\",\"C\",\"B\",\"B\",\"D\",\"A\",\"D\",\"C\",\"D\",\"D\",\"A\",\"B\",\"B\",\"E\",\"D\",\"A\",\"D\",\"D\",\"A\",\"C\",\"D\",\"D\",\"C\",\"C\",\"D\",\"D\",\"C\",\"D\",\"C\",\"B\",\"D\",\"D\",\"D\",\"D\",\"C\",\"C\",\"D\",\"B\",\"C\",\"D\",\"D\",\"D\",\"B\",\"C\",\"C\",\"E\",\"D\",\"C\",\"C\",\"C\",\"D\",\"D\",\"D\",\"C\",\"C\",\"C\",\"D\",\"C\",\"B\",\"A\",\"D\",\"A\",\"D\",\"A\",\"D\",\"D\",\"D\",\"E\",\"B\",\"D\",\"B\",\"A\",\"D\",\"D\",\"C\",\"A\",\"A\",\"D\",\"D\",\"C\",\"C\",\"D\",\"D\",\"B\",\"B\",\"C\",\"D\",\"C\",\"D\",\"D\",\"A\",\"D\",\"D\",\"B\",\"D\",\"C\",\"A\",\"D\",\"D\",\"A\",\"A\",\"C\",\"B\",\"D\",\"C\",\"C\",\"B\",\"D\",\"D\",\"E\",\"A\",\"C\",\"A\",\"A\",\"C\",\"B\",\"B\",\"B\",\"A\",\"D\",\"D\",\"D\",\"A\",\"D\",\"C\",\"E\",\"D\",\"D\",\"A\",\"D\",\"D\",\"D\",\"D\",\"C\",\"A\",\"D\",\"A\",\"B\",\"D\",\"B\",\"D\",\"C\",\"E\",\"C\",\"D\",\"C\",\"C\",\"D\",\"A\",\"C\",\"D\",\"C\",\"D\",\"B\",\"A\",\"D\",\"A\",\"C\",\"D\",\"B\",\"D\",\"B\",\"C\",\"D\",\"D\",\"B\",\"C\",\"B\",\"A\",\"D\",\"B\",\"D\",\"D\",\"A\",\"B\",\"D\",\"D\",\"D\",\"D\",\"D\",\"B\",\"D\",\"D\",\"D\",\"A\",\"C\",\"B\",\"D\",\"D\",\"C\",\"C\",\"C\",\"B\",\"C\",\"D\",\"A\",\"C\",\"D\",\"C\",\"B\",\"A\",\"B\",\"B\",\"B\",\"B\",\"D\",\"D\",\"B\",\"C\",\"D\",\"C\",\"C\",\"D\",\"A\",\"C\",\"C\",\"C\",\"D\",\"C\",\"C\",\"D\",\"D\",\"D\",\"D\",\"A\",\"D\",\"D\",\"C\",\"D\",\"E\",\"C\",\"B\",\"D\",\"A\",\"B\",\"C\",\"C\",\"C\",\"A\",\"D\",\"A\",\"D\",\"B\",\"E\",\"D\",\"A\",\"D\",\"C\",\"B\",\"A\",\"B\",\"A\",\"A\",\"C\",\"C\",\"B\",\"B\",\"D\",\"D\",\"D\",\"C\",\"D\",\"B\",\"C\",\"B\",\"B\",\"D\",\"D\",\"D\",\"C\",\"C\",\"A\",\"C\",\"B\",\"C\",\"A\",\"C\",\"D\",\"D\",\"A\",\"C\",\"C\",\"A\",\"B\",\"B\",\"C\",\"C\",\"D\",\"C\",\"D\",\"B\",\"C\",\"A\",\"B\",\"C\",\"D\",\"C\",\"C\",\"B\",\"A\",\"C\",\"C\",\"E\",\"B\",\"D\",\"D\",\"D\",\"A\",\"B\",\"C\",\"A\",\"D\",\"B\",\"C\",\"A\",\"A\",\"D\",\"D\",\"A\",\"D\",\"D\",\"C\",\"A\",\"B\",\"D\",\"D\",\"C\",\"D\",\"C\",\"A\",\"A\",\"B\",\"A\",\"A\",\"A\",\"A\",\"D\",\"A\",\"D\",\"C\",\"A\",\"D\",\"C\",\"B\",\"C\",\"C\",\"D\",\"D\",\"B\",\"A\",\"D\",\"C\",\"C\",\"D\",\"C\",\"D\",\"A\",\"C\",\"D\",\"A\",\"C\",\"D\",\"D\",\"D\",\"D\",\"D\",\"D\",\"A\",\"D\",\"B\",\"D\",\"D\",\"D\",\"C\",\"B\",\"D\",\"A\",\"B\",\"D\",\"C\",\"D\",\"C\",\"E\",\"A\",\"D\",\"C\",\"D\",\"B\",\"E\",\"B\",\"C\",\"D\",\"B\",\"A\",\"D\",\"D\",\"B\",\"C\",\"A\",\"B\",\"B\",\"D\",\"D\",\"D\",\"D\",\"D\",\"D\",\"E\",\"A\",\"D\",\"D\",\"A\",\"D\",\"A\",\"D\",\"C\",\"D\",\"D\",\"D\",\"C\",\"D\",\"D\",\"D\",\"D\",\"A\",\"D\",\"B\",\"A\",\"D\",\"A\",\"A\",\"D\",\"B\",\"D\",\"C\",\"D\",\"D\",\"D\",\"A\",\"C\",\"C\",\"B\",\"B\",\"D\",\"C\",\"B\",\"B\",\"E\",\"C\",\"B\",\"B\",\"C\",\"D\",\"D\",\"A\",\"C\",\"C\",\"D\",\"C\",\"B\",\"B\",\"A\",\"B\",\"B\",\"B\",\"D\",\"D\",\"D\",\"C\",\"D\",\"D\",\"A\",\"D\",\"D\",\"C\",\"C\",\"D\",\"B\",\"C\",\"D\",\"D\",\"C\",\"C\",\"D\",\"C\",\"B\",\"B\",\"D\",\"C\",\"B\",\"A\",\"C\",\"B\",\"A\",\"D\",\"A\",\"C\",\"A\",\"D\",\"A\",\"C\",\"D\",\"B\",\"D\",\"D\",\"D\",\"A\",\"C\",\"D\",\"D\",\"D\",\"D\",\"B\",\"D\",\"C\",\"B\",\"A\",\"D\",\"D\",\"D\",\"C\",\"C\",\"D\",\"B\",\"D\",\"D\",\"B\",\"D\",\"C\",\"B\",\"B\",\"A\",\"D\",\"D\",\"D\",\"D\",\"A\",\"A\",\"C\",\"C\",\"D\",\"B\",\"D\",\"C\",\"C\",\"D\",\"C\",\"C\",\"D\",\"B\",\"D\",\"D\",\"A\",\"D\",\"D\",\"C\",\"C\",\"A\",\"B\",\"A\",\"B\",\"D\",\"A\",\"B\",\"D\",\"A\",\"E\",\"D\",\"D\",\"C\",\"D\",\"D\",\"C\",\"C\",\"B\",\"D\",\"A\",\"E\",\"D\",\"C\",\"B\",\"B\",\"C\",\"C\",\"D\",\"D\",\"A\",\"E\",\"B\",\"C\",\"D\",\"A\",\"A\",\"C\",\"B\",\"D\",\"A\",\"B\",\"D\",\"A\",\"A\",\"A\",\"A\",\"D\",\"B\",\"C\",\"A\",\"D\",\"D\",\"D\",\"C\",\"B\",\"C\",\"D\",\"C\",\"C\",\"A\",\"D\",\"C\",\"D\",\"A\",\"A\",\"C\",\"B\",\"C\",\"C\",\"C\",\"D\",\"C\",\"B\",\"C\",\"D\",\"D\",\"E\",\"C\",\"C\",\"C\",\"D\",\"B\",\"D\",\"D\",\"B\",\"D\",\"D\",\"D\",\"C\",\"D\",\"C\",\"C\",\"C\",\"D\",\"A\",\"A\",\"C\",\"D\",\"D\",\"D\",\"D\",\"B\",\"D\",\"B\",\"D\",\"D\",\"D\",\"D\",\"B\",\"A\",\"D\",\"C\",\"D\",\"D\",\"D\",\"D\",\"D\",\"C\",\"D\",\"B\",\"B\",\"C\",\"D\",\"B\",\"C\",\"D\",\"D\",\"B\",\"D\",\"C\",\"D\",\"D\",\"C\",\"C\",\"B\",\"C\",\"C\",\"B\",\"C\",\"A\",\"D\",\"B\",\"D\",\"D\",\"D\",\"E\",\"C\",\"D\",\"D\",\"C\",\"C\",\"D\",\"D\",\"D\",\"C\",\"B\",\"D\",\"D\",\"B\",\"B\",\"D\",\"C\",\"D\",\"D\",\"B\",\"D\",\"D\",\"C\",\"C\",\"D\",\"B\",\"D\",\"C\",\"B\",\"B\",\"D\",\"B\",\"C\",\"B\",\"A\",\"D\",\"C\",\"B\",\"D\",\"B\",\"C\",\"D\",\"C\",\"D\",\"C\",\"A\",\"C\",\"D\",\"C\",\"D\",\"D\",\"A\",\"B\",\"D\",\"D\",\"C\",\"C\",\"D\",\"D\",\"D\",\"D\",\"B\",\"D\",\"A\",\"A\",\"D\",\"A\",\"A\",\"D\",\"C\",\"D\",\"C\",\"D\",\"C\",\"D\",\"A\",\"D\",\"A\",\"D\",\"D\",\"B\",\"D\",\"D\",\"D\",\"D\",\"C\",\"C\",\"A\",\"A\",\"C\",\"C\",\"D\",\"D\",\"D\",\"C\",\"D\",\"D\",\"B\",\"C\",\"D\",\"D\",\"A\",\"C\",\"D\",\"B\",\"B\",\"D\",\"D\",\"A\",\"D\",\"D\",\"A\",\"D\",\"D\",\"A\",\"D\",\"D\",\"B\",\"D\",\"D\",\"D\",\"A\",\"C\",\"B\",\"D\",\"B\",\"B\",\"C\",\"B\",\"D\",\"B\",\"D\",\"C\",\"D\",\"C\",\"C\",\"D\",\"D\",\"D\",\"D\",\"D\",\"A\",\"D\",\"E\",\"D\",\"A\",\"A\",\"D\",\"D\",\"D\",\"A\",\"A\",\"A\",\"C\",\"A\",\"C\",\"B\",\"D\",\"C\",\"B\",\"D\",\"D\",\"B\",\"C\",\"D\",\"D\",\"C\",\"E\",\"C\",\"C\",\"B\",\"C\",\"D\",\"A\",\"E\",\"C\",\"D\",\"D\",\"C\",\"D\",\"B\",\"B\",\"B\",\"D\",\"C\",\"C\",\"A\",\"A\",\"B\",\"D\",\"A\",\"D\",\"C\",\"C\",\"B\",\"D\",\"B\",\"D\",\"B\",\"A\",\"D\",\"C\",\"D\",\"D\",\"B\",\"D\",\"D\",\"D\",\"C\",\"D\",\"D\",\"D\",\"A\",\"C\",\"B\",\"D\",\"B\",\"B\",\"C\",\"D\",\"A\",\"A\",\"C\",\"A\",\"A\",\"C\",\"D\",\"B\",\"C\",\"D\",\"D\",\"D\",\"D\",\"B\",\"A\",\"D\",\"D\",\"C\",\"D\",\"C\",\"B\",\"D\",\"D\",\"E\",\"D\",\"B\",\"C\",\"C\",\"C\",\"B\",\"D\",\"B\",\"D\",\"C\",\"B\",\"D\",\"A\",\"D\",\"E\",\"A\",\"C\",\"A\",\"C\",\"D\",\"A\",\"B\",\"D\",\"B\",\"D\",\"D\",\"C\",\"D\",\"A\",\"A\",\"D\",\"A\",\"D\",\"D\",\"D\",\"D\",\"C\",\"D\",\"D\",\"C\",\"D\",\"D\",\"B\",\"D\",\"A\",\"B\",\"C\",\"D\",\"D\",\"C\",\"C\",\"D\",\"D\",\"A\",\"D\",\"C\",\"E\",\"C\",\"E\",\"B\",\"D\",\"D\",\"A\",\"D\",\"D\",\"D\",\"A\",\"D\",\"B\",\"C\",\"B\",\"B\",\"C\",\"D\",\"D\",\"D\",\"D\",\"D\",\"A\",\"D\",\"C\",\"B\",\"D\",\"B\",\"C\",\"C\",\"D\",\"E\",\"A\",\"C\",\"D\",\"C\",\"D\",\"D\",\"C\",\"A\",\"C\",\"C\",\"C\",\"D\",\"D\",\"C\",\"C\",\"A\",\"C\",\"D\",\"B\",\"D\",\"C\",\"C\",\"D\",\"B\",\"A\",\"D\",\"D\",\"D\",\"D\",\"D\",\"D\",\"D\",\"B\",\"A\",\"D\",\"B\",\"C\"],\"y0\":\" \",\"yaxis\":\"y\",\"type\":\"box\"}],                        {\"template\":{\"data\":{\"bar\":[{\"error_x\":{\"color\":\"#2a3f5f\"},\"error_y\":{\"color\":\"#2a3f5f\"},\"marker\":{\"line\":{\"color\":\"#E5ECF6\",\"width\":0.5},\"pattern\":{\"fillmode\":\"overlay\",\"size\":10,\"solidity\":0.2}},\"type\":\"bar\"}],\"barpolar\":[{\"marker\":{\"line\":{\"color\":\"#E5ECF6\",\"width\":0.5},\"pattern\":{\"fillmode\":\"overlay\",\"size\":10,\"solidity\":0.2}},\"type\":\"barpolar\"}],\"carpet\":[{\"aaxis\":{\"endlinecolor\":\"#2a3f5f\",\"gridcolor\":\"white\",\"linecolor\":\"white\",\"minorgridcolor\":\"white\",\"startlinecolor\":\"#2a3f5f\"},\"baxis\":{\"endlinecolor\":\"#2a3f5f\",\"gridcolor\":\"white\",\"linecolor\":\"white\",\"minorgridcolor\":\"white\",\"startlinecolor\":\"#2a3f5f\"},\"type\":\"carpet\"}],\"choropleth\":[{\"colorbar\":{\"outlinewidth\":0,\"ticks\":\"\"},\"type\":\"choropleth\"}],\"contour\":[{\"colorbar\":{\"outlinewidth\":0,\"ticks\":\"\"},\"colorscale\":[[0.0,\"#0d0887\"],[0.1111111111111111,\"#46039f\"],[0.2222222222222222,\"#7201a8\"],[0.3333333333333333,\"#9c179e\"],[0.4444444444444444,\"#bd3786\"],[0.5555555555555556,\"#d8576b\"],[0.6666666666666666,\"#ed7953\"],[0.7777777777777778,\"#fb9f3a\"],[0.8888888888888888,\"#fdca26\"],[1.0,\"#f0f921\"]],\"type\":\"contour\"}],\"contourcarpet\":[{\"colorbar\":{\"outlinewidth\":0,\"ticks\":\"\"},\"type\":\"contourcarpet\"}],\"heatmap\":[{\"colorbar\":{\"outlinewidth\":0,\"ticks\":\"\"},\"colorscale\":[[0.0,\"#0d0887\"],[0.1111111111111111,\"#46039f\"],[0.2222222222222222,\"#7201a8\"],[0.3333333333333333,\"#9c179e\"],[0.4444444444444444,\"#bd3786\"],[0.5555555555555556,\"#d8576b\"],[0.6666666666666666,\"#ed7953\"],[0.7777777777777778,\"#fb9f3a\"],[0.8888888888888888,\"#fdca26\"],[1.0,\"#f0f921\"]],\"type\":\"heatmap\"}],\"heatmapgl\":[{\"colorbar\":{\"outlinewidth\":0,\"ticks\":\"\"},\"colorscale\":[[0.0,\"#0d0887\"],[0.1111111111111111,\"#46039f\"],[0.2222222222222222,\"#7201a8\"],[0.3333333333333333,\"#9c179e\"],[0.4444444444444444,\"#bd3786\"],[0.5555555555555556,\"#d8576b\"],[0.6666666666666666,\"#ed7953\"],[0.7777777777777778,\"#fb9f3a\"],[0.8888888888888888,\"#fdca26\"],[1.0,\"#f0f921\"]],\"type\":\"heatmapgl\"}],\"histogram\":[{\"marker\":{\"pattern\":{\"fillmode\":\"overlay\",\"size\":10,\"solidity\":0.2}},\"type\":\"histogram\"}],\"histogram2d\":[{\"colorbar\":{\"outlinewidth\":0,\"ticks\":\"\"},\"colorscale\":[[0.0,\"#0d0887\"],[0.1111111111111111,\"#46039f\"],[0.2222222222222222,\"#7201a8\"],[0.3333333333333333,\"#9c179e\"],[0.4444444444444444,\"#bd3786\"],[0.5555555555555556,\"#d8576b\"],[0.6666666666666666,\"#ed7953\"],[0.7777777777777778,\"#fb9f3a\"],[0.8888888888888888,\"#fdca26\"],[1.0,\"#f0f921\"]],\"type\":\"histogram2d\"}],\"histogram2dcontour\":[{\"colorbar\":{\"outlinewidth\":0,\"ticks\":\"\"},\"colorscale\":[[0.0,\"#0d0887\"],[0.1111111111111111,\"#46039f\"],[0.2222222222222222,\"#7201a8\"],[0.3333333333333333,\"#9c179e\"],[0.4444444444444444,\"#bd3786\"],[0.5555555555555556,\"#d8576b\"],[0.6666666666666666,\"#ed7953\"],[0.7777777777777778,\"#fb9f3a\"],[0.8888888888888888,\"#fdca26\"],[1.0,\"#f0f921\"]],\"type\":\"histogram2dcontour\"}],\"mesh3d\":[{\"colorbar\":{\"outlinewidth\":0,\"ticks\":\"\"},\"type\":\"mesh3d\"}],\"parcoords\":[{\"line\":{\"colorbar\":{\"outlinewidth\":0,\"ticks\":\"\"}},\"type\":\"parcoords\"}],\"pie\":[{\"automargin\":true,\"type\":\"pie\"}],\"scatter\":[{\"marker\":{\"colorbar\":{\"outlinewidth\":0,\"ticks\":\"\"}},\"type\":\"scatter\"}],\"scatter3d\":[{\"line\":{\"colorbar\":{\"outlinewidth\":0,\"ticks\":\"\"}},\"marker\":{\"colorbar\":{\"outlinewidth\":0,\"ticks\":\"\"}},\"type\":\"scatter3d\"}],\"scattercarpet\":[{\"marker\":{\"colorbar\":{\"outlinewidth\":0,\"ticks\":\"\"}},\"type\":\"scattercarpet\"}],\"scattergeo\":[{\"marker\":{\"colorbar\":{\"outlinewidth\":0,\"ticks\":\"\"}},\"type\":\"scattergeo\"}],\"scattergl\":[{\"marker\":{\"colorbar\":{\"outlinewidth\":0,\"ticks\":\"\"}},\"type\":\"scattergl\"}],\"scattermapbox\":[{\"marker\":{\"colorbar\":{\"outlinewidth\":0,\"ticks\":\"\"}},\"type\":\"scattermapbox\"}],\"scatterpolar\":[{\"marker\":{\"colorbar\":{\"outlinewidth\":0,\"ticks\":\"\"}},\"type\":\"scatterpolar\"}],\"scatterpolargl\":[{\"marker\":{\"colorbar\":{\"outlinewidth\":0,\"ticks\":\"\"}},\"type\":\"scatterpolargl\"}],\"scatterternary\":[{\"marker\":{\"colorbar\":{\"outlinewidth\":0,\"ticks\":\"\"}},\"type\":\"scatterternary\"}],\"surface\":[{\"colorbar\":{\"outlinewidth\":0,\"ticks\":\"\"},\"colorscale\":[[0.0,\"#0d0887\"],[0.1111111111111111,\"#46039f\"],[0.2222222222222222,\"#7201a8\"],[0.3333333333333333,\"#9c179e\"],[0.4444444444444444,\"#bd3786\"],[0.5555555555555556,\"#d8576b\"],[0.6666666666666666,\"#ed7953\"],[0.7777777777777778,\"#fb9f3a\"],[0.8888888888888888,\"#fdca26\"],[1.0,\"#f0f921\"]],\"type\":\"surface\"}],\"table\":[{\"cells\":{\"fill\":{\"color\":\"#EBF0F8\"},\"line\":{\"color\":\"white\"}},\"header\":{\"fill\":{\"color\":\"#C8D4E3\"},\"line\":{\"color\":\"white\"}},\"type\":\"table\"}]},\"layout\":{\"annotationdefaults\":{\"arrowcolor\":\"#2a3f5f\",\"arrowhead\":0,\"arrowwidth\":1},\"autotypenumbers\":\"strict\",\"coloraxis\":{\"colorbar\":{\"outlinewidth\":0,\"ticks\":\"\"}},\"colorscale\":{\"diverging\":[[0,\"#8e0152\"],[0.1,\"#c51b7d\"],[0.2,\"#de77ae\"],[0.3,\"#f1b6da\"],[0.4,\"#fde0ef\"],[0.5,\"#f7f7f7\"],[0.6,\"#e6f5d0\"],[0.7,\"#b8e186\"],[0.8,\"#7fbc41\"],[0.9,\"#4d9221\"],[1,\"#276419\"]],\"sequential\":[[0.0,\"#0d0887\"],[0.1111111111111111,\"#46039f\"],[0.2222222222222222,\"#7201a8\"],[0.3333333333333333,\"#9c179e\"],[0.4444444444444444,\"#bd3786\"],[0.5555555555555556,\"#d8576b\"],[0.6666666666666666,\"#ed7953\"],[0.7777777777777778,\"#fb9f3a\"],[0.8888888888888888,\"#fdca26\"],[1.0,\"#f0f921\"]],\"sequentialminus\":[[0.0,\"#0d0887\"],[0.1111111111111111,\"#46039f\"],[0.2222222222222222,\"#7201a8\"],[0.3333333333333333,\"#9c179e\"],[0.4444444444444444,\"#bd3786\"],[0.5555555555555556,\"#d8576b\"],[0.6666666666666666,\"#ed7953\"],[0.7777777777777778,\"#fb9f3a\"],[0.8888888888888888,\"#fdca26\"],[1.0,\"#f0f921\"]]},\"colorway\":[\"#636efa\",\"#EF553B\",\"#00cc96\",\"#ab63fa\",\"#FFA15A\",\"#19d3f3\",\"#FF6692\",\"#B6E880\",\"#FF97FF\",\"#FECB52\"],\"font\":{\"color\":\"#2a3f5f\"},\"geo\":{\"bgcolor\":\"white\",\"lakecolor\":\"white\",\"landcolor\":\"#E5ECF6\",\"showlakes\":true,\"showland\":true,\"subunitcolor\":\"white\"},\"hoverlabel\":{\"align\":\"left\"},\"hovermode\":\"closest\",\"mapbox\":{\"style\":\"light\"},\"paper_bgcolor\":\"white\",\"plot_bgcolor\":\"#E5ECF6\",\"polar\":{\"angularaxis\":{\"gridcolor\":\"white\",\"linecolor\":\"white\",\"ticks\":\"\"},\"bgcolor\":\"#E5ECF6\",\"radialaxis\":{\"gridcolor\":\"white\",\"linecolor\":\"white\",\"ticks\":\"\"}},\"scene\":{\"xaxis\":{\"backgroundcolor\":\"#E5ECF6\",\"gridcolor\":\"white\",\"gridwidth\":2,\"linecolor\":\"white\",\"showbackground\":true,\"ticks\":\"\",\"zerolinecolor\":\"white\"},\"yaxis\":{\"backgroundcolor\":\"#E5ECF6\",\"gridcolor\":\"white\",\"gridwidth\":2,\"linecolor\":\"white\",\"showbackground\":true,\"ticks\":\"\",\"zerolinecolor\":\"white\"},\"zaxis\":{\"backgroundcolor\":\"#E5ECF6\",\"gridcolor\":\"white\",\"gridwidth\":2,\"linecolor\":\"white\",\"showbackground\":true,\"ticks\":\"\",\"zerolinecolor\":\"white\"}},\"shapedefaults\":{\"line\":{\"color\":\"#2a3f5f\"}},\"ternary\":{\"aaxis\":{\"gridcolor\":\"white\",\"linecolor\":\"white\",\"ticks\":\"\"},\"baxis\":{\"gridcolor\":\"white\",\"linecolor\":\"white\",\"ticks\":\"\"},\"bgcolor\":\"#E5ECF6\",\"caxis\":{\"gridcolor\":\"white\",\"linecolor\":\"white\",\"ticks\":\"\"}},\"title\":{\"x\":0.05},\"xaxis\":{\"automargin\":true,\"gridcolor\":\"white\",\"linecolor\":\"white\",\"ticks\":\"\",\"title\":{\"standoff\":15},\"zerolinecolor\":\"white\",\"zerolinewidth\":2},\"yaxis\":{\"automargin\":true,\"gridcolor\":\"white\",\"linecolor\":\"white\",\"ticks\":\"\",\"title\":{\"standoff\":15},\"zerolinecolor\":\"white\",\"zerolinewidth\":2}}},\"xaxis\":{\"anchor\":\"y\",\"domain\":[0.0,1.0],\"title\":{\"text\":\"Nbedrooms\"}},\"yaxis\":{\"anchor\":\"x\",\"domain\":[0.0,1.0],\"title\":{\"text\":\"Grade\"}},\"legend\":{\"tracegroupgap\":0},\"margin\":{\"t\":60},\"boxmode\":\"group\"},                        {\"responsive\": true}                    ).then(function(){\n",
              "                            \n",
              "var gd = document.getElementById('552b117e-fb1c-41e8-bec9-f3482b9aab94');\n",
              "var x = new MutationObserver(function (mutations, observer) {{\n",
              "        var display = window.getComputedStyle(gd).display;\n",
              "        if (!display || display === 'none') {{\n",
              "            console.log([gd, 'removed!']);\n",
              "            Plotly.purge(gd);\n",
              "            observer.disconnect();\n",
              "        }}\n",
              "}});\n",
              "\n",
              "// Listen for the removal of the full notebook cells\n",
              "var notebookContainer = gd.closest('#notebook-container');\n",
              "if (notebookContainer) {{\n",
              "    x.observe(notebookContainer, {childList: true});\n",
              "}}\n",
              "\n",
              "// Listen for the clearing of the current output cell\n",
              "var outputEl = gd.closest('.output');\n",
              "if (outputEl) {{\n",
              "    x.observe(outputEl, {childList: true});\n",
              "}}\n",
              "\n",
              "                        })                };                            </script>        </div>\n",
              "</body>\n",
              "</html>"
            ]
          },
          "metadata": {}
        }
      ]
    },
    {
      "cell_type": "markdown",
      "source": [
        "# **Plotting the box plot w.r.t no of bedrooms**\n",
        "\n",
        "# **we can see that grade type A have more no of bedrooms followed by grade B**"
      ],
      "metadata": {
        "id": "s7bMe-OcTQAr"
      }
    },
    {
      "cell_type": "code",
      "source": [
        "fig = px.bar(HouseGrade_data, x=\"roof\", y=\"Grade\", color=\"roof\", barmode=\"group\")\n",
        "fig.show()\n",
        "                 "
      ],
      "metadata": {
        "colab": {
          "base_uri": "https://localhost:8080/",
          "height": 542
        },
        "id": "YmBEdVT-Gttb",
        "outputId": "54dd749a-d858-4a5a-92c4-32a489c2300b"
      },
      "execution_count": 13,
      "outputs": [
        {
          "output_type": "display_data",
          "data": {
            "text/html": [
              "<html>\n",
              "<head><meta charset=\"utf-8\" /></head>\n",
              "<body>\n",
              "    <div>            <script src=\"https://cdnjs.cloudflare.com/ajax/libs/mathjax/2.7.5/MathJax.js?config=TeX-AMS-MML_SVG\"></script><script type=\"text/javascript\">if (window.MathJax) {MathJax.Hub.Config({SVG: {font: \"STIX-Web\"}});}</script>                <script type=\"text/javascript\">window.PlotlyConfig = {MathJaxConfig: 'local'};</script>\n",
              "        <script src=\"https://cdn.plot.ly/plotly-2.8.3.min.js\"></script>                <div id=\"24d3eae2-9754-427a-aff3-fd4f19aa8fcb\" class=\"plotly-graph-div\" style=\"height:525px; width:100%;\"></div>            <script type=\"text/javascript\">                                    window.PLOTLYENV=window.PLOTLYENV || {};                                    if (document.getElementById(\"24d3eae2-9754-427a-aff3-fd4f19aa8fcb\")) {                    Plotly.newPlot(                        \"24d3eae2-9754-427a-aff3-fd4f19aa8fcb\",                        [{\"alignmentgroup\":\"True\",\"hovertemplate\":\"roof=%{x}<br>Grade=%{y}<extra></extra>\",\"legendgroup\":\"NO\",\"marker\":{\"color\":\"#636efa\",\"pattern\":{\"shape\":\"\"}},\"name\":\"NO\",\"offsetgroup\":\"NO\",\"orientation\":\"v\",\"showlegend\":true,\"textposition\":\"auto\",\"x\":[\"NO\",\"NO\",\"NO\",\"NO\",\"NO\",\"NO\",\"NO\",\"NO\",\"NO\",\"NO\",\"NO\",\"NO\",\"NO\",\"NO\",\"NO\",\"NO\",\"NO\",\"NO\",\"NO\",\"NO\",\"NO\",\"NO\",\"NO\",\"NO\",\"NO\",\"NO\",\"NO\",\"NO\",\"NO\",\"NO\",\"NO\",\"NO\",\"NO\",\"NO\",\"NO\",\"NO\",\"NO\",\"NO\",\"NO\",\"NO\",\"NO\",\"NO\",\"NO\",\"NO\",\"NO\",\"NO\",\"NO\",\"NO\",\"NO\",\"NO\",\"NO\",\"NO\",\"NO\",\"NO\",\"NO\",\"NO\",\"NO\",\"NO\",\"NO\",\"NO\",\"NO\",\"NO\",\"NO\",\"NO\",\"NO\",\"NO\",\"NO\",\"NO\",\"NO\",\"NO\",\"NO\",\"NO\",\"NO\",\"NO\",\"NO\",\"NO\",\"NO\",\"NO\",\"NO\",\"NO\",\"NO\",\"NO\",\"NO\",\"NO\",\"NO\",\"NO\",\"NO\",\"NO\",\"NO\",\"NO\",\"NO\",\"NO\",\"NO\",\"NO\",\"NO\",\"NO\",\"NO\",\"NO\",\"NO\",\"NO\",\"NO\",\"NO\",\"NO\",\"NO\",\"NO\",\"NO\",\"NO\",\"NO\",\"NO\",\"NO\",\"NO\",\"NO\",\"NO\",\"NO\",\"NO\",\"NO\",\"NO\",\"NO\",\"NO\",\"NO\",\"NO\",\"NO\",\"NO\",\"NO\",\"NO\",\"NO\",\"NO\",\"NO\",\"NO\",\"NO\",\"NO\",\"NO\",\"NO\",\"NO\",\"NO\",\"NO\",\"NO\",\"NO\",\"NO\",\"NO\",\"NO\",\"NO\",\"NO\",\"NO\",\"NO\",\"NO\",\"NO\",\"NO\",\"NO\",\"NO\",\"NO\",\"NO\",\"NO\",\"NO\",\"NO\",\"NO\",\"NO\",\"NO\",\"NO\",\"NO\",\"NO\",\"NO\",\"NO\",\"NO\",\"NO\",\"NO\",\"NO\",\"NO\",\"NO\",\"NO\",\"NO\",\"NO\",\"NO\",\"NO\",\"NO\",\"NO\",\"NO\",\"NO\",\"NO\",\"NO\",\"NO\",\"NO\",\"NO\",\"NO\",\"NO\",\"NO\",\"NO\",\"NO\",\"NO\",\"NO\",\"NO\",\"NO\",\"NO\",\"NO\",\"NO\",\"NO\",\"NO\",\"NO\",\"NO\",\"NO\",\"NO\",\"NO\",\"NO\",\"NO\",\"NO\",\"NO\",\"NO\",\"NO\",\"NO\",\"NO\",\"NO\",\"NO\",\"NO\",\"NO\",\"NO\",\"NO\",\"NO\",\"NO\",\"NO\",\"NO\",\"NO\",\"NO\",\"NO\",\"NO\",\"NO\",\"NO\",\"NO\",\"NO\",\"NO\",\"NO\",\"NO\",\"NO\",\"NO\",\"NO\",\"NO\",\"NO\",\"NO\",\"NO\",\"NO\",\"NO\",\"NO\",\"NO\",\"NO\",\"NO\",\"NO\",\"NO\",\"NO\",\"NO\",\"NO\",\"NO\",\"NO\",\"NO\",\"NO\",\"NO\",\"NO\",\"NO\",\"NO\",\"NO\",\"NO\",\"NO\",\"NO\",\"NO\",\"NO\",\"NO\",\"NO\",\"NO\",\"NO\",\"NO\",\"NO\",\"NO\",\"NO\",\"NO\",\"NO\",\"NO\",\"NO\",\"NO\",\"NO\",\"NO\",\"NO\",\"NO\",\"NO\",\"NO\",\"NO\",\"NO\",\"NO\",\"NO\",\"NO\",\"NO\",\"NO\",\"NO\",\"NO\",\"NO\",\"NO\",\"NO\",\"NO\",\"NO\",\"NO\",\"NO\",\"NO\",\"NO\",\"NO\",\"NO\",\"NO\",\"NO\",\"NO\",\"NO\",\"NO\",\"NO\",\"NO\",\"NO\",\"NO\",\"NO\",\"NO\",\"NO\",\"NO\",\"NO\",\"NO\",\"NO\",\"NO\",\"NO\",\"NO\",\"NO\",\"NO\",\"NO\",\"NO\",\"NO\",\"NO\",\"NO\",\"NO\",\"NO\",\"NO\",\"NO\",\"NO\",\"NO\",\"NO\",\"NO\",\"NO\",\"NO\",\"NO\",\"NO\",\"NO\",\"NO\",\"NO\",\"NO\",\"NO\",\"NO\",\"NO\",\"NO\",\"NO\",\"NO\",\"NO\",\"NO\",\"NO\",\"NO\",\"NO\",\"NO\",\"NO\",\"NO\",\"NO\",\"NO\",\"NO\",\"NO\",\"NO\",\"NO\",\"NO\",\"NO\",\"NO\",\"NO\",\"NO\",\"NO\",\"NO\",\"NO\",\"NO\",\"NO\",\"NO\",\"NO\",\"NO\",\"NO\",\"NO\",\"NO\",\"NO\",\"NO\",\"NO\",\"NO\",\"NO\",\"NO\",\"NO\",\"NO\",\"NO\",\"NO\",\"NO\",\"NO\",\"NO\",\"NO\",\"NO\",\"NO\",\"NO\",\"NO\",\"NO\",\"NO\",\"NO\",\"NO\",\"NO\",\"NO\",\"NO\",\"NO\",\"NO\",\"NO\",\"NO\",\"NO\",\"NO\",\"NO\",\"NO\",\"NO\",\"NO\",\"NO\",\"NO\",\"NO\",\"NO\",\"NO\",\"NO\",\"NO\",\"NO\",\"NO\",\"NO\",\"NO\",\"NO\",\"NO\",\"NO\",\"NO\",\"NO\",\"NO\",\"NO\",\"NO\",\"NO\",\"NO\",\"NO\",\"NO\",\"NO\",\"NO\",\"NO\",\"NO\",\"NO\",\"NO\",\"NO\",\"NO\",\"NO\",\"NO\",\"NO\",\"NO\",\"NO\",\"NO\",\"NO\",\"NO\",\"NO\",\"NO\",\"NO\",\"NO\",\"NO\",\"NO\",\"NO\",\"NO\",\"NO\",\"NO\",\"NO\",\"NO\",\"NO\",\"NO\",\"NO\",\"NO\",\"NO\",\"NO\",\"NO\",\"NO\",\"NO\",\"NO\",\"NO\",\"NO\",\"NO\",\"NO\",\"NO\",\"NO\",\"NO\",\"NO\",\"NO\",\"NO\",\"NO\",\"NO\",\"NO\",\"NO\",\"NO\",\"NO\",\"NO\",\"NO\",\"NO\",\"NO\",\"NO\",\"NO\",\"NO\",\"NO\",\"NO\",\"NO\",\"NO\",\"NO\",\"NO\",\"NO\",\"NO\",\"NO\",\"NO\",\"NO\",\"NO\",\"NO\",\"NO\",\"NO\",\"NO\",\"NO\",\"NO\",\"NO\",\"NO\",\"NO\",\"NO\",\"NO\",\"NO\",\"NO\",\"NO\",\"NO\",\"NO\",\"NO\",\"NO\",\"NO\",\"NO\",\"NO\",\"NO\",\"NO\",\"NO\",\"NO\",\"NO\",\"NO\",\"NO\",\"NO\",\"NO\",\"NO\",\"NO\",\"NO\",\"NO\",\"NO\",\"NO\",\"NO\",\"NO\",\"NO\",\"NO\",\"NO\",\"NO\",\"NO\",\"NO\",\"NO\",\"NO\",\"NO\",\"NO\",\"NO\",\"NO\",\"NO\",\"NO\",\"NO\",\"NO\",\"NO\",\"NO\",\"NO\",\"NO\",\"NO\",\"NO\",\"NO\",\"NO\",\"NO\",\"NO\",\"NO\",\"NO\",\"NO\",\"NO\",\"NO\",\"NO\",\"NO\",\"NO\",\"NO\",\"NO\",\"NO\",\"NO\",\"NO\",\"NO\",\"NO\",\"NO\",\"NO\",\"NO\",\"NO\",\"NO\",\"NO\",\"NO\",\"NO\",\"NO\",\"NO\",\"NO\",\"NO\",\"NO\",\"NO\",\"NO\",\"NO\",\"NO\",\"NO\",\"NO\",\"NO\",\"NO\",\"NO\",\"NO\",\"NO\",\"NO\",\"NO\",\"NO\",\"NO\",\"NO\",\"NO\",\"NO\",\"NO\",\"NO\",\"NO\",\"NO\",\"NO\",\"NO\",\"NO\",\"NO\",\"NO\",\"NO\",\"NO\",\"NO\",\"NO\",\"NO\",\"NO\",\"NO\",\"NO\",\"NO\",\"NO\",\"NO\",\"NO\",\"NO\",\"NO\",\"NO\",\"NO\",\"NO\",\"NO\",\"NO\",\"NO\",\"NO\",\"NO\",\"NO\",\"NO\",\"NO\",\"NO\",\"NO\",\"NO\",\"NO\",\"NO\",\"NO\",\"NO\",\"NO\",\"NO\",\"NO\",\"NO\",\"NO\",\"NO\",\"NO\",\"NO\",\"NO\",\"NO\",\"NO\",\"NO\",\"NO\",\"NO\",\"NO\",\"NO\",\"NO\",\"NO\",\"NO\",\"NO\",\"NO\",\"NO\",\"NO\",\"NO\",\"NO\",\"NO\",\"NO\",\"NO\",\"NO\",\"NO\",\"NO\",\"NO\",\"NO\",\"NO\",\"NO\",\"NO\",\"NO\",\"NO\",\"NO\",\"NO\",\"NO\",\"NO\",\"NO\",\"NO\",\"NO\",\"NO\",\"NO\",\"NO\",\"NO\",\"NO\",\"NO\",\"NO\",\"NO\",\"NO\",\"NO\",\"NO\",\"NO\",\"NO\",\"NO\",\"NO\",\"NO\",\"NO\",\"NO\",\"NO\",\"NO\",\"NO\",\"NO\",\"NO\",\"NO\",\"NO\",\"NO\",\"NO\",\"NO\",\"NO\",\"NO\",\"NO\",\"NO\",\"NO\",\"NO\",\"NO\",\"NO\",\"NO\",\"NO\",\"NO\",\"NO\",\"NO\",\"NO\",\"NO\",\"NO\",\"NO\",\"NO\",\"NO\",\"NO\",\"NO\",\"NO\",\"NO\",\"NO\",\"NO\",\"NO\",\"NO\",\"NO\",\"NO\",\"NO\",\"NO\",\"NO\",\"NO\",\"NO\",\"NO\",\"NO\",\"NO\",\"NO\",\"NO\",\"NO\",\"NO\",\"NO\",\"NO\",\"NO\",\"NO\",\"NO\",\"NO\",\"NO\",\"NO\",\"NO\",\"NO\",\"NO\",\"NO\",\"NO\",\"NO\",\"NO\",\"NO\",\"NO\",\"NO\",\"NO\",\"NO\",\"NO\",\"NO\",\"NO\",\"NO\",\"NO\",\"NO\",\"NO\",\"NO\",\"NO\",\"NO\",\"NO\",\"NO\",\"NO\",\"NO\",\"NO\",\"NO\",\"NO\",\"NO\",\"NO\",\"NO\",\"NO\",\"NO\",\"NO\",\"NO\",\"NO\",\"NO\",\"NO\",\"NO\",\"NO\",\"NO\",\"NO\",\"NO\",\"NO\",\"NO\",\"NO\",\"NO\",\"NO\",\"NO\",\"NO\",\"NO\",\"NO\",\"NO\",\"NO\",\"NO\",\"NO\",\"NO\",\"NO\",\"NO\",\"NO\",\"NO\",\"NO\",\"NO\",\"NO\",\"NO\",\"NO\",\"NO\",\"NO\",\"NO\",\"NO\",\"NO\",\"NO\",\"NO\",\"NO\",\"NO\",\"NO\",\"NO\",\"NO\",\"NO\",\"NO\",\"NO\",\"NO\",\"NO\",\"NO\",\"NO\",\"NO\",\"NO\",\"NO\",\"NO\",\"NO\",\"NO\",\"NO\",\"NO\",\"NO\",\"NO\",\"NO\",\"NO\",\"NO\",\"NO\",\"NO\",\"NO\",\"NO\",\"NO\",\"NO\",\"NO\",\"NO\",\"NO\",\"NO\",\"NO\",\"NO\",\"NO\",\"NO\",\"NO\",\"NO\",\"NO\",\"NO\",\"NO\",\"NO\",\"NO\",\"NO\",\"NO\",\"NO\",\"NO\",\"NO\",\"NO\",\"NO\",\"NO\",\"NO\",\"NO\",\"NO\",\"NO\",\"NO\",\"NO\",\"NO\",\"NO\",\"NO\",\"NO\",\"NO\",\"NO\",\"NO\",\"NO\",\"NO\",\"NO\",\"NO\",\"NO\",\"NO\",\"NO\",\"NO\",\"NO\",\"NO\",\"NO\",\"NO\",\"NO\",\"NO\",\"NO\",\"NO\",\"NO\",\"NO\",\"NO\",\"NO\",\"NO\",\"NO\",\"NO\",\"NO\",\"NO\",\"NO\",\"NO\",\"NO\",\"NO\",\"NO\",\"NO\",\"NO\",\"NO\",\"NO\",\"NO\",\"NO\",\"NO\",\"NO\",\"NO\",\"NO\",\"NO\",\"NO\",\"NO\",\"NO\",\"NO\",\"NO\",\"NO\",\"NO\",\"NO\",\"NO\",\"NO\",\"NO\",\"NO\",\"NO\",\"NO\",\"NO\",\"NO\",\"NO\",\"NO\",\"NO\",\"NO\",\"NO\",\"NO\",\"NO\",\"NO\",\"NO\",\"NO\",\"NO\",\"NO\",\"NO\",\"NO\",\"NO\",\"NO\",\"NO\",\"NO\",\"NO\",\"NO\",\"NO\",\"NO\",\"NO\",\"NO\",\"NO\",\"NO\",\"NO\",\"NO\",\"NO\",\"NO\",\"NO\",\"NO\",\"NO\",\"NO\",\"NO\",\"NO\",\"NO\",\"NO\",\"NO\",\"NO\",\"NO\",\"NO\",\"NO\",\"NO\",\"NO\",\"NO\",\"NO\",\"NO\",\"NO\",\"NO\",\"NO\",\"NO\",\"NO\",\"NO\",\"NO\",\"NO\",\"NO\",\"NO\",\"NO\",\"NO\",\"NO\",\"NO\",\"NO\",\"NO\",\"NO\",\"NO\",\"NO\",\"NO\",\"NO\",\"NO\",\"NO\",\"NO\",\"NO\",\"NO\",\"NO\",\"NO\",\"NO\",\"NO\",\"NO\",\"NO\",\"NO\",\"NO\",\"NO\",\"NO\",\"NO\",\"NO\",\"NO\",\"NO\",\"NO\",\"NO\",\"NO\",\"NO\",\"NO\",\"NO\",\"NO\",\"NO\",\"NO\",\"NO\",\"NO\",\"NO\",\"NO\",\"NO\",\"NO\",\"NO\",\"NO\",\"NO\",\"NO\",\"NO\",\"NO\",\"NO\",\"NO\",\"NO\",\"NO\",\"NO\",\"NO\",\"NO\",\"NO\",\"NO\",\"NO\",\"NO\",\"NO\",\"NO\",\"NO\",\"NO\",\"NO\",\"NO\",\"NO\",\"NO\",\"NO\",\"NO\",\"NO\",\"NO\",\"NO\",\"NO\",\"NO\",\"NO\",\"NO\",\"NO\",\"NO\",\"NO\",\"NO\",\"NO\",\"NO\",\"NO\",\"NO\",\"NO\",\"NO\",\"NO\",\"NO\",\"NO\",\"NO\",\"NO\",\"NO\",\"NO\",\"NO\",\"NO\",\"NO\",\"NO\",\"NO\",\"NO\",\"NO\",\"NO\",\"NO\",\"NO\",\"NO\",\"NO\",\"NO\",\"NO\",\"NO\",\"NO\",\"NO\",\"NO\",\"NO\",\"NO\",\"NO\",\"NO\",\"NO\",\"NO\",\"NO\",\"NO\",\"NO\",\"NO\",\"NO\",\"NO\",\"NO\",\"NO\",\"NO\",\"NO\",\"NO\",\"NO\",\"NO\",\"NO\",\"NO\",\"NO\",\"NO\",\"NO\",\"NO\",\"NO\",\"NO\",\"NO\",\"NO\",\"NO\",\"NO\",\"NO\",\"NO\",\"NO\",\"NO\",\"NO\",\"NO\",\"NO\",\"NO\",\"NO\",\"NO\",\"NO\",\"NO\",\"NO\",\"NO\",\"NO\",\"NO\",\"NO\",\"NO\",\"NO\",\"NO\",\"NO\",\"NO\",\"NO\",\"NO\",\"NO\",\"NO\",\"NO\",\"NO\",\"NO\",\"NO\",\"NO\",\"NO\",\"NO\",\"NO\",\"NO\",\"NO\",\"NO\",\"NO\",\"NO\",\"NO\",\"NO\",\"NO\",\"NO\",\"NO\",\"NO\",\"NO\",\"NO\",\"NO\",\"NO\",\"NO\",\"NO\",\"NO\",\"NO\",\"NO\",\"NO\",\"NO\",\"NO\",\"NO\",\"NO\",\"NO\",\"NO\",\"NO\",\"NO\",\"NO\",\"NO\",\"NO\",\"NO\",\"NO\",\"NO\",\"NO\",\"NO\",\"NO\",\"NO\",\"NO\",\"NO\",\"NO\",\"NO\",\"NO\",\"NO\",\"NO\",\"NO\",\"NO\",\"NO\",\"NO\",\"NO\",\"NO\",\"NO\",\"NO\",\"NO\",\"NO\",\"NO\",\"NO\",\"NO\",\"NO\",\"NO\",\"NO\",\"NO\",\"NO\",\"NO\",\"NO\",\"NO\",\"NO\",\"NO\",\"NO\",\"NO\",\"NO\",\"NO\",\"NO\",\"NO\",\"NO\",\"NO\",\"NO\",\"NO\",\"NO\",\"NO\",\"NO\",\"NO\",\"NO\",\"NO\",\"NO\",\"NO\",\"NO\",\"NO\",\"NO\",\"NO\",\"NO\",\"NO\",\"NO\",\"NO\",\"NO\",\"NO\",\"NO\",\"NO\",\"NO\",\"NO\",\"NO\",\"NO\",\"NO\",\"NO\",\"NO\",\"NO\",\"NO\",\"NO\",\"NO\",\"NO\",\"NO\",\"NO\",\"NO\",\"NO\",\"NO\",\"NO\",\"NO\",\"NO\",\"NO\",\"NO\",\"NO\",\"NO\",\"NO\",\"NO\",\"NO\",\"NO\",\"NO\",\"NO\",\"NO\",\"NO\",\"NO\",\"NO\",\"NO\",\"NO\",\"NO\",\"NO\",\"NO\",\"NO\",\"NO\",\"NO\",\"NO\",\"NO\",\"NO\",\"NO\",\"NO\",\"NO\",\"NO\",\"NO\",\"NO\",\"NO\",\"NO\",\"NO\",\"NO\",\"NO\",\"NO\",\"NO\",\"NO\",\"NO\",\"NO\",\"NO\",\"NO\",\"NO\",\"NO\",\"NO\",\"NO\",\"NO\",\"NO\",\"NO\",\"NO\",\"NO\",\"NO\",\"NO\",\"NO\",\"NO\",\"NO\",\"NO\",\"NO\",\"NO\",\"NO\",\"NO\",\"NO\",\"NO\",\"NO\",\"NO\",\"NO\",\"NO\",\"NO\",\"NO\",\"NO\",\"NO\",\"NO\",\"NO\",\"NO\",\"NO\",\"NO\",\"NO\",\"NO\",\"NO\",\"NO\",\"NO\",\"NO\",\"NO\",\"NO\",\"NO\",\"NO\",\"NO\",\"NO\",\"NO\",\"NO\",\"NO\",\"NO\",\"NO\",\"NO\",\"NO\",\"NO\",\"NO\",\"NO\",\"NO\",\"NO\",\"NO\",\"NO\",\"NO\",\"NO\",\"NO\",\"NO\",\"NO\",\"NO\",\"NO\",\"NO\",\"NO\",\"NO\",\"NO\",\"NO\",\"NO\",\"NO\",\"NO\",\"NO\"],\"xaxis\":\"x\",\"y\":[\"D\",\"D\",\"A\",\"D\",\"D\",\"D\",\"E\",\"B\",\"D\",\"D\",\"A\",\"C\",\"D\",\"D\",\"D\",\"D\",\"A\",\"B\",\"B\",\"E\",\"D\",\"C\",\"D\",\"A\",\"B\",\"D\",\"C\",\"D\",\"E\",\"B\",\"D\",\"D\",\"C\",\"D\",\"D\",\"D\",\"C\",\"D\",\"D\",\"D\",\"B\",\"B\",\"D\",\"B\",\"A\",\"C\",\"C\",\"E\",\"C\",\"D\",\"D\",\"D\",\"D\",\"D\",\"E\",\"B\",\"D\",\"D\",\"B\",\"D\",\"D\",\"D\",\"E\",\"C\",\"C\",\"D\",\"C\",\"D\",\"D\",\"A\",\"B\",\"E\",\"C\",\"D\",\"A\",\"E\",\"D\",\"A\",\"D\",\"E\",\"D\",\"D\",\"C\",\"D\",\"A\",\"D\",\"D\",\"D\",\"C\",\"D\",\"D\",\"A\",\"D\",\"E\",\"D\",\"B\",\"B\",\"D\",\"A\",\"D\",\"D\",\"D\",\"D\",\"C\",\"C\",\"D\",\"B\",\"B\",\"C\",\"D\",\"B\",\"A\",\"D\",\"D\",\"D\",\"D\",\"D\",\"C\",\"D\",\"C\",\"B\",\"C\",\"B\",\"B\",\"B\",\"A\",\"D\",\"C\",\"D\",\"D\",\"C\",\"D\",\"D\",\"C\",\"D\",\"A\",\"D\",\"D\",\"D\",\"D\",\"D\",\"D\",\"B\",\"D\",\"D\",\"D\",\"D\",\"C\",\"C\",\"D\",\"B\",\"A\",\"B\",\"D\",\"C\",\"D\",\"C\",\"D\",\"C\",\"D\",\"B\",\"B\",\"D\",\"B\",\"A\",\"D\",\"C\",\"D\",\"D\",\"D\",\"D\",\"D\",\"D\",\"A\",\"D\",\"C\",\"C\",\"C\",\"C\",\"A\",\"D\",\"D\",\"B\",\"C\",\"D\",\"B\",\"D\",\"D\",\"B\",\"D\",\"C\",\"D\",\"D\",\"D\",\"B\",\"D\",\"B\",\"B\",\"D\",\"D\",\"D\",\"D\",\"E\",\"E\",\"D\",\"A\",\"A\",\"D\",\"C\",\"D\",\"D\",\"B\",\"B\",\"D\",\"D\",\"C\",\"B\",\"D\",\"C\",\"D\",\"D\",\"A\",\"B\",\"D\",\"B\",\"C\",\"C\",\"D\",\"A\",\"D\",\"B\",\"C\",\"B\",\"B\",\"D\",\"D\",\"B\",\"D\",\"D\",\"A\",\"D\",\"B\",\"B\",\"B\",\"B\",\"D\",\"B\",\"C\",\"C\",\"C\",\"D\",\"D\",\"D\",\"D\",\"D\",\"D\",\"A\",\"D\",\"C\",\"B\",\"D\",\"D\",\"D\",\"D\",\"A\",\"D\",\"D\",\"B\",\"C\",\"D\",\"C\",\"D\",\"D\",\"C\",\"C\",\"E\",\"C\",\"B\",\"C\",\"D\",\"E\",\"B\",\"C\",\"A\",\"D\",\"C\",\"D\",\"C\",\"C\",\"C\",\"A\",\"D\",\"B\",\"C\",\"D\",\"C\",\"D\",\"C\",\"C\",\"D\",\"D\",\"D\",\"D\",\"D\",\"C\",\"B\",\"B\",\"C\",\"D\",\"D\",\"D\",\"A\",\"B\",\"C\",\"D\",\"D\",\"D\",\"B\",\"D\",\"D\",\"B\",\"D\",\"A\",\"B\",\"D\",\"B\",\"D\",\"D\",\"C\",\"C\",\"D\",\"C\",\"D\",\"B\",\"D\",\"C\",\"D\",\"B\",\"B\",\"D\",\"C\",\"D\",\"B\",\"D\",\"B\",\"A\",\"C\",\"C\",\"C\",\"B\",\"C\",\"D\",\"D\",\"A\",\"B\",\"D\",\"D\",\"D\",\"D\",\"B\",\"C\",\"B\",\"C\",\"B\",\"D\",\"D\",\"D\",\"C\",\"C\",\"D\",\"D\",\"D\",\"B\",\"B\",\"D\",\"C\",\"D\",\"B\",\"D\",\"B\",\"D\",\"D\",\"C\",\"A\",\"D\",\"D\",\"A\",\"C\",\"D\",\"D\",\"D\",\"B\",\"C\",\"D\",\"C\",\"D\",\"C\",\"C\",\"E\",\"D\",\"D\",\"E\",\"A\",\"D\",\"A\",\"D\",\"A\",\"C\",\"A\",\"E\",\"B\",\"C\",\"D\",\"B\",\"D\",\"D\",\"D\",\"A\",\"D\",\"B\",\"B\",\"B\",\"D\",\"B\",\"D\",\"D\",\"B\",\"C\",\"D\",\"A\",\"D\",\"C\",\"A\",\"D\",\"B\",\"D\",\"D\",\"C\",\"C\",\"D\",\"D\",\"C\",\"D\",\"C\",\"A\",\"B\",\"B\",\"C\",\"C\",\"D\",\"D\",\"A\",\"C\",\"D\",\"E\",\"A\",\"B\",\"E\",\"D\",\"D\",\"C\",\"C\",\"C\",\"C\",\"D\",\"B\",\"C\",\"C\",\"C\",\"D\",\"C\",\"D\",\"D\",\"C\",\"B\",\"C\",\"D\",\"C\",\"C\",\"C\",\"B\",\"D\",\"D\",\"C\",\"D\",\"A\",\"B\",\"A\",\"C\",\"C\",\"D\",\"B\",\"D\",\"A\",\"D\",\"A\",\"A\",\"D\",\"B\",\"D\",\"D\",\"D\",\"B\",\"C\",\"C\",\"D\",\"D\",\"D\",\"A\",\"A\",\"D\",\"D\",\"D\",\"C\",\"C\",\"D\",\"D\",\"C\",\"D\",\"E\",\"E\",\"B\",\"C\",\"E\",\"B\",\"B\",\"B\",\"D\",\"A\",\"E\",\"D\",\"D\",\"D\",\"D\",\"B\",\"D\",\"D\",\"C\",\"D\",\"A\",\"D\",\"D\",\"B\",\"D\",\"D\",\"B\",\"D\",\"A\",\"D\",\"C\",\"A\",\"B\",\"A\",\"A\",\"D\",\"C\",\"C\",\"C\",\"E\",\"B\",\"E\",\"A\",\"D\",\"C\",\"D\",\"C\",\"B\",\"B\",\"D\",\"D\",\"D\",\"D\",\"D\",\"B\",\"E\",\"D\",\"D\",\"D\",\"C\",\"D\",\"D\",\"C\",\"C\",\"E\",\"B\",\"C\",\"D\",\"D\",\"C\",\"C\",\"C\",\"A\",\"D\",\"D\",\"D\",\"B\",\"D\",\"E\",\"C\",\"A\",\"A\",\"C\",\"B\",\"D\",\"D\",\"D\",\"D\",\"C\",\"D\",\"D\",\"B\",\"B\",\"E\",\"D\",\"C\",\"D\",\"A\",\"D\",\"D\",\"C\",\"A\",\"B\",\"D\",\"C\",\"A\",\"D\",\"C\",\"A\",\"B\",\"D\",\"D\",\"C\",\"D\",\"D\",\"C\",\"D\",\"B\",\"D\",\"C\",\"C\",\"C\",\"C\",\"C\",\"D\",\"B\",\"D\",\"C\",\"D\",\"B\",\"D\",\"B\",\"D\",\"C\",\"D\",\"E\",\"C\",\"D\",\"D\",\"B\",\"C\",\"D\",\"D\",\"A\",\"C\",\"C\",\"D\",\"E\",\"D\",\"D\",\"A\",\"A\",\"C\",\"C\",\"D\",\"C\",\"D\",\"D\",\"D\",\"B\",\"D\",\"C\",\"D\",\"A\",\"D\",\"C\",\"D\",\"D\",\"D\",\"D\",\"B\",\"C\",\"C\",\"D\",\"D\",\"C\",\"C\",\"D\",\"B\",\"D\",\"B\",\"D\",\"D\",\"D\",\"C\",\"D\",\"C\",\"D\",\"B\",\"D\",\"D\",\"B\",\"B\",\"D\",\"D\",\"B\",\"D\",\"D\",\"D\",\"D\",\"D\",\"B\",\"A\",\"D\",\"B\",\"C\",\"C\",\"D\",\"B\",\"D\",\"D\",\"B\",\"C\",\"D\",\"C\",\"D\",\"B\",\"D\",\"D\",\"D\",\"D\",\"D\",\"B\",\"A\",\"B\",\"B\",\"B\",\"C\",\"D\",\"D\",\"E\",\"E\",\"C\",\"E\",\"B\",\"D\",\"B\",\"B\",\"C\",\"D\",\"B\",\"D\",\"B\",\"D\",\"D\",\"D\",\"D\",\"C\",\"C\",\"B\",\"B\",\"D\",\"D\",\"D\",\"D\",\"A\",\"B\",\"A\",\"A\",\"D\",\"C\",\"B\",\"D\",\"D\",\"D\",\"B\",\"C\",\"D\",\"D\",\"C\",\"E\",\"D\",\"D\",\"D\",\"A\",\"B\",\"C\",\"B\",\"D\",\"D\",\"D\",\"E\",\"C\",\"D\",\"E\",\"D\",\"D\",\"A\",\"D\",\"C\",\"A\",\"B\",\"B\",\"D\",\"D\",\"A\",\"C\",\"B\",\"D\",\"C\",\"D\",\"D\",\"C\",\"C\",\"C\",\"C\",\"C\",\"D\",\"D\",\"D\",\"A\",\"D\",\"D\",\"D\",\"D\",\"C\",\"C\",\"D\",\"C\",\"D\",\"B\",\"D\",\"D\",\"C\",\"C\",\"D\",\"C\",\"B\",\"D\",\"E\",\"D\",\"B\",\"C\",\"D\",\"D\",\"D\",\"C\",\"C\",\"B\",\"D\",\"B\",\"D\",\"C\",\"C\",\"E\",\"E\",\"D\",\"E\",\"B\",\"D\",\"A\",\"D\",\"C\",\"D\",\"C\",\"D\",\"C\",\"D\",\"D\",\"D\",\"C\",\"B\",\"D\",\"D\",\"D\",\"C\",\"D\",\"D\",\"D\",\"D\",\"C\",\"B\",\"D\",\"D\",\"C\",\"C\",\"D\",\"B\",\"D\",\"D\",\"C\",\"E\",\"B\",\"C\",\"D\",\"D\",\"C\",\"D\",\"C\",\"B\",\"B\",\"D\",\"D\",\"C\",\"B\",\"E\",\"D\",\"C\",\"D\",\"D\",\"B\",\"D\",\"C\",\"E\",\"D\",\"C\",\"D\",\"A\",\"D\",\"D\",\"D\",\"D\",\"A\",\"C\",\"E\",\"D\",\"D\",\"A\",\"C\",\"C\",\"D\",\"C\",\"D\",\"D\",\"D\",\"B\",\"D\",\"D\",\"A\",\"C\",\"C\",\"B\",\"D\",\"A\",\"B\",\"E\",\"D\",\"D\",\"D\",\"A\",\"D\",\"C\",\"D\",\"C\",\"D\",\"C\",\"C\",\"D\",\"D\",\"C\",\"E\",\"D\",\"C\",\"C\",\"D\",\"D\",\"C\",\"C\",\"D\",\"C\",\"B\",\"D\",\"A\",\"D\",\"D\",\"E\",\"B\",\"D\",\"D\",\"C\",\"A\",\"D\",\"D\",\"C\",\"D\",\"D\",\"D\",\"D\",\"D\",\"B\",\"D\",\"D\",\"D\",\"C\",\"C\",\"E\",\"C\",\"C\",\"D\",\"D\",\"E\",\"D\",\"D\",\"D\",\"D\",\"C\",\"E\",\"D\",\"D\",\"A\",\"D\",\"D\",\"B\",\"D\",\"B\",\"A\",\"D\",\"D\",\"B\",\"D\",\"B\",\"D\",\"D\",\"B\",\"C\",\"C\",\"B\",\"D\",\"D\",\"B\",\"B\",\"B\",\"D\",\"D\",\"B\",\"A\",\"C\",\"D\",\"D\",\"A\",\"D\",\"D\",\"E\",\"C\",\"C\",\"C\",\"D\",\"A\",\"D\",\"B\",\"E\",\"D\",\"B\",\"D\",\"D\",\"D\",\"B\",\"C\",\"D\",\"C\",\"A\",\"B\",\"C\",\"D\",\"C\",\"C\",\"B\",\"D\",\"C\",\"B\",\"C\",\"C\",\"A\",\"E\",\"D\",\"D\",\"D\",\"A\",\"D\",\"C\",\"D\",\"D\",\"D\",\"D\",\"D\",\"A\",\"B\",\"A\",\"D\",\"A\",\"D\",\"A\",\"C\",\"D\",\"D\",\"B\",\"D\",\"C\",\"C\",\"D\",\"C\",\"C\",\"D\",\"D\",\"D\",\"D\",\"D\",\"B\",\"D\",\"D\",\"C\",\"D\",\"C\",\"E\",\"A\",\"D\",\"C\",\"B\",\"D\",\"B\",\"A\",\"D\",\"B\",\"C\",\"A\",\"D\",\"D\",\"D\",\"D\",\"D\",\"D\",\"D\",\"D\",\"D\",\"C\",\"D\",\"D\",\"A\",\"A\",\"D\",\"A\",\"D\",\"B\",\"D\",\"D\",\"C\",\"B\",\"B\",\"D\",\"B\",\"E\",\"C\",\"D\",\"A\",\"C\",\"B\",\"D\",\"D\",\"A\",\"D\",\"D\",\"C\",\"D\",\"C\",\"C\",\"C\",\"B\",\"D\",\"C\",\"C\",\"D\",\"D\",\"D\",\"A\",\"C\",\"D\",\"D\",\"D\",\"D\",\"A\",\"D\",\"D\",\"D\",\"A\",\"D\",\"D\",\"A\",\"C\",\"C\",\"D\",\"C\",\"D\",\"C\",\"D\",\"B\",\"D\",\"D\",\"D\",\"A\",\"B\",\"D\",\"A\",\"B\",\"D\",\"A\",\"E\",\"D\",\"D\",\"C\",\"D\",\"B\",\"D\",\"E\",\"C\",\"B\",\"C\",\"D\",\"A\",\"E\",\"C\",\"D\",\"B\",\"D\",\"A\",\"B\",\"D\",\"A\",\"A\",\"D\",\"A\",\"A\",\"D\",\"B\",\"D\",\"E\",\"D\",\"D\",\"B\",\"D\",\"D\",\"D\",\"D\",\"B\",\"D\",\"B\",\"D\",\"D\",\"C\",\"D\",\"D\",\"D\",\"C\",\"D\",\"D\",\"B\",\"D\",\"D\",\"D\",\"C\",\"A\",\"D\",\"D\",\"E\",\"C\",\"D\",\"D\",\"C\",\"D\",\"D\",\"B\",\"B\",\"D\",\"C\",\"D\",\"D\",\"B\",\"D\",\"C\",\"B\",\"D\",\"B\",\"C\",\"D\",\"D\",\"A\",\"C\",\"D\",\"D\",\"B\",\"D\",\"C\",\"D\",\"D\",\"D\",\"D\",\"D\",\"A\",\"D\",\"A\",\"D\",\"D\",\"C\",\"C\",\"D\",\"A\",\"D\",\"D\",\"B\",\"D\",\"C\",\"A\",\"A\",\"C\",\"C\",\"D\",\"D\",\"D\",\"C\",\"D\",\"B\",\"D\",\"A\",\"A\",\"D\",\"D\",\"D\",\"D\",\"B\",\"B\",\"D\",\"C\",\"D\",\"D\",\"D\",\"E\",\"D\",\"A\",\"A\",\"D\",\"C\",\"B\",\"D\",\"B\",\"C\",\"D\",\"D\",\"C\",\"E\",\"D\",\"B\",\"B\",\"D\",\"B\",\"D\",\"D\",\"C\",\"B\",\"D\",\"D\",\"D\",\"C\",\"D\",\"D\",\"A\",\"D\",\"B\",\"D\",\"A\",\"D\",\"D\",\"A\",\"D\",\"D\",\"E\",\"D\",\"C\",\"C\",\"B\",\"D\",\"B\",\"D\",\"B\",\"D\",\"A\",\"E\",\"A\",\"C\",\"C\",\"D\",\"D\",\"D\",\"C\",\"D\",\"A\",\"D\",\"D\",\"D\",\"C\",\"D\",\"D\",\"B\",\"C\",\"D\",\"D\",\"D\",\"D\",\"A\",\"D\",\"C\",\"E\",\"C\",\"E\",\"B\",\"D\",\"D\",\"A\",\"D\",\"B\",\"B\",\"B\",\"C\",\"D\",\"D\",\"D\",\"D\",\"D\",\"B\",\"C\",\"E\",\"D\",\"C\",\"D\",\"D\",\"C\",\"A\",\"B\",\"D\",\"C\",\"C\",\"D\",\"B\",\"D\",\"D\",\"D\",\"D\",\"D\",\"B\",\"C\"],\"yaxis\":\"y\",\"type\":\"bar\"},{\"alignmentgroup\":\"True\",\"hovertemplate\":\"roof=%{x}<br>Grade=%{y}<extra></extra>\",\"legendgroup\":\"YES\",\"marker\":{\"color\":\"#EF553B\",\"pattern\":{\"shape\":\"\"}},\"name\":\"YES\",\"offsetgroup\":\"YES\",\"orientation\":\"v\",\"showlegend\":true,\"textposition\":\"auto\",\"x\":[\"YES\",\"YES\",\"YES\",\"YES\",\"YES\",\"YES\",\"YES\",\"YES\",\"YES\",\"YES\",\"YES\",\"YES\",\"YES\",\"YES\",\"YES\",\"YES\",\"YES\",\"YES\",\"YES\",\"YES\",\"YES\",\"YES\",\"YES\",\"YES\",\"YES\",\"YES\",\"YES\",\"YES\",\"YES\",\"YES\",\"YES\",\"YES\",\"YES\",\"YES\",\"YES\",\"YES\",\"YES\",\"YES\",\"YES\",\"YES\",\"YES\",\"YES\",\"YES\",\"YES\",\"YES\",\"YES\",\"YES\",\"YES\",\"YES\",\"YES\",\"YES\",\"YES\",\"YES\",\"YES\",\"YES\",\"YES\",\"YES\",\"YES\",\"YES\",\"YES\",\"YES\",\"YES\",\"YES\",\"YES\",\"YES\",\"YES\",\"YES\",\"YES\",\"YES\",\"YES\",\"YES\",\"YES\",\"YES\",\"YES\",\"YES\",\"YES\",\"YES\",\"YES\",\"YES\",\"YES\",\"YES\",\"YES\",\"YES\",\"YES\",\"YES\",\"YES\",\"YES\",\"YES\",\"YES\",\"YES\",\"YES\",\"YES\",\"YES\",\"YES\",\"YES\",\"YES\",\"YES\",\"YES\",\"YES\",\"YES\",\"YES\",\"YES\",\"YES\",\"YES\",\"YES\",\"YES\",\"YES\",\"YES\",\"YES\",\"YES\",\"YES\",\"YES\",\"YES\",\"YES\",\"YES\",\"YES\",\"YES\",\"YES\",\"YES\",\"YES\",\"YES\",\"YES\",\"YES\",\"YES\",\"YES\",\"YES\",\"YES\",\"YES\",\"YES\",\"YES\",\"YES\",\"YES\",\"YES\",\"YES\",\"YES\",\"YES\",\"YES\",\"YES\",\"YES\",\"YES\",\"YES\",\"YES\",\"YES\",\"YES\",\"YES\",\"YES\",\"YES\",\"YES\",\"YES\",\"YES\",\"YES\",\"YES\",\"YES\",\"YES\",\"YES\",\"YES\",\"YES\",\"YES\",\"YES\",\"YES\",\"YES\",\"YES\",\"YES\",\"YES\",\"YES\",\"YES\",\"YES\",\"YES\",\"YES\",\"YES\",\"YES\",\"YES\",\"YES\",\"YES\",\"YES\",\"YES\",\"YES\",\"YES\",\"YES\",\"YES\",\"YES\",\"YES\",\"YES\",\"YES\",\"YES\",\"YES\",\"YES\",\"YES\",\"YES\",\"YES\",\"YES\",\"YES\",\"YES\",\"YES\",\"YES\",\"YES\",\"YES\",\"YES\",\"YES\",\"YES\",\"YES\",\"YES\",\"YES\",\"YES\",\"YES\",\"YES\",\"YES\",\"YES\",\"YES\",\"YES\",\"YES\",\"YES\",\"YES\",\"YES\",\"YES\",\"YES\",\"YES\",\"YES\",\"YES\",\"YES\",\"YES\",\"YES\",\"YES\",\"YES\",\"YES\",\"YES\",\"YES\",\"YES\",\"YES\",\"YES\",\"YES\",\"YES\",\"YES\",\"YES\",\"YES\",\"YES\",\"YES\",\"YES\",\"YES\",\"YES\",\"YES\",\"YES\",\"YES\",\"YES\",\"YES\",\"YES\",\"YES\",\"YES\",\"YES\",\"YES\",\"YES\",\"YES\",\"YES\",\"YES\",\"YES\",\"YES\",\"YES\",\"YES\",\"YES\",\"YES\",\"YES\",\"YES\",\"YES\",\"YES\",\"YES\",\"YES\",\"YES\",\"YES\",\"YES\",\"YES\",\"YES\",\"YES\",\"YES\",\"YES\",\"YES\",\"YES\",\"YES\",\"YES\",\"YES\",\"YES\",\"YES\",\"YES\",\"YES\",\"YES\",\"YES\",\"YES\",\"YES\",\"YES\",\"YES\",\"YES\",\"YES\",\"YES\",\"YES\",\"YES\",\"YES\",\"YES\",\"YES\",\"YES\",\"YES\",\"YES\",\"YES\",\"YES\",\"YES\",\"YES\",\"YES\",\"YES\",\"YES\",\"YES\",\"YES\",\"YES\",\"YES\",\"YES\",\"YES\",\"YES\",\"YES\",\"YES\",\"YES\",\"YES\",\"YES\",\"YES\",\"YES\",\"YES\",\"YES\",\"YES\",\"YES\",\"YES\",\"YES\",\"YES\",\"YES\",\"YES\",\"YES\",\"YES\",\"YES\",\"YES\",\"YES\",\"YES\",\"YES\",\"YES\",\"YES\",\"YES\",\"YES\",\"YES\",\"YES\",\"YES\",\"YES\",\"YES\",\"YES\",\"YES\",\"YES\",\"YES\",\"YES\",\"YES\",\"YES\",\"YES\",\"YES\",\"YES\",\"YES\",\"YES\",\"YES\",\"YES\",\"YES\",\"YES\",\"YES\",\"YES\",\"YES\",\"YES\",\"YES\",\"YES\",\"YES\",\"YES\",\"YES\",\"YES\",\"YES\",\"YES\",\"YES\",\"YES\",\"YES\",\"YES\",\"YES\",\"YES\",\"YES\",\"YES\",\"YES\",\"YES\",\"YES\",\"YES\",\"YES\",\"YES\",\"YES\",\"YES\",\"YES\",\"YES\",\"YES\",\"YES\",\"YES\",\"YES\",\"YES\",\"YES\",\"YES\",\"YES\",\"YES\",\"YES\",\"YES\",\"YES\",\"YES\",\"YES\",\"YES\",\"YES\",\"YES\",\"YES\",\"YES\",\"YES\",\"YES\",\"YES\",\"YES\",\"YES\",\"YES\",\"YES\",\"YES\",\"YES\",\"YES\",\"YES\",\"YES\",\"YES\",\"YES\",\"YES\",\"YES\",\"YES\",\"YES\",\"YES\",\"YES\",\"YES\",\"YES\",\"YES\",\"YES\",\"YES\",\"YES\",\"YES\",\"YES\",\"YES\",\"YES\",\"YES\",\"YES\",\"YES\",\"YES\",\"YES\",\"YES\",\"YES\",\"YES\",\"YES\",\"YES\",\"YES\",\"YES\",\"YES\",\"YES\",\"YES\",\"YES\",\"YES\",\"YES\",\"YES\",\"YES\",\"YES\",\"YES\",\"YES\",\"YES\",\"YES\",\"YES\",\"YES\",\"YES\",\"YES\",\"YES\",\"YES\",\"YES\",\"YES\",\"YES\",\"YES\",\"YES\",\"YES\",\"YES\",\"YES\",\"YES\",\"YES\",\"YES\",\"YES\",\"YES\",\"YES\",\"YES\",\"YES\",\"YES\",\"YES\",\"YES\",\"YES\",\"YES\",\"YES\",\"YES\",\"YES\",\"YES\",\"YES\",\"YES\",\"YES\",\"YES\",\"YES\",\"YES\",\"YES\",\"YES\",\"YES\",\"YES\",\"YES\",\"YES\",\"YES\",\"YES\",\"YES\",\"YES\",\"YES\",\"YES\",\"YES\",\"YES\",\"YES\",\"YES\",\"YES\",\"YES\",\"YES\",\"YES\",\"YES\",\"YES\",\"YES\",\"YES\",\"YES\",\"YES\",\"YES\",\"YES\",\"YES\",\"YES\",\"YES\",\"YES\",\"YES\",\"YES\",\"YES\",\"YES\",\"YES\",\"YES\",\"YES\",\"YES\",\"YES\",\"YES\",\"YES\",\"YES\",\"YES\",\"YES\",\"YES\",\"YES\",\"YES\",\"YES\",\"YES\",\"YES\",\"YES\",\"YES\",\"YES\",\"YES\",\"YES\",\"YES\",\"YES\",\"YES\",\"YES\",\"YES\",\"YES\",\"YES\",\"YES\",\"YES\",\"YES\",\"YES\",\"YES\",\"YES\",\"YES\",\"YES\",\"YES\",\"YES\",\"YES\",\"YES\",\"YES\",\"YES\",\"YES\",\"YES\",\"YES\",\"YES\",\"YES\",\"YES\",\"YES\",\"YES\",\"YES\",\"YES\",\"YES\",\"YES\",\"YES\",\"YES\",\"YES\",\"YES\",\"YES\",\"YES\",\"YES\",\"YES\",\"YES\",\"YES\",\"YES\",\"YES\",\"YES\",\"YES\",\"YES\",\"YES\",\"YES\",\"YES\",\"YES\",\"YES\",\"YES\",\"YES\",\"YES\",\"YES\",\"YES\",\"YES\",\"YES\",\"YES\",\"YES\",\"YES\",\"YES\",\"YES\",\"YES\",\"YES\",\"YES\",\"YES\",\"YES\",\"YES\",\"YES\",\"YES\",\"YES\",\"YES\",\"YES\",\"YES\",\"YES\",\"YES\",\"YES\",\"YES\",\"YES\",\"YES\",\"YES\",\"YES\",\"YES\",\"YES\",\"YES\",\"YES\",\"YES\",\"YES\",\"YES\",\"YES\",\"YES\",\"YES\",\"YES\",\"YES\",\"YES\",\"YES\",\"YES\",\"YES\",\"YES\",\"YES\",\"YES\",\"YES\",\"YES\",\"YES\",\"YES\",\"YES\",\"YES\",\"YES\",\"YES\",\"YES\",\"YES\",\"YES\",\"YES\",\"YES\",\"YES\",\"YES\",\"YES\",\"YES\",\"YES\",\"YES\",\"YES\",\"YES\",\"YES\",\"YES\",\"YES\",\"YES\",\"YES\",\"YES\",\"YES\",\"YES\",\"YES\",\"YES\",\"YES\",\"YES\",\"YES\",\"YES\",\"YES\",\"YES\",\"YES\",\"YES\",\"YES\",\"YES\",\"YES\",\"YES\",\"YES\",\"YES\",\"YES\",\"YES\",\"YES\",\"YES\",\"YES\",\"YES\",\"YES\",\"YES\",\"YES\",\"YES\",\"YES\",\"YES\",\"YES\",\"YES\",\"YES\",\"YES\",\"YES\",\"YES\",\"YES\",\"YES\",\"YES\",\"YES\",\"YES\",\"YES\",\"YES\",\"YES\",\"YES\",\"YES\",\"YES\",\"YES\",\"YES\",\"YES\",\"YES\",\"YES\",\"YES\",\"YES\",\"YES\",\"YES\",\"YES\",\"YES\",\"YES\",\"YES\",\"YES\",\"YES\",\"YES\",\"YES\",\"YES\",\"YES\",\"YES\",\"YES\",\"YES\",\"YES\",\"YES\",\"YES\",\"YES\",\"YES\",\"YES\",\"YES\",\"YES\",\"YES\",\"YES\",\"YES\",\"YES\",\"YES\",\"YES\",\"YES\",\"YES\",\"YES\",\"YES\",\"YES\",\"YES\",\"YES\",\"YES\",\"YES\",\"YES\",\"YES\",\"YES\",\"YES\",\"YES\",\"YES\",\"YES\",\"YES\",\"YES\",\"YES\",\"YES\",\"YES\",\"YES\",\"YES\",\"YES\",\"YES\",\"YES\",\"YES\",\"YES\",\"YES\",\"YES\",\"YES\",\"YES\",\"YES\",\"YES\",\"YES\",\"YES\",\"YES\",\"YES\",\"YES\",\"YES\",\"YES\",\"YES\",\"YES\",\"YES\",\"YES\",\"YES\",\"YES\",\"YES\",\"YES\",\"YES\",\"YES\",\"YES\",\"YES\",\"YES\",\"YES\",\"YES\",\"YES\",\"YES\",\"YES\",\"YES\",\"YES\",\"YES\",\"YES\",\"YES\",\"YES\",\"YES\",\"YES\",\"YES\",\"YES\",\"YES\",\"YES\",\"YES\",\"YES\",\"YES\",\"YES\",\"YES\",\"YES\",\"YES\",\"YES\",\"YES\",\"YES\",\"YES\",\"YES\",\"YES\",\"YES\",\"YES\",\"YES\",\"YES\",\"YES\",\"YES\",\"YES\",\"YES\",\"YES\",\"YES\",\"YES\",\"YES\",\"YES\",\"YES\",\"YES\",\"YES\",\"YES\",\"YES\",\"YES\",\"YES\",\"YES\",\"YES\",\"YES\",\"YES\",\"YES\",\"YES\",\"YES\",\"YES\",\"YES\",\"YES\",\"YES\",\"YES\",\"YES\",\"YES\",\"YES\",\"YES\",\"YES\",\"YES\",\"YES\",\"YES\",\"YES\",\"YES\",\"YES\",\"YES\",\"YES\",\"YES\",\"YES\",\"YES\",\"YES\",\"YES\",\"YES\",\"YES\",\"YES\",\"YES\",\"YES\",\"YES\",\"YES\",\"YES\",\"YES\",\"YES\",\"YES\",\"YES\",\"YES\",\"YES\",\"YES\",\"YES\",\"YES\",\"YES\",\"YES\",\"YES\",\"YES\",\"YES\",\"YES\",\"YES\",\"YES\",\"YES\",\"YES\",\"YES\",\"YES\",\"YES\",\"YES\",\"YES\",\"YES\",\"YES\",\"YES\",\"YES\",\"YES\",\"YES\",\"YES\",\"YES\",\"YES\",\"YES\",\"YES\",\"YES\",\"YES\",\"YES\",\"YES\",\"YES\",\"YES\",\"YES\",\"YES\",\"YES\",\"YES\",\"YES\",\"YES\",\"YES\",\"YES\",\"YES\",\"YES\",\"YES\",\"YES\",\"YES\",\"YES\",\"YES\",\"YES\",\"YES\",\"YES\",\"YES\",\"YES\",\"YES\",\"YES\",\"YES\",\"YES\",\"YES\",\"YES\",\"YES\",\"YES\",\"YES\",\"YES\",\"YES\",\"YES\",\"YES\",\"YES\",\"YES\",\"YES\",\"YES\",\"YES\",\"YES\",\"YES\",\"YES\",\"YES\",\"YES\",\"YES\",\"YES\",\"YES\",\"YES\",\"YES\",\"YES\",\"YES\",\"YES\",\"YES\",\"YES\",\"YES\",\"YES\",\"YES\",\"YES\",\"YES\",\"YES\",\"YES\",\"YES\",\"YES\",\"YES\",\"YES\",\"YES\",\"YES\",\"YES\",\"YES\",\"YES\",\"YES\",\"YES\",\"YES\",\"YES\",\"YES\",\"YES\",\"YES\",\"YES\",\"YES\",\"YES\",\"YES\",\"YES\",\"YES\",\"YES\",\"YES\",\"YES\",\"YES\",\"YES\",\"YES\",\"YES\",\"YES\",\"YES\",\"YES\",\"YES\",\"YES\",\"YES\",\"YES\",\"YES\",\"YES\",\"YES\",\"YES\",\"YES\",\"YES\",\"YES\",\"YES\",\"YES\",\"YES\",\"YES\",\"YES\",\"YES\",\"YES\",\"YES\",\"YES\",\"YES\",\"YES\",\"YES\",\"YES\",\"YES\",\"YES\",\"YES\",\"YES\",\"YES\",\"YES\",\"YES\",\"YES\",\"YES\",\"YES\",\"YES\",\"YES\",\"YES\",\"YES\",\"YES\",\"YES\",\"YES\",\"YES\",\"YES\",\"YES\",\"YES\",\"YES\",\"YES\",\"YES\",\"YES\",\"YES\",\"YES\",\"YES\",\"YES\",\"YES\",\"YES\",\"YES\",\"YES\",\"YES\",\"YES\",\"YES\",\"YES\",\"YES\",\"YES\",\"YES\",\"YES\",\"YES\",\"YES\",\"YES\",\"YES\",\"YES\",\"YES\",\"YES\",\"YES\",\"YES\",\"YES\",\"YES\",\"YES\",\"YES\",\"YES\",\"YES\",\"YES\",\"YES\",\"YES\",\"YES\",\"YES\",\"YES\",\"YES\",\"YES\",\"YES\",\"YES\",\"YES\",\"YES\",\"YES\",\"YES\",\"YES\",\"YES\",\"YES\",\"YES\",\"YES\",\"YES\",\"YES\",\"YES\",\"YES\",\"YES\",\"YES\",\"YES\",\"YES\",\"YES\",\"YES\",\"YES\",\"YES\",\"YES\",\"YES\",\"YES\",\"YES\",\"YES\",\"YES\",\"YES\",\"YES\",\"YES\",\"YES\",\"YES\",\"YES\",\"YES\",\"YES\",\"YES\",\"YES\",\"YES\",\"YES\",\"YES\",\"YES\",\"YES\",\"YES\",\"YES\",\"YES\",\"YES\",\"YES\",\"YES\",\"YES\",\"YES\",\"YES\",\"YES\",\"YES\",\"YES\",\"YES\",\"YES\",\"YES\",\"YES\",\"YES\",\"YES\",\"YES\",\"YES\",\"YES\",\"YES\",\"YES\",\"YES\",\"YES\",\"YES\",\"YES\",\"YES\",\"YES\",\"YES\",\"YES\",\"YES\",\"YES\",\"YES\",\"YES\",\"YES\",\"YES\",\"YES\",\"YES\",\"YES\",\"YES\",\"YES\",\"YES\",\"YES\",\"YES\",\"YES\",\"YES\",\"YES\",\"YES\",\"YES\",\"YES\",\"YES\",\"YES\",\"YES\",\"YES\",\"YES\",\"YES\",\"YES\",\"YES\",\"YES\",\"YES\",\"YES\",\"YES\",\"YES\",\"YES\",\"YES\",\"YES\",\"YES\",\"YES\",\"YES\",\"YES\",\"YES\",\"YES\",\"YES\",\"YES\",\"YES\",\"YES\",\"YES\",\"YES\",\"YES\",\"YES\",\"YES\",\"YES\",\"YES\",\"YES\",\"YES\",\"YES\",\"YES\",\"YES\",\"YES\",\"YES\",\"YES\",\"YES\",\"YES\",\"YES\",\"YES\",\"YES\",\"YES\",\"YES\",\"YES\",\"YES\",\"YES\",\"YES\",\"YES\",\"YES\",\"YES\",\"YES\",\"YES\",\"YES\",\"YES\",\"YES\",\"YES\",\"YES\",\"YES\",\"YES\",\"YES\",\"YES\",\"YES\",\"YES\",\"YES\",\"YES\",\"YES\",\"YES\",\"YES\",\"YES\",\"YES\",\"YES\",\"YES\",\"YES\",\"YES\",\"YES\",\"YES\",\"YES\",\"YES\",\"YES\",\"YES\",\"YES\",\"YES\",\"YES\",\"YES\",\"YES\",\"YES\",\"YES\",\"YES\",\"YES\",\"YES\",\"YES\",\"YES\",\"YES\",\"YES\",\"YES\",\"YES\",\"YES\",\"YES\",\"YES\",\"YES\",\"YES\",\"YES\",\"YES\",\"YES\",\"YES\",\"YES\",\"YES\",\"YES\",\"YES\",\"YES\",\"YES\",\"YES\",\"YES\",\"YES\",\"YES\",\"YES\",\"YES\",\"YES\",\"YES\",\"YES\",\"YES\",\"YES\",\"YES\",\"YES\",\"YES\",\"YES\",\"YES\",\"YES\",\"YES\",\"YES\",\"YES\",\"YES\",\"YES\",\"YES\",\"YES\",\"YES\",\"YES\",\"YES\",\"YES\",\"YES\",\"YES\",\"YES\",\"YES\",\"YES\",\"YES\",\"YES\",\"YES\",\"YES\",\"YES\",\"YES\",\"YES\",\"YES\",\"YES\",\"YES\",\"YES\",\"YES\",\"YES\",\"YES\",\"YES\",\"YES\",\"YES\",\"YES\",\"YES\",\"YES\",\"YES\",\"YES\",\"YES\",\"YES\",\"YES\",\"YES\",\"YES\",\"YES\",\"YES\",\"YES\",\"YES\",\"YES\",\"YES\",\"YES\",\"YES\",\"YES\",\"YES\",\"YES\",\"YES\",\"YES\",\"YES\",\"YES\",\"YES\",\"YES\",\"YES\",\"YES\",\"YES\",\"YES\",\"YES\",\"YES\",\"YES\",\"YES\",\"YES\",\"YES\",\"YES\",\"YES\",\"YES\",\"YES\",\"YES\",\"YES\",\"YES\",\"YES\",\"YES\",\"YES\",\"YES\",\"YES\",\"YES\",\"YES\",\"YES\",\"YES\",\"YES\",\"YES\",\"YES\",\"YES\",\"YES\",\"YES\",\"YES\",\"YES\",\"YES\",\"YES\",\"YES\",\"YES\",\"YES\",\"YES\",\"YES\",\"YES\",\"YES\",\"YES\",\"YES\",\"YES\",\"YES\",\"YES\",\"YES\",\"YES\",\"YES\",\"YES\",\"YES\",\"YES\",\"YES\",\"YES\",\"YES\",\"YES\",\"YES\",\"YES\",\"YES\",\"YES\",\"YES\",\"YES\",\"YES\",\"YES\",\"YES\",\"YES\",\"YES\",\"YES\",\"YES\",\"YES\",\"YES\",\"YES\",\"YES\",\"YES\",\"YES\",\"YES\",\"YES\",\"YES\",\"YES\",\"YES\",\"YES\",\"YES\",\"YES\",\"YES\",\"YES\",\"YES\",\"YES\",\"YES\",\"YES\",\"YES\",\"YES\",\"YES\",\"YES\",\"YES\",\"YES\",\"YES\",\"YES\",\"YES\",\"YES\",\"YES\",\"YES\",\"YES\",\"YES\",\"YES\",\"YES\",\"YES\",\"YES\",\"YES\",\"YES\",\"YES\",\"YES\",\"YES\",\"YES\",\"YES\",\"YES\",\"YES\"],\"xaxis\":\"x\",\"y\":[\"D\",\"C\",\"D\",\"B\",\"A\",\"B\",\"D\",\"A\",\"C\",\"A\",\"D\",\"D\",\"B\",\"B\",\"B\",\"B\",\"D\",\"D\",\"D\",\"A\",\"B\",\"C\",\"A\",\"A\",\"C\",\"D\",\"D\",\"D\",\"D\",\"D\",\"D\",\"A\",\"C\",\"D\",\"D\",\"A\",\"C\",\"B\",\"C\",\"C\",\"C\",\"A\",\"D\",\"B\",\"B\",\"D\",\"A\",\"D\",\"B\",\"D\",\"D\",\"C\",\"B\",\"C\",\"D\",\"C\",\"D\",\"D\",\"B\",\"D\",\"D\",\"C\",\"C\",\"C\",\"D\",\"C\",\"D\",\"A\",\"C\",\"D\",\"D\",\"B\",\"D\",\"B\",\"C\",\"C\",\"C\",\"A\",\"B\",\"D\",\"A\",\"B\",\"D\",\"D\",\"A\",\"C\",\"B\",\"D\",\"B\",\"D\",\"B\",\"B\",\"D\",\"B\",\"D\",\"E\",\"B\",\"B\",\"D\",\"C\",\"D\",\"A\",\"B\",\"C\",\"B\",\"C\",\"D\",\"D\",\"D\",\"B\",\"D\",\"D\",\"C\",\"C\",\"C\",\"B\",\"A\",\"C\",\"B\",\"A\",\"C\",\"B\",\"C\",\"A\",\"C\",\"A\",\"C\",\"C\",\"D\",\"D\",\"A\",\"D\",\"D\",\"B\",\"C\",\"C\",\"D\",\"A\",\"C\",\"D\",\"A\",\"C\",\"D\",\"B\",\"D\",\"C\",\"C\",\"A\",\"D\",\"A\",\"A\",\"C\",\"D\",\"C\",\"B\",\"C\",\"B\",\"C\",\"D\",\"A\",\"C\",\"B\",\"C\",\"C\",\"C\",\"B\",\"D\",\"D\",\"A\",\"C\",\"D\",\"B\",\"D\",\"D\",\"A\",\"D\",\"D\",\"D\",\"D\",\"D\",\"C\",\"D\",\"D\",\"C\",\"C\",\"D\",\"B\",\"A\",\"D\",\"C\",\"D\",\"D\",\"B\",\"D\",\"C\",\"D\",\"D\",\"C\",\"B\",\"D\",\"D\",\"C\",\"B\",\"C\",\"C\",\"B\",\"D\",\"B\",\"D\",\"B\",\"C\",\"C\",\"B\",\"D\",\"A\",\"C\",\"D\",\"A\",\"A\",\"A\",\"D\",\"B\",\"A\",\"C\",\"B\",\"D\",\"C\",\"D\",\"C\",\"B\",\"D\",\"C\",\"D\",\"C\",\"C\",\"C\",\"D\",\"D\",\"D\",\"B\",\"C\",\"D\",\"D\",\"A\",\"B\",\"B\",\"C\",\"C\",\"A\",\"A\",\"A\",\"D\",\"C\",\"C\",\"B\",\"C\",\"A\",\"C\",\"D\",\"B\",\"C\",\"C\",\"A\",\"D\",\"D\",\"D\",\"B\",\"B\",\"A\",\"D\",\"D\",\"D\",\"D\",\"D\",\"C\",\"D\",\"A\",\"A\",\"C\",\"B\",\"D\",\"D\",\"D\",\"A\",\"A\",\"B\",\"B\",\"A\",\"C\",\"A\",\"B\",\"D\",\"C\",\"B\",\"B\",\"D\",\"C\",\"C\",\"B\",\"D\",\"D\",\"C\",\"D\",\"C\",\"B\",\"C\",\"C\",\"B\",\"D\",\"B\",\"B\",\"D\",\"D\",\"B\",\"A\",\"A\",\"D\",\"B\",\"B\",\"A\",\"C\",\"B\",\"A\",\"C\",\"C\",\"B\",\"B\",\"D\",\"B\",\"C\",\"C\",\"D\",\"B\",\"C\",\"C\",\"C\",\"C\",\"C\",\"D\",\"B\",\"D\",\"B\",\"C\",\"B\",\"B\",\"D\",\"B\",\"A\",\"C\",\"B\",\"D\",\"D\",\"D\",\"B\",\"B\",\"D\",\"C\",\"D\",\"D\",\"D\",\"C\",\"D\",\"D\",\"D\",\"D\",\"C\",\"B\",\"A\",\"D\",\"D\",\"A\",\"C\",\"D\",\"B\",\"C\",\"D\",\"D\",\"B\",\"A\",\"B\",\"A\",\"D\",\"A\",\"E\",\"C\",\"D\",\"C\",\"D\",\"D\",\"D\",\"C\",\"D\",\"B\",\"A\",\"B\",\"B\",\"C\",\"C\",\"B\",\"A\",\"B\",\"C\",\"D\",\"D\",\"D\",\"A\",\"C\",\"D\",\"B\",\"C\",\"D\",\"D\",\"D\",\"B\",\"C\",\"B\",\"B\",\"D\",\"A\",\"C\",\"A\",\"B\",\"C\",\"A\",\"A\",\"D\",\"C\",\"B\",\"A\",\"D\",\"A\",\"B\",\"C\",\"A\",\"A\",\"B\",\"D\",\"C\",\"D\",\"B\",\"D\",\"C\",\"D\",\"D\",\"D\",\"D\",\"D\",\"D\",\"A\",\"D\",\"C\",\"D\",\"D\",\"B\",\"A\",\"D\",\"D\",\"C\",\"D\",\"B\",\"C\",\"A\",\"D\",\"D\",\"D\",\"D\",\"B\",\"B\",\"C\",\"D\",\"C\",\"C\",\"C\",\"C\",\"A\",\"A\",\"D\",\"B\",\"C\",\"D\",\"B\",\"B\",\"B\",\"C\",\"D\",\"A\",\"C\",\"D\",\"D\",\"D\",\"D\",\"B\",\"D\",\"D\",\"D\",\"D\",\"E\",\"C\",\"A\",\"D\",\"D\",\"D\",\"C\",\"A\",\"B\",\"C\",\"B\",\"B\",\"C\",\"A\",\"C\",\"D\",\"D\",\"C\",\"D\",\"B\",\"C\",\"C\",\"A\",\"B\",\"C\",\"C\",\"C\",\"D\",\"B\",\"B\",\"D\",\"D\",\"D\",\"A\",\"D\",\"D\",\"C\",\"C\",\"C\",\"C\",\"D\",\"A\",\"B\",\"B\",\"D\",\"D\",\"D\",\"B\",\"D\",\"B\",\"D\",\"C\",\"D\",\"C\",\"B\",\"D\",\"A\",\"D\",\"D\",\"A\",\"A\",\"C\",\"D\",\"D\",\"C\",\"C\",\"D\",\"D\",\"B\",\"E\",\"B\",\"A\",\"D\",\"C\",\"D\",\"D\",\"A\",\"A\",\"D\",\"A\",\"A\",\"A\",\"D\",\"B\",\"D\",\"B\",\"C\",\"A\",\"D\",\"D\",\"C\",\"D\",\"C\",\"D\",\"D\",\"D\",\"B\",\"D\",\"B\",\"C\",\"D\",\"D\",\"C\",\"A\",\"B\",\"C\",\"D\",\"A\",\"B\",\"C\",\"D\",\"D\",\"D\",\"D\",\"D\",\"B\",\"D\",\"C\",\"D\",\"A\",\"A\",\"C\",\"D\",\"D\",\"C\",\"D\",\"D\",\"D\",\"C\",\"A\",\"D\",\"A\",\"D\",\"A\",\"C\",\"B\",\"C\",\"C\",\"D\",\"B\",\"D\",\"C\",\"C\",\"B\",\"C\",\"D\",\"B\",\"C\",\"A\",\"B\",\"D\",\"C\",\"B\",\"B\",\"D\",\"A\",\"A\",\"B\",\"D\",\"B\",\"D\",\"A\",\"B\",\"B\",\"D\",\"B\",\"D\",\"C\",\"D\",\"D\",\"D\",\"B\",\"B\",\"D\",\"A\",\"B\",\"C\",\"D\",\"D\",\"A\",\"D\",\"A\",\"D\",\"D\",\"D\",\"B\",\"D\",\"B\",\"D\",\"D\",\"D\",\"D\",\"D\",\"C\",\"C\",\"D\",\"A\",\"C\",\"B\",\"A\",\"D\",\"A\",\"D\",\"D\",\"A\",\"C\",\"B\",\"D\",\"D\",\"D\",\"C\",\"D\",\"C\",\"C\",\"D\",\"C\",\"A\",\"C\",\"B\",\"B\",\"B\",\"D\",\"B\",\"D\",\"B\",\"C\",\"A\",\"A\",\"A\",\"C\",\"C\",\"C\",\"D\",\"D\",\"C\",\"D\",\"B\",\"B\",\"D\",\"D\",\"D\",\"D\",\"A\",\"D\",\"D\",\"D\",\"D\",\"A\",\"D\",\"C\",\"C\",\"C\",\"D\",\"B\",\"D\",\"D\",\"C\",\"B\",\"D\",\"A\",\"B\",\"D\",\"D\",\"D\",\"C\",\"A\",\"C\",\"B\",\"C\",\"A\",\"D\",\"C\",\"A\",\"D\",\"D\",\"B\",\"D\",\"D\",\"C\",\"C\",\"B\",\"C\",\"D\",\"D\",\"B\",\"B\",\"D\",\"C\",\"A\",\"D\",\"A\",\"B\",\"C\",\"D\",\"C\",\"D\",\"A\",\"A\",\"D\",\"C\",\"D\",\"B\",\"D\",\"D\",\"D\",\"D\",\"A\",\"C\",\"D\",\"D\",\"C\",\"D\",\"B\",\"A\",\"A\",\"C\",\"A\",\"A\",\"D\",\"D\",\"D\",\"B\",\"D\",\"D\",\"D\",\"D\",\"B\",\"A\",\"D\",\"D\",\"C\",\"B\",\"B\",\"D\",\"D\",\"B\",\"A\",\"D\",\"D\",\"C\",\"D\",\"A\",\"C\",\"A\",\"D\",\"D\",\"A\",\"B\",\"B\",\"D\",\"C\",\"C\",\"A\",\"D\",\"A\",\"D\",\"B\",\"B\",\"C\",\"C\",\"D\",\"C\",\"B\",\"A\",\"A\",\"B\",\"C\",\"D\",\"B\",\"D\",\"D\",\"A\",\"A\",\"C\",\"B\",\"B\",\"D\",\"D\",\"C\",\"D\",\"D\",\"C\",\"B\",\"A\",\"B\",\"A\",\"D\",\"D\",\"D\",\"D\",\"A\",\"D\",\"B\",\"A\",\"C\",\"A\",\"B\",\"D\",\"D\",\"D\",\"A\",\"C\",\"B\",\"B\",\"C\",\"B\",\"D\",\"C\",\"D\",\"C\",\"C\",\"D\",\"D\",\"B\",\"D\",\"C\",\"D\",\"D\",\"C\",\"D\",\"D\",\"B\",\"D\",\"D\",\"D\",\"A\",\"D\",\"B\",\"D\",\"A\",\"C\",\"D\",\"D\",\"D\",\"D\",\"A\",\"C\",\"B\",\"D\",\"C\",\"C\",\"C\",\"B\",\"D\",\"C\",\"A\",\"D\",\"D\",\"D\",\"C\",\"C\",\"D\",\"A\",\"C\",\"D\",\"C\",\"C\",\"A\",\"C\",\"C\",\"C\",\"C\",\"A\",\"D\",\"B\",\"D\",\"E\",\"D\",\"A\",\"A\",\"D\",\"D\",\"A\",\"A\",\"D\",\"D\",\"B\",\"C\",\"B\",\"C\",\"B\",\"D\",\"B\",\"D\",\"D\",\"B\",\"D\",\"A\",\"D\",\"C\",\"D\",\"B\",\"A\",\"C\",\"D\",\"C\",\"D\",\"D\",\"C\",\"B\",\"D\",\"D\",\"D\",\"C\",\"D\",\"B\",\"D\",\"B\",\"C\",\"C\",\"D\",\"C\",\"A\",\"A\",\"D\",\"D\",\"B\",\"D\",\"A\",\"A\",\"C\",\"B\",\"B\",\"C\",\"C\",\"D\",\"A\",\"D\",\"C\",\"A\",\"D\",\"A\",\"A\",\"C\",\"B\",\"B\",\"D\",\"D\",\"A\",\"A\",\"A\",\"B\",\"B\",\"B\",\"A\",\"D\",\"A\",\"D\",\"C\",\"A\",\"D\",\"D\",\"D\",\"D\",\"C\",\"A\",\"A\",\"B\",\"D\",\"B\",\"C\",\"C\",\"C\",\"D\",\"A\",\"C\",\"D\",\"C\",\"B\",\"A\",\"C\",\"D\",\"B\",\"C\",\"D\",\"B\",\"C\",\"D\",\"B\",\"A\",\"D\",\"D\",\"D\",\"D\",\"D\",\"A\",\"C\",\"D\",\"D\",\"C\",\"C\",\"A\",\"C\",\"C\",\"A\",\"B\",\"B\",\"C\",\"D\",\"C\",\"C\",\"D\",\"C\",\"C\",\"C\",\"D\",\"C\",\"D\",\"D\",\"D\",\"C\",\"B\",\"D\",\"A\",\"B\",\"C\",\"A\",\"A\",\"D\",\"C\",\"B\",\"A\",\"A\",\"A\",\"C\",\"C\",\"B\",\"B\",\"D\",\"C\",\"B\",\"B\",\"D\",\"D\",\"C\",\"C\",\"A\",\"C\",\"D\",\"A\",\"A\",\"B\",\"C\",\"C\",\"D\",\"C\",\"B\",\"A\",\"C\",\"D\",\"B\",\"C\",\"C\",\"B\",\"A\",\"B\",\"C\",\"B\",\"A\",\"A\",\"A\",\"C\",\"A\",\"B\",\"D\",\"C\",\"D\",\"C\",\"A\",\"A\",\"A\",\"A\",\"C\",\"D\",\"C\",\"B\",\"C\",\"A\",\"D\",\"A\",\"D\",\"A\",\"C\",\"D\",\"D\",\"A\",\"D\",\"C\",\"B\",\"D\",\"A\",\"B\",\"D\",\"D\",\"E\",\"B\",\"C\",\"D\",\"B\",\"B\",\"D\",\"E\",\"A\",\"D\",\"A\",\"A\",\"C\",\"D\",\"D\",\"D\",\"D\",\"D\",\"B\",\"A\",\"D\",\"C\",\"D\",\"A\",\"C\",\"C\",\"B\",\"B\",\"B\",\"C\",\"D\",\"C\",\"D\",\"C\",\"B\",\"B\",\"A\",\"B\",\"B\",\"D\",\"D\",\"C\",\"D\",\"C\",\"B\",\"D\",\"D\",\"C\",\"D\",\"B\",\"B\",\"A\",\"B\",\"A\",\"D\",\"A\",\"C\",\"A\",\"A\",\"C\",\"D\",\"B\",\"D\",\"D\",\"B\",\"C\",\"B\",\"D\",\"D\",\"C\",\"C\",\"D\",\"B\",\"D\",\"B\",\"C\",\"B\",\"B\",\"D\",\"D\",\"A\",\"D\",\"B\",\"C\",\"C\",\"D\",\"A\",\"C\",\"C\",\"A\",\"B\",\"D\",\"C\",\"C\",\"A\",\"D\",\"B\",\"C\",\"D\",\"B\",\"A\",\"A\",\"C\",\"A\",\"A\",\"D\",\"B\",\"C\",\"A\",\"D\",\"D\",\"C\",\"B\",\"C\",\"D\",\"C\",\"C\",\"D\",\"C\",\"D\",\"A\",\"C\",\"B\",\"C\",\"C\",\"C\",\"C\",\"C\",\"D\",\"C\",\"C\",\"C\",\"B\",\"D\",\"D\",\"D\",\"D\",\"C\",\"C\",\"C\",\"C\",\"A\",\"A\",\"C\",\"D\",\"D\",\"D\",\"D\",\"D\",\"B\",\"A\",\"D\",\"D\",\"C\",\"D\",\"B\",\"B\",\"C\",\"D\",\"B\",\"C\",\"C\",\"C\",\"B\",\"C\",\"B\",\"C\",\"B\",\"D\",\"D\",\"C\",\"D\",\"C\",\"D\",\"D\",\"B\",\"D\",\"B\",\"D\",\"C\",\"C\",\"D\",\"B\",\"D\",\"C\",\"B\",\"D\",\"B\",\"C\",\"B\",\"A\",\"C\",\"C\",\"D\",\"C\",\"A\",\"D\",\"C\",\"B\",\"A\",\"A\",\"C\",\"D\",\"D\",\"A\",\"D\",\"D\",\"D\",\"C\",\"D\",\"C\",\"D\",\"D\",\"B\",\"C\",\"D\",\"A\",\"B\",\"D\",\"D\",\"D\",\"D\",\"A\",\"D\",\"B\",\"D\",\"A\",\"C\",\"D\",\"B\",\"C\",\"B\",\"D\",\"B\",\"D\",\"C\",\"C\",\"D\",\"D\",\"D\",\"A\",\"A\",\"D\",\"D\",\"D\",\"A\",\"A\",\"C\",\"A\",\"C\",\"B\",\"D\",\"C\",\"E\",\"C\",\"C\",\"B\",\"D\",\"A\",\"C\",\"D\",\"D\",\"C\",\"B\",\"C\",\"C\",\"A\",\"A\",\"A\",\"C\",\"D\",\"B\",\"D\",\"B\",\"A\",\"D\",\"C\",\"B\",\"D\",\"D\",\"D\",\"C\",\"B\",\"B\",\"C\",\"A\",\"A\",\"C\",\"A\",\"C\",\"B\",\"C\",\"D\",\"D\",\"D\",\"B\",\"D\",\"D\",\"C\",\"D\",\"C\",\"B\",\"B\",\"C\",\"C\",\"D\",\"A\",\"A\",\"B\",\"D\",\"B\",\"D\",\"A\",\"A\",\"D\",\"C\",\"D\",\"D\",\"D\",\"A\",\"B\",\"C\",\"C\",\"D\",\"D\",\"A\",\"D\",\"C\",\"D\",\"A\",\"C\",\"D\",\"B\",\"C\",\"D\",\"A\",\"C\",\"D\",\"C\",\"A\",\"C\",\"C\",\"C\",\"D\",\"C\",\"C\",\"D\",\"A\",\"D\",\"D\",\"D\",\"B\",\"A\"],\"yaxis\":\"y\",\"type\":\"bar\"}],                        {\"template\":{\"data\":{\"bar\":[{\"error_x\":{\"color\":\"#2a3f5f\"},\"error_y\":{\"color\":\"#2a3f5f\"},\"marker\":{\"line\":{\"color\":\"#E5ECF6\",\"width\":0.5},\"pattern\":{\"fillmode\":\"overlay\",\"size\":10,\"solidity\":0.2}},\"type\":\"bar\"}],\"barpolar\":[{\"marker\":{\"line\":{\"color\":\"#E5ECF6\",\"width\":0.5},\"pattern\":{\"fillmode\":\"overlay\",\"size\":10,\"solidity\":0.2}},\"type\":\"barpolar\"}],\"carpet\":[{\"aaxis\":{\"endlinecolor\":\"#2a3f5f\",\"gridcolor\":\"white\",\"linecolor\":\"white\",\"minorgridcolor\":\"white\",\"startlinecolor\":\"#2a3f5f\"},\"baxis\":{\"endlinecolor\":\"#2a3f5f\",\"gridcolor\":\"white\",\"linecolor\":\"white\",\"minorgridcolor\":\"white\",\"startlinecolor\":\"#2a3f5f\"},\"type\":\"carpet\"}],\"choropleth\":[{\"colorbar\":{\"outlinewidth\":0,\"ticks\":\"\"},\"type\":\"choropleth\"}],\"contour\":[{\"colorbar\":{\"outlinewidth\":0,\"ticks\":\"\"},\"colorscale\":[[0.0,\"#0d0887\"],[0.1111111111111111,\"#46039f\"],[0.2222222222222222,\"#7201a8\"],[0.3333333333333333,\"#9c179e\"],[0.4444444444444444,\"#bd3786\"],[0.5555555555555556,\"#d8576b\"],[0.6666666666666666,\"#ed7953\"],[0.7777777777777778,\"#fb9f3a\"],[0.8888888888888888,\"#fdca26\"],[1.0,\"#f0f921\"]],\"type\":\"contour\"}],\"contourcarpet\":[{\"colorbar\":{\"outlinewidth\":0,\"ticks\":\"\"},\"type\":\"contourcarpet\"}],\"heatmap\":[{\"colorbar\":{\"outlinewidth\":0,\"ticks\":\"\"},\"colorscale\":[[0.0,\"#0d0887\"],[0.1111111111111111,\"#46039f\"],[0.2222222222222222,\"#7201a8\"],[0.3333333333333333,\"#9c179e\"],[0.4444444444444444,\"#bd3786\"],[0.5555555555555556,\"#d8576b\"],[0.6666666666666666,\"#ed7953\"],[0.7777777777777778,\"#fb9f3a\"],[0.8888888888888888,\"#fdca26\"],[1.0,\"#f0f921\"]],\"type\":\"heatmap\"}],\"heatmapgl\":[{\"colorbar\":{\"outlinewidth\":0,\"ticks\":\"\"},\"colorscale\":[[0.0,\"#0d0887\"],[0.1111111111111111,\"#46039f\"],[0.2222222222222222,\"#7201a8\"],[0.3333333333333333,\"#9c179e\"],[0.4444444444444444,\"#bd3786\"],[0.5555555555555556,\"#d8576b\"],[0.6666666666666666,\"#ed7953\"],[0.7777777777777778,\"#fb9f3a\"],[0.8888888888888888,\"#fdca26\"],[1.0,\"#f0f921\"]],\"type\":\"heatmapgl\"}],\"histogram\":[{\"marker\":{\"pattern\":{\"fillmode\":\"overlay\",\"size\":10,\"solidity\":0.2}},\"type\":\"histogram\"}],\"histogram2d\":[{\"colorbar\":{\"outlinewidth\":0,\"ticks\":\"\"},\"colorscale\":[[0.0,\"#0d0887\"],[0.1111111111111111,\"#46039f\"],[0.2222222222222222,\"#7201a8\"],[0.3333333333333333,\"#9c179e\"],[0.4444444444444444,\"#bd3786\"],[0.5555555555555556,\"#d8576b\"],[0.6666666666666666,\"#ed7953\"],[0.7777777777777778,\"#fb9f3a\"],[0.8888888888888888,\"#fdca26\"],[1.0,\"#f0f921\"]],\"type\":\"histogram2d\"}],\"histogram2dcontour\":[{\"colorbar\":{\"outlinewidth\":0,\"ticks\":\"\"},\"colorscale\":[[0.0,\"#0d0887\"],[0.1111111111111111,\"#46039f\"],[0.2222222222222222,\"#7201a8\"],[0.3333333333333333,\"#9c179e\"],[0.4444444444444444,\"#bd3786\"],[0.5555555555555556,\"#d8576b\"],[0.6666666666666666,\"#ed7953\"],[0.7777777777777778,\"#fb9f3a\"],[0.8888888888888888,\"#fdca26\"],[1.0,\"#f0f921\"]],\"type\":\"histogram2dcontour\"}],\"mesh3d\":[{\"colorbar\":{\"outlinewidth\":0,\"ticks\":\"\"},\"type\":\"mesh3d\"}],\"parcoords\":[{\"line\":{\"colorbar\":{\"outlinewidth\":0,\"ticks\":\"\"}},\"type\":\"parcoords\"}],\"pie\":[{\"automargin\":true,\"type\":\"pie\"}],\"scatter\":[{\"marker\":{\"colorbar\":{\"outlinewidth\":0,\"ticks\":\"\"}},\"type\":\"scatter\"}],\"scatter3d\":[{\"line\":{\"colorbar\":{\"outlinewidth\":0,\"ticks\":\"\"}},\"marker\":{\"colorbar\":{\"outlinewidth\":0,\"ticks\":\"\"}},\"type\":\"scatter3d\"}],\"scattercarpet\":[{\"marker\":{\"colorbar\":{\"outlinewidth\":0,\"ticks\":\"\"}},\"type\":\"scattercarpet\"}],\"scattergeo\":[{\"marker\":{\"colorbar\":{\"outlinewidth\":0,\"ticks\":\"\"}},\"type\":\"scattergeo\"}],\"scattergl\":[{\"marker\":{\"colorbar\":{\"outlinewidth\":0,\"ticks\":\"\"}},\"type\":\"scattergl\"}],\"scattermapbox\":[{\"marker\":{\"colorbar\":{\"outlinewidth\":0,\"ticks\":\"\"}},\"type\":\"scattermapbox\"}],\"scatterpolar\":[{\"marker\":{\"colorbar\":{\"outlinewidth\":0,\"ticks\":\"\"}},\"type\":\"scatterpolar\"}],\"scatterpolargl\":[{\"marker\":{\"colorbar\":{\"outlinewidth\":0,\"ticks\":\"\"}},\"type\":\"scatterpolargl\"}],\"scatterternary\":[{\"marker\":{\"colorbar\":{\"outlinewidth\":0,\"ticks\":\"\"}},\"type\":\"scatterternary\"}],\"surface\":[{\"colorbar\":{\"outlinewidth\":0,\"ticks\":\"\"},\"colorscale\":[[0.0,\"#0d0887\"],[0.1111111111111111,\"#46039f\"],[0.2222222222222222,\"#7201a8\"],[0.3333333333333333,\"#9c179e\"],[0.4444444444444444,\"#bd3786\"],[0.5555555555555556,\"#d8576b\"],[0.6666666666666666,\"#ed7953\"],[0.7777777777777778,\"#fb9f3a\"],[0.8888888888888888,\"#fdca26\"],[1.0,\"#f0f921\"]],\"type\":\"surface\"}],\"table\":[{\"cells\":{\"fill\":{\"color\":\"#EBF0F8\"},\"line\":{\"color\":\"white\"}},\"header\":{\"fill\":{\"color\":\"#C8D4E3\"},\"line\":{\"color\":\"white\"}},\"type\":\"table\"}]},\"layout\":{\"annotationdefaults\":{\"arrowcolor\":\"#2a3f5f\",\"arrowhead\":0,\"arrowwidth\":1},\"autotypenumbers\":\"strict\",\"coloraxis\":{\"colorbar\":{\"outlinewidth\":0,\"ticks\":\"\"}},\"colorscale\":{\"diverging\":[[0,\"#8e0152\"],[0.1,\"#c51b7d\"],[0.2,\"#de77ae\"],[0.3,\"#f1b6da\"],[0.4,\"#fde0ef\"],[0.5,\"#f7f7f7\"],[0.6,\"#e6f5d0\"],[0.7,\"#b8e186\"],[0.8,\"#7fbc41\"],[0.9,\"#4d9221\"],[1,\"#276419\"]],\"sequential\":[[0.0,\"#0d0887\"],[0.1111111111111111,\"#46039f\"],[0.2222222222222222,\"#7201a8\"],[0.3333333333333333,\"#9c179e\"],[0.4444444444444444,\"#bd3786\"],[0.5555555555555556,\"#d8576b\"],[0.6666666666666666,\"#ed7953\"],[0.7777777777777778,\"#fb9f3a\"],[0.8888888888888888,\"#fdca26\"],[1.0,\"#f0f921\"]],\"sequentialminus\":[[0.0,\"#0d0887\"],[0.1111111111111111,\"#46039f\"],[0.2222222222222222,\"#7201a8\"],[0.3333333333333333,\"#9c179e\"],[0.4444444444444444,\"#bd3786\"],[0.5555555555555556,\"#d8576b\"],[0.6666666666666666,\"#ed7953\"],[0.7777777777777778,\"#fb9f3a\"],[0.8888888888888888,\"#fdca26\"],[1.0,\"#f0f921\"]]},\"colorway\":[\"#636efa\",\"#EF553B\",\"#00cc96\",\"#ab63fa\",\"#FFA15A\",\"#19d3f3\",\"#FF6692\",\"#B6E880\",\"#FF97FF\",\"#FECB52\"],\"font\":{\"color\":\"#2a3f5f\"},\"geo\":{\"bgcolor\":\"white\",\"lakecolor\":\"white\",\"landcolor\":\"#E5ECF6\",\"showlakes\":true,\"showland\":true,\"subunitcolor\":\"white\"},\"hoverlabel\":{\"align\":\"left\"},\"hovermode\":\"closest\",\"mapbox\":{\"style\":\"light\"},\"paper_bgcolor\":\"white\",\"plot_bgcolor\":\"#E5ECF6\",\"polar\":{\"angularaxis\":{\"gridcolor\":\"white\",\"linecolor\":\"white\",\"ticks\":\"\"},\"bgcolor\":\"#E5ECF6\",\"radialaxis\":{\"gridcolor\":\"white\",\"linecolor\":\"white\",\"ticks\":\"\"}},\"scene\":{\"xaxis\":{\"backgroundcolor\":\"#E5ECF6\",\"gridcolor\":\"white\",\"gridwidth\":2,\"linecolor\":\"white\",\"showbackground\":true,\"ticks\":\"\",\"zerolinecolor\":\"white\"},\"yaxis\":{\"backgroundcolor\":\"#E5ECF6\",\"gridcolor\":\"white\",\"gridwidth\":2,\"linecolor\":\"white\",\"showbackground\":true,\"ticks\":\"\",\"zerolinecolor\":\"white\"},\"zaxis\":{\"backgroundcolor\":\"#E5ECF6\",\"gridcolor\":\"white\",\"gridwidth\":2,\"linecolor\":\"white\",\"showbackground\":true,\"ticks\":\"\",\"zerolinecolor\":\"white\"}},\"shapedefaults\":{\"line\":{\"color\":\"#2a3f5f\"}},\"ternary\":{\"aaxis\":{\"gridcolor\":\"white\",\"linecolor\":\"white\",\"ticks\":\"\"},\"baxis\":{\"gridcolor\":\"white\",\"linecolor\":\"white\",\"ticks\":\"\"},\"bgcolor\":\"#E5ECF6\",\"caxis\":{\"gridcolor\":\"white\",\"linecolor\":\"white\",\"ticks\":\"\"}},\"title\":{\"x\":0.05},\"xaxis\":{\"automargin\":true,\"gridcolor\":\"white\",\"linecolor\":\"white\",\"ticks\":\"\",\"title\":{\"standoff\":15},\"zerolinecolor\":\"white\",\"zerolinewidth\":2},\"yaxis\":{\"automargin\":true,\"gridcolor\":\"white\",\"linecolor\":\"white\",\"ticks\":\"\",\"title\":{\"standoff\":15},\"zerolinecolor\":\"white\",\"zerolinewidth\":2}}},\"xaxis\":{\"anchor\":\"y\",\"domain\":[0.0,1.0],\"title\":{\"text\":\"roof\"},\"categoryorder\":\"array\",\"categoryarray\":[\"NO\",\"YES\"]},\"yaxis\":{\"anchor\":\"x\",\"domain\":[0.0,1.0],\"title\":{\"text\":\"Grade\"}},\"legend\":{\"title\":{\"text\":\"roof\"},\"tracegroupgap\":0},\"margin\":{\"t\":60},\"barmode\":\"group\"},                        {\"responsive\": true}                    ).then(function(){\n",
              "                            \n",
              "var gd = document.getElementById('24d3eae2-9754-427a-aff3-fd4f19aa8fcb');\n",
              "var x = new MutationObserver(function (mutations, observer) {{\n",
              "        var display = window.getComputedStyle(gd).display;\n",
              "        if (!display || display === 'none') {{\n",
              "            console.log([gd, 'removed!']);\n",
              "            Plotly.purge(gd);\n",
              "            observer.disconnect();\n",
              "        }}\n",
              "}});\n",
              "\n",
              "// Listen for the removal of the full notebook cells\n",
              "var notebookContainer = gd.closest('#notebook-container');\n",
              "if (notebookContainer) {{\n",
              "    x.observe(notebookContainer, {childList: true});\n",
              "}}\n",
              "\n",
              "// Listen for the clearing of the current output cell\n",
              "var outputEl = gd.closest('.output');\n",
              "if (outputEl) {{\n",
              "    x.observe(outputEl, {childList: true});\n",
              "}}\n",
              "\n",
              "                        })                };                            </script>        </div>\n",
              "</body>\n",
              "</html>"
            ]
          },
          "metadata": {}
        }
      ]
    },
    {
      "cell_type": "markdown",
      "source": [
        "# **We can see that count of having roof in all grade is high.**"
      ],
      "metadata": {
        "id": "WsNzsryAZfL2"
      }
    },
    {
      "cell_type": "code",
      "source": [
        "sns.pairplot(HouseGrade_data,x_vars='Expected price', y_vars='Grade',height=6, hue ='Expected price')"
      ],
      "metadata": {
        "colab": {
          "base_uri": "https://localhost:8080/",
          "height": 459
        },
        "id": "mh5GfffEZKSV",
        "outputId": "84280382-a2a2-42a0-bcdc-59bd180a1226"
      },
      "execution_count": 14,
      "outputs": [
        {
          "output_type": "execute_result",
          "data": {
            "text/plain": [
              "<seaborn.axisgrid.PairGrid at 0x7f21293b3d50>"
            ]
          },
          "metadata": {},
          "execution_count": 14
        },
        {
          "output_type": "display_data",
          "data": {
            "text/plain": [
              "<Figure size 530.425x432 with 1 Axes>"
            ],
            "image/png": "[encoded data removed]"
          },
          "metadata": {}
        }
      ]
    },
    {
      "cell_type": "markdown",
      "source": [
        "# **Plotting expected price w.r.t. grade**\n",
        "\n",
        "# **grade \"A\" has more expected price followed by \"B\", \"C\", \"D\" & \"E\"**"
      ],
      "metadata": {
        "id": "VHrfzIE8VZll"
      }
    },
    {
      "cell_type": "code",
      "source": [
        "HouseGrade = HouseGrade_data.copy()"
      ],
      "metadata": {
        "id": "py8Wm2LRtbLC"
      },
      "execution_count": 15,
      "outputs": []
    },
    {
      "cell_type": "code",
      "source": [
        "#Converting categorical data into numerical type\n",
        "\n",
        "category=[]                                                 #creating list of all categorical/object columns \n",
        "for i in HouseGrade.select_dtypes('object').columns:\n",
        "  category.append(i)\n",
        "label_encoder = preprocessing.LabelEncoder()\n",
        "for i in category:\n",
        "  HouseGrade[i] = label_encoder.fit_transform(HouseGrade[i])\n",
        "HouseGrade.dtypes"
      ],
      "metadata": {
        "colab": {
          "base_uri": "https://localhost:8080/"
        },
        "id": "_JvaXhdiuVvN",
        "outputId": "82e7836a-8b29-467f-c99e-0fb73e21bca2"
      },
      "execution_count": 16,
      "outputs": [
        {
          "output_type": "execute_result",
          "data": {
            "text/plain": [
              "Id                int64\n",
              "Area(total)       int64\n",
              "Trooms            int64\n",
              "Nbedrooms         int64\n",
              "Nbwashrooms       int64\n",
              "Twashrooms        int64\n",
              "roof              int64\n",
              "Roof(Area)        int64\n",
              "Lawn(Area)        int64\n",
              "Nfloors           int64\n",
              "API               int64\n",
              "ANB               int64\n",
              "Expected price    int64\n",
              "Grade             int64\n",
              "dtype: object"
            ]
          },
          "metadata": {},
          "execution_count": 16
        }
      ]
    },
    {
      "cell_type": "markdown",
      "source": [
        "# **scaling**"
      ],
      "metadata": {
        "id": "enN3HnyZ2vMY"
      }
    },
    {
      "cell_type": "code",
      "source": [
        "def feature_scale(scale):                                                       # Defining method to perform data scaling operation based on the type of scaling\n",
        "  numerics = ['int64', 'int32', 'int64', 'float16', 'float32', 'float64']\n",
        "  HouseGrade_df = HouseGrade.select_dtypes(include=numerics)\n",
        "  if scale == 'minmax':\n",
        "    scaler = MinMaxScaler()\n",
        "  else:\n",
        "    scaler = StandardScaler()\n",
        "  HouseGrade_scaled = pd.DataFrame(scaler.fit_transform(HouseGrade_df.to_numpy()),columns=HouseGrade_df.columns)\n",
        "  return HouseGrade_scaled"
      ],
      "metadata": {
        "id": "fI8FAEJ3yhW4"
      },
      "execution_count": 17,
      "outputs": []
    },
    {
      "cell_type": "code",
      "source": [
        "scale = 'minmax'        #minmax                     # scaling the data using minmax Scaling process\n",
        "HouseGrade_scaled=feature_scale(scale)\n",
        "HouseGrade_scaled"
      ],
      "metadata": {
        "colab": {
          "base_uri": "https://localhost:8080/",
          "height": 424
        },
        "id": "Yk3CBeEm2z40",
        "outputId": "25c451bf-ca84-4feb-d08d-c22530ca2d8b"
      },
      "execution_count": 18,
      "outputs": [
        {
          "output_type": "execute_result",
          "data": {
            "text/plain": [
              "            Id  Area(total)  Trooms  Nbedrooms  Nbwashrooms  Twashrooms  roof  \\\n",
              "0     0.000000     0.700000    0.25   0.500000     0.428571       0.500   0.0   \n",
              "1     0.000333     0.971429    0.00   0.333333     0.285714       0.250   1.0   \n",
              "2     0.000667     0.485714    0.50   0.500000     0.428571       0.375   1.0   \n",
              "3     0.001000     0.571429    0.25   0.333333     0.285714       0.375   1.0   \n",
              "4     0.001334     0.428571    0.50   0.333333     0.428571       0.375   0.0   \n",
              "...        ...          ...     ...        ...          ...         ...   ...   \n",
              "2995  0.998666     0.728571    1.00   0.666667     0.571429       0.625   1.0   \n",
              "2996  0.999000     0.028571    1.00   1.000000     0.857143       0.750   1.0   \n",
              "2997  0.999333     0.542857    0.50   0.333333     0.285714       0.375   0.0   \n",
              "2998  0.999667     0.042857    1.00   0.833333     0.857143       0.750   0.0   \n",
              "2999  1.000000     0.757143    0.50   0.666667     0.714286       0.750   0.0   \n",
              "\n",
              "      Roof(Area)  Lawn(Area)   Nfloors       API  ANB  Expected price  Grade  \n",
              "0       0.000000        0.12  0.166667  0.650000  1.0        0.360251   0.75  \n",
              "1       0.591667        0.52  0.333333  0.533333  0.6        0.370944   0.75  \n",
              "2       0.841667        0.94  0.666667  0.400000  0.4        0.458702   0.50  \n",
              "3       0.841667        0.24  0.166667  0.316667  0.2        0.232301   0.75  \n",
              "4       0.000000        0.10  0.333333  0.000000  0.0        0.493732   0.75  \n",
              "...          ...         ...       ...       ...  ...             ...    ...  \n",
              "2995    0.791667        0.90  0.666667  0.833333  0.2        0.642330   0.25  \n",
              "2996    0.966667        0.34  1.000000  0.950000  0.6        0.460546   0.00  \n",
              "2997    0.000000        0.16  0.666667  0.916667  1.0        0.406711   0.75  \n",
              "2998    0.000000        0.16  1.000000  0.183333  0.4        0.624631   0.25  \n",
              "2999    0.000000        0.76  0.666667  0.916667  0.4        0.590339   0.50  \n",
              "\n",
              "[3000 rows x 14 columns]"
            ],
            "text/html": [
              "\n",
              "  <div id=\"df-94d9758d-4073-402d-92e2-1e2ce28856e2\">\n",
              "    <div class=\"colab-df-container\">\n",
              "      <div>\n",
              "<style scoped>\n",
              "    .dataframe tbody tr th:only-of-type {\n",
              "        vertical-align: middle;\n",
              "    }\n",
              "\n",
              "    .dataframe tbody tr th {\n",
              "        vertical-align: top;\n",
              "    }\n",
              "\n",
              "    .dataframe thead th {\n",
              "        text-align: right;\n",
              "    }\n",
              "</style>\n",
              "<table border=\"1\" class=\"dataframe\">\n",
              "  <thead>\n",
              "    <tr style=\"text-align: right;\">\n",
              "      <th></th>\n",
              "      <th>Id</th>\n",
              "      <th>Area(total)</th>\n",
              "      <th>Trooms</th>\n",
              "      <th>Nbedrooms</th>\n",
              "      <th>Nbwashrooms</th>\n",
              "      <th>Twashrooms</th>\n",
              "      <th>roof</th>\n",
              "      <th>Roof(Area)</th>\n",
              "      <th>Lawn(Area)</th>\n",
              "      <th>Nfloors</th>\n",
              "      <th>API</th>\n",
              "      <th>ANB</th>\n",
              "      <th>Expected price</th>\n",
              "      <th>Grade</th>\n",
              "    </tr>\n",
              "  </thead>\n",
              "  <tbody>\n",
              "    <tr>\n",
              "      <th>0</th>\n",
              "      <td>0.000000</td>\n",
              "      <td>0.700000</td>\n",
              "      <td>0.25</td>\n",
              "      <td>0.500000</td>\n",
              "      <td>0.428571</td>\n",
              "      <td>0.500</td>\n",
              "      <td>0.0</td>\n",
              "      <td>0.000000</td>\n",
              "      <td>0.12</td>\n",
              "      <td>0.166667</td>\n",
              "      <td>0.650000</td>\n",
              "      <td>1.0</td>\n",
              "      <td>0.360251</td>\n",
              "      <td>0.75</td>\n",
              "    </tr>\n",
              "    <tr>\n",
              "      <th>1</th>\n",
              "      <td>0.000333</td>\n",
              "      <td>0.971429</td>\n",
              "      <td>0.00</td>\n",
              "      <td>0.333333</td>\n",
              "      <td>0.285714</td>\n",
              "      <td>0.250</td>\n",
              "      <td>1.0</td>\n",
              "      <td>0.591667</td>\n",
              "      <td>0.52</td>\n",
              "      <td>0.333333</td>\n",
              "      <td>0.533333</td>\n",
              "      <td>0.6</td>\n",
              "      <td>0.370944</td>\n",
              "      <td>0.75</td>\n",
              "    </tr>\n",
              "    <tr>\n",
              "      <th>2</th>\n",
              "      <td>0.000667</td>\n",
              "      <td>0.485714</td>\n",
              "      <td>0.50</td>\n",
              "      <td>0.500000</td>\n",
              "      <td>0.428571</td>\n",
              "      <td>0.375</td>\n",
              "      <td>1.0</td>\n",
              "      <td>0.841667</td>\n",
              "      <td>0.94</td>\n",
              "      <td>0.666667</td>\n",
              "      <td>0.400000</td>\n",
              "      <td>0.4</td>\n",
              "      <td>0.458702</td>\n",
              "      <td>0.50</td>\n",
              "    </tr>\n",
              "    <tr>\n",
              "      <th>3</th>\n",
              "      <td>0.001000</td>\n",
              "      <td>0.571429</td>\n",
              "      <td>0.25</td>\n",
              "      <td>0.333333</td>\n",
              "      <td>0.285714</td>\n",
              "      <td>0.375</td>\n",
              "      <td>1.0</td>\n",
              "      <td>0.841667</td>\n",
              "      <td>0.24</td>\n",
              "      <td>0.166667</td>\n",
              "      <td>0.316667</td>\n",
              "      <td>0.2</td>\n",
              "      <td>0.232301</td>\n",
              "      <td>0.75</td>\n",
              "    </tr>\n",
              "    <tr>\n",
              "      <th>4</th>\n",
              "      <td>0.001334</td>\n",
              "      <td>0.428571</td>\n",
              "      <td>0.50</td>\n",
              "      <td>0.333333</td>\n",
              "      <td>0.428571</td>\n",
              "      <td>0.375</td>\n",
              "      <td>0.0</td>\n",
              "      <td>0.000000</td>\n",
              "      <td>0.10</td>\n",
              "      <td>0.333333</td>\n",
              "      <td>0.000000</td>\n",
              "      <td>0.0</td>\n",
              "      <td>0.493732</td>\n",
              "      <td>0.75</td>\n",
              "    </tr>\n",
              "    <tr>\n",
              "      <th>...</th>\n",
              "      <td>...</td>\n",
              "      <td>...</td>\n",
              "      <td>...</td>\n",
              "      <td>...</td>\n",
              "      <td>...</td>\n",
              "      <td>...</td>\n",
              "      <td>...</td>\n",
              "      <td>...</td>\n",
              "      <td>...</td>\n",
              "      <td>...</td>\n",
              "      <td>...</td>\n",
              "      <td>...</td>\n",
              "      <td>...</td>\n",
              "      <td>...</td>\n",
              "    </tr>\n",
              "    <tr>\n",
              "      <th>2995</th>\n",
              "      <td>0.998666</td>\n",
              "      <td>0.728571</td>\n",
              "      <td>1.00</td>\n",
              "      <td>0.666667</td>\n",
              "      <td>0.571429</td>\n",
              "      <td>0.625</td>\n",
              "      <td>1.0</td>\n",
              "      <td>0.791667</td>\n",
              "      <td>0.90</td>\n",
              "      <td>0.666667</td>\n",
              "      <td>0.833333</td>\n",
              "      <td>0.2</td>\n",
              "      <td>0.642330</td>\n",
              "      <td>0.25</td>\n",
              "    </tr>\n",
              "    <tr>\n",
              "      <th>2996</th>\n",
              "      <td>0.999000</td>\n",
              "      <td>0.028571</td>\n",
              "      <td>1.00</td>\n",
              "      <td>1.000000</td>\n",
              "      <td>0.857143</td>\n",
              "      <td>0.750</td>\n",
              "      <td>1.0</td>\n",
              "      <td>0.966667</td>\n",
              "      <td>0.34</td>\n",
              "      <td>1.000000</td>\n",
              "      <td>0.950000</td>\n",
              "      <td>0.6</td>\n",
              "      <td>0.460546</td>\n",
              "      <td>0.00</td>\n",
              "    </tr>\n",
              "    <tr>\n",
              "      <th>2997</th>\n",
              "      <td>0.999333</td>\n",
              "      <td>0.542857</td>\n",
              "      <td>0.50</td>\n",
              "      <td>0.333333</td>\n",
              "      <td>0.285714</td>\n",
              "      <td>0.375</td>\n",
              "      <td>0.0</td>\n",
              "      <td>0.000000</td>\n",
              "      <td>0.16</td>\n",
              "      <td>0.666667</td>\n",
              "      <td>0.916667</td>\n",
              "      <td>1.0</td>\n",
              "      <td>0.406711</td>\n",
              "      <td>0.75</td>\n",
              "    </tr>\n",
              "    <tr>\n",
              "      <th>2998</th>\n",
              "      <td>0.999667</td>\n",
              "      <td>0.042857</td>\n",
              "      <td>1.00</td>\n",
              "      <td>0.833333</td>\n",
              "      <td>0.857143</td>\n",
              "      <td>0.750</td>\n",
              "      <td>0.0</td>\n",
              "      <td>0.000000</td>\n",
              "      <td>0.16</td>\n",
              "      <td>1.000000</td>\n",
              "      <td>0.183333</td>\n",
              "      <td>0.4</td>\n",
              "      <td>0.624631</td>\n",
              "      <td>0.25</td>\n",
              "    </tr>\n",
              "    <tr>\n",
              "      <th>2999</th>\n",
              "      <td>1.000000</td>\n",
              "      <td>0.757143</td>\n",
              "      <td>0.50</td>\n",
              "      <td>0.666667</td>\n",
              "      <td>0.714286</td>\n",
              "      <td>0.750</td>\n",
              "      <td>0.0</td>\n",
              "      <td>0.000000</td>\n",
              "      <td>0.76</td>\n",
              "      <td>0.666667</td>\n",
              "      <td>0.916667</td>\n",
              "      <td>0.4</td>\n",
              "      <td>0.590339</td>\n",
              "      <td>0.50</td>\n",
              "    </tr>\n",
              "  </tbody>\n",
              "</table>\n",
              "<p>3000 rows × 14 columns</p>\n",
              "</div>\n",
              "      <button class=\"colab-df-convert\" onclick=\"convertToInteractive('df-94d9758d-4073-402d-92e2-1e2ce28856e2')\"\n",
              "              title=\"Convert this dataframe to an interactive table.\"\n",
              "              style=\"display:none;\">\n",
              "        \n",
              "  <svg xmlns=\"http://www.w3.org/2000/svg\" height=\"24px\"viewBox=\"0 0 24 24\"\n",
              "       width=\"24px\">\n",
              "    <path d=\"M0 0h24v24H0V0z\" fill=\"none\"/>\n",
              "    <path d=\"M18.56 5.44l.94 2.06.94-2.06 2.06-.94-2.06-.94-.94-2.06-.94 2.06-2.06.94zm-11 1L8.5 8.5l.94-2.06 2.06-.94-2.06-.94L8.5 2.5l-.94 2.06-2.06.94zm10 10l.94 2.06.94-2.06 2.06-.94-2.06-.94-.94-2.06-.94 2.06-2.06.94z\"/><path d=\"M17.41 7.96l-1.37-1.37c-.4-.4-.92-.59-1.43-.59-.52 0-1.04.2-1.43.59L10.3 9.45l-7.72 7.72c-.78.78-.78 2.05 0 2.83L4 21.41c.39.39.9.59 1.41.59.51 0 1.02-.2 1.41-.59l7.78-7.78 2.81-2.81c.8-.78.8-2.07 0-2.86zM5.41 20L4 18.59l7.72-7.72 1.47 1.35L5.41 20z\"/>\n",
              "  </svg>\n",
              "      </button>\n",
              "      \n",
              "  <style>\n",
              "    .colab-df-container {\n",
              "      display:flex;\n",
              "      flex-wrap:wrap;\n",
              "      gap: 12px;\n",
              "    }\n",
              "\n",
              "    .colab-df-convert {\n",
              "      background-color: #E8F0FE;\n",
              "      border: none;\n",
              "      border-radius: 50%;\n",
              "      cursor: pointer;\n",
              "      display: none;\n",
              "      fill: #1967D2;\n",
              "      height: 32px;\n",
              "      padding: 0 0 0 0;\n",
              "      width: 32px;\n",
              "    }\n",
              "\n",
              "    .colab-df-convert:hover {\n",
              "      background-color: #E2EBFA;\n",
              "      box-shadow: 0px 1px 2px rgba(60, 64, 67, 0.3), 0px 1px 3px 1px rgba(60, 64, 67, 0.15);\n",
              "      fill: #174EA6;\n",
              "    }\n",
              "\n",
              "    [theme=dark] .colab-df-convert {\n",
              "      background-color: #3B4455;\n",
              "      fill: #D2E3FC;\n",
              "    }\n",
              "\n",
              "    [theme=dark] .colab-df-convert:hover {\n",
              "      background-color: #434B5C;\n",
              "      box-shadow: 0px 1px 3px 1px rgba(0, 0, 0, 0.15);\n",
              "      filter: drop-shadow(0px 1px 2px rgba(0, 0, 0, 0.3));\n",
              "      fill: #FFFFFF;\n",
              "    }\n",
              "  </style>\n",
              "\n",
              "      <script>\n",
              "        const buttonEl =\n",
              "          document.querySelector('#df-94d9758d-4073-402d-92e2-1e2ce28856e2 button.colab-df-convert');\n",
              "        buttonEl.style.display =\n",
              "          google.colab.kernel.accessAllowed ? 'block' : 'none';\n",
              "\n",
              "        async function convertToInteractive(key) {\n",
              "          const element = document.querySelector('#df-94d9758d-4073-402d-92e2-1e2ce28856e2');\n",
              "          const dataTable =\n",
              "            await google.colab.kernel.invokeFunction('convertToInteractive',\n",
              "                                                     [key], {});\n",
              "          if (!dataTable) return;\n",
              "\n",
              "          const docLinkHtml = 'Like what you see? Visit the ' +\n",
              "            '<a target=\"_blank\" href=https://colab.research.google.com/notebooks/data_table.ipynb>data table notebook</a>'\n",
              "            + ' to learn more about interactive tables.';\n",
              "          element.innerHTML = '';\n",
              "          dataTable['output_type'] = 'display_data';\n",
              "          await google.colab.output.renderOutput(dataTable, element);\n",
              "          const docLink = document.createElement('div');\n",
              "          docLink.innerHTML = docLinkHtml;\n",
              "          element.appendChild(docLink);\n",
              "        }\n",
              "      </script>\n",
              "    </div>\n",
              "  </div>\n",
              "  "
            ]
          },
          "metadata": {},
          "execution_count": 18
        }
      ]
    },
    {
      "cell_type": "code",
      "source": [
        "# Finding correlation among numerical features, based on their strong relation we can choose the important features\n",
        "\n",
        "corr = HouseGrade_scaled.corr()\n",
        "corr.style.background_gradient(cmap='Purples')"
      ],
      "metadata": {
        "colab": {
          "base_uri": "https://localhost:8080/",
          "height": 488
        },
        "id": "bzG9NMBkL3va",
        "outputId": "8196b84d-d9e5-41db-8d3c-e0d6286f0a2e"
      },
      "execution_count": 19,
      "outputs": [
        {
          "output_type": "execute_result",
          "data": {
            "text/plain": [
              "<pandas.io.formats.style.Styler at 0x7f21291d2190>"
            ],
            "text/html": [
              "<style type=\"text/css\">\n",
              "#T_461e7_row0_col0, #T_461e7_row1_col1, #T_461e7_row2_col2, #T_461e7_row3_col3, #T_461e7_row4_col4, #T_461e7_row5_col5, #T_461e7_row6_col6, #T_461e7_row7_col7, #T_461e7_row8_col8, #T_461e7_row9_col9, #T_461e7_row10_col10, #T_461e7_row11_col11, #T_461e7_row12_col12, #T_461e7_row13_col13 {\n",
              "  background-color: #3f007d;\n",
              "  color: #f1f1f1;\n",
              "}\n",
              "#T_461e7_row0_col1, #T_461e7_row1_col6, #T_461e7_row9_col6, #T_461e7_row12_col7 {\n",
              "  background-color: #eae9f3;\n",
              "  color: #000000;\n",
              "}\n",
              "#T_461e7_row0_col2, #T_461e7_row0_col3, #T_461e7_row6_col5, #T_461e7_row7_col5, #T_461e7_row10_col3, #T_461e7_row10_col4 {\n",
              "  background-color: #a6a3cd;\n",
              "  color: #f1f1f1;\n",
              "}\n",
              "#T_461e7_row0_col4, #T_461e7_row10_col5, #T_461e7_row11_col5 {\n",
              "  background-color: #a8a6cf;\n",
              "  color: #f1f1f1;\n",
              "}\n",
              "#T_461e7_row0_col5, #T_461e7_row1_col9, #T_461e7_row11_col9 {\n",
              "  background-color: #aaa8d0;\n",
              "  color: #000000;\n",
              "}\n",
              "#T_461e7_row0_col6, #T_461e7_row8_col1, #T_461e7_row10_col1, #T_461e7_row12_col6 {\n",
              "  background-color: #ebe9f3;\n",
              "  color: #000000;\n",
              "}\n",
              "#T_461e7_row0_col7, #T_461e7_row1_col7, #T_461e7_row9_col7 {\n",
              "  background-color: #eae8f2;\n",
              "  color: #000000;\n",
              "}\n",
              "#T_461e7_row0_col8, #T_461e7_row2_col8, #T_461e7_row4_col8, #T_461e7_row5_col8 {\n",
              "  background-color: #f6f5f9;\n",
              "  color: #000000;\n",
              "}\n",
              "#T_461e7_row0_col9, #T_461e7_row0_col12, #T_461e7_row6_col12, #T_461e7_row7_col12 {\n",
              "  background-color: #aeacd2;\n",
              "  color: #000000;\n",
              "}\n",
              "#T_461e7_row0_col10, #T_461e7_row1_col10, #T_461e7_row3_col10, #T_461e7_row9_col10 {\n",
              "  background-color: #f3f1f7;\n",
              "  color: #000000;\n",
              "}\n",
              "#T_461e7_row0_col11, #T_461e7_row1_col11, #T_461e7_row4_col13, #T_461e7_row5_col0, #T_461e7_row7_col11, #T_461e7_row10_col0 {\n",
              "  background-color: #fbfafc;\n",
              "  color: #000000;\n",
              "}\n",
              "#T_461e7_row0_col13, #T_461e7_row8_col3, #T_461e7_row8_col4, #T_461e7_row11_col4 {\n",
              "  background-color: #a7a4ce;\n",
              "  color: #f1f1f1;\n",
              "}\n",
              "#T_461e7_row1_col0, #T_461e7_row2_col0, #T_461e7_row3_col0, #T_461e7_row4_col0, #T_461e7_row8_col0, #T_461e7_row12_col0 {\n",
              "  background-color: #faf9fc;\n",
              "  color: #000000;\n",
              "}\n",
              "#T_461e7_row1_col2, #T_461e7_row6_col2, #T_461e7_row7_col3 {\n",
              "  background-color: #a3a0cb;\n",
              "  color: #f1f1f1;\n",
              "}\n",
              "#T_461e7_row1_col3, #T_461e7_row7_col2 {\n",
              "  background-color: #a29fcb;\n",
              "  color: #f1f1f1;\n",
              "}\n",
              "#T_461e7_row1_col4, #T_461e7_row6_col3, #T_461e7_row6_col4, #T_461e7_row7_col4 {\n",
              "  background-color: #a4a1cc;\n",
              "  color: #f1f1f1;\n",
              "}\n",
              "#T_461e7_row1_col5, #T_461e7_row8_col2, #T_461e7_row10_col2, #T_461e7_row11_col2, #T_461e7_row11_col3 {\n",
              "  background-color: #a5a2cd;\n",
              "  color: #f1f1f1;\n",
              "}\n",
              "#T_461e7_row1_col8, #T_461e7_row6_col8, #T_461e7_row9_col11, #T_461e7_row9_col13 {\n",
              "  background-color: #f8f6fa;\n",
              "  color: #000000;\n",
              "}\n",
              "#T_461e7_row1_col12 {\n",
              "  background-color: #8986be;\n",
              "  color: #f1f1f1;\n",
              "}\n",
              "#T_461e7_row1_col13 {\n",
              "  background-color: #bdbedc;\n",
              "  color: #000000;\n",
              "}\n",
              "#T_461e7_row2_col1, #T_461e7_row2_col6, #T_461e7_row3_col7, #T_461e7_row4_col6, #T_461e7_row5_col6, #T_461e7_row7_col1, #T_461e7_row9_col1 {\n",
              "  background-color: #e8e7f2;\n",
              "  color: #000000;\n",
              "}\n",
              "#T_461e7_row2_col3, #T_461e7_row3_col2, #T_461e7_row9_col2 {\n",
              "  background-color: #4b1687;\n",
              "  color: #f1f1f1;\n",
              "}\n",
              "#T_461e7_row2_col4, #T_461e7_row4_col2 {\n",
              "  background-color: #4e1c8a;\n",
              "  color: #f1f1f1;\n",
              "}\n",
              "#T_461e7_row2_col5, #T_461e7_row5_col2 {\n",
              "  background-color: #51228d;\n",
              "  color: #f1f1f1;\n",
              "}\n",
              "#T_461e7_row2_col7, #T_461e7_row4_col7, #T_461e7_row5_col7 {\n",
              "  background-color: #e8e6f2;\n",
              "  color: #000000;\n",
              "}\n",
              "#T_461e7_row2_col9 {\n",
              "  background-color: #4c1788;\n",
              "  color: #f1f1f1;\n",
              "}\n",
              "#T_461e7_row2_col10, #T_461e7_row4_col10, #T_461e7_row5_col10, #T_461e7_row8_col10 {\n",
              "  background-color: #f2f0f7;\n",
              "  color: #000000;\n",
              "}\n",
              "#T_461e7_row2_col11, #T_461e7_row4_col11 {\n",
              "  background-color: #f9f7fb;\n",
              "  color: #000000;\n",
              "}\n",
              "#T_461e7_row2_col12 {\n",
              "  background-color: #50208c;\n",
              "  color: #f1f1f1;\n",
              "}\n",
              "#T_461e7_row2_col13, #T_461e7_row3_col13, #T_461e7_row6_col11, #T_461e7_row9_col0, #T_461e7_row10_col11, #T_461e7_row11_col0, #T_461e7_row13_col0, #T_461e7_row13_col1, #T_461e7_row13_col2, #T_461e7_row13_col3, #T_461e7_row13_col4, #T_461e7_row13_col5, #T_461e7_row13_col6, #T_461e7_row13_col7, #T_461e7_row13_col8, #T_461e7_row13_col9, #T_461e7_row13_col10, #T_461e7_row13_col11, #T_461e7_row13_col12 {\n",
              "  background-color: #fcfbfd;\n",
              "  color: #000000;\n",
              "}\n",
              "#T_461e7_row3_col1, #T_461e7_row4_col1, #T_461e7_row5_col1 {\n",
              "  background-color: #e6e5f1;\n",
              "  color: #000000;\n",
              "}\n",
              "#T_461e7_row3_col4 {\n",
              "  background-color: #430780;\n",
              "  color: #f1f1f1;\n",
              "}\n",
              "#T_461e7_row3_col5, #T_461e7_row5_col3 {\n",
              "  background-color: #460d83;\n",
              "  color: #f1f1f1;\n",
              "}\n",
              "#T_461e7_row3_col6, #T_461e7_row6_col1 {\n",
              "  background-color: #e9e8f2;\n",
              "  color: #000000;\n",
              "}\n",
              "#T_461e7_row3_col8, #T_461e7_row8_col11 {\n",
              "  background-color: #f7f6fa;\n",
              "  color: #000000;\n",
              "}\n",
              "#T_461e7_row3_col9 {\n",
              "  background-color: #572c92;\n",
              "  color: #f1f1f1;\n",
              "}\n",
              "#T_461e7_row3_col11, #T_461e7_row5_col11, #T_461e7_row7_col8, #T_461e7_row12_col11 {\n",
              "  background-color: #f8f7fa;\n",
              "  color: #000000;\n",
              "}\n",
              "#T_461e7_row3_col12, #T_461e7_row4_col9, #T_461e7_row9_col12 {\n",
              "  background-color: #5a3395;\n",
              "  color: #f1f1f1;\n",
              "}\n",
              "#T_461e7_row4_col3, #T_461e7_row4_col5, #T_461e7_row5_col4, #T_461e7_row6_col7, #T_461e7_row7_col6 {\n",
              "  background-color: #420680;\n",
              "  color: #f1f1f1;\n",
              "}\n",
              "#T_461e7_row4_col12, #T_461e7_row5_col9 {\n",
              "  background-color: #5d3897;\n",
              "  color: #f1f1f1;\n",
              "}\n",
              "#T_461e7_row5_col12 {\n",
              "  background-color: #613f9a;\n",
              "  color: #f1f1f1;\n",
              "}\n",
              "#T_461e7_row5_col13 {\n",
              "  background-color: #f9f8fb;\n",
              "  color: #000000;\n",
              "}\n",
              "#T_461e7_row6_col0, #T_461e7_row7_col0 {\n",
              "  background-color: #faf8fb;\n",
              "  color: #000000;\n",
              "}\n",
              "#T_461e7_row6_col9, #T_461e7_row7_col9, #T_461e7_row8_col9 {\n",
              "  background-color: #aba9d0;\n",
              "  color: #000000;\n",
              "}\n",
              "#T_461e7_row6_col10, #T_461e7_row7_col10 {\n",
              "  background-color: #f3f2f8;\n",
              "  color: #000000;\n",
              "}\n",
              "#T_461e7_row6_col13, #T_461e7_row7_col13 {\n",
              "  background-color: #bcbddc;\n",
              "  color: #000000;\n",
              "}\n",
              "#T_461e7_row8_col5, #T_461e7_row11_col13 {\n",
              "  background-color: #a9a7cf;\n",
              "  color: #f1f1f1;\n",
              "}\n",
              "#T_461e7_row8_col6, #T_461e7_row8_col7, #T_461e7_row10_col7 {\n",
              "  background-color: #edebf4;\n",
              "  color: #000000;\n",
              "}\n",
              "#T_461e7_row8_col12, #T_461e7_row8_col13, #T_461e7_row10_col9, #T_461e7_row11_col12 {\n",
              "  background-color: #adabd2;\n",
              "  color: #000000;\n",
              "}\n",
              "#T_461e7_row9_col3 {\n",
              "  background-color: #562b91;\n",
              "  color: #f1f1f1;\n",
              "}\n",
              "#T_461e7_row9_col4, #T_461e7_row12_col3 {\n",
              "  background-color: #593093;\n",
              "  color: #f1f1f1;\n",
              "}\n",
              "#T_461e7_row9_col5 {\n",
              "  background-color: #5c3797;\n",
              "  color: #f1f1f1;\n",
              "}\n",
              "#T_461e7_row9_col8, #T_461e7_row10_col8, #T_461e7_row12_col8, #T_461e7_row12_col13 {\n",
              "  background-color: #f6f4f9;\n",
              "  color: #000000;\n",
              "}\n",
              "#T_461e7_row10_col6 {\n",
              "  background-color: #eeecf4;\n",
              "  color: #000000;\n",
              "}\n",
              "#T_461e7_row10_col12 {\n",
              "  background-color: #acaad1;\n",
              "  color: #000000;\n",
              "}\n",
              "#T_461e7_row10_col13 {\n",
              "  background-color: #b3b3d6;\n",
              "  color: #000000;\n",
              "}\n",
              "#T_461e7_row11_col1 {\n",
              "  background-color: #ecebf4;\n",
              "  color: #000000;\n",
              "}\n",
              "#T_461e7_row11_col6 {\n",
              "  background-color: #efedf5;\n",
              "  color: #000000;\n",
              "}\n",
              "#T_461e7_row11_col7 {\n",
              "  background-color: #eeecf5;\n",
              "  color: #000000;\n",
              "}\n",
              "#T_461e7_row11_col8 {\n",
              "  background-color: #f5f3f8;\n",
              "  color: #000000;\n",
              "}\n",
              "#T_461e7_row11_col10 {\n",
              "  background-color: #f5f4f9;\n",
              "  color: #000000;\n",
              "}\n",
              "#T_461e7_row12_col1 {\n",
              "  background-color: #babadb;\n",
              "  color: #000000;\n",
              "}\n",
              "#T_461e7_row12_col2 {\n",
              "  background-color: #4f1d8b;\n",
              "  color: #f1f1f1;\n",
              "}\n",
              "#T_461e7_row12_col4 {\n",
              "  background-color: #5c3696;\n",
              "  color: #f1f1f1;\n",
              "}\n",
              "#T_461e7_row12_col5 {\n",
              "  background-color: #5f3c99;\n",
              "  color: #f1f1f1;\n",
              "}\n",
              "#T_461e7_row12_col9 {\n",
              "  background-color: #5a3294;\n",
              "  color: #f1f1f1;\n",
              "}\n",
              "#T_461e7_row12_col10 {\n",
              "  background-color: #f1f0f6;\n",
              "  color: #000000;\n",
              "}\n",
              "</style>\n",
              "<table id=\"T_461e7_\" class=\"dataframe\">\n",
              "  <thead>\n",
              "    <tr>\n",
              "      <th class=\"blank level0\" >&nbsp;</th>\n",
              "      <th class=\"col_heading level0 col0\" >Id</th>\n",
              "      <th class=\"col_heading level0 col1\" >Area(total)</th>\n",
              "      <th class=\"col_heading level0 col2\" >Trooms</th>\n",
              "      <th class=\"col_heading level0 col3\" >Nbedrooms</th>\n",
              "      <th class=\"col_heading level0 col4\" >Nbwashrooms</th>\n",
              "      <th class=\"col_heading level0 col5\" >Twashrooms</th>\n",
              "      <th class=\"col_heading level0 col6\" >roof</th>\n",
              "      <th class=\"col_heading level0 col7\" >Roof(Area)</th>\n",
              "      <th class=\"col_heading level0 col8\" >Lawn(Area)</th>\n",
              "      <th class=\"col_heading level0 col9\" >Nfloors</th>\n",
              "      <th class=\"col_heading level0 col10\" >API</th>\n",
              "      <th class=\"col_heading level0 col11\" >ANB</th>\n",
              "      <th class=\"col_heading level0 col12\" >Expected price</th>\n",
              "      <th class=\"col_heading level0 col13\" >Grade</th>\n",
              "    </tr>\n",
              "  </thead>\n",
              "  <tbody>\n",
              "    <tr>\n",
              "      <th id=\"T_461e7_level0_row0\" class=\"row_heading level0 row0\" >Id</th>\n",
              "      <td id=\"T_461e7_row0_col0\" class=\"data row0 col0\" >1.000000</td>\n",
              "      <td id=\"T_461e7_row0_col1\" class=\"data row0 col1\" >0.003186</td>\n",
              "      <td id=\"T_461e7_row0_col2\" class=\"data row0 col2\" >0.003165</td>\n",
              "      <td id=\"T_461e7_row0_col3\" class=\"data row0 col3\" >0.004814</td>\n",
              "      <td id=\"T_461e7_row0_col4\" class=\"data row0 col4\" >0.003496</td>\n",
              "      <td id=\"T_461e7_row0_col5\" class=\"data row0 col5\" >0.001092</td>\n",
              "      <td id=\"T_461e7_row0_col6\" class=\"data row0 col6\" >0.011059</td>\n",
              "      <td id=\"T_461e7_row0_col7\" class=\"data row0 col7\" >0.013046</td>\n",
              "      <td id=\"T_461e7_row0_col8\" class=\"data row0 col8\" >0.006309</td>\n",
              "      <td id=\"T_461e7_row0_col9\" class=\"data row0 col9\" >-0.010939</td>\n",
              "      <td id=\"T_461e7_row0_col10\" class=\"data row0 col10\" >-0.003739</td>\n",
              "      <td id=\"T_461e7_row0_col11\" class=\"data row0 col11\" >-0.013219</td>\n",
              "      <td id=\"T_461e7_row0_col12\" class=\"data row0 col12\" >0.009216</td>\n",
              "      <td id=\"T_461e7_row0_col13\" class=\"data row0 col13\" >-0.006074</td>\n",
              "    </tr>\n",
              "    <tr>\n",
              "      <th id=\"T_461e7_level0_row1\" class=\"row_heading level0 row1\" >Area(total)</th>\n",
              "      <td id=\"T_461e7_row1_col0\" class=\"data row1 col0\" >0.003186</td>\n",
              "      <td id=\"T_461e7_row1_col1\" class=\"data row1 col1\" >1.000000</td>\n",
              "      <td id=\"T_461e7_row1_col2\" class=\"data row1 col2\" >0.019041</td>\n",
              "      <td id=\"T_461e7_row1_col3\" class=\"data row1 col3\" >0.031328</td>\n",
              "      <td id=\"T_461e7_row1_col4\" class=\"data row1 col4\" >0.031819</td>\n",
              "      <td id=\"T_461e7_row1_col5\" class=\"data row1 col5\" >0.038509</td>\n",
              "      <td id=\"T_461e7_row1_col6\" class=\"data row1 col6\" >0.014229</td>\n",
              "      <td id=\"T_461e7_row1_col7\" class=\"data row1 col7\" >0.017029</td>\n",
              "      <td id=\"T_461e7_row1_col8\" class=\"data row1 col8\" >-0.002118</td>\n",
              "      <td id=\"T_461e7_row1_col9\" class=\"data row1 col9\" >0.016819</td>\n",
              "      <td id=\"T_461e7_row1_col10\" class=\"data row1 col10\" >-0.000182</td>\n",
              "      <td id=\"T_461e7_row1_col11\" class=\"data row1 col11\" >-0.010846</td>\n",
              "      <td id=\"T_461e7_row1_col12\" class=\"data row1 col12\" >0.274507</td>\n",
              "      <td id=\"T_461e7_row1_col13\" class=\"data row1 col13\" >-0.177332</td>\n",
              "    </tr>\n",
              "    <tr>\n",
              "      <th id=\"T_461e7_level0_row2\" class=\"row_heading level0 row2\" >Trooms</th>\n",
              "      <td id=\"T_461e7_row2_col0\" class=\"data row2 col0\" >0.003165</td>\n",
              "      <td id=\"T_461e7_row2_col1\" class=\"data row2 col1\" >0.019041</td>\n",
              "      <td id=\"T_461e7_row2_col2\" class=\"data row2 col2\" >1.000000</td>\n",
              "      <td id=\"T_461e7_row2_col3\" class=\"data row2 col3\" >0.865878</td>\n",
              "      <td id=\"T_461e7_row2_col4\" class=\"data row2 col4\" >0.827072</td>\n",
              "      <td id=\"T_461e7_row2_col5\" class=\"data row2 col5\" >0.794870</td>\n",
              "      <td id=\"T_461e7_row2_col6\" class=\"data row2 col6\" >0.025142</td>\n",
              "      <td id=\"T_461e7_row2_col7\" class=\"data row2 col7\" >0.026550</td>\n",
              "      <td id=\"T_461e7_row2_col8\" class=\"data row2 col8\" >0.009557</td>\n",
              "      <td id=\"T_461e7_row2_col9\" class=\"data row2 col9\" >0.862367</td>\n",
              "      <td id=\"T_461e7_row2_col10\" class=\"data row2 col10\" >0.007502</td>\n",
              "      <td id=\"T_461e7_row2_col11\" class=\"data row2 col11\" >0.007321</td>\n",
              "      <td id=\"T_461e7_row2_col12\" class=\"data row2 col12\" >0.820170</td>\n",
              "      <td id=\"T_461e7_row2_col13\" class=\"data row2 col13\" >-0.875145</td>\n",
              "    </tr>\n",
              "    <tr>\n",
              "      <th id=\"T_461e7_level0_row3\" class=\"row_heading level0 row3\" >Nbedrooms</th>\n",
              "      <td id=\"T_461e7_row3_col0\" class=\"data row3 col0\" >0.004814</td>\n",
              "      <td id=\"T_461e7_row3_col1\" class=\"data row3 col1\" >0.031328</td>\n",
              "      <td id=\"T_461e7_row3_col2\" class=\"data row3 col2\" >0.865878</td>\n",
              "      <td id=\"T_461e7_row3_col3\" class=\"data row3 col3\" >1.000000</td>\n",
              "      <td id=\"T_461e7_row3_col4\" class=\"data row3 col4\" >0.956578</td>\n",
              "      <td id=\"T_461e7_row3_col5\" class=\"data row3 col5\" >0.919158</td>\n",
              "      <td id=\"T_461e7_row3_col6\" class=\"data row3 col6\" >0.023058</td>\n",
              "      <td id=\"T_461e7_row3_col7\" class=\"data row3 col7\" >0.025073</td>\n",
              "      <td id=\"T_461e7_row3_col8\" class=\"data row3 col8\" >0.000054</td>\n",
              "      <td id=\"T_461e7_row3_col9\" class=\"data row3 col9\" >0.742132</td>\n",
              "      <td id=\"T_461e7_row3_col10\" class=\"data row3 col10\" >0.002820</td>\n",
              "      <td id=\"T_461e7_row3_col11\" class=\"data row3 col11\" >0.015403</td>\n",
              "      <td id=\"T_461e7_row3_col12\" class=\"data row3 col12\" >0.715687</td>\n",
              "      <td id=\"T_461e7_row3_col13\" class=\"data row3 col13\" >-0.865389</td>\n",
              "    </tr>\n",
              "    <tr>\n",
              "      <th id=\"T_461e7_level0_row4\" class=\"row_heading level0 row4\" >Nbwashrooms</th>\n",
              "      <td id=\"T_461e7_row4_col0\" class=\"data row4 col0\" >0.003496</td>\n",
              "      <td id=\"T_461e7_row4_col1\" class=\"data row4 col1\" >0.031819</td>\n",
              "      <td id=\"T_461e7_row4_col2\" class=\"data row4 col2\" >0.827072</td>\n",
              "      <td id=\"T_461e7_row4_col3\" class=\"data row4 col3\" >0.956578</td>\n",
              "      <td id=\"T_461e7_row4_col4\" class=\"data row4 col4\" >1.000000</td>\n",
              "      <td id=\"T_461e7_row4_col5\" class=\"data row4 col5\" >0.960007</td>\n",
              "      <td id=\"T_461e7_row4_col6\" class=\"data row4 col6\" >0.028549</td>\n",
              "      <td id=\"T_461e7_row4_col7\" class=\"data row4 col7\" >0.028832</td>\n",
              "      <td id=\"T_461e7_row4_col8\" class=\"data row4 col8\" >0.006617</td>\n",
              "      <td id=\"T_461e7_row4_col9\" class=\"data row4 col9\" >0.711936</td>\n",
              "      <td id=\"T_461e7_row4_col10\" class=\"data row4 col10\" >0.011413</td>\n",
              "      <td id=\"T_461e7_row4_col11\" class=\"data row4 col11\" >0.008475</td>\n",
              "      <td id=\"T_461e7_row4_col12\" class=\"data row4 col12\" >0.683659</td>\n",
              "      <td id=\"T_461e7_row4_col13\" class=\"data row4 col13\" >-0.847319</td>\n",
              "    </tr>\n",
              "    <tr>\n",
              "      <th id=\"T_461e7_level0_row5\" class=\"row_heading level0 row5\" >Twashrooms</th>\n",
              "      <td id=\"T_461e7_row5_col0\" class=\"data row5 col0\" >0.001092</td>\n",
              "      <td id=\"T_461e7_row5_col1\" class=\"data row5 col1\" >0.038509</td>\n",
              "      <td id=\"T_461e7_row5_col2\" class=\"data row5 col2\" >0.794870</td>\n",
              "      <td id=\"T_461e7_row5_col3\" class=\"data row5 col3\" >0.919158</td>\n",
              "      <td id=\"T_461e7_row5_col4\" class=\"data row5 col4\" >0.960007</td>\n",
              "      <td id=\"T_461e7_row5_col5\" class=\"data row5 col5\" >1.000000</td>\n",
              "      <td id=\"T_461e7_row5_col6\" class=\"data row5 col6\" >0.028212</td>\n",
              "      <td id=\"T_461e7_row5_col7\" class=\"data row5 col7\" >0.028763</td>\n",
              "      <td id=\"T_461e7_row5_col8\" class=\"data row5 col8\" >0.008386</td>\n",
              "      <td id=\"T_461e7_row5_col9\" class=\"data row5 col9\" >0.684966</td>\n",
              "      <td id=\"T_461e7_row5_col10\" class=\"data row5 col10\" >0.012361</td>\n",
              "      <td id=\"T_461e7_row5_col11\" class=\"data row5 col11\" >0.016492</td>\n",
              "      <td id=\"T_461e7_row5_col12\" class=\"data row5 col12\" >0.654627</td>\n",
              "      <td id=\"T_461e7_row5_col13\" class=\"data row5 col13\" >-0.819280</td>\n",
              "    </tr>\n",
              "    <tr>\n",
              "      <th id=\"T_461e7_level0_row6\" class=\"row_heading level0 row6\" >roof</th>\n",
              "      <td id=\"T_461e7_row6_col0\" class=\"data row6 col0\" >0.011059</td>\n",
              "      <td id=\"T_461e7_row6_col1\" class=\"data row6 col1\" >0.014229</td>\n",
              "      <td id=\"T_461e7_row6_col2\" class=\"data row6 col2\" >0.025142</td>\n",
              "      <td id=\"T_461e7_row6_col3\" class=\"data row6 col3\" >0.023058</td>\n",
              "      <td id=\"T_461e7_row6_col4\" class=\"data row6 col4\" >0.028549</td>\n",
              "      <td id=\"T_461e7_row6_col5\" class=\"data row6 col5\" >0.028212</td>\n",
              "      <td id=\"T_461e7_row6_col6\" class=\"data row6 col6\" >1.000000</td>\n",
              "      <td id=\"T_461e7_row6_col7\" class=\"data row6 col7\" >0.976561</td>\n",
              "      <td id=\"T_461e7_row6_col8\" class=\"data row6 col8\" >-0.004640</td>\n",
              "      <td id=\"T_461e7_row6_col9\" class=\"data row6 col9\" >0.014985</td>\n",
              "      <td id=\"T_461e7_row6_col10\" class=\"data row6 col10\" >-0.007983</td>\n",
              "      <td id=\"T_461e7_row6_col11\" class=\"data row6 col11\" >-0.020511</td>\n",
              "      <td id=\"T_461e7_row6_col12\" class=\"data row6 col12\" >0.007880</td>\n",
              "      <td id=\"T_461e7_row6_col13\" class=\"data row6 col13\" >-0.166635</td>\n",
              "    </tr>\n",
              "    <tr>\n",
              "      <th id=\"T_461e7_level0_row7\" class=\"row_heading level0 row7\" >Roof(Area)</th>\n",
              "      <td id=\"T_461e7_row7_col0\" class=\"data row7 col0\" >0.013046</td>\n",
              "      <td id=\"T_461e7_row7_col1\" class=\"data row7 col1\" >0.017029</td>\n",
              "      <td id=\"T_461e7_row7_col2\" class=\"data row7 col2\" >0.026550</td>\n",
              "      <td id=\"T_461e7_row7_col3\" class=\"data row7 col3\" >0.025073</td>\n",
              "      <td id=\"T_461e7_row7_col4\" class=\"data row7 col4\" >0.028832</td>\n",
              "      <td id=\"T_461e7_row7_col5\" class=\"data row7 col5\" >0.028763</td>\n",
              "      <td id=\"T_461e7_row7_col6\" class=\"data row7 col6\" >0.976561</td>\n",
              "      <td id=\"T_461e7_row7_col7\" class=\"data row7 col7\" >1.000000</td>\n",
              "      <td id=\"T_461e7_row7_col8\" class=\"data row7 col8\" >-0.006831</td>\n",
              "      <td id=\"T_461e7_row7_col9\" class=\"data row7 col9\" >0.013840</td>\n",
              "      <td id=\"T_461e7_row7_col10\" class=\"data row7 col10\" >-0.006331</td>\n",
              "      <td id=\"T_461e7_row7_col11\" class=\"data row7 col11\" >-0.015529</td>\n",
              "      <td id=\"T_461e7_row7_col12\" class=\"data row7 col12\" >0.009346</td>\n",
              "      <td id=\"T_461e7_row7_col13\" class=\"data row7 col13\" >-0.170259</td>\n",
              "    </tr>\n",
              "    <tr>\n",
              "      <th id=\"T_461e7_level0_row8\" class=\"row_heading level0 row8\" >Lawn(Area)</th>\n",
              "      <td id=\"T_461e7_row8_col0\" class=\"data row8 col0\" >0.006309</td>\n",
              "      <td id=\"T_461e7_row8_col1\" class=\"data row8 col1\" >-0.002118</td>\n",
              "      <td id=\"T_461e7_row8_col2\" class=\"data row8 col2\" >0.009557</td>\n",
              "      <td id=\"T_461e7_row8_col3\" class=\"data row8 col3\" >0.000054</td>\n",
              "      <td id=\"T_461e7_row8_col4\" class=\"data row8 col4\" >0.006617</td>\n",
              "      <td id=\"T_461e7_row8_col5\" class=\"data row8 col5\" >0.008386</td>\n",
              "      <td id=\"T_461e7_row8_col6\" class=\"data row8 col6\" >-0.004640</td>\n",
              "      <td id=\"T_461e7_row8_col7\" class=\"data row8 col7\" >-0.006831</td>\n",
              "      <td id=\"T_461e7_row8_col8\" class=\"data row8 col8\" >1.000000</td>\n",
              "      <td id=\"T_461e7_row8_col9\" class=\"data row8 col9\" >0.013771</td>\n",
              "      <td id=\"T_461e7_row8_col10\" class=\"data row8 col10\" >0.011477</td>\n",
              "      <td id=\"T_461e7_row8_col11\" class=\"data row8 col11\" >0.025751</td>\n",
              "      <td id=\"T_461e7_row8_col12\" class=\"data row8 col12\" >0.011561</td>\n",
              "      <td id=\"T_461e7_row8_col13\" class=\"data row8 col13\" >-0.051200</td>\n",
              "    </tr>\n",
              "    <tr>\n",
              "      <th id=\"T_461e7_level0_row9\" class=\"row_heading level0 row9\" >Nfloors</th>\n",
              "      <td id=\"T_461e7_row9_col0\" class=\"data row9 col0\" >-0.010939</td>\n",
              "      <td id=\"T_461e7_row9_col1\" class=\"data row9 col1\" >0.016819</td>\n",
              "      <td id=\"T_461e7_row9_col2\" class=\"data row9 col2\" >0.862367</td>\n",
              "      <td id=\"T_461e7_row9_col3\" class=\"data row9 col3\" >0.742132</td>\n",
              "      <td id=\"T_461e7_row9_col4\" class=\"data row9 col4\" >0.711936</td>\n",
              "      <td id=\"T_461e7_row9_col5\" class=\"data row9 col5\" >0.684966</td>\n",
              "      <td id=\"T_461e7_row9_col6\" class=\"data row9 col6\" >0.014985</td>\n",
              "      <td id=\"T_461e7_row9_col7\" class=\"data row9 col7\" >0.013840</td>\n",
              "      <td id=\"T_461e7_row9_col8\" class=\"data row9 col8\" >0.013771</td>\n",
              "      <td id=\"T_461e7_row9_col9\" class=\"data row9 col9\" >1.000000</td>\n",
              "      <td id=\"T_461e7_row9_col10\" class=\"data row9 col10\" >-0.002255</td>\n",
              "      <td id=\"T_461e7_row9_col11\" class=\"data row9 col11\" >0.020614</td>\n",
              "      <td id=\"T_461e7_row9_col12\" class=\"data row9 col12\" >0.714598</td>\n",
              "      <td id=\"T_461e7_row9_col13\" class=\"data row9 col13\" >-0.787623</td>\n",
              "    </tr>\n",
              "    <tr>\n",
              "      <th id=\"T_461e7_level0_row10\" class=\"row_heading level0 row10\" >API</th>\n",
              "      <td id=\"T_461e7_row10_col0\" class=\"data row10 col0\" >-0.003739</td>\n",
              "      <td id=\"T_461e7_row10_col1\" class=\"data row10 col1\" >-0.000182</td>\n",
              "      <td id=\"T_461e7_row10_col2\" class=\"data row10 col2\" >0.007502</td>\n",
              "      <td id=\"T_461e7_row10_col3\" class=\"data row10 col3\" >0.002820</td>\n",
              "      <td id=\"T_461e7_row10_col4\" class=\"data row10 col4\" >0.011413</td>\n",
              "      <td id=\"T_461e7_row10_col5\" class=\"data row10 col5\" >0.012361</td>\n",
              "      <td id=\"T_461e7_row10_col6\" class=\"data row10 col6\" >-0.007983</td>\n",
              "      <td id=\"T_461e7_row10_col7\" class=\"data row10 col7\" >-0.006331</td>\n",
              "      <td id=\"T_461e7_row10_col8\" class=\"data row10 col8\" >0.011477</td>\n",
              "      <td id=\"T_461e7_row10_col9\" class=\"data row10 col9\" >-0.002255</td>\n",
              "      <td id=\"T_461e7_row10_col10\" class=\"data row10 col10\" >1.000000</td>\n",
              "      <td id=\"T_461e7_row10_col11\" class=\"data row10 col11\" >-0.025694</td>\n",
              "      <td id=\"T_461e7_row10_col12\" class=\"data row10 col12\" >0.016575</td>\n",
              "      <td id=\"T_461e7_row10_col13\" class=\"data row10 col13\" >-0.099000</td>\n",
              "    </tr>\n",
              "    <tr>\n",
              "      <th id=\"T_461e7_level0_row11\" class=\"row_heading level0 row11\" >ANB</th>\n",
              "      <td id=\"T_461e7_row11_col0\" class=\"data row11 col0\" >-0.013219</td>\n",
              "      <td id=\"T_461e7_row11_col1\" class=\"data row11 col1\" >-0.010846</td>\n",
              "      <td id=\"T_461e7_row11_col2\" class=\"data row11 col2\" >0.007321</td>\n",
              "      <td id=\"T_461e7_row11_col3\" class=\"data row11 col3\" >0.015403</td>\n",
              "      <td id=\"T_461e7_row11_col4\" class=\"data row11 col4\" >0.008475</td>\n",
              "      <td id=\"T_461e7_row11_col5\" class=\"data row11 col5\" >0.016492</td>\n",
              "      <td id=\"T_461e7_row11_col6\" class=\"data row11 col6\" >-0.020511</td>\n",
              "      <td id=\"T_461e7_row11_col7\" class=\"data row11 col7\" >-0.015529</td>\n",
              "      <td id=\"T_461e7_row11_col8\" class=\"data row11 col8\" >0.025751</td>\n",
              "      <td id=\"T_461e7_row11_col9\" class=\"data row11 col9\" >0.020614</td>\n",
              "      <td id=\"T_461e7_row11_col10\" class=\"data row11 col10\" >-0.025694</td>\n",
              "      <td id=\"T_461e7_row11_col11\" class=\"data row11 col11\" >1.000000</td>\n",
              "      <td id=\"T_461e7_row11_col12\" class=\"data row11 col12\" >0.015583</td>\n",
              "      <td id=\"T_461e7_row11_col13\" class=\"data row11 col13\" >-0.024025</td>\n",
              "    </tr>\n",
              "    <tr>\n",
              "      <th id=\"T_461e7_level0_row12\" class=\"row_heading level0 row12\" >Expected price</th>\n",
              "      <td id=\"T_461e7_row12_col0\" class=\"data row12 col0\" >0.009216</td>\n",
              "      <td id=\"T_461e7_row12_col1\" class=\"data row12 col1\" >0.274507</td>\n",
              "      <td id=\"T_461e7_row12_col2\" class=\"data row12 col2\" >0.820170</td>\n",
              "      <td id=\"T_461e7_row12_col3\" class=\"data row12 col3\" >0.715687</td>\n",
              "      <td id=\"T_461e7_row12_col4\" class=\"data row12 col4\" >0.683659</td>\n",
              "      <td id=\"T_461e7_row12_col5\" class=\"data row12 col5\" >0.654627</td>\n",
              "      <td id=\"T_461e7_row12_col6\" class=\"data row12 col6\" >0.007880</td>\n",
              "      <td id=\"T_461e7_row12_col7\" class=\"data row12 col7\" >0.009346</td>\n",
              "      <td id=\"T_461e7_row12_col8\" class=\"data row12 col8\" >0.011561</td>\n",
              "      <td id=\"T_461e7_row12_col9\" class=\"data row12 col9\" >0.714598</td>\n",
              "      <td id=\"T_461e7_row12_col10\" class=\"data row12 col10\" >0.016575</td>\n",
              "      <td id=\"T_461e7_row12_col11\" class=\"data row12 col11\" >0.015583</td>\n",
              "      <td id=\"T_461e7_row12_col12\" class=\"data row12 col12\" >1.000000</td>\n",
              "      <td id=\"T_461e7_row12_col13\" class=\"data row12 col13\" >-0.760820</td>\n",
              "    </tr>\n",
              "    <tr>\n",
              "      <th id=\"T_461e7_level0_row13\" class=\"row_heading level0 row13\" >Grade</th>\n",
              "      <td id=\"T_461e7_row13_col0\" class=\"data row13 col0\" >-0.006074</td>\n",
              "      <td id=\"T_461e7_row13_col1\" class=\"data row13 col1\" >-0.177332</td>\n",
              "      <td id=\"T_461e7_row13_col2\" class=\"data row13 col2\" >-0.875145</td>\n",
              "      <td id=\"T_461e7_row13_col3\" class=\"data row13 col3\" >-0.865389</td>\n",
              "      <td id=\"T_461e7_row13_col4\" class=\"data row13 col4\" >-0.847319</td>\n",
              "      <td id=\"T_461e7_row13_col5\" class=\"data row13 col5\" >-0.819280</td>\n",
              "      <td id=\"T_461e7_row13_col6\" class=\"data row13 col6\" >-0.166635</td>\n",
              "      <td id=\"T_461e7_row13_col7\" class=\"data row13 col7\" >-0.170259</td>\n",
              "      <td id=\"T_461e7_row13_col8\" class=\"data row13 col8\" >-0.051200</td>\n",
              "      <td id=\"T_461e7_row13_col9\" class=\"data row13 col9\" >-0.787623</td>\n",
              "      <td id=\"T_461e7_row13_col10\" class=\"data row13 col10\" >-0.099000</td>\n",
              "      <td id=\"T_461e7_row13_col11\" class=\"data row13 col11\" >-0.024025</td>\n",
              "      <td id=\"T_461e7_row13_col12\" class=\"data row13 col12\" >-0.760820</td>\n",
              "      <td id=\"T_461e7_row13_col13\" class=\"data row13 col13\" >1.000000</td>\n",
              "    </tr>\n",
              "  </tbody>\n",
              "</table>\n"
            ]
          },
          "metadata": {},
          "execution_count": 19
        }
      ]
    },
    {
      "cell_type": "code",
      "source": [
        "#SELECTING BEST FEATURE BASED ON THERE CORRELATION VALUE GREATER THAN 0.2\n",
        "\n",
        "sel_corr = []\n",
        "for i in HouseGrade_scaled:\n",
        "  if abs(HouseGrade_scaled[i].corr(HouseGrade_scaled['Grade']))>=0.2:\n",
        "    sel_corr.append(i) \n",
        "\n",
        "\n",
        "#PLOTTING HEATMAP AMONG SELECTED FEATURES\n",
        "\n",
        "fig, ax = plt.subplots(figsize = (20,10))\n",
        "ax = (sns.heatmap(HouseGrade_scaled[sel_corr]\n",
        "                  .corr(), annot =True, cmap ='Purples',linewidths=0.1, linecolor='white').set(title = 'Correlation Matrix'))\n",
        "plt.show()"
      ],
      "metadata": {
        "colab": {
          "base_uri": "https://localhost:8080/",
          "height": 610
        },
        "id": "FJm5gJNIMBmK",
        "outputId": "29643064-e681-4b9c-933b-445cc956e670"
      },
      "execution_count": 20,
      "outputs": [
        {
          "output_type": "display_data",
          "data": {
            "text/plain": [
              "<Figure size 1440x720 with 2 Axes>"
            ],
            "image/png": "[encoded data removed]"
          },
          "metadata": {}
        }
      ]
    },
    {
      "cell_type": "code",
      "source": [
        "HouseGrade_corr = HouseGrade_scaled[sel_corr]\n",
        "HouseGrade_corr"
      ],
      "metadata": {
        "colab": {
          "base_uri": "https://localhost:8080/",
          "height": 424
        },
        "id": "4OQpxPtxsWvT",
        "outputId": "0959024d-bb10-4948-fefa-7a38ab2100ff"
      },
      "execution_count": 21,
      "outputs": [
        {
          "output_type": "execute_result",
          "data": {
            "text/plain": [
              "      Trooms  Nbedrooms  Nbwashrooms  Twashrooms   Nfloors  Expected price  \\\n",
              "0       0.25   0.500000     0.428571       0.500  0.166667        0.360251   \n",
              "1       0.00   0.333333     0.285714       0.250  0.333333        0.370944   \n",
              "2       0.50   0.500000     0.428571       0.375  0.666667        0.458702   \n",
              "3       0.25   0.333333     0.285714       0.375  0.166667        0.232301   \n",
              "4       0.50   0.333333     0.428571       0.375  0.333333        0.493732   \n",
              "...      ...        ...          ...         ...       ...             ...   \n",
              "2995    1.00   0.666667     0.571429       0.625  0.666667        0.642330   \n",
              "2996    1.00   1.000000     0.857143       0.750  1.000000        0.460546   \n",
              "2997    0.50   0.333333     0.285714       0.375  0.666667        0.406711   \n",
              "2998    1.00   0.833333     0.857143       0.750  1.000000        0.624631   \n",
              "2999    0.50   0.666667     0.714286       0.750  0.666667        0.590339   \n",
              "\n",
              "      Grade  \n",
              "0      0.75  \n",
              "1      0.75  \n",
              "2      0.50  \n",
              "3      0.75  \n",
              "4      0.75  \n",
              "...     ...  \n",
              "2995   0.25  \n",
              "2996   0.00  \n",
              "2997   0.75  \n",
              "2998   0.25  \n",
              "2999   0.50  \n",
              "\n",
              "[3000 rows x 7 columns]"
            ],
            "text/html": [
              "\n",
              "  <div id=\"df-72882a3b-a57f-40ce-9f2b-73ec29f17848\">\n",
              "    <div class=\"colab-df-container\">\n",
              "      <div>\n",
              "<style scoped>\n",
              "    .dataframe tbody tr th:only-of-type {\n",
              "        vertical-align: middle;\n",
              "    }\n",
              "\n",
              "    .dataframe tbody tr th {\n",
              "        vertical-align: top;\n",
              "    }\n",
              "\n",
              "    .dataframe thead th {\n",
              "        text-align: right;\n",
              "    }\n",
              "</style>\n",
              "<table border=\"1\" class=\"dataframe\">\n",
              "  <thead>\n",
              "    <tr style=\"text-align: right;\">\n",
              "      <th></th>\n",
              "      <th>Trooms</th>\n",
              "      <th>Nbedrooms</th>\n",
              "      <th>Nbwashrooms</th>\n",
              "      <th>Twashrooms</th>\n",
              "      <th>Nfloors</th>\n",
              "      <th>Expected price</th>\n",
              "      <th>Grade</th>\n",
              "    </tr>\n",
              "  </thead>\n",
              "  <tbody>\n",
              "    <tr>\n",
              "      <th>0</th>\n",
              "      <td>0.25</td>\n",
              "      <td>0.500000</td>\n",
              "      <td>0.428571</td>\n",
              "      <td>0.500</td>\n",
              "      <td>0.166667</td>\n",
              "      <td>0.360251</td>\n",
              "      <td>0.75</td>\n",
              "    </tr>\n",
              "    <tr>\n",
              "      <th>1</th>\n",
              "      <td>0.00</td>\n",
              "      <td>0.333333</td>\n",
              "      <td>0.285714</td>\n",
              "      <td>0.250</td>\n",
              "      <td>0.333333</td>\n",
              "      <td>0.370944</td>\n",
              "      <td>0.75</td>\n",
              "    </tr>\n",
              "    <tr>\n",
              "      <th>2</th>\n",
              "      <td>0.50</td>\n",
              "      <td>0.500000</td>\n",
              "      <td>0.428571</td>\n",
              "      <td>0.375</td>\n",
              "      <td>0.666667</td>\n",
              "      <td>0.458702</td>\n",
              "      <td>0.50</td>\n",
              "    </tr>\n",
              "    <tr>\n",
              "      <th>3</th>\n",
              "      <td>0.25</td>\n",
              "      <td>0.333333</td>\n",
              "      <td>0.285714</td>\n",
              "      <td>0.375</td>\n",
              "      <td>0.166667</td>\n",
              "      <td>0.232301</td>\n",
              "      <td>0.75</td>\n",
              "    </tr>\n",
              "    <tr>\n",
              "      <th>4</th>\n",
              "      <td>0.50</td>\n",
              "      <td>0.333333</td>\n",
              "      <td>0.428571</td>\n",
              "      <td>0.375</td>\n",
              "      <td>0.333333</td>\n",
              "      <td>0.493732</td>\n",
              "      <td>0.75</td>\n",
              "    </tr>\n",
              "    <tr>\n",
              "      <th>...</th>\n",
              "      <td>...</td>\n",
              "      <td>...</td>\n",
              "      <td>...</td>\n",
              "      <td>...</td>\n",
              "      <td>...</td>\n",
              "      <td>...</td>\n",
              "      <td>...</td>\n",
              "    </tr>\n",
              "    <tr>\n",
              "      <th>2995</th>\n",
              "      <td>1.00</td>\n",
              "      <td>0.666667</td>\n",
              "      <td>0.571429</td>\n",
              "      <td>0.625</td>\n",
              "      <td>0.666667</td>\n",
              "      <td>0.642330</td>\n",
              "      <td>0.25</td>\n",
              "    </tr>\n",
              "    <tr>\n",
              "      <th>2996</th>\n",
              "      <td>1.00</td>\n",
              "      <td>1.000000</td>\n",
              "      <td>0.857143</td>\n",
              "      <td>0.750</td>\n",
              "      <td>1.000000</td>\n",
              "      <td>0.460546</td>\n",
              "      <td>0.00</td>\n",
              "    </tr>\n",
              "    <tr>\n",
              "      <th>2997</th>\n",
              "      <td>0.50</td>\n",
              "      <td>0.333333</td>\n",
              "      <td>0.285714</td>\n",
              "      <td>0.375</td>\n",
              "      <td>0.666667</td>\n",
              "      <td>0.406711</td>\n",
              "      <td>0.75</td>\n",
              "    </tr>\n",
              "    <tr>\n",
              "      <th>2998</th>\n",
              "      <td>1.00</td>\n",
              "      <td>0.833333</td>\n",
              "      <td>0.857143</td>\n",
              "      <td>0.750</td>\n",
              "      <td>1.000000</td>\n",
              "      <td>0.624631</td>\n",
              "      <td>0.25</td>\n",
              "    </tr>\n",
              "    <tr>\n",
              "      <th>2999</th>\n",
              "      <td>0.50</td>\n",
              "      <td>0.666667</td>\n",
              "      <td>0.714286</td>\n",
              "      <td>0.750</td>\n",
              "      <td>0.666667</td>\n",
              "      <td>0.590339</td>\n",
              "      <td>0.50</td>\n",
              "    </tr>\n",
              "  </tbody>\n",
              "</table>\n",
              "<p>3000 rows × 7 columns</p>\n",
              "</div>\n",
              "      <button class=\"colab-df-convert\" onclick=\"convertToInteractive('df-72882a3b-a57f-40ce-9f2b-73ec29f17848')\"\n",
              "              title=\"Convert this dataframe to an interactive table.\"\n",
              "              style=\"display:none;\">\n",
              "        \n",
              "  <svg xmlns=\"http://www.w3.org/2000/svg\" height=\"24px\"viewBox=\"0 0 24 24\"\n",
              "       width=\"24px\">\n",
              "    <path d=\"M0 0h24v24H0V0z\" fill=\"none\"/>\n",
              "    <path d=\"M18.56 5.44l.94 2.06.94-2.06 2.06-.94-2.06-.94-.94-2.06-.94 2.06-2.06.94zm-11 1L8.5 8.5l.94-2.06 2.06-.94-2.06-.94L8.5 2.5l-.94 2.06-2.06.94zm10 10l.94 2.06.94-2.06 2.06-.94-2.06-.94-.94-2.06-.94 2.06-2.06.94z\"/><path d=\"M17.41 7.96l-1.37-1.37c-.4-.4-.92-.59-1.43-.59-.52 0-1.04.2-1.43.59L10.3 9.45l-7.72 7.72c-.78.78-.78 2.05 0 2.83L4 21.41c.39.39.9.59 1.41.59.51 0 1.02-.2 1.41-.59l7.78-7.78 2.81-2.81c.8-.78.8-2.07 0-2.86zM5.41 20L4 18.59l7.72-7.72 1.47 1.35L5.41 20z\"/>\n",
              "  </svg>\n",
              "      </button>\n",
              "      \n",
              "  <style>\n",
              "    .colab-df-container {\n",
              "      display:flex;\n",
              "      flex-wrap:wrap;\n",
              "      gap: 12px;\n",
              "    }\n",
              "\n",
              "    .colab-df-convert {\n",
              "      background-color: #E8F0FE;\n",
              "      border: none;\n",
              "      border-radius: 50%;\n",
              "      cursor: pointer;\n",
              "      display: none;\n",
              "      fill: #1967D2;\n",
              "      height: 32px;\n",
              "      padding: 0 0 0 0;\n",
              "      width: 32px;\n",
              "    }\n",
              "\n",
              "    .colab-df-convert:hover {\n",
              "      background-color: #E2EBFA;\n",
              "      box-shadow: 0px 1px 2px rgba(60, 64, 67, 0.3), 0px 1px 3px 1px rgba(60, 64, 67, 0.15);\n",
              "      fill: #174EA6;\n",
              "    }\n",
              "\n",
              "    [theme=dark] .colab-df-convert {\n",
              "      background-color: #3B4455;\n",
              "      fill: #D2E3FC;\n",
              "    }\n",
              "\n",
              "    [theme=dark] .colab-df-convert:hover {\n",
              "      background-color: #434B5C;\n",
              "      box-shadow: 0px 1px 3px 1px rgba(0, 0, 0, 0.15);\n",
              "      filter: drop-shadow(0px 1px 2px rgba(0, 0, 0, 0.3));\n",
              "      fill: #FFFFFF;\n",
              "    }\n",
              "  </style>\n",
              "\n",
              "      <script>\n",
              "        const buttonEl =\n",
              "          document.querySelector('#df-72882a3b-a57f-40ce-9f2b-73ec29f17848 button.colab-df-convert');\n",
              "        buttonEl.style.display =\n",
              "          google.colab.kernel.accessAllowed ? 'block' : 'none';\n",
              "\n",
              "        async function convertToInteractive(key) {\n",
              "          const element = document.querySelector('#df-72882a3b-a57f-40ce-9f2b-73ec29f17848');\n",
              "          const dataTable =\n",
              "            await google.colab.kernel.invokeFunction('convertToInteractive',\n",
              "                                                     [key], {});\n",
              "          if (!dataTable) return;\n",
              "\n",
              "          const docLinkHtml = 'Like what you see? Visit the ' +\n",
              "            '<a target=\"_blank\" href=https://colab.research.google.com/notebooks/data_table.ipynb>data table notebook</a>'\n",
              "            + ' to learn more about interactive tables.';\n",
              "          element.innerHTML = '';\n",
              "          dataTable['output_type'] = 'display_data';\n",
              "          await google.colab.output.renderOutput(dataTable, element);\n",
              "          const docLink = document.createElement('div');\n",
              "          docLink.innerHTML = docLinkHtml;\n",
              "          element.appendChild(docLink);\n",
              "        }\n",
              "      </script>\n",
              "    </div>\n",
              "  </div>\n",
              "  "
            ]
          },
          "metadata": {},
          "execution_count": 21
        }
      ]
    },
    {
      "cell_type": "code",
      "source": [
        "HouseGrade_corr.drop(HouseGrade_corr.columns[[6]], axis=1, inplace=True)\n",
        "HG = HouseGrade.iloc[:,[13]]\n",
        "HouseGrade_corr_df = pd.concat([HG, HouseGrade_corr], axis=1)\n",
        "HouseGrade_corr_df"
      ],
      "metadata": {
        "colab": {
          "base_uri": "https://localhost:8080/",
          "height": 424
        },
        "id": "oEkwZ7kEMgZc",
        "outputId": "eeced543-fa8b-4e4f-c1d8-506238e81bd7"
      },
      "execution_count": 22,
      "outputs": [
        {
          "output_type": "execute_result",
          "data": {
            "text/plain": [
              "      Grade  Trooms  Nbedrooms  Nbwashrooms  Twashrooms   Nfloors  \\\n",
              "0         3    0.25   0.500000     0.428571       0.500  0.166667   \n",
              "1         3    0.00   0.333333     0.285714       0.250  0.333333   \n",
              "2         2    0.50   0.500000     0.428571       0.375  0.666667   \n",
              "3         3    0.25   0.333333     0.285714       0.375  0.166667   \n",
              "4         3    0.50   0.333333     0.428571       0.375  0.333333   \n",
              "...     ...     ...        ...          ...         ...       ...   \n",
              "2995      1    1.00   0.666667     0.571429       0.625  0.666667   \n",
              "2996      0    1.00   1.000000     0.857143       0.750  1.000000   \n",
              "2997      3    0.50   0.333333     0.285714       0.375  0.666667   \n",
              "2998      1    1.00   0.833333     0.857143       0.750  1.000000   \n",
              "2999      2    0.50   0.666667     0.714286       0.750  0.666667   \n",
              "\n",
              "      Expected price  \n",
              "0           0.360251  \n",
              "1           0.370944  \n",
              "2           0.458702  \n",
              "3           0.232301  \n",
              "4           0.493732  \n",
              "...              ...  \n",
              "2995        0.642330  \n",
              "2996        0.460546  \n",
              "2997        0.406711  \n",
              "2998        0.624631  \n",
              "2999        0.590339  \n",
              "\n",
              "[3000 rows x 7 columns]"
            ],
            "text/html": [
              "\n",
              "  <div id=\"df-bcae365c-2f6d-485f-8036-641f98dd8f58\">\n",
              "    <div class=\"colab-df-container\">\n",
              "      <div>\n",
              "<style scoped>\n",
              "    .dataframe tbody tr th:only-of-type {\n",
              "        vertical-align: middle;\n",
              "    }\n",
              "\n",
              "    .dataframe tbody tr th {\n",
              "        vertical-align: top;\n",
              "    }\n",
              "\n",
              "    .dataframe thead th {\n",
              "        text-align: right;\n",
              "    }\n",
              "</style>\n",
              "<table border=\"1\" class=\"dataframe\">\n",
              "  <thead>\n",
              "    <tr style=\"text-align: right;\">\n",
              "      <th></th>\n",
              "      <th>Grade</th>\n",
              "      <th>Trooms</th>\n",
              "      <th>Nbedrooms</th>\n",
              "      <th>Nbwashrooms</th>\n",
              "      <th>Twashrooms</th>\n",
              "      <th>Nfloors</th>\n",
              "      <th>Expected price</th>\n",
              "    </tr>\n",
              "  </thead>\n",
              "  <tbody>\n",
              "    <tr>\n",
              "      <th>0</th>\n",
              "      <td>3</td>\n",
              "      <td>0.25</td>\n",
              "      <td>0.500000</td>\n",
              "      <td>0.428571</td>\n",
              "      <td>0.500</td>\n",
              "      <td>0.166667</td>\n",
              "      <td>0.360251</td>\n",
              "    </tr>\n",
              "    <tr>\n",
              "      <th>1</th>\n",
              "      <td>3</td>\n",
              "      <td>0.00</td>\n",
              "      <td>0.333333</td>\n",
              "      <td>0.285714</td>\n",
              "      <td>0.250</td>\n",
              "      <td>0.333333</td>\n",
              "      <td>0.370944</td>\n",
              "    </tr>\n",
              "    <tr>\n",
              "      <th>2</th>\n",
              "      <td>2</td>\n",
              "      <td>0.50</td>\n",
              "      <td>0.500000</td>\n",
              "      <td>0.428571</td>\n",
              "      <td>0.375</td>\n",
              "      <td>0.666667</td>\n",
              "      <td>0.458702</td>\n",
              "    </tr>\n",
              "    <tr>\n",
              "      <th>3</th>\n",
              "      <td>3</td>\n",
              "      <td>0.25</td>\n",
              "      <td>0.333333</td>\n",
              "      <td>0.285714</td>\n",
              "      <td>0.375</td>\n",
              "      <td>0.166667</td>\n",
              "      <td>0.232301</td>\n",
              "    </tr>\n",
              "    <tr>\n",
              "      <th>4</th>\n",
              "      <td>3</td>\n",
              "      <td>0.50</td>\n",
              "      <td>0.333333</td>\n",
              "      <td>0.428571</td>\n",
              "      <td>0.375</td>\n",
              "      <td>0.333333</td>\n",
              "      <td>0.493732</td>\n",
              "    </tr>\n",
              "    <tr>\n",
              "      <th>...</th>\n",
              "      <td>...</td>\n",
              "      <td>...</td>\n",
              "      <td>...</td>\n",
              "      <td>...</td>\n",
              "      <td>...</td>\n",
              "      <td>...</td>\n",
              "      <td>...</td>\n",
              "    </tr>\n",
              "    <tr>\n",
              "      <th>2995</th>\n",
              "      <td>1</td>\n",
              "      <td>1.00</td>\n",
              "      <td>0.666667</td>\n",
              "      <td>0.571429</td>\n",
              "      <td>0.625</td>\n",
              "      <td>0.666667</td>\n",
              "      <td>0.642330</td>\n",
              "    </tr>\n",
              "    <tr>\n",
              "      <th>2996</th>\n",
              "      <td>0</td>\n",
              "      <td>1.00</td>\n",
              "      <td>1.000000</td>\n",
              "      <td>0.857143</td>\n",
              "      <td>0.750</td>\n",
              "      <td>1.000000</td>\n",
              "      <td>0.460546</td>\n",
              "    </tr>\n",
              "    <tr>\n",
              "      <th>2997</th>\n",
              "      <td>3</td>\n",
              "      <td>0.50</td>\n",
              "      <td>0.333333</td>\n",
              "      <td>0.285714</td>\n",
              "      <td>0.375</td>\n",
              "      <td>0.666667</td>\n",
              "      <td>0.406711</td>\n",
              "    </tr>\n",
              "    <tr>\n",
              "      <th>2998</th>\n",
              "      <td>1</td>\n",
              "      <td>1.00</td>\n",
              "      <td>0.833333</td>\n",
              "      <td>0.857143</td>\n",
              "      <td>0.750</td>\n",
              "      <td>1.000000</td>\n",
              "      <td>0.624631</td>\n",
              "    </tr>\n",
              "    <tr>\n",
              "      <th>2999</th>\n",
              "      <td>2</td>\n",
              "      <td>0.50</td>\n",
              "      <td>0.666667</td>\n",
              "      <td>0.714286</td>\n",
              "      <td>0.750</td>\n",
              "      <td>0.666667</td>\n",
              "      <td>0.590339</td>\n",
              "    </tr>\n",
              "  </tbody>\n",
              "</table>\n",
              "<p>3000 rows × 7 columns</p>\n",
              "</div>\n",
              "      <button class=\"colab-df-convert\" onclick=\"convertToInteractive('df-bcae365c-2f6d-485f-8036-641f98dd8f58')\"\n",
              "              title=\"Convert this dataframe to an interactive table.\"\n",
              "              style=\"display:none;\">\n",
              "        \n",
              "  <svg xmlns=\"http://www.w3.org/2000/svg\" height=\"24px\"viewBox=\"0 0 24 24\"\n",
              "       width=\"24px\">\n",
              "    <path d=\"M0 0h24v24H0V0z\" fill=\"none\"/>\n",
              "    <path d=\"M18.56 5.44l.94 2.06.94-2.06 2.06-.94-2.06-.94-.94-2.06-.94 2.06-2.06.94zm-11 1L8.5 8.5l.94-2.06 2.06-.94-2.06-.94L8.5 2.5l-.94 2.06-2.06.94zm10 10l.94 2.06.94-2.06 2.06-.94-2.06-.94-.94-2.06-.94 2.06-2.06.94z\"/><path d=\"M17.41 7.96l-1.37-1.37c-.4-.4-.92-.59-1.43-.59-.52 0-1.04.2-1.43.59L10.3 9.45l-7.72 7.72c-.78.78-.78 2.05 0 2.83L4 21.41c.39.39.9.59 1.41.59.51 0 1.02-.2 1.41-.59l7.78-7.78 2.81-2.81c.8-.78.8-2.07 0-2.86zM5.41 20L4 18.59l7.72-7.72 1.47 1.35L5.41 20z\"/>\n",
              "  </svg>\n",
              "      </button>\n",
              "      \n",
              "  <style>\n",
              "    .colab-df-container {\n",
              "      display:flex;\n",
              "      flex-wrap:wrap;\n",
              "      gap: 12px;\n",
              "    }\n",
              "\n",
              "    .colab-df-convert {\n",
              "      background-color: #E8F0FE;\n",
              "      border: none;\n",
              "      border-radius: 50%;\n",
              "      cursor: pointer;\n",
              "      display: none;\n",
              "      fill: #1967D2;\n",
              "      height: 32px;\n",
              "      padding: 0 0 0 0;\n",
              "      width: 32px;\n",
              "    }\n",
              "\n",
              "    .colab-df-convert:hover {\n",
              "      background-color: #E2EBFA;\n",
              "      box-shadow: 0px 1px 2px rgba(60, 64, 67, 0.3), 0px 1px 3px 1px rgba(60, 64, 67, 0.15);\n",
              "      fill: #174EA6;\n",
              "    }\n",
              "\n",
              "    [theme=dark] .colab-df-convert {\n",
              "      background-color: #3B4455;\n",
              "      fill: #D2E3FC;\n",
              "    }\n",
              "\n",
              "    [theme=dark] .colab-df-convert:hover {\n",
              "      background-color: #434B5C;\n",
              "      box-shadow: 0px 1px 3px 1px rgba(0, 0, 0, 0.15);\n",
              "      filter: drop-shadow(0px 1px 2px rgba(0, 0, 0, 0.3));\n",
              "      fill: #FFFFFF;\n",
              "    }\n",
              "  </style>\n",
              "\n",
              "      <script>\n",
              "        const buttonEl =\n",
              "          document.querySelector('#df-bcae365c-2f6d-485f-8036-641f98dd8f58 button.colab-df-convert');\n",
              "        buttonEl.style.display =\n",
              "          google.colab.kernel.accessAllowed ? 'block' : 'none';\n",
              "\n",
              "        async function convertToInteractive(key) {\n",
              "          const element = document.querySelector('#df-bcae365c-2f6d-485f-8036-641f98dd8f58');\n",
              "          const dataTable =\n",
              "            await google.colab.kernel.invokeFunction('convertToInteractive',\n",
              "                                                     [key], {});\n",
              "          if (!dataTable) return;\n",
              "\n",
              "          const docLinkHtml = 'Like what you see? Visit the ' +\n",
              "            '<a target=\"_blank\" href=https://colab.research.google.com/notebooks/data_table.ipynb>data table notebook</a>'\n",
              "            + ' to learn more about interactive tables.';\n",
              "          element.innerHTML = '';\n",
              "          dataTable['output_type'] = 'display_data';\n",
              "          await google.colab.output.renderOutput(dataTable, element);\n",
              "          const docLink = document.createElement('div');\n",
              "          docLink.innerHTML = docLinkHtml;\n",
              "          element.appendChild(docLink);\n",
              "        }\n",
              "      </script>\n",
              "    </div>\n",
              "  </div>\n",
              "  "
            ]
          },
          "metadata": {},
          "execution_count": 22
        }
      ]
    },
    {
      "cell_type": "code",
      "source": [
        "x = HouseGrade_corr_df.iloc[:, 1:].values\n",
        "y = HouseGrade_corr_df.iloc[:, 0].values \n",
        "x_train, x_test, y_train, y_test = train_test_split(x, y, test_size = 0.3, random_state = 500)\n",
        "\n",
        "print (\"X train \",x_train.shape)\n",
        "print (\"X test \",x_test.shape)\n",
        "print (\"Y train \",y_train.shape)\n",
        "print (\"Y test \",y_test.shape)"
      ],
      "metadata": {
        "colab": {
          "base_uri": "https://localhost:8080/"
        },
        "id": "K27T9ezR7p7D",
        "outputId": "c00a6dec-948e-4c18-f7d5-43ed67d48ab6"
      },
      "execution_count": 23,
      "outputs": [
        {
          "output_type": "stream",
          "name": "stdout",
          "text": [
            "X train  (2100, 6)\n",
            "X test  (900, 6)\n",
            "Y train  (2100,)\n",
            "Y test  (900,)\n"
          ]
        }
      ]
    },
    {
      "cell_type": "markdown",
      "source": [
        "# **Build a K-Nearest Neighbor classifier**"
      ],
      "metadata": {
        "id": "u17GkDAd81vC"
      }
    },
    {
      "cell_type": "code",
      "source": [
        "from sklearn import neighbors"
      ],
      "metadata": {
        "id": "2uCbmjWc88Ih"
      },
      "execution_count": 24,
      "outputs": []
    },
    {
      "cell_type": "code",
      "source": [
        "k=9\n",
        "\n",
        "# learning the classifier\n",
        "clf = neighbors.KNeighborsClassifier(k)\n",
        "clf.fit(x_train, y_train)\n",
        "\n",
        "# Model Properties\n",
        "print(clf.classes_)\n",
        "print(clf.n_neighbors)"
      ],
      "metadata": {
        "colab": {
          "base_uri": "https://localhost:8080/"
        },
        "id": "gwrAOEaT8cOq",
        "outputId": "22f59dc1-7e4a-44ef-927c-c0dbb28f697b"
      },
      "execution_count": 25,
      "outputs": [
        {
          "output_type": "stream",
          "name": "stdout",
          "text": [
            "[0 1 2 3 4]\n",
            "9\n"
          ]
        }
      ]
    },
    {
      "cell_type": "code",
      "source": [
        "# define lists to gather results for plotting later\n",
        "\n",
        "results_f1, names = list(), list()\n",
        "\n",
        "results_recall = list()\n",
        "results_precision = list()\n",
        "results_accuracy = list()"
      ],
      "metadata": {
        "id": "ePKzBjxL4xyN"
      },
      "execution_count": 26,
      "outputs": []
    },
    {
      "cell_type": "code",
      "source": [
        "# Load libraries\n",
        "import pandas as pd\n",
        "from sklearn.tree import DecisionTreeClassifier # Import Decision Tree Classifier\n",
        "from sklearn.model_selection import train_test_split # Import train_test_split function\n",
        "from sklearn import metrics #Import scikit-learn metrics module for accuracy calculation\n",
        "\n",
        "from sklearn.ensemble import RandomForestClassifier\n",
        "\n",
        "from sklearn.model_selection import RepeatedStratifiedKFold\n",
        "import pandas as pd\n",
        "import numpy as np\n",
        "import matplotlib.pyplot as plt\n",
        "from numpy import mean\n",
        "from numpy import std\n",
        "from sklearn.model_selection import KFold\n",
        "from sklearn.model_selection import cross_val_score"
      ],
      "metadata": {
        "id": "vn-b-ovlA6DW"
      },
      "execution_count": 27,
      "outputs": []
    },
    {
      "cell_type": "code",
      "source": [
        "from sklearn.metrics import classification_report\n",
        "from sklearn.metrics import confusion_matrix"
      ],
      "metadata": {
        "id": "gJWDxC6Bg2Vv"
      },
      "execution_count": 54,
      "outputs": []
    },
    {
      "cell_type": "code",
      "source": [
        "# define the model\n",
        "model1 = neighbors.KNeighborsClassifier(k)\n",
        "\n",
        "# evaluate the model\n",
        "cv = RepeatedStratifiedKFold(n_splits=10, n_repeats=2, random_state=1)\n",
        "n_scores_f1 = cross_val_score(model1, x_train, y_train, scoring='f1_weighted', cv=cv, n_jobs=-1, error_score='raise')\n",
        "n_scores_recall = cross_val_score(model1, x_train, y_train, scoring='recall_weighted', cv=cv, n_jobs=-1, error_score='raise')\n",
        "n_scores_precision = cross_val_score(model1, x_train, y_train, scoring='precision_weighted', cv=cv, n_jobs=-1, error_score='raise')\n",
        "n_scores_accuracy = cross_val_score(model1, x_train, y_train, cv=cv, n_jobs=-1, error_score='raise')\n",
        "\n",
        "\n",
        "results_f1.append(n_scores_f1)\n",
        "results_recall.append(n_scores_recall)\n",
        "results_precision.append(n_scores_precision)\n",
        "results_accuracy.append(n_scores_accuracy)\n",
        "names.append('KNN')\n",
        "\n",
        "print('F1-SCORE: %.3f (%.3f)' % (mean(n_scores_f1), std(n_scores_f1)))\n",
        "print('RECALL-SCORE: %.3f (%.3f)' % (mean(n_scores_recall), std(n_scores_recall)))\n",
        "print('PRECISION-SCORE: %.3f (%.3f)' % (mean(n_scores_precision), std(n_scores_precision)))\n",
        "print('ACCURACY-SCORE: %.3f (%.3f)' % (mean(n_scores_accuracy), std(n_scores_accuracy)))\n"
      ],
      "metadata": {
        "colab": {
          "base_uri": "https://localhost:8080/"
        },
        "id": "xGYtsIRcCFmH",
        "outputId": "58b0836d-4656-4d89-d9e3-e90bae6f21a9"
      },
      "execution_count": 29,
      "outputs": [
        {
          "output_type": "stream",
          "name": "stdout",
          "text": [
            "F1-SCORE: 0.771 (0.020)\n",
            "RECALL-SCORE: 0.782 (0.019)\n",
            "PRECISION-SCORE: 0.770 (0.022)\n",
            "ACCURACY-SCORE: 0.782 (0.019)\n"
          ]
        }
      ]
    },
    {
      "cell_type": "code",
      "source": [
        "error_rate = []\n",
        "for i in range(1,10):\n",
        "  clf_HG = neighbors.KNeighborsClassifier(n_neighbors=i)\n",
        "  clf_HG.fit(x_train,y_train)\n",
        "  pred_i = clf_HG.predict(x_test)\n",
        "  error_rate.append(np.mean(pred_i != y_test))\n",
        "\n",
        "\n",
        "plt.figure(figsize=(10,6))\n",
        "plt.plot(range(1,10),error_rate,color='blue', linestyle='solid', marker='o',markerfacecolor='black', markersize=10)\n",
        "plt.title('Error Rate vs. K Value')\n",
        "plt.xlabel('K')\n",
        "plt.ylabel('Error Rate')\n",
        "print(\"Minimum error = \",min(error_rate),\"at K =\",error_rate.index(min(error_rate))+1)"
      ],
      "metadata": {
        "colab": {
          "base_uri": "https://localhost:8080/",
          "height": 427
        },
        "id": "n6dOyHJb03Oo",
        "outputId": "dd358432-6855-422a-ba70-c70066498820"
      },
      "execution_count": 30,
      "outputs": [
        {
          "output_type": "stream",
          "name": "stdout",
          "text": [
            "Minimum error =  0.1988888888888889 at K = 9\n"
          ]
        },
        {
          "output_type": "display_data",
          "data": {
            "text/plain": [
              "<Figure size 720x432 with 1 Axes>"
            ],
            "image/png": "[encoded data removed]"
          },
          "metadata": {}
        }
      ]
    },
    {
      "cell_type": "code",
      "source": [
        "# Confusion matrix\n",
        "\n",
        "print(\"confusion matrix for KNN :\\n\",confusion_matrix(y_test, KNN_y_pred))\n",
        "\n",
        "#PREDICTED RESPONSE\n",
        "\n",
        "model1.fit(x_train,y_train)\n",
        "KNN_y_pred= model1.predict(x_test)\n",
        "\n",
        "print(\"Report for KNN Classifier :\\n\",classification_report(y_test ,KNN_y_pred, target_names = [\"A\",\"B\",\"C\",\"D\",\"E\"]))"
      ],
      "metadata": {
        "colab": {
          "base_uri": "https://localhost:8080/"
        },
        "id": "QATF1R2MhD07",
        "outputId": "4d1a577d-f87f-4d2f-c9a3-f5ec7d3ea026"
      },
      "execution_count": 68,
      "outputs": [
        {
          "output_type": "stream",
          "name": "stdout",
          "text": [
            "confusion matrix for KNN :\n",
            " [[102  16   0   0   0]\n",
            " [ 20 121  17   0   0]\n",
            " [  0  24 151  51   0]\n",
            " [  0   0  30 346   5]\n",
            " [  0   0   0  16   1]]\n",
            "Report for KNN Classifier :\n",
            "               precision    recall  f1-score   support\n",
            "\n",
            "           A       0.84      0.86      0.85       118\n",
            "           B       0.75      0.77      0.76       158\n",
            "           C       0.76      0.67      0.71       226\n",
            "           D       0.84      0.91      0.87       381\n",
            "           E       0.17      0.06      0.09        17\n",
            "\n",
            "    accuracy                           0.80       900\n",
            "   macro avg       0.67      0.65      0.66       900\n",
            "weighted avg       0.79      0.80      0.79       900\n",
            "\n"
          ]
        }
      ]
    },
    {
      "cell_type": "markdown",
      "source": [
        "# **DECISION TREE CLASSIFIER**"
      ],
      "metadata": {
        "id": "mlCYV4CbBhHW"
      }
    },
    {
      "cell_type": "code",
      "source": [
        "# define the model\n",
        "model2 = DecisionTreeClassifier()\n",
        "\n",
        "# evaluate the model\n",
        "cv = RepeatedStratifiedKFold(n_splits=10, n_repeats=2, random_state=1)\n",
        "n_scores_f1 = cross_val_score(model2, x_train, y_train, scoring='f1_weighted', cv=cv, n_jobs=-1, error_score='raise')\n",
        "n_scores_recall = cross_val_score(model2, x_train, y_train, scoring='recall_weighted', cv=cv, n_jobs=-1, error_score='raise')\n",
        "n_scores_precision = cross_val_score(model2, x_train, y_train, scoring='precision_weighted', cv=cv, n_jobs=-1, error_score='raise')\n",
        "n_scores_accuracy = cross_val_score(model2, x_train, y_train, cv=cv, n_jobs=-1, error_score='raise')\n",
        "\n",
        "\n",
        "results_f1.append(n_scores_f1)\n",
        "results_recall.append(n_scores_recall)\n",
        "results_precision.append(n_scores_precision)\n",
        "results_accuracy.append(n_scores_accuracy)\n",
        "names.append('DTC')\n",
        "\n",
        "print('F1-SCORE: %.3f (%.3f)' % (mean(n_scores_f1), std(n_scores_f1)))\n",
        "print('RECALL-SCORE: %.3f (%.3f)' % (mean(n_scores_recall), std(n_scores_recall)))\n",
        "print('PRECISION-SCORE: %.3f (%.3f)' % (mean(n_scores_precision), std(n_scores_precision)))\n",
        "print('ACCURACY-SCORE: %.3f (%.3f)' % (mean(n_scores_accuracy), std(n_scores_accuracy)))"
      ],
      "metadata": {
        "colab": {
          "base_uri": "https://localhost:8080/"
        },
        "id": "RgGj7ioq2yvh",
        "outputId": "20c3a09b-f40d-4d69-bc83-0b89c28a4216"
      },
      "execution_count": 32,
      "outputs": [
        {
          "output_type": "stream",
          "name": "stdout",
          "text": [
            "F1-SCORE: 0.697 (0.024)\n",
            "RECALL-SCORE: 0.698 (0.025)\n",
            "PRECISION-SCORE: 0.701 (0.025)\n",
            "ACCURACY-SCORE: 0.695 (0.025)\n"
          ]
        }
      ]
    },
    {
      "cell_type": "code",
      "source": [
        "# Confusion matrix\n",
        "\n",
        "print(\"confusion matrix for DICISION TREE :\\n\",confusion_matrix(y_test, DTC_y_pred))\n",
        "\n",
        "\n",
        "#PREDICTED RESPONSE\n",
        "\n",
        "model2.fit(x_train,y_train)\n",
        "DTC_y_pred= model2.predict(x_test)\n",
        "\n",
        "print(\"Report for DTC Classifier :\\n\",classification_report(y_test ,DTC_y_pred,target_names = [\"A\",\"B\",\"C\",\"D\",\"E\"]))"
      ],
      "metadata": {
        "colab": {
          "base_uri": "https://localhost:8080/"
        },
        "id": "FlGho_mmjUsg",
        "outputId": "3c039e9f-5b30-47e3-cc0e-827de1effef5"
      },
      "execution_count": 67,
      "outputs": [
        {
          "output_type": "stream",
          "name": "stdout",
          "text": [
            "confusion matrix for DICISION TREE :\n",
            " [[ 98  18   2   0   0]\n",
            " [ 29 104  25   0   0]\n",
            " [  0  31 140  55   0]\n",
            " [  0   0  50 312  19]\n",
            " [  0   0   1  13   3]]\n",
            "Report for DTC Classifier :\n",
            "               precision    recall  f1-score   support\n",
            "\n",
            "           A       0.77      0.82      0.80       118\n",
            "           B       0.66      0.65      0.66       158\n",
            "           C       0.64      0.59      0.61       226\n",
            "           D       0.81      0.83      0.82       381\n",
            "           E       0.14      0.18      0.15        17\n",
            "\n",
            "    accuracy                           0.72       900\n",
            "   macro avg       0.60      0.61      0.61       900\n",
            "weighted avg       0.72      0.72      0.72       900\n",
            "\n"
          ]
        }
      ]
    },
    {
      "cell_type": "markdown",
      "source": [
        "# **Boosting with Adaboost**"
      ],
      "metadata": {
        "id": "pKw7WjgK46SO"
      }
    },
    {
      "cell_type": "code",
      "source": [
        "from sklearn.ensemble import AdaBoostClassifier"
      ],
      "metadata": {
        "id": "rQoBtPIj4piE"
      },
      "execution_count": 34,
      "outputs": []
    },
    {
      "cell_type": "code",
      "source": [
        "# define the model\n",
        "model3 = AdaBoostClassifier()\n",
        "\n",
        "# evaluate the model\n",
        "cv = RepeatedStratifiedKFold(n_splits=10, n_repeats=2, random_state=1)\n",
        "n_scores_f1 = cross_val_score(model3, x_train, y_train, scoring='f1_weighted', cv=cv, n_jobs=-1, error_score='raise')\n",
        "n_scores_recall = cross_val_score(model3, x_train, y_train, scoring='recall_weighted', cv=cv, n_jobs=-1, error_score='raise')\n",
        "n_scores_precision = cross_val_score(model3, x_train, y_train, scoring='precision_weighted', cv=cv, n_jobs=-1, error_score='raise')\n",
        "n_scores_accuracy = cross_val_score(model3, x_train, y_train, cv=cv, n_jobs=-1, error_score='raise')\n",
        "\n",
        "results_f1.append(n_scores_f1)\n",
        "results_recall.append(n_scores_recall)\n",
        "results_precision.append(n_scores_precision)\n",
        "results_accuracy.append(n_scores_accuracy)\n",
        "names.append('ADA')\n",
        "\n",
        "# report performance\n",
        "print('F1-SCORE: %.3f (%.3f)' % (mean(n_scores_f1), std(n_scores_f1)))\n",
        "print('RECALL-SCORE: %.3f (%.3f)' % (mean(n_scores_recall), std(n_scores_recall)))\n",
        "print('PRECISION-SCORE: %.3f (%.3f)' % (mean(n_scores_precision), std(n_scores_recall)))\n",
        "print('ACCURACY-SCORE: %.3f (%.3f)' % (mean(n_scores_accuracy), std(n_scores_accuracy)))"
      ],
      "metadata": {
        "colab": {
          "base_uri": "https://localhost:8080/"
        },
        "id": "d_QMMsSv5s5o",
        "outputId": "310062ef-2ab3-4fdc-8058-4de3355e4abe"
      },
      "execution_count": 35,
      "outputs": [
        {
          "output_type": "stream",
          "name": "stdout",
          "text": [
            "F1-SCORE: 0.565 (0.026)\n",
            "RECALL-SCORE: 0.598 (0.031)\n",
            "PRECISION-SCORE: 0.597 (0.031)\n",
            "ACCURACY-SCORE: 0.598 (0.031)\n"
          ]
        }
      ]
    },
    {
      "cell_type": "code",
      "source": [
        "# Confusion matrix\n",
        "\n",
        "print(\"confusion matrix for ADABOOST :\\n\",confusion_matrix(y_test, ADA_y_pred))\n",
        "\n",
        "#PREDICTED RESPONSE\n",
        "\n",
        "model3.fit(x_train,y_train)\n",
        "ADA_y_pred= model3.predict(x_test)\n",
        "\n",
        "print(\"Report for ADABOOST Classifier :\\n\",classification_report(y_test ,ADA_y_pred,target_names = [\"A\",\"B\",\"C\",\"D\",\"E\"]))"
      ],
      "metadata": {
        "colab": {
          "base_uri": "https://localhost:8080/"
        },
        "id": "JAhxw4A5j2Dh",
        "outputId": "a75098c7-ae1a-4d0d-90cb-1cadef11548d"
      },
      "execution_count": 66,
      "outputs": [
        {
          "output_type": "stream",
          "name": "stdout",
          "text": [
            "confusion matrix for ADABOOST :\n",
            " [[  0 118   0   0   0]\n",
            " [  0 148  10   0   0]\n",
            " [  0  38  88 100   0]\n",
            " [  0   0  12 266 103]\n",
            " [  0   0   0   6  11]]\n",
            "Report for ADABOOST Classifier :\n",
            "               precision    recall  f1-score   support\n",
            "\n",
            "           A       0.00      0.00      0.00       118\n",
            "           B       0.49      0.94      0.64       158\n",
            "           C       0.80      0.39      0.52       226\n",
            "           D       0.72      0.70      0.71       381\n",
            "           E       0.10      0.65      0.17        17\n",
            "\n",
            "    accuracy                           0.57       900\n",
            "   macro avg       0.42      0.53      0.41       900\n",
            "weighted avg       0.59      0.57      0.55       900\n",
            "\n"
          ]
        }
      ]
    },
    {
      "cell_type": "markdown",
      "source": [
        "# **Stacking**"
      ],
      "metadata": {
        "id": "xVKKXA466eVv"
      }
    },
    {
      "cell_type": "code",
      "source": [
        "# required Python libraries\n",
        "from sklearn.linear_model import LogisticRegression\n",
        "from sklearn.neighbors import KNeighborsClassifier\n",
        "from sklearn.tree import DecisionTreeClassifier\n",
        "from sklearn.svm import SVC\n",
        "from sklearn.naive_bayes import GaussianNB\n",
        "from sklearn.ensemble import StackingClassifier"
      ],
      "metadata": {
        "id": "Jgw_2ysS50SH"
      },
      "execution_count": 37,
      "outputs": []
    },
    {
      "cell_type": "code",
      "source": [
        "# get a stacking ensemble of models\n",
        "def get_stacking():\n",
        "\t# define the base models\n",
        "\tlevel0 = list()\n",
        "\tlevel0.append(('knn', KNeighborsClassifier()))\n",
        "\tlevel0.append(('svc', SVC()))\n",
        "\tlevel0.append(('bayes', GaussianNB()))\n",
        " \n",
        "\t# define meta learner model\n",
        "\tlevel1 = DecisionTreeClassifier()\n",
        " \n",
        "\t# define the stacking ensemble\n",
        "\tmodel = StackingClassifier(estimators=level0, final_estimator=level1, cv=5)\n",
        "\treturn model"
      ],
      "metadata": {
        "id": "vYhO9TJe6d0n"
      },
      "execution_count": 38,
      "outputs": []
    },
    {
      "cell_type": "code",
      "source": [
        "# define the model\n",
        "model4 = get_stacking()\n",
        "\n",
        "# evaluate the model\n",
        "cv = RepeatedStratifiedKFold(n_splits=10, n_repeats=3, random_state=1)\n",
        "n_scores_f1 = cross_val_score(model4, x_train, y_train, scoring='f1_weighted', cv=cv, n_jobs=-1, error_score='raise')\n",
        "n_scores_recall = cross_val_score(model4, x_train, y_train, scoring='recall_weighted', cv=cv, n_jobs=-1, error_score='raise')\n",
        "n_scores_precision = cross_val_score(model4, x_train, y_train, scoring='precision_weighted', cv=cv, n_jobs=-1, error_score='raise')\n",
        "n_scores_accuracy = cross_val_score(model4, x_train, y_train, cv=cv, n_jobs=-1, error_score='raise')\n",
        "\n",
        "results_f1.append(n_scores_f1)\n",
        "results_recall.append(n_scores_recall)\n",
        "results_precision.append(n_scores_precision)\n",
        "results_accuracy.append(n_scores_accuracy)\n",
        "names.append('STACKING')\n",
        "\n",
        "# report performance\n",
        "print('F1-SCORE: %.3f (%.3f)' % (mean(n_scores_f1), std(n_scores_f1)))\n",
        "print('RECALL-SCORE: %.3f (%.3f)' % (mean(n_scores_recall), std(n_scores_recall)))\n",
        "print('PRECISION-SCORE: %.3f (%.3f)' % (mean(n_scores_precision), std(n_scores_recall)))\n",
        "print('ACCURACY-SCORE: %.3f (%.3f)' % (mean(n_scores_accuracy), std(n_scores_accuracy)))"
      ],
      "metadata": {
        "colab": {
          "base_uri": "https://localhost:8080/"
        },
        "id": "jrzLyeAj6lTT",
        "outputId": "c8e1e034-ab45-41d1-d371-5692825d4ca4"
      },
      "execution_count": 39,
      "outputs": [
        {
          "output_type": "stream",
          "name": "stdout",
          "text": [
            "F1-SCORE: 0.699 (0.029)\n",
            "RECALL-SCORE: 0.698 (0.029)\n",
            "PRECISION-SCORE: 0.704 (0.029)\n",
            "ACCURACY-SCORE: 0.697 (0.032)\n"
          ]
        }
      ]
    },
    {
      "cell_type": "code",
      "source": [
        "# Confusion matrix\n",
        "\n",
        "print(\"confusion matrix for STACKING :\\n\",confusion_matrix(y_test, STAC_y_pred))\n",
        "\n",
        "#PREDICTED RESPONSE\n",
        "\n",
        "model4.fit(x_train,y_train)\n",
        "STAC_y_pred= model4.predict(x_test)\n",
        "\n",
        "print(\"Report for STACKING Classifier :\\n\",classification_report(y_test ,STAC_y_pred, target_names = [\"A\",\"B\",\"C\",\"D\",\"E\"]))"
      ],
      "metadata": {
        "colab": {
          "base_uri": "https://localhost:8080/"
        },
        "id": "0lT_MvLCkK9F",
        "outputId": "7ce79650-6a88-46c4-a5aa-dbbc2ef61804"
      },
      "execution_count": 65,
      "outputs": [
        {
          "output_type": "stream",
          "name": "stdout",
          "text": [
            "confusion matrix for STACKING :\n",
            " [[105  13   0   0   0]\n",
            " [ 37  95  26   0   0]\n",
            " [  0  34 138  54   0]\n",
            " [  0   2  38 316  25]\n",
            " [  0   0   0  14   3]]\n",
            "Report for STACKING Classifier :\n",
            "               precision    recall  f1-score   support\n",
            "\n",
            "           A       0.74      0.88      0.81       118\n",
            "           B       0.64      0.62      0.63       158\n",
            "           C       0.67      0.57      0.62       226\n",
            "           D       0.81      0.84      0.82       381\n",
            "           E       0.09      0.12      0.10        17\n",
            "\n",
            "    accuracy                           0.72       900\n",
            "   macro avg       0.59      0.61      0.60       900\n",
            "weighted avg       0.72      0.72      0.72       900\n",
            "\n"
          ]
        }
      ]
    },
    {
      "cell_type": "markdown",
      "source": [
        "# **USING RANDOM FOREST CLASSIFIER**"
      ],
      "metadata": {
        "id": "CkJ1CWqpkuP9"
      }
    },
    {
      "cell_type": "code",
      "source": [
        "# define the model\n",
        "model5 = RandomForestClassifier()\n",
        "\n",
        "# evaluate the model\n",
        "cv = RepeatedStratifiedKFold(n_splits=10, n_repeats=2, random_state=1)\n",
        "n_scores_f1 = cross_val_score(model5, x_train, y_train, scoring='f1_weighted', cv=cv, n_jobs=-1, error_score='raise')\n",
        "n_scores_recall = cross_val_score(model5, x_train, y_train, scoring='recall_weighted', cv=cv, n_jobs=-1, error_score='raise')\n",
        "n_scores_precision = cross_val_score(model5, x_train, y_train, scoring='precision_weighted', cv=cv, n_jobs=-1, error_score='raise')\n",
        "n_scores_accuracy = cross_val_score(model5, x_train, y_train, cv=cv, n_jobs=-1, error_score='raise')\n",
        "\n",
        "\n",
        "results_f1.append(n_scores_f1)\n",
        "results_recall.append(n_scores_recall)\n",
        "results_precision.append(n_scores_precision)\n",
        "results_accuracy.append(n_scores_accuracy)\n",
        "names.append('RFC2')\n",
        "\n",
        "print('F1-SCORE: %.3f (%.3f)' % (mean(n_scores_f1), std(n_scores_f1)))\n",
        "print('RECALL-SCORE: %.3f (%.3f)' % (mean(n_scores_recall), std(n_scores_recall)))\n",
        "print('PRECISION-SCORE: %.3f (%.3f)' % (mean(n_scores_precision), std(n_scores_precision)))\n",
        "print('ACCURACY-SCORE: %.3f (%.3f)' % (mean(n_scores_accuracy), std(n_scores_accuracy)))"
      ],
      "metadata": {
        "colab": {
          "base_uri": "https://localhost:8080/"
        },
        "id": "4K8OtsDQ63_4",
        "outputId": "6292bacb-f7a9-4f8a-e727-a8713458c269"
      },
      "execution_count": 41,
      "outputs": [
        {
          "output_type": "stream",
          "name": "stdout",
          "text": [
            "F1-SCORE: 0.712 (0.018)\n",
            "RECALL-SCORE: 0.721 (0.016)\n",
            "PRECISION-SCORE: 0.715 (0.023)\n",
            "ACCURACY-SCORE: 0.719 (0.020)\n"
          ]
        }
      ]
    },
    {
      "cell_type": "code",
      "source": [
        "# Confusion matrix\n",
        "\n",
        "print(\"confusion matrix for RANDOM FOREST :\\n\",confusion_matrix(y_test, RFC_y_pred))\n",
        "\n",
        "#PREDICTED RESPONSE\n",
        "\n",
        "model5.fit(x_train,y_train)\n",
        "RFC_y_pred= model5.predict(x_test)\n",
        "\n",
        "print(\"Report for RANDOM FOREST Classifier :\\n\",classification_report(y_test ,RFC_y_pred,target_names = [\"A\",\"B\",\"C\",\"D\",\"E\"]))"
      ],
      "metadata": {
        "colab": {
          "base_uri": "https://localhost:8080/"
        },
        "id": "Nl2oqUECk5EO",
        "outputId": "01fbe6ee-70b8-46f9-92c8-f51de9e2bd5e"
      },
      "execution_count": 69,
      "outputs": [
        {
          "output_type": "stream",
          "name": "stdout",
          "text": [
            "confusion matrix for RANDOM FOREST :\n",
            " [[104  14   0   0   0]\n",
            " [ 29 108  21   0   0]\n",
            " [  0  30 143  53   0]\n",
            " [  0   0  35 331  15]\n",
            " [  0   0   0  15   2]]\n",
            "Report for RANDOM FOREST Classifier :\n",
            "               precision    recall  f1-score   support\n",
            "\n",
            "           A       0.77      0.86      0.81       118\n",
            "           B       0.70      0.68      0.69       158\n",
            "           C       0.71      0.64      0.67       226\n",
            "           D       0.83      0.87      0.85       381\n",
            "           E       0.13      0.12      0.12        17\n",
            "\n",
            "    accuracy                           0.76       900\n",
            "   macro avg       0.63      0.63      0.63       900\n",
            "weighted avg       0.76      0.76      0.76       900\n",
            "\n"
          ]
        }
      ]
    },
    {
      "cell_type": "markdown",
      "source": [
        "# **BOX PLOT FOR F1 SCORE**"
      ],
      "metadata": {
        "id": "_5m8tigH9ZPC"
      }
    },
    {
      "cell_type": "code",
      "source": [
        "from matplotlib import pyplot\n",
        "plt.figure(figsize=(15,10))\n",
        "# plot model performance for comparison\n",
        "pyplot.boxplot(results_f1, labels=names, showmeans=True)\n",
        "pyplot.show()"
      ],
      "metadata": {
        "colab": {
          "base_uri": "https://localhost:8080/",
          "height": 594
        },
        "id": "TV-fgMEr8dW8",
        "outputId": "07e5f7b8-175b-4e40-b6e1-6a37fcdac0ae"
      },
      "execution_count": 43,
      "outputs": [
        {
          "output_type": "display_data",
          "data": {
            "text/plain": [
              "<Figure size 1080x720 with 1 Axes>"
            ],
            "image/png": "[encoded data removed]"
          },
          "metadata": {}
        }
      ]
    },
    {
      "cell_type": "markdown",
      "source": [
        "# **Green tringle = mean**\n",
        "# **orange line = median**\n",
        "\n",
        "# **Random forest classifier mean & median are almost close to each other.**"
      ],
      "metadata": {
        "id": "0MAvC3a2XPxG"
      }
    },
    {
      "cell_type": "markdown",
      "source": [
        "# **BOX PLOT FOR RECALL SCORES**"
      ],
      "metadata": {
        "id": "BIQWjlk99i5K"
      }
    },
    {
      "cell_type": "code",
      "source": [
        "from matplotlib import pyplot\n",
        "plt.figure(figsize=(15,10))\n",
        "# plot model performance for comparison\n",
        "pyplot.boxplot(results_recall, labels=names, showmeans=True)\n",
        "pyplot.show()"
      ],
      "metadata": {
        "colab": {
          "base_uri": "https://localhost:8080/",
          "height": 594
        },
        "id": "8-uVpZJn9MFv",
        "outputId": "703a7a44-1d25-41a5-9097-fca3a6e4e9a9"
      },
      "execution_count": 44,
      "outputs": [
        {
          "output_type": "display_data",
          "data": {
            "text/plain": [
              "<Figure size 1080x720 with 1 Axes>"
            ],
            "image/png": "[encoded data removed]"
          },
          "metadata": {}
        }
      ]
    },
    {
      "cell_type": "markdown",
      "source": [
        "# **Adaboost classifier mean & median are almost close to each other.**"
      ],
      "metadata": {
        "id": "AYxtLhRdYCfb"
      }
    },
    {
      "cell_type": "markdown",
      "source": [
        "# **BOX PLOT FOR PRECISION SCORE**"
      ],
      "metadata": {
        "id": "Qbb2GaVF9qTI"
      }
    },
    {
      "cell_type": "code",
      "source": [
        "from matplotlib import pyplot\n",
        "plt.figure(figsize=(15,10))\n",
        "# plot model performance for comparison\n",
        "pyplot.boxplot(results_precision, labels=names, showmeans=True)\n",
        "pyplot.show()"
      ],
      "metadata": {
        "colab": {
          "base_uri": "https://localhost:8080/",
          "height": 594
        },
        "id": "FS7HxcCA9mLo",
        "outputId": "6a8c2ec6-3d1f-4674-b5ce-f9a24e16ee5d"
      },
      "execution_count": 45,
      "outputs": [
        {
          "output_type": "display_data",
          "data": {
            "text/plain": [
              "<Figure size 1080x720 with 1 Axes>"
            ],
            "image/png": "[encoded data removed]"
          },
          "metadata": {}
        }
      ]
    },
    {
      "cell_type": "markdown",
      "source": [
        "#**Adaboost classifier mean & median are almost close to each other.**"
      ],
      "metadata": {
        "id": "tsJfnEh-YVaK"
      }
    },
    {
      "cell_type": "markdown",
      "source": [
        "# **BOX PLOT FOR ACCURACY SCORE**"
      ],
      "metadata": {
        "id": "aYObv-X3YNZ3"
      }
    },
    {
      "cell_type": "code",
      "source": [
        "from matplotlib import pyplot\n",
        "plt.figure(figsize=(15,10))\n",
        "# plot model performance for comparison\n",
        "pyplot.boxplot(results_accuracy, labels=names, showmeans=True)\n",
        "pyplot.show()"
      ],
      "metadata": {
        "colab": {
          "base_uri": "https://localhost:8080/",
          "height": 594
        },
        "id": "UbeYhi8n9ts4",
        "outputId": "8c7dbaa7-cfca-4f0f-930e-4e02c484b1da"
      },
      "execution_count": 46,
      "outputs": [
        {
          "output_type": "display_data",
          "data": {
            "text/plain": [
              "<Figure size 1080x720 with 1 Axes>"
            ],
            "image/png": "[encoded data removed]"
          },
          "metadata": {}
        }
      ]
    },
    {
      "cell_type": "markdown",
      "source": [
        "#**Stacking classifier mean & median are almost close to each other.**"
      ],
      "metadata": {
        "id": "qasSqlrMYcZ9"
      }
    },
    {
      "cell_type": "markdown",
      "source": [
        "# **We can see that the F-1 score, Recall, Precision, Accuracy are High in KNN classifier.**\n",
        "\n",
        "# **so we cn say that KNN classifier is best model for this data.**"
      ],
      "metadata": {
        "id": "UDSdlLX8YlwN"
      }
    }
  ]
}